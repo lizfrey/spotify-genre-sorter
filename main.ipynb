{
 "cells": [
  {
   "cell_type": "markdown",
   "metadata": {},
   "source": [
    "# Genre Sorter\n",
    "\n",
    "## Set Up\n",
    "1. Create `.env` file\n",
    "\n",
    "``` bash\n",
    "  SPOTIFY_CLIENT_ID=\n",
    "  SPOTIFY_CLIENT_SECRET=\n",
    "  SPOTIFY_USERNAME=\n",
    "  SPOTIFY_PASSWORD=\n",
    "```\n",
    "\n",
    "2. Run all cells\n"
   ]
  },
  {
   "cell_type": "code",
   "execution_count": 40,
   "metadata": {},
   "outputs": [
    {
     "name": "stdout",
     "output_type": "stream",
     "text": [
      "Requirement already satisfied: spotipy in /Library/Frameworks/Python.framework/Versions/3.11/lib/python3.11/site-packages (2.24.0)\n",
      "Requirement already satisfied: python-dotenv in /Library/Frameworks/Python.framework/Versions/3.11/lib/python3.11/site-packages (1.0.0)\n",
      "Requirement already satisfied: openai in /Library/Frameworks/Python.framework/Versions/3.11/lib/python3.11/site-packages (1.37.0)\n",
      "Requirement already satisfied: tqdm in /Library/Frameworks/Python.framework/Versions/3.11/lib/python3.11/site-packages (4.65.0)\n",
      "Requirement already satisfied: redis>=3.5.3 in /Library/Frameworks/Python.framework/Versions/3.11/lib/python3.11/site-packages (from spotipy) (4.5.5)\n",
      "Requirement already satisfied: requests>=2.25.0 in /Library/Frameworks/Python.framework/Versions/3.11/lib/python3.11/site-packages (from spotipy) (2.29.0)\n",
      "Requirement already satisfied: urllib3>=1.26.0 in /Library/Frameworks/Python.framework/Versions/3.11/lib/python3.11/site-packages (from spotipy) (1.26.15)\n",
      "Requirement already satisfied: anyio<5,>=3.5.0 in /Library/Frameworks/Python.framework/Versions/3.11/lib/python3.11/site-packages (from openai) (4.4.0)\n",
      "Requirement already satisfied: distro<2,>=1.7.0 in /Library/Frameworks/Python.framework/Versions/3.11/lib/python3.11/site-packages (from openai) (1.9.0)\n",
      "Requirement already satisfied: httpx<1,>=0.23.0 in /Library/Frameworks/Python.framework/Versions/3.11/lib/python3.11/site-packages (from openai) (0.27.0)\n",
      "Requirement already satisfied: pydantic<3,>=1.9.0 in /Library/Frameworks/Python.framework/Versions/3.11/lib/python3.11/site-packages (from openai) (1.10.8)\n",
      "Requirement already satisfied: sniffio in /Library/Frameworks/Python.framework/Versions/3.11/lib/python3.11/site-packages (from openai) (1.3.1)\n",
      "Requirement already satisfied: typing-extensions<5,>=4.7 in /Library/Frameworks/Python.framework/Versions/3.11/lib/python3.11/site-packages (from openai) (4.11.0)\n",
      "Requirement already satisfied: idna>=2.8 in /Library/Frameworks/Python.framework/Versions/3.11/lib/python3.11/site-packages (from anyio<5,>=3.5.0->openai) (3.4)\n",
      "Requirement already satisfied: certifi in /Library/Frameworks/Python.framework/Versions/3.11/lib/python3.11/site-packages (from httpx<1,>=0.23.0->openai) (2022.12.7)\n",
      "Requirement already satisfied: httpcore==1.* in /Library/Frameworks/Python.framework/Versions/3.11/lib/python3.11/site-packages (from httpx<1,>=0.23.0->openai) (1.0.5)\n",
      "Requirement already satisfied: h11<0.15,>=0.13 in /Library/Frameworks/Python.framework/Versions/3.11/lib/python3.11/site-packages (from httpcore==1.*->httpx<1,>=0.23.0->openai) (0.14.0)\n",
      "Requirement already satisfied: charset-normalizer<4,>=2 in /Library/Frameworks/Python.framework/Versions/3.11/lib/python3.11/site-packages (from requests>=2.25.0->spotipy) (3.1.0)\n",
      "\n",
      "\u001b[1m[\u001b[0m\u001b[34;49mnotice\u001b[0m\u001b[1;39;49m]\u001b[0m\u001b[39;49m A new release of pip available: \u001b[0m\u001b[31;49m22.3.1\u001b[0m\u001b[39;49m -> \u001b[0m\u001b[32;49m24.1.2\u001b[0m\n",
      "\u001b[1m[\u001b[0m\u001b[34;49mnotice\u001b[0m\u001b[1;39;49m]\u001b[0m\u001b[39;49m To update, run: \u001b[0m\u001b[32;49mpip3.11 install --upgrade pip\u001b[0m\n",
      "Note: you may need to restart the kernel to use updated packages.\n",
      "The dotenv extension is already loaded. To reload it, use:\n",
      "  %reload_ext dotenv\n"
     ]
    }
   ],
   "source": [
    "%pip install spotipy python-dotenv openai tqdm\n",
    "\n",
    "%load_ext dotenv\n",
    "%dotenv"
   ]
  },
  {
   "cell_type": "code",
   "execution_count": 19,
   "metadata": {},
   "outputs": [],
   "source": [
    "%reload_ext dotenv"
   ]
  },
  {
   "cell_type": "code",
   "execution_count": 6,
   "metadata": {},
   "outputs": [
    {
     "name": "stdout",
     "output_type": "stream",
     "text": [
      "Please navigate to this URL to authorize the application: https://accounts.spotify.com/authorize?client_id=c170e034b76346b9ac1f8cb7690e82f3&response_type=code&redirect_uri=https%3A%2F%2Felizabethfrey.me%2F&scope=user-library-read\n"
     ]
    },
    {
     "name": "stderr",
     "output_type": "stream",
     "text": [
      "/var/folders/dm/l18067jn62qb3fkpng93sqhr0000gn/T/ipykernel_60164/76519990.py:23: DeprecationWarning: You're using 'as_dict = True'.get_access_token will return the token string directly in future versions. Please adjust your code accordingly, or use get_cached_token instead.\n",
      "  token_info = sp_oauth.get_access_token(code)\n"
     ]
    }
   ],
   "source": [
    "import os\n",
    "import spotipy\n",
    "from spotipy.oauth2 import SpotifyOAuth\n",
    "\n",
    "scope = \"user-library-read\"\n",
    "\n",
    "# sp = spotipy.Spotify(auth_manager=SpotifyOAuth(scope=scope))\n",
    "sp_oauth = SpotifyOAuth(scope=scope, client_id=os.getenv(\"SPOTIPY_CLIENT_ID\"), client_secret=os.getenv(\n",
    "    \"SPOTIPY_CLIENT_SECRET\"), redirect_uri=os.getenv(\"SPOTIPY_REDIRECT_URI\"))\n",
    "\n",
    "# Get the authorization URL\n",
    "auth_url = sp_oauth.get_authorize_url()\n",
    "\n",
    "print(f\"Please navigate to this URL to authorize the application: {auth_url}\")\n",
    "\n",
    "# After authorization, Spotify will redirect to the redirect URI with a code parameter\n",
    "response_url = input(\"Enter the URL you were redirected to: \")\n",
    "\n",
    "# Parse the code from the URL\n",
    "code = sp_oauth.parse_response_code(response_url)\n",
    "\n",
    "# Get the access token\n",
    "token_info = sp_oauth.get_access_token(code)\n",
    "\n",
    "# Create a new Spotify object with the access token\n",
    "sp = spotipy.Spotify(auth=token_info[\"access_token\"])"
   ]
  },
  {
   "cell_type": "code",
   "execution_count": 7,
   "metadata": {},
   "outputs": [],
   "source": [
    "def get_spotify_client():\n",
    "    token_info = sp_oauth.get_cached_token()\n",
    "    if not token_info:\n",
    "        auth_url = sp_oauth.get_authorize_url()\n",
    "        print(\n",
    "            f\"Please navigate to this URL to authorize the application: {auth_url}\")\n",
    "\n",
    "        token_info = sp_oauth.get_access_token(code)\n",
    "\n",
    "    if sp_oauth.is_token_expired(token_info):\n",
    "        token_info = sp_oauth.refresh_access_token(token_info['refresh_token'])\n",
    "\n",
    "    return spotipy.Spotify(auth=token_info['access_token'])"
   ]
  },
  {
   "cell_type": "code",
   "execution_count": 38,
   "metadata": {},
   "outputs": [],
   "source": [
    "# Fetch user's saved tracks\n",
    "def get_all_saved_tracks(sp):\n",
    "    all_tracks = []\n",
    "    all_artist_genres = {}\n",
    "    all_track_names = []\n",
    "\n",
    "    results = sp.current_user_saved_tracks(limit=50)\n",
    "    all_artist_genres, all_track_names = fetch_track_and_artist_info(\n",
    "        results['items'], all_artist_genres, all_track_names)\n",
    "    all_tracks.extend(results['items'])\n",
    "\n",
    "    while results['next']:\n",
    "        results = sp.next(results)\n",
    "        all_artist_genres, all_track_names = fetch_track_and_artist_info(\n",
    "            results['items'], all_artist_genres, all_track_names)\n",
    "        all_tracks.extend(results['items'])\n",
    "\n",
    "    return all_tracks, all_artist_genres, all_track_names\n",
    "\n",
    "# Fetch artist genres\n",
    "\n",
    "\n",
    "def fetch_artist_genres(sp, artist_ids, artist_genres):\n",
    "    artists = sp.artists(artist_ids)\n",
    "    for artist in artists['artists']:\n",
    "        artist_genres[artist['name']] = artist['genres']\n",
    "    return artist_genres\n",
    "\n",
    "# Get artist IDs and track names\n",
    "\n",
    "\n",
    "def fetch_track_and_artist_info(tracks, artist_genres, track_names):\n",
    "    artist_ids = []\n",
    "    for item in tracks:\n",
    "        track = item['track']\n",
    "        artist_ids.append(track['artists'][0]['id'])\n",
    "        track_names.append(track['name'])\n",
    "\n",
    "    artist_genres = fetch_artist_genres(sp, artist_ids, artist_genres)\n",
    "    return artist_genres, track_names\n",
    "\n",
    "\n",
    "sp = get_spotify_client()\n",
    "\n",
    "tracks, artist_genres, track_names = get_all_saved_tracks(sp)"
   ]
  },
  {
   "cell_type": "code",
   "execution_count": 89,
   "metadata": {},
   "outputs": [
    {
     "data": {
      "text/plain": [
       "dict_keys(['2gSVKq4fs4rYE6ukeKnVWi', '6KqM3xmPIDonsTjCSGrrr5', '09RamrocZneYcLYLRIxYha', '3Kwj07sN1wdzlRNMU8rNX0', '22hOKPKTAegLoLJKM33K4a', '5hXEcqQhEjfZdbIZLO8mf2', '5rzHkSHRyZUdQcCX6noFDB', '4eAV1ZCliRotEcjzEbOWNW', '561pBFcFL2Pwb9HPO9tU8J', '7AvuIMRKdo5RvS6YIzXjsj', '6rqUOLt9dpfMANLMKTzoWj', '1akuYztpg4VfZT8Lg4N1w9', '68O2VV2eloAmNFjI4fEaz0', '331l3xABO0HMr1Kkyh2LZq', '4eamJr2k9YDH8j58RSTmSc', '1dcK8O2qEq7E34o4ImQEco', '5b5cPscqVEMChvDqscVw26', '7b6sWLSnbZhSIeqNGrJ4py', '1awQLv1J6LkeEQ5co4OOoQ', '4hGLX2kT2Ayrw0Uh2oQp0J', '68R0zVUeMJ2C852Ov6d2Mh', '5Hh09KHzQ9NRjRd6HIes5R', '0NLebGDyFekhMcQKG7xfaP', '7221xIgOnuakPdLqT0F3nP', '5crY7axm3GejOxy5PsnnPk', '6WiGRFQfx2qw49MA7OeDYK', '5iwUwADk4uQUvgMF6PlTRl', '2Nq4SFbvYYZa8AF7lD7CWU', '49fSj7bWWBfsi8thBoHN3S', '3NYm3ZimuJNb0Z0px5OEwO', '7qMMw7ngQEtW4Cam5GASW3', '2NvYdollt2CTUJYn66OBt9', '4nyF5lmSziBAt7ESAUjpbx', '1ZZaOAx86pHrZR7Kb0RbKM', '5lE2EFXt4muvLFMGQg4hZN', '0B4U9FT1WaFwUiiCPOAak7', '3CqaTHbiU2nBy3Ar9RnDHN', '3Y1EvIgEVw51XtgNEgpz5c', '2NKwz3gyK8da44pR2ZbiM1', '4ZmWVoFNiBj0iNnnC7E4MA', '3GiORO0zRwRT3g9CCklzkQ', '4faTuWPQeMo24zvuTDre3c', '3wiBHa4ZRg1q8nNLR85vVK', '3IIK2PF857uUCC8rLUEkwv', '4umbPzevKTowcl5kS0YZhI', '29OFLlrrfKIEVwbVMTjBYe', '4AxMrysTzBOsFg94g3H7Mh', '6iCH68EVZeUm0qlIBp5GOO', '74f0dpqHhTeTJzs4pmZ1yq', '52r4FYDc8x1DlWt6x2vuiT', '1bJRd2ey6ER7neSxZwYdAG', '6Nt2GOTUSE008KhubVAEeH', '53XM8O6sQ4YzCq2jYgXuC6', '5mfGEs5n647v4WE3K5YmBy', '4VZqbATiMbmwgSRnhfD9Tq', '0daWH6qNvD4kj0ybK7QvGg', '2aoWvGMW6W40WelevwsOUx', '6tZetCGfhxPh5ZIKCGmaKq', '0FoEQ5MUMwOrnQ4pWyrfrA', '2mmZEYQ0GuT4DlOL5vIasb', '6MRUQNjaUud1TiFBRV8HNq', '2UIraNrjFYMnu1HI15QR4S', '7fzHQizxTqy8wTXwlrgPQQ', '6txWz9UapYHVxEd7dDIHXT', '2bl81llf715VEEbAx03yvB', '0cgODPSGPfVKvJ3ZarsK70', '0Lmbke3KNVFXtoH2mMSHCw', '2o4aKAqzUmhuzgb3IgnYLR', '5ZvHcR4OSwvEV5IhigbTOT', '5wEZ2qosMq4JnIY050e7GO', '46N3FCKFABRjNoNBVq4osr', '0ULiCJAR2lmaHrXvs3exRm', '5O16SnZui65Ivhj7MWDHRv', '7cR4WZEjKT9PU2heOK8cnx', '0K7rM2hQY6D8oTE7z7PaQw', '5LZNaPmgnxH2YHwmU9G0GL', '5YO44oPkpH4zeinnihUpIR', '0YYsclEyD93z8s1VrzBmAj', '3GdogCZTpPHBODiiEJbqQm', '3eDVM4I0FMFS6QZDIgpOEW', '0T7aTl1t15HKHfwep4nANV', '0NWWDumjD2TCrR6iV6ZFgR', '3aQ9MHkMeL7Yu7jpyF62xn', '5lhIY0YgH7JhszpQNUC1dm', '7wa5lBm1Nl0kcXb9psV2Sj', '6QrQIAcvX1OZ0UrOjj2mrJ', '5WnvDdcyrFjbIqRxiqlet1', '629DixmZGHc7ILtEntuiWE', '6dOtVTDdiauQNBQEDOtlAB', '5aYR2yKYdcWxX7gAO2CYps', '6q36Cqt2d3O5jqrQR9uXCp', '6o0gJtOgimGamRBTS80H5g', '6HzL348HHRk2dWHNzx42aj', '1xZOYV0Z6i7z0nAnyL1zmT', '5vASuVQkngtFoCOczem52V', '5BghvS5F4hQlpCs4BKb1P8', '1KdjbgMfPmQQANYVS2IfTJ', '0j3mqDTK4Z6lvrLzFCUUz6', '0yM3VmM8gHEVGViKvAbQkc', '0RnxpSzxzwZgFQ0NahQr9K', '3FijoNKGof7pCn7oddecOQ', '6i6zi5TgXuKUxooOMqhKfQ', '5BoA4ehsprvSzDBuFOPgdA', '1aRvUHgMe9ichgcHAAs12f', '4VnDmjYCZkyeqeb0NIKqdA', '74WjYdm3Lvbwnds4thYPUU', '1CSaCKPIp2yCIDL3t7Fyau', '62yRch6aOnrQ44oftphdDq', '04eShjKTWijeJJqGnhxpYK', '2MSgFefjK0T7Iwjvr3OKqV', '4SFBV7SRNG2e2kyL1F6kjU', '4J0e4gEqaLQlG5EM0wws1K', '7ijOLIYbAqtLsqMpjWYMfL', '2LiWNkeUOAeibGxJKxmjsD', '11wmTElpcid11zop1dC31b', '33xx3BaaO1PZeASUDIbzys', '3kGME37l1qfGcaSZjkG6x7', '3Qmx7R0pwgG0vPbxVDfy1d', '4Qt8ZMOkXzQ5dvvVrd3si5', '6nqHzwOdGIaX57U6VU6kMO', '4Jp5pt7xrG2DLkUtUtqhzl', '4CZWCG1KOEZPGdQqDL85VF', '3RVpd1YvoSXj8Xi5izMs07', '4sLtmtKMmA5iCIa90tWhSe', '1u3nu8fNWFua6mQjw4ReEt', '0qFZYO72iBOhW7X6KbL44Q', '3fzL0RuACZtv5cQ6R78Sjq', '42gZM6AQ9BDMaTyTmMDVlN', '7a9UUo3zfID7Ik2fTQjRLi', '1ghlpxVfPbFH2jenrv9vVw', '2bw4WgXyXP90hIex7ur58y', '3imYkN34og7muZbkSZWLUW', '6EIMUjQ7Q8Zr2VtIUik4He', '4kP69y3GKHi9tXckfgp4bK', '1LldihpfcYdxAnCigKijW2', '0iB5f04XdJ2tcfhoVkeLV8', '7leW1Dmvs9A4oDh9i5Qwpz', '48lxT5qJF0yYyf2z4wB4xW', '5LC7nItIEFp4nzdFdEGbf9', '0Otf1ZfYNIjhqFIuJk0fsy', '4rrLFMxzVVwAJjmvHLPL8y', '7p6ZeiNtEHJKmc4YWBZELG', '3ujbZ2FGIoTQG3v07tmV2D', '2jNEEtT0PdPzfngmVIyNBi', '7pCcxxrnJt55nwbhpaTQDX', '0PHqHvmg4TIaANfbsvDMTR', '3ZikLQCnH3SIswlGENBcKe', '4YhDhdIh1YYVmNUvnYjoRy', '5yiImOvhyoK3QXUHVWcUUl', '32pQP3XD7rIYraHKMVq9pu', '0AZTpwagcDe4nH0mPcnYhS', '4Tgi1VkJQGsB6VNqZb5KOz', '5fIZ683j2xPeLAXfHeWKEG', '2JnF9w6ONUVFN1JqhgZYSn', '5mF7p5mwgaPZyIykUhO3PN', '5OFVzqSeFxGpvDGyHvVeLj', '4QfikoJtCEiOj7G5R9m3sP', '59Id4KrBWiizuq53doxWtp', '0dXrZ47LxK2PHm4mjSlwgt', '6xez71zpAqQ6N5i8E1jHlD', '5hJVLQbPigabZDgZhulWVD', '2VeWXYKHiESWNipFu33QGv', '6f2QFiiM5mePNlUeHUL3Hh', '3jQa7pofP3CHRTt4Xnoyt6', '5MpayeDmtJwgCpxQOkVBtN', '30i0fhLeLvnxXhmwKv2siJ', '0S8dHjSgVCirqjczLMiLQa', '4pCCSIQzxFsFPakL9LyUbc', '6HnbvDYhRA5E1fItsYnbPQ', '0LnppLKOrMMbhhauZBBJcQ', '3eLZsE8bLki3oqbFiuWZ7V', '6xBpeJHE26gAAjgVkCBbzU', '2L9N0zZnd37dwF0clgxMGI', '0UV5zxRMz6AO4ZwUOZNIKI', '1kPBT8S2wJFNAyBMnGVZgL', '3UYsJbgJ6EelhHwL00zmwr', '3FwzAQ2kVYHhaACqh79trJ', '6pul7BJkKcVHIewzPLW2rc', '2h945VWM1QyeqzbZ1dIN2i', '413ir53trC0Nfh4Mhdmgws', '3WSOUb3U7tqURbBSgZTrZX', '0WbMK4wrZ1wFSty9F7FCgu', '766OCy2QMl814sxiR1gl6v', '1Y1jtaZOJYgXBl7lKdLc9o', '2qSkIjg1o9h3YT9RAgYN75', '3spdoTYpuCpmq19tuD0bOe', '1xLs8Mu1QEVbGCpyHQ2r2U', '5o5WaO9pzPhXSGIrTIYVce', '3YkNIrAvbKNrrwwEd7NVLl', '7GUPYx7ywjcqBIUXssYjaW', '2MtATK17vKgw4ANyqPtzBo', '4ol2UyMTiklHVujAWg02nE', '7d5mr7F1LSVk4HpPB6KLHS', '3QKJELWORZZ7rUZDWeMWSA', '6jGnykaS6TkWp15utXSAeI', '5ItAdspjz2H4JCy6RDVtIy', '3FexBqEnmKPUttfXtwRDR6', '4Tq2fWpX1nLCkMSOPkYb1Y', '04btsfSKePglV7mrp5Zhgm', '7CrNF9zL7tIQ2269DVxzST', '5v5h0IdOAo0pK8a7i2esZG', '0kZ6X3TO4UcSqLzPcZSljo', '1AxAPXcUcH3nXXeCeG0kGV', '6KBsivP3Of4z2x6uNMAyE3', '1QlTNF43OyKK9BorIRsJ8o', '4vLYewWIvqHfKtJDk8c8tq', '5zuSpKg3UhdLUBHnWTsmIO', '6S4TNcpWB86OsymVCO0DfH', '1xaTXPoDk4VOU9XhYX4KJM', '0Wh99eifNTNqDFRtzWhCE2', '69KzcVxzsz1KvLzaxMMobe', '0f2489MzoisF9pKduawvce', '4rmCI9VWrwrJTJ8XQ80BMN', '0laDjTRWhdsdMHiPzja3xI', '2AfM7mFmlGudZOBUJJzPb9', '726OIMOZ6uDlvGsdUbbazS', '2JLmmgIwdkc197jV0rvaVd', '2U3ENhffoGzWcoYoR0U4Lm', '0KBvapFwuz8gPKu6Gw23WN', '5TNpCThzzXHEipXGKgNG8T', '5quBme70LuheSh4N7NnZ7Q', '1LGqJ3nvxpVXDWpEzq4DJD', '54h1RKrrFJDsNOfhwmqu9o', '0zDVclPMSsjeyvbnqhWOmt', '33jt3kYWjQzqn3xyYQ5ZEh', '0E8q2Fx2XuzXCO2NSAppkR', '7znjbX9XdoQayIrVNdd50Z', '5ZUIPLoTLJZrPQh2kFZEUM', '4WimB4Ei0LU3MotHhL3kBL', '0SLedTMdKihqLsR6CGPAfD', '5EyxR5yEN3mohQ5EycOpII', '3Xr90hZyFtjLaRithi6WtQ', '1Rvl8qsKJurfFTyWLBI9ib', '3B4q6KbHbGV51HO3GznBFF', '2hnMS47jN0etwvFPzYk11f', '77oU2rjC5XbjQfNe3bD6so', '3bWGaqVeYKMlLss40mPgNn', '1xKQbqQtQWrtQS47fUJBtl', '6tNgRQ0K2NYZ0Rb9l9DzL8', '5Z0UnEtpLDQyYlWwgi8m9C', '2GxrNKugF82CnoRFbQfzPf', '4pBuhoBxgwBpkkOhfT6p6N', '103lIjaS9OeuVqHCmDVgpO', '2HMas4DrtQoPebT1VL52Dr', '4rRU8wku7wWlwcpqW4ygFj', '7nSataGo54Le0IfcFQCFLN', '6PNHNt8v9UUmI7u0D06Fct', '19WoBh3CB0QdMLc11NLxtO', '3w0w2T288dec0mgeZZqoNN', '4cxpgHXbVh4sGwb1C7TAG2', '3pBncKks8ZvP64uXIPms7Q', '7MDfN1ldfTMtuXXdVz2Pzc', '6eRPcojLrhlIt7zAGwJUVV', '27AJf1VXuh3h6QsqQBOLxf', '6WO7IDGLakjO38lsvI2gHB', '79CMtlmnsRHuuSBOUsKvvV', '3eCulo5yg6EwkTfYcy1Xmh', '6Yimrlg9ndHZUy1hGm6uQ9', '3lFNDaob5QhwE9oo7J0uNT', '0pVG9Vj40uY2Z7D4afDEPT', '0Qz7UqqGrUTB70aOuQ3IlH', '6WY65n6MfeVUhJw02u5yGN', '20my9d2AdobuKH9CkaQybY', '3HMY0r2BAdpasXMY8rseR0', '5Apvsk0suoivI1H8CmBglv', '0SpA23j7g7svRw1YtQBDr7', '3QS9ZCtoSCJhmaJ7QNXSAS', '4QH1B0fYwxCmFkY8bxhocr', '3mlMpmY8oZIBFc39D9zLbh', '25yQPHgC35WNnnOUqFhgVR', '7Aobt67JnaF7qN8jCCKvHq', '0suLngfo7rJoetk7Ub6N8l', '1h04XMpzGzmAudoI6VHBgA', '7pk1VW7qa7zBQDbqMWydUD', '1D5ifTPFnQWDnSxSAfc1hc', '1TcF5F10EN17vraisG1gQv', '7sjuNUjWtSqhbxJ3RAUffm', '4heve4ydl1u6V3AD4moZq9', '7BHPGtpuuWWsvE7cCaMuEU', '7yNf9YjeO5JXUE3JEBgnYc', '0awZwmlC6pxH65KTZpadmX', '65T1aY3I9qfNUDVAnaM9bq', '5ftdTvmQjjsL23t7jxADfI', '0rVJ6v23RQozOIvr1YotJP', '1170VohRSx6GwE6QDCHPPH', '04uR2cdkgiaLIzebPcs25m', '3NRql0A1Ef4RCvT473iqgD', '2DrGEaqoruCSn0FffWCf5O', '5dUFfk2cwD8GiJPS03mYN0', '4JHg4nNYUJQ5HULcCmI18R', '5naar7XewEOAjOywIp6Jjq', '5QOBT97OmYCZo1W5u7tRrB', '1g2D7SpGbRPPXKLCly1mPc', '1I8tHoNBFTuoJAlh4hfVVE', '2FiSTH0GYpIioUgjfzMIja', '2gQK13gXYZRq2MgvPJyHx8', '60O0CjviBowszlKb9R4Xjm', '6PUIzlqotEmPuBfjbwYWOB', '3nEHrvNNtgLv9rneTAYVr4', '3vv9phIu6Y1vX3jcqaGz5Z', '3c8iiZGfEammKJuWTErE5x', '5zuex7tbGFz0gSHlrMvQdu', '0Zbbxnx4SGGHoIow4PpISP', '1EreoC8sYGW7yAFnGgHLEd', '1SN1vSPsr4V4tIUTR3s8YW', '7LXimIqTYO76Utly8VFABu', '7MIhUdNJtaOnDmC5nBC1fb', '4nlvKIIetOWGIMyhjQXgOZ', '4G58eym5EGj8ZG1qt8DXIx', '6UqRGwjwYL0stXbaodTxwo', '5Ir9mqfAUnXkSkXHF1yvM0', '0hNduWmlWmEmuwEFcYvRu1', '5aOpzm8W8zysk4asB9hxJw', '7IfOWyh4jTfkcGVrXKVNq0', '2CPqh63wRVscbceKcPxwvv', '06WnUZymWyJamDivTWqJZA', '2tnVG71enUj33Ic2nFN6kZ', '0b6wdul3A5sQNpIOv03OxP', '7gHs73wELdeycvS48JfIos', '0tDC3KJPPu5eonGTtCURpq', '5w9upngVRHNjdZcRC7Xxr2', '1Ad2HcIX9zBqoWRvxtpYGf', '5CaUUACiQFEf4zR5WoeIrp', '0vbtURX4qv1l7besfwmnD8', '3OZ7QMZ5wneoWSCuEj45jt', '5AWMbJ60z0NmztJ1Edl00K', '1yIi7qRdybE4yY1V0YdOKG', '1x4pmH7GrvDNXLdnVROpD6', '4O3APpGNhOldqDsPF8IaS5', '3W2ZcrRsInZbjWylOi6KhZ', '0zKbDrEXKpnExhGQRe9dxt', '4BLEnHP1FInl1u3xAbgI4n', '1DFD5Fotzgn6yYXkYsKiGs', '5oOgt1g5fB45ZkHZjjB9Qy', '0838zv1ZStd9x0rUGAHZ9Y', '2NcUU6DhS1lV4lAUm3SBSn', '6ft4hAq6yde8jPZY2i5zLr', '4ut5G4rgB1ClpMTMfjoIuy', '4PNKy9P3xrzqMwVzRjxBKt', '158fT4ny1hTwBUamEeCeVH', '0E9ZjEAyAwOXZ7wJC0PD33', '064qVCTCLBxMGjcUgFkiXa', '5ZduaRci3iNUiDfJbBfAaf', '2HJBsWX5LQK8Y95JzPJ4zp', '7CHi4DtfK4heMlQaudCuHK', '59QDyqLww2pxyg9ijOPO7f', '51w0BMC24JALh8uzwRzjMB', '5eTaQYBE1yrActixMAeLcZ', '7zp9FOU4cjFdGN1zdWTvcB', '23RoR84KodL5HWvUTneQ1w', '2LCd6P35jFyZ9SN37o9D2q', '3FU6urUVsgXa6RBuV2PdRk', '1jYQsPvg6A3UTEaxDYffDv', '3arD8N1yRHfbNe6kI3vyZF', '65G7XDGcybJiGywSCXJiL5', '6wLqNGHQIja6xqT0cfrzBB', '6ozdSeARbPqVWRZkQ3RcJJ', '73vIOb4Q7YN6HeJTbscRx5', '6WsaEpK2Bky9ZGCCaQPyg4', '2USlegnFJLrVLpoVfPimKB', '0siYMEsGrzzzlWLXK5zJfS', '5PX4uS1LqlWEPL69phPVQQ', '1dt220OBbkTsYz1NLVKIaw', '21RzyxY3EFaxVy6K4RqaU9', '787Y2idwCU2Rk60Prv4wpr', '4ESPuOrSsRcBISzcMlzmY5', '698ItKASDavgwZ3WjaWjtz', '1aNUSKBe6UMyMk3pEu9ws7', '3AjSfp5FDvwtMU9XBsbS8j', '0mV5JWhyUFANd9qpwLkM8d', '6L5xbckRDXIf5K1pwTaGkD', '3rb0tMq42WfggucPm0HHkA', '6iC7vapdKp0XlKhxOkp8QJ', '6f08saOLZyQr0ulFKUzFeL', '09rAJ1Q1NNJSaUKEW3X9P6', '7kPUvwFtA9e1COxyyNrvpR', '5xKJI9aPQhuTdTq8BrJ8fL', '5opOYIajwZgTBwzce89Xlg', '4qDpLaFGf5ampf2DXD2TMA', '0JZ1ABjN8q7TNwMP39NjvU', '20on25jryn53hWghthWWW3', '2RRpaU7jFVcwo23pthdnBv', '59NraMJsLaMCVtwXTSia8i', '1moFkZDqcjQNeXtyoanLHv', '2sNevT0WU7NXnkm1jnGENF', '4SL2iWHt3azgITI04G5NpY', '10kc4WFIpH8PEaa7cflKAx', '67eYAnkdTu8BMcIx29z26L', '4b2tcjrG1qUkSdsqEFP2dB', '56yFJewuZr1kKfYu2O35nx', '2aQpISWUBToaF84DDiTeRV', '2aiy3gAjU8yynkrbpEVQm9', '0MOiv7WTXCqvm89lVCf9C8', '0lwyzp7GppQxv0Eu6wRkUo', '2bI6KAUqXeIXGAEEvup8ri', '5uISqR4lyfgJ0snckYmQpJ', '1GBBbKOarAJ38HwIfLcOji', '4KPTu8qSxATFXL3e5sJipW', '2EqlS6tkEnglzr7tkKAAYD', '6dGnYIeXmHdcikdzNNDMm2', '1SKPmfSYaPsETbRHaiA18G', '3BQHpFgAp4l80e1XslIjNI', '4h4QlmocP3IuwYEj2j14p8', '3nqQXoyQOWXiESFLlDF1hG', '2nGFzvICaeEWjIrBrL2RAx', '72kGuWpRiuA149Bn5lDkIO', '3WMj8moIAXJhHsyLaqIIHI', '6foY66mWZN0pSRjZ408c00', '4joiWvli4qJVEW6qZV2i2J', '1Dg4dFJr3HW7sbA7vPejre', '2TVxnKdb3tqe1nhQWwwZCO', '5ZBeML7Lf3FMEVviTyvi8l', '5GjPQ0eI7AgmOnADn1EO6Q', '1BlJdQjT6QYjRlfP0C1rz1', '62ke5zFUJN6RvtXZgVH0F8', '4RvWPyQ5RL0ao9LPZeSouE', '7HW5WIw7ZgZORCzUxv5gW5', '5YbeJyTQkdSAWe1Ie4sLAl', '0kp728Knw5PYvU3QzMZ0yJ', '7LbfuQVct78YoghmoPtsQ8', '003vvx7Niy0yvhvHt4a68B', '6zSpb8dQRaw0M1dK8PBwQz', '5CM4UuQ9Gnd6K2YyKGPMoK', '3AJwUDP919kvQ9QcozQPxg', '3SdingSsFcZDZAyvcJbgAw', '1QbOvACeYanja5pbnJbAmk', '3MrWxJaD2AT0W9DjWF64Vm', '3CSpzkoL1XgDBZ1q9aDCUV', '5ZLzl6T8JwqMTMdoE0nCbU', '0ygAYQQy7bfDN6gH640bbl', '5zT5cMnMKoyruPj13TQXGx', '71ehTADpxs85ULrZgSEKCy', '0TuTx2Gwtfrt769k4sJRgh', '113xf7t4qNM7038YJvauik', '754kgU5rWscRTfvlsuEwFp', '7JogKto8cNNBqz3dZERgDh', '75JFxkI2RXiU7L9VXzMkle', '5u2QALJvgURVkVOJBFVH0a', '7wZUrN8oemZfsEd1CGkbXE', '7j4IOedQQtMpSHEvyXZsHI', '6O31EAq8Zr6LCj5FNVA7EM', '5nA67Y0XX9JipZwYxX7Gl7', '3mmjD9G2HUUzDbFl3NRDLM', '5fVZC9GiM4e8vu99W0Xf6J', '1X6kxrjWVWiKMqulM8XZpj', '7lvegGYjA3TqpfdWucct7O', '6e40mgJiCid5HRAGrbpGA6', '0Rm2G83ELwkuEgpHlJcBPn', '4kflIGfjdZJW4ot2ioixTB', '7xpraKSakDJ6WWgjQEtvgT', '6gxycjJNMgmAyfzUXBN80P', '2sEq2rC3ynYsT49x7utWnd', '6bsg90K6hmiDiGF839rOPE', '5hA2ZHjvt1tgp55OzaqYKL', '5Db9VIdDsN5yu3Eu7CT0i4', '4L2K7JKseFCBoHMZEAszW0', '0mqTcM8kuu2IYPotMt7AzS', '1NrDot6zcivIjCVMFoe7uV', '4wLZ4zPM9c4oe1VV8ejdWV', '3nnG7AM9QopHVPEuLX3Khk', '7vRriwrloYVaoAe3a9wJHe', '0tgVpDi06FyKpA1z0VMD4v', '2jTidefcsTu6VQhpIImJrt', '1almCHdsfikRPfVB9VrEdT', '5TvE3pk05pyFIGdSY9j4DJ', '557S0RTbb6PMZfc2g3YqKb', '7L605WhF5EGf34ggj87yK6', '0M3HkE321xpCbCYqVKzr1q', '3ioJ2eGWcONEvna37MpsiE', '07TnWCHrFkvF61GzJuLVt0', '2z7dSOS87BhVTTGOopZhC5', '1dEy9Pl81QopSxNsPxXQxv', '3rxVPmnImXWdy0XImxmN6F', '5b9Iolaee6xTaMWb8c5rLB', '1Jj6MF0xDOMA3Ut2Z368Bx', '3Dkvp3L4w0uJFYfIPa8E9H', '5T6bJp3XgwT0IaCfKMxmAu', '48wSJ6NhMFYYB6LjdnPNjM', '0nJW01T7XtvILxQgC5J7Wh', '6EF9SuEEFvCrVyV98enq5v', '5x3FNIubrGQftoIZYXNDFV', '5jx8tCxiO0uIbo2uNia23K', '2VFf8YhTnmhWF108o9UEr7', '6g6ideAIzJ26LLxtpoDHVy', '4IqcDJPzDL8Hq8KwAX4jUE', '27r2uANqwK7XbsiAZnzf9e', '4rIEkt9wgcmoIJtiRcvtNX', '6H7fWtwEUHVfTyZD7zeG4w', '4EUQXLipplO2v9mVaqQtjc', '2IjyFRCRn8x1bEquOM3vxg', '5pLjOLnVVOVK6uvHmhBz8f', '2EcsgXlxz99UMDSPg5T8RF', '3vOmmLuvEUgGaVuRsCs2QF', '3XVBdLihbNbxUwZosxcGuJ', '442j8VxaB60dWf9cBFuX5w', '11bD1JtSjlIgKgZG2134DZ', '1lyNFzcCl9kXCof6GV32fV', '1QK0cJlXnfq3q7Vo8mVL4w', '1vicNVzWoAnteQMlTzI2VF', '6Up545NUflOiXo8cEraH49', '6LteLVcW0oWLjuW6nePyWb', '7EHmKkyAr6MZv5Y2FdZbXw', '1wyo8plJbo1BO9s8TWqZpN', '7tOAtB2F50KXEkw86frba6', '2hRMHB4ZEYrCBM0d0vVEdq', '2PIlBukQ6limukVR8Ubb5o', '5ivF4eQBqJiVL5IAE9jRyl', '2VgJDTfkuwlm7WIHnvtRCQ', '0cj2joJcY6b4XSRfj2eZOl', '6HbI4e2Y2f6HYVV6r04M4W', '4HlFJV71xXKIGcU3kRyttv', '4DvhkX2ic4zWkQeWMwQ2qf', '3Ju48PMNQkAGxjJCbWcfeM', '273dCMFseLcVsoSWx59IoE', '0qOnSQQF0yzuPWsXrQ9paz', '4fINc8dnfcz7AdhFYVA4i7', '0kUMtZVaYb7EETkBdrEXXA', '32OlwWuMpZ6b0aN2RZOeMS', '4E5P1XyAFtrjpiIxkydly4', '5OMwQFBcte0aWFJFqrr5oj', '5KONnBIQ9LqCxyeSPin26k', '6FE2iI43OZnszFLuLtvvmg', '7pYPpFhFyOwCjf4y7vdJqM', '3ZFTkvIE7kyPt6Nu3PEa7V', '4q8PHoRsPUB52LFylX8Ulz', '5Q0Nhxo0l2bP3pNjpGJwV1', '12lZTPlXwUtrQuhEty6098', '59RSrxkSKSixEWBAIvE5Wa', '2rl9Ukvagkh5rZVqZLE0qO', '1hGy2eLcmC8eKx7qr1tOqx', '3bidbhpOYeV4knp8AIu8Xn', '6lV2MSQmRIkycDScNtrBXO', '2qPUnoasNe4Ep43emVXEig', '2sfqqXVodMi9WFn5zokQO8', '1fDsrQ23eTAVFElUMaf38X', '7G7tgVYORlDuVprcYHuFJh', '6nWcEzyxDozQcmxMoNJtYx', '5uzNa0SBGOe5pPnstWHMCt', '5zA8vzDGqPl2AzZkEYQGKh', '7oK9VyNzrYvRFo7nQEYkWN', '5LOaKdW9D2Gl9neAN94NbR', '2xYlyywNgefLCRDG8hlxZq', '3bH4HzoZZFq8UpZmI2AMgV', '4DRBaZ760gyk7LWnaJFqsJ', '38zsOOcu31XbbYj9BIPUF1', '2Gy7qnDwt8Z3MNxqat4CsK', '2RnPATK99oGOZygnD2GTO6', '1NrbnHlR2BFREcyWXHIHip', '4T5cqerbDXueYSVfXkIITo', '1kwPxt35W7cG3rryxR48PO', '4paAidoE8VAemwU4jgCc6l', '2FUNBaa5DwItJtYEBgAblU', '5WQ1hIc5d2EVbRQ8qsj8Uh', '5WkCcSa78lM1Ym4LXzJUiN', '6tDDoYIxWvMLTdKpjFkc1B', '6PQ88X9TkUIAUIZJHW2upE', '7l28SBHS3zmKDVnOzG8BM7', '7Il2yWQmsqKgSkLQvHTPUI', '2gCBss8cL58i2GyswrhBna', '786ApDDgJHMbvYaJCA4psT', '4JeOesjcWWlprTAvucDSJX', '7ce20yLkzuXXLUhzIDoZih', '7pD9oC83gaVhCpV2W5GoTd', '463CkQjx2Zk1yXoBuierM9', '0CyRloqqjpeKEAd3cO6J6z', '4Tulf6yVo59f2ofSi3YUqW', '5WoaF1B5XIEnWfmb5NZikf', '0wOtc2nY3NOohp4xSwOyTN', '5hM6sP0Gh1jD57drszNueC', '6BuV8kvfkjzeKnuc0uku1c', '35ieKju5aLWFN5UgfJ27mL', '3HeZam86SuxGp1wZ3XMIjE', '1jHg7bUEfa67jzcayP2SvK', '2hGchv7KYaINz9Z1qzufNm', '1A758iwqjvHeUqixVwHr90', '6vWEAOUSxohKxhp0K1BsxL', '3IU6xbfNZosvTdRrGs8b2u', '0PUWmPna5P0hKtSwXWin9o', '4qXjXZPGtVNhQq1z9QDRFn', '0QdePZJfBpRIBautuT4FSx', '0t89zjm5vxQCuW4jkOfT93', '2ZxTjs4EdJl4Y9YByIiNoo', '1Gr8dBwyVDlSwxJAu4YngD', '4Zjdzxx0dsavsr7Ehr8fGE', '1CPUilWsYY4I5nzXuTN8Gj', '6CxdeM5S42kp7GyMlLs1Ea', '2QpGZOhTCHHiKmpSO9FW4h', '2hPGC3ZuGsJUF1ixwzNMU6', '3QlF2ExmrRP0RM7ffv7y0Q', '6zGPytJiZmFuyVq7RTNO9G', '6mrKP2jyIQmM0rw6fQryjr', '6B7jm2IJsh3DYXO7RgwVnx', '60jpDubMmVyR5molJp2TCm', '1Xc2umzOkPctqyXAeep8j7', '29kixq8kxaIuxN0TAZomaU', '1diS6nkxMQc3wwC4G1j0bh', '2e2yKavdT6WQzzMHwNtPFa', '0JjM9bKm4wrwohMslcm892', '7L59vVTpoS94JU3KEeolqt', '1BxkZE73h9BN3qwuA15TA3', '7sO5G9EABYOXQKNPNiE9NR', '7to68V64Cu6zk0UDo5tyw3', '6K1yBz4AnZT2tCoSoUhJiq', '4uNDs2TBsv2KX9b4LIxfdt', '2K9aKWIqTlv2tEsb4mptJj', '2gwkD6igEhQbDQegRCcdoB', '7f1zjZG77S891Uv4O68yfk', '4mFcwFOlSCxp6hjemRXwpd', '4E63weMCaNZuGPEFMnuEi8', '01BDK4Skxzh5mqnTbQzWGy', '53H3ajzHjI5M9ZeewvRO3h', '74tLlkN3rgVzRqQJgPfink', '79jX8RM5CgPqDKdGEKNW9K', '6e2PtJYcltVk76nLwxBzRn', '7znAjItIP7xKKhyFzF5W1B', '5dLSae87xiV4sfdoF0YiQ6', '0Lw6aQcBFWTQ9m4MSwwwes', '1CEDx1kXFwmpmN2waT2PbM', '3Fj47GNK2kUF0uaEDgXLaD', '43zdsphuZLzwA9k4DJhU0I', '6tCd8bPvYnceDG7W9M1RMk', '43PGPuHIlVOc04jrZVh9L6', '1uGIHeoKcetmxF5KOPmz5d', '2B4GHvToeLTOBB4QLzW3Ni', '2lwwrWVKdf3LR9lbbhnr6R', '25F6MWrnFBCXVnpN4n76EK', '6zOhgKfbMiQWToE6K13s2s', '4NqaNXn9bw7PmXjOFW8vmp', '5ZEq9YuBdFgwAnYmjafWu3', '4SBVWkRIMJ6WBCYPvr5Bwr', '3EPXxR3ImUwfayaurPi3cm', '314ZkcV7oLWG8yWE7LABvH', '3skfigZmEOr709N4kwv6Ur', '2gA74HvN6NKFrhgzpd5oNE', '38T0tPVZHcPZyhtOcCP7pF', '1N3WA69hiGcEsO2ExABuqs', '7tCHpjktA50ihtkLz6bAnn', '2J4DpqJCIuuM9WjtWHbjvd', '4MzhmCOgPB7xb87f1CXjlA', '6cZH4rX1KTt1aJ3Ql6Ynja', '4l2rsMfr20dj6nf6i6F3Y8', '733c1CWmIGymoQXdp7Us88', '0dIz1I7IwX5ardG47AHxCZ', '3o0nkjyy6eZL5lZcEpvJec', '0VZe8C7xgAIQC0E0qEVIEh', '1njRzdfGNUY2RZU0lVO787', '0JcgIOrlZ0CNUOPxyudnrK', '48Qes8IUekSZpcNDQgYzUX', '4ejCsNXh66YasBUiwfBhDg', '5xyLeb2q1lxDf7hXKYlC1H', '2E124GmJRnBJuXbTb4cPUB', '4C6Uex2ILwJi9sZXRdmqXp', '0vMctOnb4YNIvbqgkbWNDy', '2xdwCJLfKCkat14mlgR26M', '6FtIK0IkmG33lKbc1pyAlZ', '6WrI0LAC5M1Rw2MnX2ZvEg', '5cJZPy9Tad2aT3ZMnN6yvd', '4c60yLpE5lXvICT0pyEaZ5', '0fABHG5a7RnqBlOKOwhWZD', '3BLWGYOcy1svvsBByeFxLh', '5q5gzmbBS5yQzos2BvVr1t', '78JOgfFQR1SV1ccX27Nt3U', '4IZTru7nKgBE8sBq6aMY56', '3CBwK6H17WEX6qkVZsVVDo', '6HgWWaMu31KdOpEG5l28BG', '4NzMOnvSJVNKF7nw5NkXIP', '630sXRhIcfwr2e4RdNtjKN', '7dk9EBvTbbKBbFxjCAJpwK', '0bxmVPKnEopTyuMMkaTvUb', '1YQWosTIljIvxAgHWTp7KP', '73ouBH2o87Lq3V8Kfz4CMq', '6xw8ld1ztoCKifwTN6uGDq', '6WbTTAGKrQtCQvmc5BuYfh', '4tNXntkAzQ5A2dfYRYGIIQ', '3J4VKkUpLvomXJbn9ZAypO', '2SAqBLGA283SUiwJ3xOUVI', '4EGt2Y8GqjVzjXi39UOQfg', '2UikqkwBv7aIvlixeVXHWt', '7tgjDlQsMR8RvkdlNCJA58', '3Q6F8RByyhRTJpRtZLY3cg', '4dVpf9jZjcORqGTLUaeYj9', '6lruHh1jF7ezgbLv72xYmf', '0xEE5wqhAx4J2ZeRWdKixT', '6N1K5OVVCopBjGViHs2IvP', '49X0LAl6faAusYq02PRAY6', '4MmMxyew8yq1OEyJOMaX6M', '0y60itmpH0aPKsFiGxmtnh', '70rFIfYN7lU6iTgUIVP42w', '2b4dRZGflAQT7ZbFwOclyP', '4vHNeBWDQpVCmGbaccrRzi', '1wsf1YFQSYND45y0GzJmf7', '5IaHrVsrferBYDm0bDyABy', '1ThmUihH9dF8EV08ku5AXN', '5ug8KuTWGtMTW7c2TvB8dd', '6tCV8RZVP7zW59Ybxj6COL', '3jjBPF4NDMCU51psU8JPpR', '41uMT21Z2Sts6UNsz19ZH5', '7d6XJZjnm7iWcKwYL9z5kC', '1ZLrDPgR7mvuTco3rQK8Pk', '4hOyjY9EUksjyylV1QZaF3', '2PcRcEPe8HkDhYsA6OV6d4', '0KmbZSG6sTyZoflJbg9Uwu', '75ls0gurX68lUmMjE7QcsE', '7bdYxWPCs46dQ0XLwySOyv', '14YooSSTGCikWjqD0e5r4j', '5UEnHoDYpsxlfzWLZIc7LD', '0OuOPYd05eORfLw94apb8j', '55S2PQgSMYAhgoTCcGCDfw', '5YSHygGN9D0mID1NsVd5my', '4CxFN5zON70B3VOPBYbd6P', '5J6rTmMjF9DVIAF8G3M9n4', '27sKtH0PZpASkN8H3ZJOQf', '5NijSs5dAwaIybq1GaRTIe', '6DCRVXmUCeUckyGsEmqzMS', '4S8d14HvHb70ImctNgVzQQ', '5esKpsrB3TbGHwFaAjIGMx', '709F3MwiVvLD0LQXeKs5Cz', '3tbNT2X5tfMIVeUflYbZUZ', '1a2iF9XymafjRk56q7oCxo', '0GzuHFG4Ql6DoyxFRnIk3F', '1F35Dmog9pekyCVnH1eQpl', '5KawlOMHjWeUjQtnuRs22c', '1R6VwZ8TuHRzxZUxe88n4I', '1vQ3iTZHBqH14APe5uKKrp', '1GIYmwtBbPSHrqcSaukZck', '6XHVuErjQ4XNm6nDPVCxVX', '08bNPGLD8AhKpnnERrAc6G', '0BOEuUKoHdy8in20fG5smd', '17s9ohMleXceK8Qobgl8Zd', '75c2zaSdDBSX0A8Jyvm4fO', '4TnjEaWOeW0eKTKIEvJyCa', '2ARqIya5NAuvFVHSN3bL0m', '1tNJrcVe6gwLEiZCtprs1u', '1QOxaQ0QruusmKZk5G3sot', '0Nfh4u0J4bajcyp5pzaWCx', '3Yyj76BeYt3QIffwKpRuKL', '0PowxVSTY2uh1CPc8EPKyX', '6mCqxnyOhr4tHMbRbQL4Yn', '06JmNnH3iXKENNRKifqu0v', '1sXUWdKx03aP9Gmzft58rt', '2279iXhVV3qqY98p0qcAFn', '3EYOJ48Et32uATr9ZmLnAo', '4fPBB44eDH71YohayI4eKV', '1JretlXUtNLNoJrkgtCnWb', '7N118VYdB5NbtnDhsmmndA', '7b8YOVV5quZcSKEijDgyWB', '1nhsfhyx2J9c63vcwkzUpE', '0HMCP4nAPkUan3NQr6hSuT', '6LsAAHotRLMOHfCsSfYCsz', '09CnYHiZ5jGT1wr1TXJ9Zt', '0jGgbRoqVRX5QXTTDhdwCl', '2dz1PWeukbAfsXgJadiaBu', '07FkzikE6FuHIa8Ma7zJGc', '15kQGEy89K8deJcZVFEn0N', '4z4Q9WohZeAOF0IAZfPRew', '7t7QJFQLHJWCiHBswHnbzZ', '0Y4hwUppbGc8aIBmiTz30A', '5SMCxRA6hB2jEhroaYfw6N', '6YKtXMb7DISTUfYjSSPsEq', '3WsbAGQt6HgTj9kg6f466M', '3kkGT3plagh00ZKN7xSsCb', '3Dv1eDb0MEgF93GpLXlucZ', '6LVAOGbEUxPU6BboZ06YQg', '01Qb6dN5suQNu87VJ1mIpf', '6Ozh9Ok6h4Oi1wUSLtBseN', '2FvD20Z8aoWIePi7PoN8sG', '4Sp0jLZN8MgPnoGDufJS7N', '05CwHjIk71RXVU40boRMnR', '3M1r9ilL53PLcrLdIuyZ4J', '4vlL7HTI5eVGBYOb1w7Goi', '49QEJdbU9mf4VUXReOpZ9u', '5Kskr9LcNYa0tpt5f0ZEJx', '68SNAUUgO2XwxykrEboEZN', '66FgjA5ZQJJuypFG1bc8se', '7y7w4tl4MaRC2UMEj1mPtr', '6Xve7pWqzW6CQV8mlXzpBe', '4PICq5Ndi0cEWsyRAEWED6', '2yqDbROZQLI1xQxgDVCSxQ', '41L3O37CECZt3N7ziG2z7l', '6gi6y1xwmVszDWkUqab1qw', '63bAGRSSX2V1hhPSP2NpBC', '6CNT5aThbP183ncXeGwTdC', '7thTA3hqO2MgOlzo0rPInX', '7fYRg3CEbk6rNCuzNzMT06', '3qk4wRMDlaeagZGjSYbsOV', '2J0X46UkpfLlWbuCXFgDLr', '7wrDRQgHlvDnimrRHfQZxt', '531KGXtBroSrOX9LVmiIgc', '4CJbchKHZEboLnqQqPszoN', '3nc420PXjTdBV5TN0gCFkS', '0GT2hQQ6mdHeW0AZDl5NlJ', '1Fo4OvzP9PThFKMeMIAEYu', '2P4qoMmSqElFcI7GYaPLwf', '2x8evxqUlF0eRabbW2JBJd', '1OmcAT5Y8eg5bUPv9qJT4R', '1mNNuEw8HB8AO69hbC36ow', '1uMHCAyGmHqyygoNRuo7MV', '15jMztFtJ1mFFJ11SZvHHZ', '2sZfKuApMUJp6pTanBuMPH', '2IePEfMAtqWS6rLXXFZIgI', '4n7jnSxVLd8QioibtTDBDq', '45JYEmfoWSpCA3Paut7YXE', '1GeNui6m825V8jP4uKiIaH', '4u4NyuceXP7Uzh7XFJKCr1', '5rurggqwwudn9clMdcchxT', '5nafRIDshs3RwVO0sxxgac', '70pNsXFxPkPw5pkwMuywP2', '6ws54n2IzyrIxxyzlG2bVJ', '64cfNIF6xJsYcU44thqWcx', '0qHPxjC83zQYcxe39xSShx', '6JbxkCyeOto3xXjcFalZ3e', '1bjeWoagtHmUKputLVyDxQ', '6NMqeF0Ssmi7d3dSUqnOFf', '2usxQITOSDqvkYiI0oIwao', '1pzJboOZaDNwshBnOlNh3a', '3QPBocWfIcOCdFFvmqn60F', '4mqvE5F95nKSUrUvUH3YB7', '4eL3XeuGaEoVT8ttDh3hwY', '447yWcDPg1ddgcHBLGpJC0', '7kTQf1Ndibcp3he9iWZsgO', '3VyjsVV24RmBIbWJAeUJNu', '4rr19p6NPfg8oUazZQnkS8', '6U0FIYXCQ3TGrk4tFpLrEA', '5kflnIKOUU6aLXkVXmJ6iK', '3hPHUpKVB4xo9efj2y29W9', '75NhhYjHO43mvZgYtnXgti', '1iWHabUgUuuKLBa0TzTHfk', '1ls2PNiOHOxmSfHRyslgAl', '2MULdl5TdUJCAxJfd8fHjF', '2uF9MllYoEuXzUnMudZG4c', '0GnnAEntAnsQVvfz5nNA0X', '44ashym52bERKclJsKt3Db', '0k4d5YPDr1r7FX77VdqWez', '1p0jBDjxORjYNJyAphBRpE', '086THPnabbu1zfDjRsxpoN', '6Quu3PRWFZNE297wRNgsmn', '27tDoZsybt3KvJWTDoW9id', '3LBM25IgxI9y549SiYxtSi', '02kDW379Yfd5PzW5A6vuGt', '5PIhpG2ax06QpBLRqlYQql', '0cMjaVjMi6VPn1mkWPGKka', '5KFasflYKU9VnMTthjNXNv', '7uqcLJFlSYjVPLUz1vPxkY', '7pdF27mSDuPWhppnHAmWHa', '2XW4DbS6NddZxRPm5rMCeY', '285hMzLhJwHVLe9QT9qilk', '6Et7bBOxtMxcCa7MyjKpr3', '6CLVh9sekZ1p2G8Tfhhj8h', '3JsydWaf2Ev4ehaLUjj3SY', '20dHipP84rp47r9EEmN1iB', '7Ewumzq8MHlC6OwNhBybGl', '4yJiXq86uM56uIfIZgE440', '3MwKRb5GB9phdL9ktdvBsv', '7iUScoHKNJC5hqtA40vMlj', '3atYho4CmCXX4VCqri7uKn', '63m3fusWaHBnB3isFfAlRd', '4x3mum2YGHtIBrgUKiNt4F', '07ShpyCaAqfCseA3fWFFMY', '1gRQxbfL4ULWyTosgXSbWT', '2TY8WCR5gdOwsNOJuOeduG', '7LjEQ8GsQiUNVakV6TZI0e', '0aCsQvJk7VXZ6HCHfV5vtj', '2771LMNxwf62FTAdpJMQfM', '7CqU61haaiMNAz4hvbDfWV', '74qKLdiiTnXNqh2Co21RlJ', '6rGf5AsEaVskU0pO2ewcUL', '07ipXN6CNTw34qwSYePKpg', '2i2gDpKKWjvnRTOZRhaPh2', '52jCFwQBAf04Bi8xrE8DJu', '4vskOzqaYFNGGkHLTG7xAf', '1qwWYnZmgC6TtGMvO35hWg', '7ge7BHazYbVKi8qyZUX1Bm', '63cd4JkwGgYJrbOizbfmsp', '7FEwp8BavoEVE3AnxJDchc', '1iZoBnjg3p9ugz5xZGCK5d', '3FAJ6O0NOHQV8Mc5Ri6ENp', '1m6lqaLvUTxPjOo98fJH8U', '43lYaovU2FoeuBMNusVVVW', '47HA2S1j9yj34Ff1aIsF5Y', '4szwPQ7ajXpyqykjtv6RLE', '3BpJv2QgEQ8w71URXFGdXT', '26OhjtaTamFocE08t83ml6', '3Kkjo3cT83cw09VJyrLNwX', '6LiuMpZjyjjuXFP5Ljo9bv', '0gplL1WMoJ6iYaPgMCL0gX', '7q7jyVU0f0hnod8tsaUmxg', '0V1ZA2xfZ96vla7iIB8iIj', '1z7LV5wkExwW8YJk0IrPUA', '6og0RD1Xq1Ya7BOt0TxHz6', '7K1H5Peem34cxKy40kNFw5', '1qhdqpo6lgejiIOoaACXNG', '4O89rUWrGgWYKaHJUOp314', '18asYwWugKjjsihZ0YvRxO', '0wFmawqundY8rOn9sZUqA6', '46nvQpUDsxpS08UTFOeKTA', '0Vct1PkjAYGH2X4iwNVR71', '3vLMN02wGnPBdjRVvewedS', '2etHQJxIbV0soyPhelVs9Y', '6LtHYDgYHRCHoKK3snfr2w', '6kls8cSlUyHW2BUOkDJIZE', '6tNQ70jh4OwmPGpYy6R2o9', '2FXxVkiiOonsSequbywMe3', '5SxkdsY1ufZzoq9iXceLw9', '204U3zjm9kkzX25Pr4Rdld', '0BgbobvykXxEvxo2HhCuvM', '2OvV4NjEBRE9v8Oo7QeUCq', '4xqrdfXkTW4T0RauPLv3WA', '3vkCueOmm7xQDoJ17W1Pm3', '5iFwAOB2TFkPJk8sMlxP8g', '4j5gXarJqoiwh4ZIAqZcmh', '14JzyD6FlBD5z0wV5P07YI', '38loOBAgDgCW4pFWyH9cey', '4FyesJzVpA39hbYvcseO2d', '6wZ8MVg77od27vH3444rW6', '6kxaaIeowajN7w21PfMLbu', '3aI2wWEeNmtYDvsAyJahyi', '5oAgI7Pzg6vxuKrfapg3Pi', '6HlE9t71z9DjGi7KqSyEpA', '68HocO7fx9z0MgDU0ZPHro', '5vsRm2aCBl5T2qdpvwtrf6', '2uQNcZYa0SEbfW4cj0d9OS', '4a00SVbdG6saNqRJlC4XKQ', '1urISbFwW8KPAB1qVlJ3Mj', '7DHApOHsIFo7EyfieArYGE', '0HKD13PLq2WicViBBhSrOl', '37HhnXqIRFSSJXWsysl6B7', '5HBDBBr5OV90lubqW8ctJF', '0to2wztJrgQuAmjDXDK9B1', '6lbFEBQz8jYuwsDY1LYEuD', '35KiiILklye1JRRctaLUb4', '62tGzw9OJOwDcjPBnMPCuj', '3PlzW6Y96xvzjeXbyXaIqA', '71p2ub5QJhJTzfvXbXaUXd', '1CjvcxzHY3tbv63jui6y8A', '4SHhui9S7lFYGHXikfneGo', '526fD9LiAEi3KKvhhYfWmm', '1M6QHgtQLn88B3JsTTxV8A', '0Ys4J7iim6STsGeLmFLWIo', '0M98PvIvx7vZ8LDpzMw1hB', '7jqDzXJS0K0Re8uphYNit0', '1eMNW1HQjF1dbb4GtnmpaX', '5AjINjwKyRvQJhSe2zpPHi', '52eIcoLUM25zbQupAZYoFh', '6a88fc0zSrVWGPdoj445nJ', '0LVaveDmmoMEKhBGhVhfoI', '2AaJeBEq3WLcfFW1y8svDf', '5jBGI01km1Rt8gqBKVCU7R', '6OklSp2KgnW8RWNdQ7n8o1', '0fCwTrRNfoNk962ati8n2K', '2Xo3rLHjXfdb4avN68aQyi', '7CkbRn6S0itJqcqn88AtSV', '14boA065HMHWvqyPPEeN4y', '7AFASza1mXqntmGtbxXprO', '2TO5S8NzOc20lhR3s9Gwe3', '7Ed6BkggCS2KaKY5YlINaF', '3i9UVldZOE0aD0JnyfAZZ0', '6Oe5tmI1bfguCp6dKHbSj6', '0aMHIW1lqrulVCx0LLlr6a', '5v2ePUTZiv1mPDCD1nSbfF', '1sFstGV1Z3Aw5TDFCiT7vK', '5l08slmvFRUseHpq85neke', '0yLsJKNJHmSnmSGl3ZodYn', '4Jh8aypoHtCqv5GPzZxPsz', '3yZsBXwiQkqLjnWYip17Uu', '2zjGJ0dChMR0KxBZS15aqo', '3QzAOrNlsabgbMwlZt7TAY', '6ZY3fZTvo8W3lD2g73EeSA', '54i6YAQkZImwWjmzPrQeqd', '5K3NDUPkLe46b5DRMt2RNJ', '0UyljEbX9dqI1K0sqdv6B6', '1jkIErXa3YNUX5QIyO6GGR', '1fUTkSn2LxAN7nc1gbau7X', '5a6pdCHlWS2ekOOQ70QnAr', '3zIuHdD8dkh1vPxQu334T7', '73FDJgnjt6ZcxoiavN6XrS', '7sPoDigIbCWDS6AZmOhSRR', '2ZDpSQfBdgkooeXw6oj3Uz', '0TK2YIli7K1leLovkQiNik', '42nkVBjWYVhiijbof5zySm', '7vGuf3Y35N4wmASOKLUVVU', '4mH2RJAyMKQpGjyGd2JMDW', '5JboK5zbbhXIN7iN9NHS8t', '3Ucr6hQQuY8cZ0UqXV8uO2', '2HtpC9dJ6jOLa4OMN0nnfj', '7b4iOHMngSAFhgN120hbWB', '6ap9lSRJ0iLriGLqoJ44cq', '3TZ1wHauKG6dMcn7LcQq6G', '39LmTF9RgyakzSYX8txrow', '1TEL6MlSSVLSdhOSddidlJ', '27356GVuMPFWiJSZCragoM', '2vdBo4ALPYbHRUPKgtE5iC', '4kV4N9D1iKVxx1KLvtTpjS', '7FESgYLcOufHqKlwrvJN60', '4pvb0WLRcMtbPGmtejJJ6y', '2NmsngXHeC1GQ9wWrzhOMf', '3Qj2f7BrpJNGj3dbxKpOlp', '1HwpWwa6bnqqRhK8agG4RS', '0Ensfv1iBDcsOF6xNok14N', '3PsHulD1zewglcTPcEPnlk', '74ODGXs4byLTRdnKGM4s6E', '3zgs1f6Tj0mn29qTXJuhSY', '0TQwHViH6PeO7zUxH6EAT3', '3jhligm7HycklC8M3CcXnM', '36VX8QfAJAlGItZPedIRWT', '5xP9lQYA8YQmQh6BOxcAnR', '5JSVa5i6lFPoyOzK4gj0Ox', '2hvErGFF1mKtfiYgh6M87X', '3ISiZ0GzocM9ssIwqRn1AW', '5bvNpG6wiIEf1PA13TkTu2', '3aW0ds4A4tSQDIp75FqWTo', '278D2oQRhZ0UHZZdsPIUDn', '43cFjTTCD9Cni4aSL0sORz', '2KdKh9vHbKW0tZLqtpxxI0', '2ZTYlnhhV1UAReg7wIGolx', '6tifCCTIVBLC2TmTquYG7G', '16Fxe5DvEXRxQwcorFyaIO', '7B109wzCWzXI5LFvjXWie1', '4bEcoz1OcfMgUbp2ft8ieQ', '2Vx8E3K5icPZR7OCklWBXX', '0bAkKNCQfWkexHFn7fIKns', '0JQ5MbyriK6ruD3t6RZ7ix', '1nal3Tf1OCV53KigMZXsZ7', '4LRPiXqCikLlN15c3yImP7', '2Iq6HhIquO7JKr0KfTNLzU', '0u2P5u6lvoDfwTYjAADbn4', '2lH43POZa4XHxydnZizET5', '0TLnTwqXslKsovat4bz0jp', '70HWRkitkAKfos500LBk0T', '6drC7tBnx8AiYfTfBmDPVO', '0yzbBhKzbPnAwxT1UNKfHS', '7H7NyZ3G075GqPx2evsfeb', '5CLGzJsGqhCEECcpnFQA8x', '7FqF7Abk73lQaVUsCwmKJ0', '3j8FPquKEOygdUMLLs1Pxr', '3ZxfehzRtB3oJcBuxWXFZQ', '5CcAkJMkqpx7vwyYq1CQQd', '3eekarcy7kvN4yt5ZFzltW', '3iq9nhbI8fcnNamxMft1uv', '5u4hhtZ7f4rWkMZEZcTKrH', '6SxhMVIqpdEOf9jVzgfQJZ', '0tNk28J3yKlHOlCFAbbDjc', '3obgSF06ki98lYNLNq5vCB', '7888F1QWPTn4cPbuknNV4T', '0wsflw6A3Qrbrl3YbWK8tx', '2V6pjeOCuPBVlatcWTXUtP', '7q8jJ1XZEliBakZSUMFde5', '1bRO28yzxgO3y3UmNR29TZ', '5rX6C5QVvvZB7XckETNych', '5ruzrDWcT0vuJIOMW7gMnW', '18W92Zm1KjLCbUIszOhpkD', '0jOnZhF75V68VsBObWx2XO', '17cia5k4BpGVlyEfqrFH50', '56NkIxSZZiMpFP5ZNSxtnT', '7kzKAuUzOITUauHAhoMoxA', '6PoKfDY78ih5OveWirggRX', '7roKDmJDOzkpfGpUQJ5EnL', '5nzhL67GpF9szXWg5y509A', '6wWaVoUOzLQJHd3bWAUpdZ', '5nCthAh3jt4xKuLJAifAaR', '3HjRISOy6fhuXb73Pf2kN3', '2Suk7DzVMim77YswOSMvJL', '2DSQvvaojC1yu5phfWDKuB', '3BKD1PwArikchz2Zrlp1qi', '2XSzHLq8gOJHFflQr6QCpM', '6Jl3ZOX6MUOlyoUc721bsX', '2HHLfzE7PkljuqyYU4vwmh', '1yy2DlSDtEt90d54rPDPXz', '1DMEzmAoQIikcL52psptQL', '6vDH7DeS588qqrbxDuj6MU', '5rbuv6zso7QSaKt265H3M3', '08vlprFBmwh9TQnjXUtZDG', '6PYnUsNEpYC7A4BS2sjw3L', '5efuBeQd7Y2Q2kXOeiMpRo', '7aiClxsDWFRQ0Kzk5KI5ku', '7fOFeVSyL18q7RiU6cnhiM', '3GZD6HmiNUhxXYf8Gch723', '598yNsG1JFrGd4n2kMoz7F', '1VLtjHwRWOVJiE5Py7JxoQ', '2d8SmlYVTgQsjcQWWPiRCW', '1zNXF2svmdlNxfS5XeNUgr', '5EXD5rXJ4IVb8g4xSwT0fc', '3Gxu9gAd5rXsnSS0rUpRAs', '1bj8x3ERN9gSc2NfJIpc76', '5vqpCnyRNOAHbho0R67DrO', '3zoYkqS4y2BsGVShPL2nTE', '0utlOiJy2weVl9WTkcEWHy', '6LcauUZjF1eXQrgqMUecHX', '43V1z6QToNNWNldV4FEG6r', '2yRsNZu17Xx5fyryyQe3Vt', '0D75ciM842cdUMKSMfAR9y', '4evmHXcjt3bTUHD1cvny97', '1euQrkGwRPQod7kcddoeJ5', '0Z26mbSHJ1dkUu7g9DDgif', '2DFi8rwHcVkTTgu7PULhtI', '1ABslUckRrFkoef21Y1EJ9', '58AGoOGbwsQMhBbH0eFLRR', '24Yi9hE78yPEbZ4kxyoXAI', '0U9fetKMbt1rd0Hm1lYf6C', '7C1trmcQQ5n5RNy4l6ziCv', '57Xjny5yNzAcsxnusKmAfA', '0O6u0VJ46W86TxN9wgyqDj', '6VpQdig9pdpTSIFItgkJV5', '0Dn40gxVCMo5TkgS8Ik18Q', '2MnLkFqY9Rpg9s3Zv6ZJdK', '2Pvr8rYuh5J8V7QglJhH6W', '0Oa9mHOnH14GZ4toWwkf4c', '67UgMiTgtwjGFoiACzup1g', '3u1S1OmAUhx5DRlLrXqyp3', '4k6Uh1HXdhtusDW5y8Gbvy', '6UFEJuDXQMWhL5UH5f9fUR', '0hGH0S74Eoyv6mXZcOKtdQ', '0FMMLKHb74VB0H5u2fP6xo', '7kQkmyoHCEqwe7QwDbkSXM', '3TJTvFCoVZaWWTRuaIPkMl', '0RUTnY2B3s05fZuCHsNaUP', '3WRIaWsws011vHMd9uzPjG', '7ycWLEP1GsNjVvcjawXz3z', '6kxmBja0pKhbBXiAMMeXwh', '2c09gumRCmu3qmbcqdQbUN', '4hQ6UGyWQIGJmHSo0J88JW', '35RJhm1pEovTBwnNR0zWad', '4y4spB9m0Q6026KfkAvy9Q', '6MFQeWtk7kxWGydnJB2y36', '5tmxPmmXvgJPU7bIukFX8p', '5gRCBF8BbbQA4M7wRFjqxg', '2lKRa8BRR5bZkSoQBE3yh9', '0ri0Han4IRJhzvERHOZTMr', '4DoFmJKTQsWqjVgoXC7zOs', '1oQZk2bKBLgP1cbuFKvjkq', '1IHWl5LamUGEuP4ozKQSXZ', '2BNkTvg1kHAAfGvqh56x5a', '1b3oogM5orKL8ZHrVGybRm', '10xV5l9nhLvFpR8mqzs0bL', '2BcMwX1MPV6ZHP4tUT9uq6', '3707IBa4HnS3zDDoWfeUBl', '1mXVgsBdtIVeCLJnSnmtdV', '01uk7IzZyFNfQTDBXxx6NB', '2mb6YdoavL6db22p7XKJQZ', '3AFPGvRzeKeNJbIbLwcz4G', '5ZX1X9Rl4zbx1Wwyn3idVD', '7DsX5K72fewVGb47qj7Tbg', '5qOWH742APK9OAIhQBflvV', '6TwcRSQgztJFw8tQDrs35D', '6QqF0MqjQVotftZIuQUbvf', '1MVqeIAwhD4T44AKVkIfic', '0OI7AFifLSoGzpb8bdBLLV', '7u0fz3V6cYeYTX91DMmIvQ', '5DSfqrLkUHLZ9bW0SS3rVy', '0W363qrIc4GwuwOqa0WAEO', '59wlTaYOL5tDUgXnbBQ3my', '7KT7VGnPU5QVXN3q1BOeqb', '2WWfjbHALIb3e7FMcj9mr4', '5Nu5Uyoauauy9LFePYL1Z3', '7t7SLzJtQzD8wdJqwYD3XM', '6oNZ0WxqptE7V0qpjtyJ4a', '2pD1x1iL0gsvg7Kbhpuf8W', '0lsRatBUs9HNIZAmoGABzk', '0X5DcGkbxCXSadgj01ZXd7', '3c5Og78p3plOCBbNLg5K9L', '4Hpib09wXgD84w4uwTPnYD', '2JvzF1RMd7lE3KmFlsyZD8', '0eOittnGnC26OYAndRitcn', '1sOr5OXjbukTzBDgmvd6Fa', '7KQ8sdFIWCCDXIcQDEeuzC', '7jDe24vXWUNX8Jl2hZHrIS', '3uP0rhZSVxKPokt6UbnzU0', '3sz9aYLzEjrN9B4d4m1EwL', '1yVBxI8TaIL86Rrmah83fd', '7HMmFQsKsljwTw8bS7lu19', '27OeeYzk6klgBh83TSvGMA', '47fLJgV5DWZXLl6FEvPD28', '1RSzyxqtIO4yX3EyiV4zT5', '26h7ux2txHZ70RsWPpFasT', '6siDDghVE7fxel5o7fE4OF', '3qGDwGqdyFq3faUU4BmhdY', '3uiMBldZ07pW0ySHDX5gzE', '2epbL7s3RFV81K5UhTgZje', '6Im9k8u9iIzKMrmV7BWtlF', '7Dx9Z6Aon1qPS2N0rHSWTe', '3UoULw70kMsiVXxW0L3A33', '2UOptj3KDBri5QhcIFphyX', '1SdItcSOTD14tvIo8UzA6k', '2yUbCEiaolfSMluDo9RMmG', '1JAh2AOLiO3HcUl1A3Ryr6', '5GzA5A7JD6ZIJSx8HC2PSR', '5Gu0PDLN4YJeW75PpBSg9p', '5JqZ3oqF00jkT81foAFvqg', '6Hh410vnA0ICJQXD2Ob1H3', '7KSEZdQB5XD0s1nrck5bHk', '4Hkr3DpHTaUUkgFwPLS1NX', '0OlnLZY4cmQzT6ZGttvWBM', '769O71M6bzhU3ZXm1xF6VW', '7igeByaBM0MgGsgXtNxDJ7', '3Jq0vjC96tJlUVAdKfMajk', '4HW5kSQ8M2IQWZhSxERvla', '61KpQadow081I2AsbeLcsb', '4aai1PoVGPcspMhmzOzpZN', '2ZWlPOoWh0626oTaHrnl2a', '34xTFwjPQ1dC6uJmleno7x', '1Cv1YLb4q0RzL6pybtaMLo', '15XOcVmHvcpRCJs2QD6SWg', '04GQPGMmAm06AFtVgrhWxE', '7l6AuWpDlecpVxI0Yq4zmI', '2b8fOow8UzyDFAE27YhOZM', '0lG6QM1jjbbX5UUn3DPmrZ', '2LWJ0zNei0z2WjHHwSNUkx', '6o7cIyzsfSmcMEuQZQINGH', '6Rqn2GFlmvmV4w9Ala0I1e', '5Z2MiIZ5I3jJvvmeWMLbOQ', '2ygvZOXrIeVL4xZmAWJT2C', '2Yer0p7uB2lVBUAtANuuQp', '5Y2n6pW4Vqr4Mzkd9V4Uk8', '7gkWXbAxIYuvtOpcN3p9GJ', '3Ol2xnObFdKV9pmRD2t9x8', '6PERP62TejQjgHu81OHxgM', '0VxocBntP1XTZRsR9ZURPS', '5LrN7yUQAzvthd4QujgPFr', '50eJOxJiGmJ7PBZaTKpje1', '4XhKlldAw3goCcEZHF8Ath', '2tKqhcDNVVKXJqllKzrecM', '6Gg1gjgKi2AK4e0qzsR7sd', '3KtqBwqDbjxjXmJQ2gmtzW', '1HfMVBKM75vxSfsQ5VefZ5', '3V0nnQhqvbE3JmiDdnzQFQ', '27u7t9d7ZQoyjsCROHuZJ3', '4OafepJy2teCjYJbvFE60J', '04oG24PjVs59q72Id8wXFK', '62tDpymKVSXEu0W3d4AMr9', '2J6OF7CkpdQGSfm1wdclqn', '2CzUlaKN1mvb0szagSR3ux', '4lnAN2S1fcI0SjxEbksZVr', '2hnxrRNzF74mdDzpQZQukQ', '7LzouaWGFCy4tkXDOOnEyM', '45w70aQhNwke1yrQZO0ffm', '7zFXmv6vqI4qOt4yGf3jYZ', '1RMJOxR6GRPsBHL8qeC2ux', '6txvQu0zUbiqG24A8XMLnK', '2Z8yfpFX0ZMavHkcIeHiO1', '0dkPo2Tvo0PhGJaUAvk4pC', '0v1x6rN6JHRapa03JElljE', '4fSIb4hdOQ151TILNsSEaF', '3G2omDJ5ZGYSiJV3UOOPw0', '73ZWAySu4UX5LkpCM6zjYh', '7wBJfHzpfI3032CSD7CE2m', '7lAK3oHbfEnvUQWosrMMpR', '6t1F0FTlVHAw6kEe164SsL', '6vU3Wqp5PbZbGex8xY1dAW', '1NbGcdgwRHZ5rbPIT9hdR3', '47EiUVwUp4C9fGccaPuUCS', '1UjcfBPJt8mMvJ5QyfaWuq', '0yeSknpYINjXT25ilz4wpr', '2awWMPb89fIkrjXQ3GV9WH', '6yW6Q8ZPgDBQA1yHWL4Jmh', '5z2XleKRbvbiytGucM5v2D', '65FftemJ1DbbZ45DUfHJXE', '0IAkpYTRomExXOUJonNMTR', '2r1lPslV2VBhU6WJYolxJn', '1A6OTy97kk0mMdm78rHsm8', '4wO108CbIprbURi94EXIIe', '1GcXzijYzyfMq6wryZjYW5', '0iI2cOHpX6xmwKD15Q5ynd', '2plLJpUcYPFrl1sW2pMG63', '4MV4wa3Dke1GMBtk06GMR0', '2wSQyp6VzUopSFBinRo1iD', '6krNSTegkvGMmdIUOUEQH1', '6Dwtha2FtZFoMEBh5GR2sq', '5clYhUpqYzy0Fdz3TdtZ3j', '1p67QqNBGvikWt0CZmkpDu', '2e6KxbPy2qQ6HXCDDTsbzB', '3o2kwzJXZvK9EgE9FOX4HA', '6ScHuFHv4QemKuuy6T6oUz', '7g5qe8VITjr13RIe8uM2p6', '4jwP0pxx7su04FYc6J12EQ', '0QPRDC97rIQB3Jh3hrVJoH', '5EYi2rH4LYs6M21ZLOyQTx', '4XSm0Z4HAuxsuSksXcaWki', '0YMe6PHRbeDcN7KJdCG0bW', '0psS4i5YooJrXfDnGvWRLi', '7DHCX8kKEN50gDh2NRbTJM', '6zFMeegAMYQo0mt8rXtrli', '3s3VVLE1kB7Xk2AoJKlGmr', '7u90MSvVyEjL0c8icaE7jl', '0D5CXSUx8GOCHSY8KWgi9h', '4EAV2cKiqKP5UPZmY6dejk', '2pyjbGTpJCPjMYwCbdymiF', '5A4WcRuy0FFEAC5pAK43oa', '24ntSW3QVJzR79lHAAOTaY', '6D7ub5xZYc7oLq6JDFIm8c', '6pooRNiLyYpxZeIA5kJ5EX', '1D3z6HTiQsNmZxjl7F7eoG', '3qhlB30KknSejmIvZZLjOD', '4w47S36wQGBhGg073q3nt7', '58q2HKrzhC3ozto2nDdN4z', '5qTL0KYAVSuLhcUyJYu3jV', '0mBP9X2gPCuapvpZ7TGDk3', '27ZZdyTSQWI7Cug2d2PkqV', '2RUhtNBh43RtSg0WBPPq3m', '2kDApipZtTzjwGfKujcg2z', '1kBbgxAUc4HQv7cgIayIDH', '7vJS1DPc3FzBtqBs8n3mW5', '7wryZGTI6OSEH8ePQiKP0a', '2R4AlwtrrkMaRKojcTIzmL', '0v8J17a6cO0wWp7z731GTd', '3ncgNpxLoBQ65ABk4djDyd', '4yI3HpbSFSgFZtJP2kDe5m', '4dAMdQ6g4kGmnc1MDHsg77', '74nEGIzIefJhJ5qX7NeIAz', '1FZZ6ljiDMioUdbdtj5CvX', '1YMBg7rOjxzbya0fPOYfNX', '4hPpVbbakQNv8YTHYaOJP4', '5HCyWlXZPP0y6Gqq8TgA20', '4ASOMWcJUrwEpjJy4GEijz', '2fQrGHiQOvpL9UgPvtYy6G', '1K1KcmJgKaeqnsisQnhyE1', '1Nj2oBISdFDSF8eDuXcALz', '1qQuHA4nUZJUnZMriT5fXZ', '6rLi6PyWXu1rPlShuIZpj6', '4djIFfof5TpbSGRZUpsTXq', '04ZTP5KsCypmtCmQg5tH9R', '24ySl2hOPGCDcxBxFIqWBu', '7vGGAJBkHKxKtOnGjQduDV', '3gVks4tc3TzqQYdDCPj7f2', '3C2xQqHVkhA1Ht17SzPRke', '1M8t1j3Kv2qp97bdq5q4Vl', '51Fjme0JiitpyXKuyQiCDo', '1t5nwfsb90IliczIhOMnpJ', '5153LWKMJiMNIRCChGN4Ja', '3oYIm3GyXki3zEX6It90Wi', '1javLzBHyEKJJrG3s6FHaM', '3tjFYV6RSFtuktYl3ZtYcq', '7tQg9RleubnqiVWV48q6VL', '4Tvw0lweq9l2JPQKFbpbBQ', '7uxva9lqtvQPwTjAyAtjS0', '5uuH4G5XscvxYhRvZ5a7sT', '3GRSqlALWISqLeNncZMbpX', '34Yl756FwYuZldE9xnshj5', '6NdnvPwQvZb147DVa4x14h', '2YSzYUF3jWqb9YP9VXmpjE', '1bkvGbgK4HU8B7Ue4k7O7I', '3pPN20syOYvbUuEiBpbenI', '5zWlxgY1N9MowiZ2eF6NNp', '6TOqU9kVOg0Z16EEN3FKOm', '7ut4Y7gxOFe3d3rLJQ7i5w', '76OGwb5RA9h4FxQPT33ekc', '2ZXoSRvhNk1tAGjBHA66bN', '58HvfVOeJY7lUuCqF0m3ly', '5yFSF6qQA1rcLsQRnBsZgb', '3ZCTVFBt2Brf31RLEnCkWJ', '630Ug0XtmhhFvAKo0PNuEI', '5raTDhlbxFDnpn89bxArdH', '4fZ9WECee9p7FEWOUP03jD', '6fRxMU4LWwyaSSowV441IU', '4Q8aDd3H6LF8t4eY7So9O8', '59CfNbkERJ3NoTXDvoURjj', '5ovaVBwKXyakYrIGyDJgzb', '1ArLnG0bHaHPXqf08sEKM0', '23mNIpU2ZVlamHCKckOP7E', '6ES1G1anjmjDdQsPzlFaXz', '1aU1wpYBSpP0M6IiihY5Ue', '6btkdvumrTmcFzy3oFpZqS', '6UFivO2zqqPFPoQYsEMuCc', '7B3z0ySL9Rr0XvZEAjWZzM', '02nZeTbm2dRHisH6qsUM5E', '25ZH4Gdkv29iuh8E1PlMuQ', '5MMu9zi4UrctTCXQqNJUCY', '06FPlPUljRuxW8He0OVwSM', '2fhePAlCSsJplwkjqMYpVm', '63UNqAjFomMcZXc2InOxTC', '7FQhRfLwklMayNW3MC27up', '5wZ9WdJSxCvi8EaDOzzprn', '2gug6MRv4xQFYi9LA3PJCS', '72LlwJM24dWKpFLVB3PWWQ', '19WjVVgXjdKXfLXoaDPwTM', '2WrldKXSBVbNNm3A9vJryi', '1udwFobQ1JoOdWPQrp2b6u', '0dwayLkKCg1AYP8XFm9YIq', '7F9vK8hNFMml4GtHsaXui6', '3hRV0jL3vUpRrcy398teAU', '5PNAjnkjDEuRMvkYxO3yb0', '2lYTJK94hb0fd1LQtb6Dhk', '7F7N0yugLFgKXoEACgtzD8', '40uMIn2zJLAQhNXghRjBed', '0yFvWTLs3iIwDbc91noXGT', '1rDQ4oMwGJI7B4tovsBOxc', '15vePScuEPjJeOWsnNqGgo', '1BuZAIO8WZpavWVbbq3Lci', '3Yt0liwMgB3I0xv3FQBDzI', '1pZdegOXTZ2ftINo3oUuRZ', '7hpJ9tATWb2vztlq99hERP', '6cmNQVzoolK92P3i7iCCkc', '3mR7a59x0KsRK00GIXobfd', '0VpSpAYEc2DlNSmnxGyg6F', '2nC3QhMI9reBIOWutbU3Tj', '5QO79kh1waicV47BqGRL3g', '3QmolSZqjjLksTUvZJ6pPS', '472vIK1ldetTxRxG3ovaiY', '3nOz1U41SZZ0N3fuUWr9nb', '5uSFGgIfHMT3osrAd9n9ym', '6dpLxbF7lfCAnC9QRTjNLK', '0lrIwNdTiHaOlw8gqwXk6L', '6tQvjqDIK9GXWIC6mejms8', '4tXsR2Hv3l85TQTwgEn3Um', '5BQrp63SHCVf4bzCzJePne', '0Y7di9ZCmB6Elad5WISaPc', '3wScL5W8H40zzCKN0atfBk', '0CBQ0m3mufWH75LTYB3s6h', '0dbTQYW3Ad1FTzIA9t90E8', '31qCy5ZaophVA81wtlwLc4', '40SBS57su9xLiE1WqkXOVr', '2GNxSn3YBrru8grMWsX9EX', '5hJb8AP76Z82b8ThCDJeOq', '0nbXyq5TXYPCO7pr3N8S4I', '07KXEDMj78x68D884wgVEm', '6w7pyStLqgxZn8WYf0cHrF', '2IGMVunIBsBLtEQyoI1Mu7', '5DuSzOxHDi1qZycpzIWyhO', '364dI1bYnvamSnBJ8JcNzN', '7qEHsqek33rTcFNT9PFqLf', '416XBAqBQECEjtMS8dlPQM', '52OnaawE8e2Ng6hHOTctHC', '15hLHhNQBKMEOHymP7QPkH', '0mjAU3yKR1QnXnHtjGJqTM', '37CoOXIsgF3NzbK1zHZetk', '0rTV5WefWd1J3OwIheTzxM', '4zHyoL5qgVh9b6MOWQ7j92', '2JdIqJBbIiwEah4ejqIWGj', '4HfLQJtVT1KiX1eVedDyTm', '4EWBhKf1fOFnyMtUzACXEc', '6DLbBlGIOjjEj0dNN25zhZ', '6zWU7YALeEDMcPGhKKZJhV', '0vp1sk3FzuDBeLMLcRhQdL', '5SFCEkybGYmmzKqewtDEaN', '1D07CwYBPqu8NbQTdu9C1g', '5gOeFcjzpwy1u7S0RS1UJ7', '1FavY8gfv2Hr5YDCfT1K7J', '6XkLPzkKzPhpr3hrvl1TUq', '54bFM56PmE4YLRnqpW6Tha', '0GegHVxeozw3rdjte45Bfx', '0CwcOuC24ROTqSOtSrkEw6', '5F7Q8pluSbCWA64Gcg5fOv', '4FKRuIYTPVege29atJUXMI', '17t5Ba4T5CEYw2WG2clNeu', '1LxlsAn1gECKoqLtOslshm', '6rfahvufEQDIVTHJIU2QQB', '26b3oVLrRUaaybJulow9kz', '4WMMaqVZIlUnDvICcXWgeZ', '4lTiuD1DwBKo4L7wqMkD7C', '2V1nJCtknnPvSFUJ0a7BUk', '0F845nujLVqCb0XMZCh5Pc', '2KukL7UlQ8TdvpaA7bY3ZJ', '2mvabkN1i2gLnGAPUVdwek', '1bIEvOOqf2V3QBrFiClE3Y', '4lTLA56cAilcRXpZWCWyS2', '3NZz7DWeVQesSOn6mO39F7', '35lxsi9U65JKT03Voj2Dl5', '6TYlDTa9AQDvjqwbxlvFyI', '543bCW2ruMPmxUBWirQ3MR', '1bDbXMyjaUIooNwFE9wn0N', '3HVWdVOQ0ZA45FuZGSfvns', '2IAR0DziHCjSu16gR4ihvy', '13sXuI5RjMHm7dz7O3spYs', '5sIx4BlfYGuZeSLF40N9GH', '4qYHnP5AmKzXbJhciPV8si', '6ZelF5APDN5r6XnFqcnvWR', '0OgGn1ofaj55l2PcihQQGV', '5qxOeTyWa0JAst5fqdrqgu', '1Fav4xZn60uGM3XmiHJmvT', '6usohdchdzW9oML7VC4Uhk', '1iQDltZqI7BXnHrFy4Qo1k', '0mb3uDw5vfFUcZfJYFOMRu', '08z1Wf8QxqDcVcxux3DvGx', '1LeItUMezKA1HdCHxYICed', '6tHWl8ows5JOZq9Yfaqn3M', '0SyxZC4wlqAwf20cHE6Xon', '2S2od3hT7ceytw7d1pTRuE', '5Eh1nj7IjV9lwpcKAkidyY', '31MNHKE86sEXzIglbGQ6mu', '1lntL1cI2UIWlxjL5QiN8g', '5sdQOyqq2IDhvmx2lHOpwd', '15ql5peFEXlp5abjdaOCBy', '7m9OqQk4RVRkw9JJdeAw96', '6xRNqXP3baPR9buXr8vreM', '6XlSyYFTU1nodeWwwzVgTV', '4RVxBQZRhTtIxGBqCdONlG', '1xy4apMFecGGkgBeaHFZ2M', '4ABdTWafMCXfATpILRuZFW', '3al2hpm92xE0pBalqWQHdD', '0Oqc0kKFsQ6MhFOLBNZIGX', '0MuaRi77N4gPEfVkuooxqS', '3uUuGVFu1V7jTQL60S1r8z', '4xEnPbulgQ4J4vu78VEwVr', '1h3ODYcDJly0H53W2Ai42Q', '5gOyjqIifZ9NqVcaIIlqv7', '0HeiYo9WwMT8ujirrWzarf', '3USxtqRwSYz57Ewm6wWRMp', '4lkiVrmAYyPCtW3AFRs14e', '0dWOFwdXrbBUYqD9DLsoyK', '61Emqg95O9zo1GNOcyxq4Y', '1vYXt7VSjH9JIM5oRRo7vA', '0ofbQMrRDsUaVKq2mGLEAb', '7gM0bjWc2LpgZTihy4U18P', '2Vz1Kcs9Chj8SGb2UjPMxP', '4iJyoBOLtHqaGxP12qzhQI', '4uRxhu6ga4eIWUBz5h3Wtd', '7kqCbVG93MnBnkRGiKWTPs', '2NXQlpLdAb6eoa2QhTIIbX', '1H47LILEj9nGb74EPcZKWw', '5p6eKTYwFYitUS617IMtyd', '2Ox2c1WEJDeQCHTXPE3YKM', '57VeLYXrvNxe8Vs18K2M9W', '0tBbt8CrmxbjRP0pueQkyU', '6Mbm86B4joMLyCncLCESCG', '2ZE3DJuizYTad2S4CvRRhK', '421leiR6jKlH5KDdwLYrOs', '3BZEcbdtXQSo7OrvKRJ6mb', '1hPkiovjTqiJAJen4uyNRg', '1a0Mg4XPdt4EKsUz5beRZY', '63WuQOXohQIxOxIFA2K7bR', '5uu2OCGGrTRS1sIvlMgKwe', '32FhTAAjKZaBein150o3Px', '5suOUHDyRxvWDYF5GA6dly', '1cEhrSF6EylAEqdhUGuNpX', '7KeM63RotkWiGnHKkboz4t', '7v96VvFLS0wSYT8kewNLRy', '3AMxuq6id3YGB57eWeheZQ', '1j4kHkkpqZRBwE0A4CN4Yv', '59pC3ONM6ggVn0CYi0l1KD', '072PI4U52gO1NasX4Lpv7Z', '7pBrfkzLLLQxjvnEiXgsZ6', '0E8CA9JBoEs3tD0JQJUpQb', '1CHcv3ENgWTEkTUayOBShJ', '0CZ8lquoTX2Dkg7Ak2inwA', '1PZDyestTVydtHpaIcfUJg', '54rXzumZf6OS8jZHN7DUO9', '5LInOGDHqrgetnMlnvaDNq', '3CWq0pAKKTWb0K4yiglDc4', '1qEmFfgcLObUfQm0j1W2CK', '1mw0RgNXIpYRyyCdBQbLgA', '6w1DBbA8akxHPiBQ6nAyJq', '0q7oMII7kWTj1ZSX6GT6LU', '4G3IXyVRxSx5lLhUvv3fu3', '0e0UxWGgjXoYAYUFhJgwji', '7sFYVcKSb24qg0dAkqLEFj', '73SpzrcaHk0RQPFP73vqVR', '0AUvWawuP0ibk4SQ3sIZjk', '3OJ4LEE50iFELaHiZ09zif', '6RHdHHlOAHwFaYS9LUwpYU', '4dSoGVrDcbQafRw2FJwbmW', '2e9nFeG5nUJrP1GZrizkVd', '7Ko12sPqhdCczAdJ6wnyAc', '6sq5mqtS3jwJjvBHALknJH', '6Dy1jexKYriXAVG6evyUTJ', '7j3zZ2jAjzFD60UjhldhHo', '3t4KHjd8uQpJJ2fa0fRIpR', '7sRpqj3yUcacG5KryFfLML', '1iSqfoUFnQwV0QW1EfUit8', '6cSsWi1c3ewIEmbqdUWsUM', '4oEf84vBYVftf6KmZexhVo', '2TktkzfozZifbQhXjT6I33', '1ENdcyhqdylaLsPVgB83qq', '0wY9rA9fJkuESyYm9uzVK5', '5hVghJ4KaYES3BFUATCYn0', '4QvJwV47HSt6eV3NNjS6rU', '3LxG9HkMMFP0MZuiw3O2rF', '7kF3x1XJXGcgQWFemulw4q', '6i4SkbWVHe0pEP9PrreQ7A', '4onEVnBCmCJhP0H0ctqPLG', '2Xy1UIVfOlukyye6Fd0wrI', '2o9LAypwGH4ctV0i9boo6d', '1PnAx788sAvcI3ZxTlEyX8', '1snWlbcbgQpJfknoI30DWG', '1e9oZCCiX42nJl0AcqriVo', '350TSOhdGlkyT4PIhGhXa8', '3rmAQdLTHh32rZYosC6rOY', '6cjSh516BbrNUs213jDAGm', '7lPN2DXiMsVn7XUKtOW1CS', '4qu63nuBpdn0qHUHuObEj1', '0JGQASbzeUjibbQp2Eu0Yv', '1ToprX3cpBiXoAe5eNSk74', '1DoS5ql0TW3ejjJGHbsAmz', '2n0UDOEs3B9whuC78u0JIT', '3PEgB3fkiojxms35ntsTgs', '7JIIY2oDPFkURYMCLJuzhe', '2rPE9A1vEgShuZxxzR2tZH', '1abFkY2jm6KDFMZ7RD9YJh', '1EHUQesfVKwbthtNcpBi9g', '1g7j5AxiNKTGjryhFIlAsA', '1U1TpPbxYRFteIeT0Az4kM', '2HCPn9zy2dN1UbHhEk5VaH', '7vANkmN3lIED9QkNS48N14', '5hlPrSCx9BvnQ3rCTkblMZ', '74HBdKMibHlpW312HTFReN', '3t3oNm7M0HXf7ILqA7vCTP', '034KyQEk7IhbLtniVhBErj', '75APtunhuVukVbBLFXBnCP', '5yZikrIYMNhW4OGIO2xpLr', '7oDd86yk8itslrA9HRP2ki', '0QBzMgT7NIeoCYy3sJCof1', '1xzi1Jcr7mEi9K2RfzLOqS', '7iAgZvaO0yxtq0v6c0cKrF', '6tlan2FHMyIKBRR62zxusZ', '696DnlkuDOXcMAnKlTgXXK', '1ZLroqJA8qoS5QEeCo0fA7', '2psRActEWsTlYYd7EDoyVR', '1wVuPmvt6AWvTL5W2GJnzZ', '6AGOKlMZWLCaEJGnaROtF9', '72VliVsh3slpViyWTgRtgs', '6TqXcAFInzjp0bODyvrWEq', '2RM4jf1Xa9zPgMGRDiht8O', '7vrJn5hDSXRmdXoR30KgF1', '5q9eIN6RXrs4e5PsRTXMpp', '5qrzhg9Fmu8Amg2uMhHfe5', '1k1Bqnv2R0uJXQN4u6LKYt', '0cu0rhnlCnJ7JIeHRiLpj3', '5icOoE6VgqFKohjWWNp0Ac', '4T3fNx3CgwDRRYgmFCbD4J', '37vqpVS6sQFhLdNZhHo1zu', '5tBbxTvjJ2e1gc4vLnRzEF', '4sAn9xKA6VlpXHdpNtsyHl', '5274I4mUMnYczyeXkGDWZN', '6WmIyn2fx1PKQ0XDpYj4VR', '18UsAG7SfOQ5sxJEdjAMH0', '4KULAymBBJcPRpk1yO4dOG', '52X0IZM9sWvoRbboDaQ0F7', '2aKxfUQg9dhvgm7Yt9Lc7Q', '1RJl5cZ8kFpoVFOS2x6scI', '2vNyWYQtbrgOKcSG64SZMJ', '3f9Mzvd3URfbbIJBX4pz9Z', '2T5NBwKRySiCR78vVk08vr', '7culXP38P58h83PXwLQqyg', '3TXKwYk2H7hZQFB0j8z4yq', '3ZbJMlEL4Kcme0ONRO7Slx', '6Ea2oEzysv4UECGNxL1IEW', '2ndm1VnWUzQfz5boYElZq8', '3IAfUEeaXRX9s9UdKOJrFI', '0oHivrvqAyEBDgjFF9JPXa', '7nZmah2llfvLDiUjm0kiyz', '7iMDaY1LnASwCk2uUpMtii', '4xhsWYTOGcal8zt0J161CU', '2JPLbjOn0wPCngEot2STUS', '15xWRPHQMeqgdkGzInx3PY', '48jV8AW50589btXi0Hs5f4', '2KclJjnLjul7NhyJrAhpUu', '1yPKJ5d5mDn63uneEBHzTG', '18uwL0vNUanqZH0ro2QcOP', '1Zej3ztnuVElDfYGYBBhJP', '1nDOeWBfRKA5YNQ8bKWzMM', '4gqMQftUs22F8pOGVn5Acr', '3uMXL8dZPO0NwnsLQ63cC1', '13lZDbwonGhOflQLQIfdtZ', '4slSrbTK1sNK4I1mDYEthf', '1KTMZ2DeqT4oqIJ7Co5F6R', '4xUnvfs5lN7hcgWwyXZA11', '6TodWdTSDfzwgYynTZSvJn', '0uuH3Htpahzscc1YSG833Z', '2AJlEaACYHQMYxXlRMdLM6', '0vR2rIVORmgeKiGIgNT0fV', '44gRhRi2OhEf7moAUj6MD1', '6xGruZOHLs39ZbVccQTuPZ', '5TTXEcfsYLh6fTarLaevTi', '4rCuwgRRKaIiHlHDc8Bga6', '23TL1H9YRub4jpMs552fak', '0X1VSToxgqA7HgjaaSmIKO', '2rTnVB1bvwxHtaIl4uVu7f', '0by9UaVYUrKUz2TVAmK0Pg', '12AUL8xZVqnq75tvmZs085', '69eXHDgEEQ6itzt03E7fKz', '1whAXVGN8AdfrnoXNIXfJf', '3USTw0XqjY9L5LwDQF912R', '2InU9MJk7m0RkNqBIFtP71', '63OQupATfueTdZMWTxW03A', '65leXqfkdViSssEVN23uYL', '00Blm7zeNqgYLPtW6zg8cj', '1U2hgbpQ92mK7gCWL0lcWY', '2gQq0xEkkNTBk1jMdl5tpC', '5lNuqFVMca4vPupY10cH0J', '5ZzaQW3InamKZ0KdJVQ1GO', '5tfZ1uYrArdbDqiZ7z1aCE', '11pP3aFGvurHNl63sU2lb1', '5c33j1xFVOL4G24zxYhssB', '2qxmye6gAegTMjLKEBoR3d', '0suLmBuEbatdochI4tHduq', '3dblN4E9Dy4cum70D0Fy2L', '3xZLYutF1wqOtJeUJpflDN', '4Sj8JZ9zZfl8HaOav5yTVq', '6wQlQrTY5mVS8EGaFZVwVF', '3tzwcdcYVVH6rKIlisSCt2', '0mHGftgYtmpH4y17T3VZ2E', '3FDrI0FLKzrYQiWxPhqV2W', '3LtpKP5abr2qqjunvjlX5i', '4kTLpAbhuEGHAAdDjOIWaa', '4Pbg79cTBu4vgSphoyNq3j', '1jUkHIMc7UaJQuzWe5Iop2', '0e8nrvls4Qqv5Rfa2UhqmO', '23TPP1eeElFfvYVznskwCY', '4RVbK6cV0VqWdpCDcx3hiT', '2rd4FH1cSaWGc0ZiUaMbX9', '7uo2L5FAja3pWIBa3HJVeC', '3U7NBF7K5hEoDCDUf7LrrS', '6wJYhPfqk3KGhHRG76WzOh', '58z2lQaugyYqDausYuYvev', '2bydO0jZES9rBvSnPvYN5L', '5CZ40GBx1sQ9agT82CLQCT', '4ZtFanR9U6ndgddUvNcjcG', '2TOzTqQXNmR2zDJXihjZ2e', '2tGvwE8GcFKwNdAXMnlbfl', '42CBH9NTywfX8xn7F8U7w3', '7DwcBgdzqhFJltEaV1XF81', '7iDa6hUg2VgEL1o1HjmfBn', '3fpVWegR6YOS1Yk5HSMYIq', '7dt6x5M1jzdTEt8oCbisTK', '5HphhcOuLFWBj9IghbrKJB', '4WZ3liyYz5ZzDcL4ibAuOi', '6RbH4isVKIOg1OY1HvRqFc', '3DqOJ2BoddzZpNdty3okJH', '51LwcFSvL8oYp1jFUql25f', '54VhMO14MfyB9I9IUtjR6p', '5JRMqkR82k2fdDEAim9SCN', '6GNifiuBPrKFpwNBYnooFm', '3axeZVcu2Tnz6wUXf84bEO', '15qKrPi4Kg0z7g9HlwWyeb', '2VjtYe7gpfUi2OkGxR2O2z', '5q3LwAHTqo9d3rET2EA9Nq', '1bzHZRL513pHVC9oEwQ0aL', '5lK18Pt33xNudq4qYDxIm8', '1AHf5FSofKcUw8tyKkccKF', '3oUn55qKRZ1JFzfQNbJjS1', '4uX8Wh4wxpLne11BhoHs5x', '5jUrZqH4jF7S8874hq14dA', '7KaJap4aDdiIXR4a7ug7ih', '4TYhQPffPcde8OQFnTo62a', '46kspZSY3aKmwQe7O77fCC', '62Yo3FDddWY8ydu6PW2wyz', '1QgTBfRN5m81a5K01qens6', '1uL78kFWxhz3umTMWJu8n5', '2eAZfqOm4EnOF9VvN50Tyc', '3tcoEYOZUHKB3RKNByIN13', '1MJErNPIQUoEMu4YUUmecm', '5O8x1YlmLQopQHErxtDfi9', '6n6dqOk5vLiqYaa9Fw5ylH', '7IwPrc0AZV9uMSPitvJMxx', '0Z57YWES04xGh3AImDz6Qr', '7mAyraTz5O6WH06Tt3mLmJ', '6FRLCMO5TUHTexlWo8ym1W', '4VginDwYTP2eaHJzO0QMjG', '5wTVNpi5WDByxBgKgUE6MU', '0q75NwOoFiARAVp4EXU4Bs', '593W4qZOwwdqF6YnimJjL6', '06u5LrUpbosQlQ1QJFhPpG', '6gU9OKjOE7ghfEd55oRO57', '2fXwCWkh6YG5zU1IyvQrbs', '3eJH2nAjvNXdmPfBkALiPZ', '5tMY5DJvFr9f8UGTta6KEj', '7cflqPPi3zWfLFRRBTWeh6', '3YJJjQPAbDT7mGpX3WtQ9A', '2m9ElgPcffN7ZcAwc1WSsm', '086myS9r57YsLbJpU0TgK9', '2xmrfQpmS2iJExTlklLoAL', '62bjfb5YMLvZU44vfjJVxp', '3N1iERegpLyK2hztjYNp0M', '5L7EcEdJAZ3TEpWEfsOMLD', '26D28QBtBmqhhIwvyPVPT6', '4bdJHQp90ymjEIkkYhcENB', '1dIWPXMX4kRHj6Dt2DStUQ', '05rg3mS0oYnjjasNBxRXGv', '0MyfdGptOUnUnGzJmiyCOG', '2kJwzbxV2ppxnQoYw4GLBZ', '14AueaL0F80c3o6pTQmszm', '0qOCy2LqvdkMora7eZsJhQ', '5SUkHBP4iJq7thtqyrMhPw', '6UNcVgg8SUq0UHcHBHZgbT', '5FkoSXiJPKTNyYgALRJFhD', '7l3E7lcozEodtVsSTCkcaA', '4CljUDO1I5hpKjwSNK6RWY', '4wmZtoif8SGm7PDqgKrEXr', '0AGAl2fZLAoGxGd5dO77Cp', '3B3eOgLJSqPEA0RfboIQVM', '5b2QnYcT9rQIkhRWt4HztQ', '1w5GiowT8eXagycUBqcz2g', '5X7nlMy51b7tqMtI4qmWEl', '4qKcDkK6siZ7Jp1Jb4m0aL', '7unXp2I8TbXUeTgJ1u5sMH', '7y9iMe8SOB6z3NoHE2OfXl', '5qNh5WtzMbfpSj2jLlBkoD', '6Ehy8wRUYjAZcMMRCxMZVM', '6eCdIgMLCc1T5h52mDg8NA', '2mdxJLJHzFmiiYdTZ8JcyH', '2gKewcQZEV1fqoWH81RUDk', '4n1oum6u8Usfs9YSEwXZb8', '6qZ2Bv4PIppsmstJkfFbpG', '5Xu7nrKiVHslrdlNHRsSsP', '3YgtkOxZsTuaZdL8McA1FQ', '5Z8GeW725FR9KRujZpmOgF', '5VDxR43atcXQrGT6snaASn', '6M8R1IOnnbtKBogIs6uqRF', '7CVND4bJzxcNdOCWX2StdC', '2jYmK1cb3Uya6FFsocdpzO', '62gzfhHi2supfHWfi6iHbA', '4uUG5RXrOk84mYEfFvj3cK', '5f1joOtoMeyppIcJGZQvqJ', '7E2C5rBLpCKwQlhJPVFBRS', '1supkf9D4Obm2yTHqug3m8', '42LY6qYxu3L6nJ7Dt72gNy', '65Bynqyt59f3fojjs1Uo41', '0b9oOr2ZgvyQu88wzixux9', '6QIOzVmSfjMLWuur4e3BAv', '7zBPzAjKAqQpcv8F8GCq5s', '1gOANd4qcnkftl869IOvBu', '5795rPYTG0IWVfSJoptauo', '5DrCWAaQ8zklweBa9abFIu', '1qbXrxctv75pm1lWCn6Zw3', '1WI8MH3HPGjzpU0ywLahwt', '16ox7ZM0ozbzBOTjFecYuY', '3witRpHWHqArlnt6GTlH2Y', '7srqL4oWkWlNFXy3HMX1fu', '1g3ErLqysBJ5EIGdYYMWFZ', '67xBtV07CC73eFw7z5oCvU', '00ko9WaS4jOX1kEk3gvHjf', '4EnkwZd0UJAuHpNMMemQaA', '4sjiIpEv617LDXaidKioOI', '5tmu5pAFHkUSl8Fo8ncyA4', '7MAibcTli4IisCtbHKrGMh', '1FJdcvpJVfrGSIltpgltDd', '0PvFJmanyNQMseIFrU708S', '1H7KnK26kc1YyellpbINEn', '57RA3JGafJm5zRtKJiKPIm', '6Qf31WK53n3on7q3pOXq7f', '7hX6BNKMLU4O5S32srAtCC', '41zXlQxzTi6cGAjpOXyLYH', '1IIKrJVP1C9N7iPtG6eOsK', '4TQKvKtmAWsiOHGXSYkm7K', '0lnM7BmAGU3jKuuuiAK3ap', '5LS5rXcgJrOfxzdEh5xKoJ', '2NZ2hBqes4aKSmt5Gsxnub', '6Bm6qUCSatPAqkQllFL7oA', '2vXPNfsjFsOiMkHJNd8WZF', '0rKWJnmo6Q0ovoPOLoLm0t', '0x7PmByJWVXdeipevd6KZS', '7Iv0928rZ28KjivhAJPqfC', '2PqSNVmiEQpFkLoNPoDfwI', '1USJRpWDFhxwhCajPXBeel', '38WaKuEd7hiWFsT0kbCwFn', '3qlNhvJd7arndpEp2CFsaJ', '7C5Jk5c6Y1LWbXCcPS6ATS', '6cjqrltcgMe98n6tcEF8Uu', '1635wWSdp29PO3GxYhy991', '1g0k1bFcLKyIrdsdUkF3eW', '7rdUtXasA973gmrr2Xxh3E', '1wjzFQodRWrPcQ0AnYnvQ9', '1nTvyaoTiHhsAiEMaWk2Ik', '3JJYIoJ5FyY9E0DGjr7SXF', '75IQVo8hqI1iwVZyvkN2VT', '3AEgic4yp82NxMWUjHtxnO', '0QIjsbm2fh1cJ45XO9eGqq', '6VY0e7CeU2vb3hgU9X5eDR', '3AsHh0spKglHG3dtDmsoRL', '5ZwZLXqqiQs33LHSSPxOf4', '0V9Lj9QsXAbOd9vKcxoQl4', '2aEwALP7UBCstDIkXb1S4W', '78KntfAskv8cMLQSa0a5PR', '5QXZXe7lEFnoEi1GV2pnrb', '7eBqSVxrzQZtK2mmgRG6lC', '17phhZDn6oGtzMe56NuWvj', '0mel2N9Ws9r4yLQn5QE21Y', '52ySvuxscDGsXUVsci1Kpa', '0d2iYfpKoM0QCKvcLCkBao', '3krZxyBsWEHfEfJegYaWTd', '1BHQ0iJJ3bGKrSU0D7W90D', '5w40ZYhbBMAlHYNDaVJIUu', '1hPfhLeUCo1ltQLXjYkhp4', '4OGN0Aq7FIuwsxhmSfd803', '1woVRb6gryP7hsMvBkiIzj', '5vtyFzfLkCSJvXEZFjQAa1', '01iyINEYgPQ7ThMZuHUsqS', '7skpOVKLMC9oUwVcG6mZQ6', '2dHHgzDwk4BJdRwy9uXhTO', '7AE1oyRpPGoSwDs8b9XBO0', '11RJg9AillccZgJYZ47L5f', '5mpB0pijBKXOZchl1aXeWg', '7t8uenr283aY3ybrGjEGgI', '13Gx480x43ThpFfX1qHaU1', '47iLFlyBYWZiXvl8XHBniE', '4SqWKzw0CbA05TGszDgMlc', '5KCbr5ndeby4y4ggthdiAb', '3EaJDYHA0KnX88JvDhL9oa', '3Ofmpyhv5UAQ70mENzB277', '2Tq2R8sRftNEqdgJK5HadO', '2O2xeI5k7i1aGJTkQOyNpG', '3RfTeIrWS8LNrfHYwechtt', '4IO8X9W69dIQe0EC5ALXhq', '0ll3IRoSlJ461DTxW4Z7vc', '0B6BPNZ7gmg80qKIa7Rug1', '2xGjteMU3E1tkEPVFBO08U'])"
      ]
     },
     "execution_count": 89,
     "metadata": {},
     "output_type": "execute_result"
    }
   ],
   "source": [
    "track_name_dict = {}\n",
    "for i, track in enumerate(track_names):\n",
    "    track_name_dict[track] = tracks[i]\n",
    "\n",
    "track_id_dict = {}\n",
    "for i, track in enumerate(tracks):\n",
    "    track_id_dict[track['track']['id']] = track\n",
    "track_id_dict.keys()"
   ]
  },
  {
   "cell_type": "code",
   "execution_count": 96,
   "metadata": {},
   "outputs": [],
   "source": [
    "\n",
    "import json\n",
    "from openai import OpenAI\n",
    "from tqdm import tqdm\n",
    "\n",
    "playlist_genres = [\n",
    "    \"Upbeat Pop\",\n",
    "    \"Energetic Hip Hop\",\n",
    "    \"Relaxed Jazz\",\n",
    "    \"Reflective Classical\",\n",
    "    \"Vibrant EDM\",\n",
    "    \"Groovy House\",\n",
    "    \"Bold Rock\",\n",
    "    \"Smooth Jazz\",\n",
    "    \"Danceable Pop\",\n",
    "    \"Futuristic EDM\",\n",
    "    \"Chill House\",\n",
    "    \"Indie Rock\",\n",
    "    \"Quirky Indie\",\n",
    "    \"Upbeat Hip Hop\",\n",
    "    \"Intense Classical\",\n",
    "    \"Lively Jazz\",\n",
    "    \"Intense EDM\",\n",
    "    \"Pulsing House\"\n",
    "]\n",
    "\n",
    "genre_playlists = {genre: [] for genre in playlist_genres}\n",
    "\n",
    "\n",
    "def sort_tracks(tracks):\n",
    "    # Prepare the prompt for GPT-4\n",
    "    prompt = \"Here are the songs, with their track id and associated genres and artists:\"\n",
    "    for i, track in enumerate(tracks):\n",
    "        artist_name = track['track']['artists'][0]['name']\n",
    "        track_id = track['track']['id']\n",
    "        track_name = track['track']['name']\n",
    "        genres = ', '.join(artist_genres[artist_name])\n",
    "        prompt += f\"Track: {track_name}, Track_Id: {\n",
    "            track_id}, Artist: {artist_name}, Genres: {genres}\\n\"\n",
    "\n",
    "    prompt += \"\\n\".join([f\"Genre: {genre}\" for genre in playlist_genres])\n",
    "    prompt += \"\\n\"\n",
    "\n",
    "    # Call GPT-4\n",
    "    client = OpenAI(\n",
    "        # This is the default and can be omitted\n",
    "        api_key=os.environ.get(\"OPENAI_API_KEY\"),\n",
    "    )\n",
    "\n",
    "    chat_completion = client.chat.completions.create(\n",
    "        model=\"gpt-4o\",\n",
    "        response_format={\"type\": \"json_object\"},\n",
    "        messages=[\n",
    "            {\n",
    "                \"role\": \"system\",\n",
    "                \"content\": \"You are a simple sorting robot for songs on spotify. I will provide you with a list of songs with their artists and genres, as well as a list of categories by genre to sort the songs into. Your job is simply to look at each song and the associated artist genre and sort the songs into the correct categories. You are to respond only with a valid JSON object with the following schema: {\\\"genre1\\\": [\\\"track_id1\\\", \\\"track_id2\\\"], \\\"genre2\\\": [\\\"track_id3\\\", \\\"track_id4\\\"]}. An example response would be {\\\"pop\\\": [<track_id1>, track_id2>], \\\"rock\\\": [<track_id3>, <track_id4>]}. \\n Do not return any exmaple or dummy data-- you should return the exact same number of songs that I provide you, and your sole task is to copy the track ids IDENTICALLY into the correct genre categoreies.\"\n",
    "            },\n",
    "            {\n",
    "                \"role\": \"user\",\n",
    "                \"content\": prompt,\n",
    "            }\n",
    "        ],\n",
    "    )\n",
    "\n",
    "    chat_completion = chat_completion.choices[0].message.content\n",
    "\n",
    "    return chat_completion"
   ]
  },
  {
   "cell_type": "code",
   "execution_count": 105,
   "metadata": {},
   "outputs": [
    {
     "name": "stderr",
     "output_type": "stream",
     "text": [
      "  0%|          | 0/38 [00:00<?, ?it/s]"
     ]
    },
    {
     "name": "stdout",
     "output_type": "stream",
     "text": [
      "Batch  1  to  50\n"
     ]
    },
    {
     "name": "stderr",
     "output_type": "stream",
     "text": [
      "  3%|▎         | 1/38 [00:12<07:41, 12.48s/it]"
     ]
    },
    {
     "name": "stdout",
     "output_type": "stream",
     "text": [
      "Track with id 4e0qvvtZmKPMCU13FieAos not found in saved tracks\n",
      "Track with id 2GgvtfWigGGshnN7nGhW8x not found in saved tracks\n",
      "Track with id 3HZnLCP9Jl9JWzMQkMG7jl not found in saved tracks\n",
      "Track with id 8s2N7yI0MgaoZpw6feXB8i not found in saved tracks\n",
      "Batch  51  to  100\n"
     ]
    },
    {
     "name": "stderr",
     "output_type": "stream",
     "text": [
      "  5%|▌         | 2/38 [00:32<10:13, 17.03s/it]"
     ]
    },
    {
     "name": "stdout",
     "output_type": "stream",
     "text": [
      "Track with id 47TLkeYOUnkaRqoeZfZefK not found in saved tracks\n",
      "Track with id 5QscQRmjDS6Gw2pyKHlizM not found in saved tracks\n",
      "Track with id 5QscQRmjDS6Gw2pyKHlizM not found in saved tracks\n",
      "Track with id 5QscQRmjDS6Gw2pyKHlizM not found in saved tracks\n",
      "Track with id 6qxMql7mUyYPul2Z6FPNmi not found in saved tracks\n",
      "Track with id 6Q3U0bGubvDnZZYnkCXcwa not found in saved tracks\n",
      "Batch  101  to  150\n"
     ]
    },
    {
     "name": "stderr",
     "output_type": "stream",
     "text": [
      "  8%|▊         | 3/38 [00:56<11:52, 20.35s/it]"
     ]
    },
    {
     "name": "stdout",
     "output_type": "stream",
     "text": [
      "Batch  151  to  200\n"
     ]
    },
    {
     "name": "stderr",
     "output_type": "stream",
     "text": [
      " 11%|█         | 4/38 [01:13<10:36, 18.72s/it]"
     ]
    },
    {
     "name": "stdout",
     "output_type": "stream",
     "text": [
      "Batch  201  to  250\n"
     ]
    },
    {
     "name": "stderr",
     "output_type": "stream",
     "text": [
      " 13%|█▎        | 5/38 [01:30<10:03, 18.29s/it]"
     ]
    },
    {
     "name": "stdout",
     "output_type": "stream",
     "text": [
      "Batch  251  to  300\n"
     ]
    },
    {
     "name": "stderr",
     "output_type": "stream",
     "text": [
      " 16%|█▌        | 6/38 [01:48<09:36, 18.01s/it]"
     ]
    },
    {
     "name": "stdout",
     "output_type": "stream",
     "text": [
      "Track with id 10x7DifS4FYWT6qePh8f4N not found in saved tracks\n",
      "Track with id 10x7DifS4FYWT6qePh8f4N not found in saved tracks\n",
      "Batch  301  to  350\n"
     ]
    },
    {
     "name": "stderr",
     "output_type": "stream",
     "text": [
      " 18%|█▊        | 7/38 [02:17<11:09, 21.59s/it]"
     ]
    },
    {
     "name": "stdout",
     "output_type": "stream",
     "text": [
      "Track with id 4tnVG71enUj33Ic2nFN6kZ not found in saved tracks\n",
      "Track with id 4bleNHP1FlInlu3XAbgl4n not found in saved tracks\n",
      "Track with id 7zp9FOU4cjfdGN1zdwTvcB not found in saved tracks\n",
      "Track with id 4tnVG71enUj33Ic2nFN6kZ not found in saved tracks\n",
      "Track with id 1x4pmH7GrvdnXLdnVROpD6 not found in saved tracks\n",
      "Track with id 7MIhUdNJtaOnDlM5nBC1fb not found in saved tracks\n",
      "Batch  351  to  400\n"
     ]
    },
    {
     "name": "stderr",
     "output_type": "stream",
     "text": [
      " 21%|██        | 8/38 [02:33<09:57, 19.91s/it]"
     ]
    },
    {
     "name": "stdout",
     "output_type": "stream",
     "text": [
      "Track with id 4kPTu8qSxATFXL3e5sJipW not found in saved tracks\n",
      "Track with id 1ajYQsPvg6A3UTEaxDYffDv not found in saved tracks\n",
      "Track with id 53yFJewuZr1kKfYu2O35nx not found in saved tracks\n",
      "Track with id 10kc4wFIpH8PEaa7cflKAx not found in saved tracks\n",
      "Track with id 621nyOc8Pb2ZMAXuFqEDO1 not found in saved tracks\n",
      "Track with id 4KPTu8qSx4TEXL3e5sJipW not found in saved tracks\n",
      "Track with id 4s5QQcwHhNMB4fa8tMAhVE not found in saved tracks\n",
      "Track with id 78viOb4Q7YN6HeJTbscRx5 not found in saved tracks\n",
      "Track with id fjqsSpsJCBMSybs8s1DaM2R not found in saved tracks\n",
      "Batch  401  to  450\n"
     ]
    },
    {
     "name": "stderr",
     "output_type": "stream",
     "text": [
      " 24%|██▎       | 9/38 [02:48<08:51, 18.33s/it]"
     ]
    },
    {
     "name": "stdout",
     "output_type": "stream",
     "text": [
      "Track with id 17mN9NQfEznfWZ1F3GaHyH not found in saved tracks\n",
      "Track with id 3MrWxJaD2AT0W9DjFW3Ga9W not found in saved tracks\n",
      "Track with id 7MMdjiDbHweLgYdnt7pW7P not found in saved tracks\n",
      "Track with id 5MybGpbKCObUjvsaxZLOHk not found in saved tracks\n",
      "Batch  451  to  500\n"
     ]
    },
    {
     "name": "stderr",
     "output_type": "stream",
     "text": [
      " 26%|██▋       | 10/38 [03:37<12:56, 27.72s/it]"
     ]
    },
    {
     "name": "stdout",
     "output_type": "stream",
     "text": [
      "Genre neo mellow not found in playlist genres\n",
      "Genre broadway not found in playlist genres\n",
      "Genre show tunes not found in playlist genres\n",
      "Genre vocal jazz not found in playlist genres\n",
      "Genre bedroom soul not found in playlist genres\n",
      "Genre boy band not found in playlist genres\n",
      "Genre pop not found in playlist genres\n",
      "Genre post-teen pop not found in playlist genres\n",
      "Genre uk pop not found in playlist genres\n",
      "Genre indie poptimism not found in playlist genres\n",
      "Genre british soul not found in playlist genres\n",
      "Genre pop soul not found in playlist genres\n",
      "Genre r&b not found in playlist genres\n",
      "Genre talent show not found in playlist genres\n",
      "Genre uk dance not found in playlist genres\n",
      "Genre viral pop not found in playlist genres\n",
      "Genre dance pop not found in playlist genres\n",
      "Genre piano rock not found in playlist genres\n",
      "Genre pop rock not found in playlist genres\n",
      "Genre singer-songwriter pop not found in playlist genres\n",
      "Genre la pop not found in playlist genres\n",
      "Genre opm not found in playlist genres\n",
      "Genre neo soul not found in playlist genres\n",
      "Genre german pop rock not found in playlist genres\n",
      "Genre art pop not found in playlist genres\n",
      "Genre electropop not found in playlist genres\n",
      "Genre indietronica not found in playlist genres\n",
      "Genre shimmer pop not found in playlist genres\n",
      "Genre europop not found in playlist genres\n",
      "Genre irish rock not found in playlist genres\n",
      "Genre modern rock not found in playlist genres\n",
      "Genre permanent wave not found in playlist genres\n",
      "Genre ccm not found in playlist genres\n",
      "Genre christian alternative rock not found in playlist genres\n",
      "Genre christian music not found in playlist genres\n",
      "Genre album rock not found in playlist genres\n",
      "Genre classic rock not found in playlist genres\n",
      "Genre mellow gold not found in playlist genres\n",
      "Genre rock not found in playlist genres\n",
      "Genre soft rock not found in playlist genres\n",
      "Genre yacht rock not found in playlist genres\n",
      "Genre canadian pop not found in playlist genres\n",
      "Batch  501  to  550\n"
     ]
    },
    {
     "name": "stderr",
     "output_type": "stream",
     "text": [
      " 29%|██▉       | 11/38 [03:58<11:39, 25.90s/it]"
     ]
    },
    {
     "name": "stdout",
     "output_type": "stream",
     "text": [
      "Batch  551  to  600\n"
     ]
    },
    {
     "name": "stderr",
     "output_type": "stream",
     "text": [
      " 32%|███▏      | 12/38 [04:15<10:02, 23.19s/it]"
     ]
    },
    {
     "name": "stdout",
     "output_type": "stream",
     "text": [
      "Track with id 6dFO3lzpcsX7bMiZn7ynBm not found in saved tracks\n",
      "Batch  601  to  650\n"
     ]
    },
    {
     "name": "stderr",
     "output_type": "stream",
     "text": [
      " 34%|███▍      | 13/38 [04:32<08:52, 21.30s/it]"
     ]
    },
    {
     "name": "stdout",
     "output_type": "stream",
     "text": [
      "Track with id 3N3WA69hiGcEsO2ExABuqs not found in saved tracks\n",
      "Batch  651  to  700\n"
     ]
    },
    {
     "name": "stderr",
     "output_type": "stream",
     "text": [
      " 37%|███▋      | 14/38 [05:02<09:34, 23.93s/it]"
     ]
    },
    {
     "name": "stdout",
     "output_type": "stream",
     "text": [
      "Track with id 34+35 Remix (feat. Doja Cat, Megan Thee Stallion) - Remix not found in saved tracks\n",
      "Batch  701  to  750\n"
     ]
    },
    {
     "name": "stderr",
     "output_type": "stream",
     "text": [
      " 39%|███▉      | 15/38 [05:15<07:55, 20.69s/it]"
     ]
    },
    {
     "name": "stdout",
     "output_type": "stream",
     "text": [
      "Genre vibrant edm not found in playlist genres\n",
      "Genre danceable pop not found in playlist genres\n",
      "Genre bold rock not found in playlist genres\n",
      "Genre upbeat hip hop not found in playlist genres\n",
      "Genre quirky indie not found in playlist genres\n",
      "Genre indie rock not found in playlist genres\n",
      "Genre pulsing house not found in playlist genres\n",
      "Genre chill house not found in playlist genres\n",
      "Genre groovy house not found in playlist genres\n",
      "Genre relaxed jazz not found in playlist genres\n",
      "Genre reflective classical not found in playlist genres\n",
      "Batch  751  to  800\n"
     ]
    },
    {
     "name": "stderr",
     "output_type": "stream",
     "text": [
      " 42%|████▏     | 16/38 [05:27<06:35, 17.99s/it]"
     ]
    },
    {
     "name": "stdout",
     "output_type": "stream",
     "text": [
      "Batch  801  to  850\n"
     ]
    },
    {
     "name": "stderr",
     "output_type": "stream",
     "text": [
      " 45%|████▍     | 17/38 [05:40<05:46, 16.50s/it]"
     ]
    },
    {
     "name": "stdout",
     "output_type": "stream",
     "text": [
      "Track with id 5JF5WS5jslai7zdzwpg4qF not found in saved tracks\n",
      "Batch  851  to  900\n"
     ]
    },
    {
     "name": "stderr",
     "output_type": "stream",
     "text": [
      " 47%|████▋     | 18/38 [06:01<05:53, 17.69s/it]"
     ]
    },
    {
     "name": "stdout",
     "output_type": "stream",
     "text": [
      "Track with id 06Vct1PkjAYGH2X4iwNVR71 not found in saved tracks\n",
      "Track with id 63LiuMpZjyjjuXFP5Ljo9bv not found in saved tracks\n",
      "Batch  901  to  950\n"
     ]
    },
    {
     "name": "stderr",
     "output_type": "stream",
     "text": [
      " 50%|█████     | 19/38 [06:24<06:10, 19.48s/it]"
     ]
    },
    {
     "name": "stdout",
     "output_type": "stream",
     "text": [
      "Track with id 0LvaveDmmoMEKhBGhVhfoI not found in saved tracks\n",
      "Track with id 6iCsc1yepF8IEsylJY5VTx not found in saved tracks\n",
      "Batch  951  to  1000\n"
     ]
    },
    {
     "name": "stderr",
     "output_type": "stream",
     "text": [
      " 53%|█████▎    | 20/38 [06:43<05:48, 19.38s/it]"
     ]
    },
    {
     "name": "stdout",
     "output_type": "stream",
     "text": [
      "Genre energetic hip hop not found in playlist genres\n",
      "Genre upbeat pop not found in playlist genres\n",
      "Genre relaxed jazz not found in playlist genres\n",
      "Genre vibrant edm not found in playlist genres\n",
      "Genre indie rock not found in playlist genres\n",
      "Genre chill house not found in playlist genres\n",
      "Genre quirky indie not found in playlist genres\n",
      "Batch  1001  to  1050\n"
     ]
    },
    {
     "name": "stderr",
     "output_type": "stream",
     "text": [
      " 55%|█████▌    | 21/38 [07:09<06:02, 21.35s/it]"
     ]
    },
    {
     "name": "stdout",
     "output_type": "stream",
     "text": [
      "Track with id 78yFgr0pd080CVaW1bXL1k not found in saved tracks\n",
      "Batch  1051  to  1100\n"
     ]
    },
    {
     "name": "stderr",
     "output_type": "stream",
     "text": [
      " 58%|█████▊    | 22/38 [07:30<05:37, 21.08s/it]"
     ]
    },
    {
     "name": "stdout",
     "output_type": "stream",
     "text": [
      "Track with id pov not found in saved tracks\n",
      "Batch  1101  to  1150\n"
     ]
    },
    {
     "name": "stderr",
     "output_type": "stream",
     "text": [
      " 61%|██████    | 23/38 [07:46<04:54, 19.64s/it]"
     ]
    },
    {
     "name": "stdout",
     "output_type": "stream",
     "text": [
      "Track with id Getting Over You not found in saved tracks\n",
      "Track with id Numb not found in saved tracks\n",
      "Track with id Paradise not found in saved tracks\n",
      "Track with id Knife Talk not found in saved tracks\n",
      "Track with id leavemealone not found in saved tracks\n",
      "Track with id Food for the Soul not found in saved tracks\n",
      "Track with id Numb not found in saved tracks\n",
      "Track with id A Moment Apart not found in saved tracks\n",
      "Track with id Nobody Compares To You not found in saved tracks\n",
      "Track with id A Moment Apart not found in saved tracks\n",
      "Track with id Ease My Mind not found in saved tracks\n",
      "Track with id Let's Fall in Love for the Night not found in saved tracks\n",
      "Track with id Home (with Machine Gun Kelly, X Ambassadors & Bebe Rexha) not found in saved tracks\n",
      "Genre XFuturistic EDM not found in playlist genres\n",
      "Genre XReflective Classical not found in playlist genres\n",
      "Batch  1151  to  1200\n"
     ]
    },
    {
     "name": "stderr",
     "output_type": "stream",
     "text": [
      " 63%|██████▎   | 24/38 [08:08<04:42, 20.20s/it]"
     ]
    },
    {
     "name": "stdout",
     "output_type": "stream",
     "text": [
      "Track with id 7sOr5OXjbukTzBDgmvd6Fa not found in saved tracks\n",
      "Track with id 3yVBxI8TaIL86Rrmah83fd not found in saved tracks\n",
      "Genre Indie Pop not found in playlist genres\n",
      "Track with id 4Hw5kSQ8M2IQWZhSxERvla not found in saved tracks\n",
      "Batch  1201  to  1250\n"
     ]
    },
    {
     "name": "stderr",
     "output_type": "stream",
     "text": [
      " 66%|██████▌   | 25/38 [08:25<04:12, 19.44s/it]"
     ]
    },
    {
     "name": "stdout",
     "output_type": "stream",
     "text": [
      "Genre Pop not found in playlist genres\n",
      "Genre Tech House not found in playlist genres\n",
      "Genre Electro House not found in playlist genres\n",
      "Genre UK Hip Hop not found in playlist genres\n",
      "Genre Alternative R&B not found in playlist genres\n",
      "Genre Jazz Blues not found in playlist genres\n",
      "Genre UK Contemporary R&B not found in playlist genres\n",
      "Genre Art Pop not found in playlist genres\n",
      "Genre Rock not found in playlist genres\n",
      "Genre EDM not found in playlist genres\n",
      "Genre Melodic Rap not found in playlist genres\n",
      "Genre Bedroom Pop not found in playlist genres\n",
      "Genre Future Bass not found in playlist genres\n",
      "Genre Ohio Hip Hop not found in playlist genres\n",
      "Genre R&B not found in playlist genres\n",
      "Genre Canadian Contemporary R&B not found in playlist genres\n",
      "Genre Deep Groove House not found in playlist genres\n",
      "Genre House not found in playlist genres\n",
      "Batch  1251  to  1300\n"
     ]
    },
    {
     "name": "stderr",
     "output_type": "stream",
     "text": [
      " 68%|██████▊   | 26/38 [08:43<03:47, 18.98s/it]"
     ]
    },
    {
     "name": "stdout",
     "output_type": "stream",
     "text": [
      "Batch  1301  to  1350\n"
     ]
    },
    {
     "name": "stderr",
     "output_type": "stream",
     "text": [
      " 71%|███████   | 27/38 [09:11<03:58, 21.71s/it]"
     ]
    },
    {
     "name": "stdout",
     "output_type": "stream",
     "text": [
      "Track with id 3GGRSqlALWISqLeNncZMbpX not found in saved tracks\n",
      "Track with id 3tBLVspUVHKUl8bWJ3kZgr not found in saved tracks\n",
      "Track with id 3G6RNAATiPVtLO8gf6QgoP not found in saved tracks\n",
      "Track with id 3hoinsM7BgrIYAxpOv7kAf not found in saved tracks\n",
      "Track with id 55AqJMOab8zCB7UVuZKvDM not found in saved tracks\n",
      "Track with id 4yj05xHWnbd1v4OayS0CO0 not found in saved tracks\n",
      "Track with id 1MTX6zCAKoHuxNvkRtzxs4 not found in saved tracks\n",
      "Track with id 1UGrkvUZL5GLJ8owCsvD4v not found in saved tracks\n",
      "Track with id 63L06knvy00PEQqQSj1XRX not found in saved tracks\n",
      "Track with id 35BRhsuxNf8T6jYvV7IVq7 not found in saved tracks\n",
      "Track with id 3Gk0UNZJYlTYKJhscgQJ6c not found in saved tracks\n",
      "Track with id 35MAbocRyQX2LI1RMorit3 not found in saved tracks\n",
      "Track with id 1p4UkFgeIK39ngOfvkjPEv not found in saved tracks\n",
      "Track with id 6rKXVx4kqHacTQBNTYq0Xs not found in saved tracks\n",
      "Track with id 2JvT6Iz8sTbPCDzqJBFFuLg not found in saved tracks\n",
      "Track with id 33BZdPFuD2jYSwYjg6D62c not found in saved tracks\n",
      "Track with id 5XnuXnNLjcAZXTdDlbySNY not found in saved tracks\n",
      "Track with id 2yuSE1T3rYWRsik7ZJLh7N not found in saved tracks\n",
      "Track with id 07VSTsEoiaCjUxrIJzbAf1 not found in saved tracks\n",
      "Track with id Pulsing House not found in saved tracks\n",
      "Track with id Quirky Indie not found in saved tracks\n",
      "Track with id Reflective Classical not found in saved tracks\n",
      "Track with id Relaxed Jazz not found in saved tracks\n",
      "Track with id Bold Rock not found in saved tracks\n",
      "Track with id Smooth Jazz not found in saved tracks\n",
      "Track with id Chill House not found in saved tracks\n",
      "Batch  1351  to  1400\n"
     ]
    },
    {
     "name": "stderr",
     "output_type": "stream",
     "text": [
      " 74%|███████▎  | 28/38 [09:29<03:24, 20.40s/it]"
     ]
    },
    {
     "name": "stdout",
     "output_type": "stream",
     "text": [
      "Genre Alternative not found in playlist genres\n",
      "Genre Other not found in playlist genres\n",
      "Batch  1401  to  1450\n"
     ]
    },
    {
     "name": "stderr",
     "output_type": "stream",
     "text": [
      " 76%|███████▋  | 29/38 [09:59<03:31, 23.49s/it]"
     ]
    },
    {
     "name": "stdout",
     "output_type": "stream",
     "text": [
      "Batch  1451  to  1500\n"
     ]
    },
    {
     "name": "stderr",
     "output_type": "stream",
     "text": [
      " 79%|███████▉  | 30/38 [10:19<02:58, 22.28s/it]"
     ]
    },
    {
     "name": "stdout",
     "output_type": "stream",
     "text": [
      "Track with id 6sdQOyqq2IDhvmx2lHOpwd not found in saved tracks\n",
      "Track with id 5USxtqRwSYz57Ewm6wWRMp not found in saved tracks\n",
      "Track with id 1lxxsi9U65JKT03Voj2Dl5 not found in saved tracks\n",
      "Track with id 1syxzC4wlqAwf20cHE6Xon not found in saved tracks\n",
      "Track with id 1syxzC4wlqAwf20cHE6Xon not found in saved tracks\n",
      "Track with id 6sxTJQWkCmvwZWLsn8adOO not found in saved tracks\n",
      "Track with id 6sxTJQWkCmvwZWLsn8adOO not found in saved tracks\n",
      "Track with id 6sxTJQWkCmvwZWLsn8adOO not found in saved tracks\n",
      "Track with id 6szXIbfaIYoHhFAz1YP7i6 not found in saved tracks\n",
      "Track with id 4lxykSi9U65JKT03Voj2Dl5 not found in saved tracks\n",
      "Track with id 6uwsdHhzdW9oML7VC4Uhk not found in saved tracks\n",
      "Track with id 6uwsdHhzdW9oML7VC4Uhk not found in saved tracks\n",
      "Batch  1501  to  1550\n"
     ]
    },
    {
     "name": "stderr",
     "output_type": "stream",
     "text": [
      " 82%|████████▏ | 31/38 [10:34<02:21, 20.27s/it]"
     ]
    },
    {
     "name": "stdout",
     "output_type": "stream",
     "text": [
      "Track with id 72wgksAof2uLP0qgGmT03n not found in saved tracks\n",
      "Track with id 6vW91ENXtp3h4ZOYNMWeQo not found in saved tracks\n",
      "Batch  1551  to  1600\n"
     ]
    },
    {
     "name": "stderr",
     "output_type": "stream",
     "text": [
      " 84%|████████▍ | 32/38 [10:52<01:56, 19.49s/it]"
     ]
    },
    {
     "name": "stdout",
     "output_type": "stream",
     "text": [
      "Track with id 335TSOhdGlkyT4PIhGhXa8 not found in saved tracks\n",
      "Batch  1601  to  1650\n"
     ]
    },
    {
     "name": "stderr",
     "output_type": "stream",
     "text": [
      " 87%|████████▋ | 33/38 [11:05<01:27, 17.51s/it]"
     ]
    },
    {
     "name": "stdout",
     "output_type": "stream",
     "text": [
      "Genre upbeat_pop not found in playlist genres\n",
      "Genre energetic_hip_hop not found in playlist genres\n",
      "Genre vibrant_edm not found in playlist genres\n",
      "Genre bold_rock not found in playlist genres\n",
      "Genre upbeat_hip_hop not found in playlist genres\n",
      "Genre intense_edm not found in playlist genres\n",
      "Genre pulsing_house not found in playlist genres\n",
      "Batch  1651  to  1700\n"
     ]
    },
    {
     "name": "stderr",
     "output_type": "stream",
     "text": [
      " 89%|████████▉ | 34/38 [11:23<01:10, 17.64s/it]"
     ]
    },
    {
     "name": "stdout",
     "output_type": "stream",
     "text": [
      "Track with id 700g3v2VNwEo9AzrXiOmSVx not found in saved tracks\n",
      "Batch  1701  to  1750\n"
     ]
    },
    {
     "name": "stderr",
     "output_type": "stream",
     "text": [
      " 92%|█████████▏| 35/38 [12:13<01:22, 27.36s/it]"
     ]
    },
    {
     "name": "stdout",
     "output_type": "stream",
     "text": [
      "Genre pop not found in playlist genres\n",
      "Genre bedroom soul not found in playlist genres\n",
      "Genre indie hip hop not found in playlist genres\n",
      "Genre indie r&b not found in playlist genres\n",
      "Genre electropop not found in playlist genres\n",
      "Genre dfw rap not found in playlist genres\n",
      "Genre melodic rap not found in playlist genres\n",
      "Genre rap not found in playlist genres\n",
      "Genre dance pop not found in playlist genres\n",
      "Genre black americana not found in playlist genres\n",
      "Genre contemporary country not found in playlist genres\n",
      "Genre country not found in playlist genres\n",
      "Genre country road not found in playlist genres\n",
      "Genre r&b not found in playlist genres\n",
      "Genre urban contemporary not found in playlist genres\n",
      "Genre bedroom r&b not found in playlist genres\n",
      "Genre singaporean pop not found in playlist genres\n",
      "Genre dutch house not found in playlist genres\n",
      "Genre edm not found in playlist genres\n",
      "Genre electro house not found in playlist genres\n",
      "Genre pop dance not found in playlist genres\n",
      "Genre progressive electro house not found in playlist genres\n",
      "Genre slap house not found in playlist genres\n",
      "Genre afrofuturism not found in playlist genres\n",
      "Genre lgbtq+ hip hop not found in playlist genres\n",
      "Genre hip hop not found in playlist genres\n",
      "Genre philly rap not found in playlist genres\n",
      "Genre rage rap not found in playlist genres\n",
      "Genre trap not found in playlist genres\n",
      "Genre queens hip hop not found in playlist genres\n",
      "Genre sudanese hip hop not found in playlist genres\n",
      "Genre sudanese pop not found in playlist genres\n",
      "Genre underground hip hop not found in playlist genres\n",
      "Genre asian american hip hop not found in playlist genres\n",
      "Genre trap soul not found in playlist genres\n",
      "Genre indie pop rap not found in playlist genres\n",
      "Genre edmonton indie not found in playlist genres\n",
      "Genre lo-fi indie not found in playlist genres\n",
      "Genre pov: indie not found in playlist genres\n",
      "Genre slacker rock not found in playlist genres\n",
      "Genre dark r&b not found in playlist genres\n",
      "Genre deep underground hip hop not found in playlist genres\n",
      "Genre kentucky hip hop not found in playlist genres\n",
      "Genre art pop not found in playlist genres\n",
      "Genre chamber pop not found in playlist genres\n",
      "Genre indie rock not found in playlist genres\n",
      "Genre stomp and holler not found in playlist genres\n",
      "Batch  1751  to  1800\n"
     ]
    },
    {
     "name": "stderr",
     "output_type": "stream",
     "text": [
      " 95%|█████████▍| 36/38 [12:58<01:05, 32.72s/it]"
     ]
    },
    {
     "name": "stdout",
     "output_type": "stream",
     "text": [
      "Track with id 0WgG1m9GUlRFARRHd1FkzX not found in saved tracks\n",
      "Track with id 03XzT3bKTahz7tC8ZvqAOh not found in saved tracks\n",
      "Track with id 5xu7nrKiVHslrdlNHRsSsP not found in saved tracks\n",
      "Track with id 4Z2wrVIUVoeqjfZ6EsWTMw not found in saved tracks\n",
      "Track with id 52fdCTeaf2Z9MVC0DnwNSB not found in saved tracks\n",
      "Track with id 4MyE2RW4KHy7mkzAF0KxR7 not found in saved tracks\n",
      "Track with id 4f4iXgHcuTGudeWgpGhBgi not found in saved tracks\n",
      "Track with id 5ix6R1RZ8vb3mGyZIKvsi3 not found in saved tracks\n",
      "Track with id 56ePsbMeDZSJgagLf8Fbnh not found in saved tracks\n",
      "Track with id 0GNEYHqzOUNVku94H4aGBs not found in saved tracks\n",
      "Track with id 7FK5J1fgNCMntm3FQxyxJr not found in saved tracks\n",
      "Track with id 064ZX5yOG77bR2vZTaKJKt not found in saved tracks\n",
      "Track with id 1SrNTn56OpStUmzXUAo9Zz not found in saved tracks\n",
      "Track with id 34aBbdHBcHDbaYlBJKBLiw not found in saved tracks\n",
      "Track with id 2vKhXEP1b4I4VU660fSiFS not found in saved tracks\n",
      "Track with id 33npCKkvf7WfAbETIzeeRM not found in saved tracks\n",
      "Track with id 5MyBqQwdgr0WNvbd9Q5bPs not found in saved tracks\n",
      "Track with id 0AGaLBv4aaDxZtL2DLdzWe not found in saved tracks\n",
      "Track with id 53PyIlqBsNOgzcaJ1r1unT not found in saved tracks\n",
      "Track with id 5kXpWT09jN1IvDp6Lk48CK not found in saved tracks\n",
      "Track with id 6csAoPVitcOADWBHmqx4Wo not found in saved tracks\n",
      "Track with id 16ANb9a1IKmjS8ygliLMhD not found in saved tracks\n",
      "Track with id 2FYgq1RS9m5U40emK5pMW9 not found in saved tracks\n",
      "Track with id 01rPYzYdMRpIcKnQgn82e4 not found in saved tracks\n",
      "Track with id 0vMOd0o9Zr8G13tOCYIBVm not found in saved tracks\n",
      "Track with id 2FA9e56tMYn4q6rFuN3Zoz not found in saved tracks\n",
      "Track with id 5xiNMSVLWruattGOhkwg5c not found in saved tracks\n",
      "Track with id 2ffGJ1o0vYIEfR4pkmfbF1 not found in saved tracks\n",
      "Track with id 4ShJz1IbCeF6eyn09kcLol not found in saved tracks\n",
      "Track with id 6afG9jZaNapcB9DGE2d7OI not found in saved tracks\n",
      "Track with id 5xhFZuk5In9ha8OgeNEeuU not found in saved tracks\n",
      "Track with id 2rOIUqHJaFCuBzHwarSTgl not found in saved tracks\n",
      "Track with id 0wuw7f1WspB0jb6UMvvYYA not found in saved tracks\n",
      "Track with id 6TKo2LUzzU8G1SNieYxFqBr not found in saved tracks\n",
      "Track with id 6UJ7Zkk9NUMOlvlglTYRVf not found in saved tracks\n",
      "Track with id 6qBG2dUvaLW93xUIzFKXox not found in saved tracks\n",
      "Track with id 0GCyY6kxGMBGSZc8N5OUbf not found in saved tracks\n",
      "Track with id 074PbyfMaqdiXLZHR6BNZt not found in saved tracks\n",
      "Track with id 0FKsIjQ0TEmaY37zbKbObA not found in saved tracks\n",
      "Track with id 0rqFblvM8DxZCSNdwTPr84 not found in saved tracks\n",
      "Track with id 10bcvY5DFPVRLH4foQTqm8 not found in saved tracks\n",
      "Track with id 5fuLAqc3ADdXrdGo6J1PfN not found in saved tracks\n",
      "Track with id 30BpRE6iH7FsssuouZOnzC not found in saved tracks\n",
      "Batch  1801  to  1850\n"
     ]
    },
    {
     "name": "stderr",
     "output_type": "stream",
     "text": [
      " 97%|█████████▋| 37/38 [13:13<00:27, 27.50s/it]"
     ]
    },
    {
     "name": "stdout",
     "output_type": "stream",
     "text": [
      "Batch  1851  to  1900\n"
     ]
    },
    {
     "name": "stderr",
     "output_type": "stream",
     "text": [
      "100%|██████████| 38/38 [13:22<00:00, 21.11s/it]\n"
     ]
    }
   ],
   "source": [
    "all_track_ids = [track['track']['id'] for track in tracks]\n",
    "found_track_ids = []\n",
    "\n",
    "for i in tqdm(range(0, len(all_track_ids), 50)):\n",
    "    print('Batch ', i+1, ' to ', i+50)\n",
    "    json_output = sort_tracks(tracks[i:i+50])\n",
    "    parsed_json_output = json.loads(json_output)\n",
    "    for genre, track_ids in parsed_json_output.items():\n",
    "        if genre in genre_playlists:\n",
    "            for track_id in track_ids:\n",
    "                if track_id in track_id_dict:\n",
    "                    track = track_id_dict[track_id]\n",
    "                    genre_playlists[genre].append(track)\n",
    "                    found_track_ids.append(track_id)\n",
    "                else:\n",
    "                    print(f\"Track with id {\n",
    "                          track_id} not found in saved tracks\")\n",
    "        else:\n",
    "            print(f\"Genre {genre} not found in playlist genres\")\n",
    "\n",
    "missing_track_ids = set(all_track_ids) - set(found_track_ids)"
   ]
  },
  {
   "cell_type": "code",
   "execution_count": 108,
   "metadata": {},
   "outputs": [
    {
     "name": "stdout",
     "output_type": "stream",
     "text": [
      "Missing track ids: {'1TcF5F10EN17vraisG1gQv', '6i6zi5TgXuKUxooOMqhKfQ', '2o9LAypwGH4ctV0i9boo6d', '1QK0cJlXnfq3q7Vo8mVL4w', '62bjfb5YMLvZU44vfjJVxp', '4mH2RJAyMKQpGjyGd2JMDW', '5WkCcSa78lM1Ym4LXzJUiN', '2IAR0DziHCjSu16gR4ihvy', '4fSIb4hdOQ151TILNsSEaF', '4hOyjY9EUksjyylV1QZaF3', '4ZtFanR9U6ndgddUvNcjcG', '7mAyraTz5O6WH06Tt3mLmJ', '14boA065HMHWvqyPPEeN4y', '14YooSSTGCikWjqD0e5r4j', '2tGvwE8GcFKwNdAXMnlbfl', '2279iXhVV3qqY98p0qcAFn', '4lkiVrmAYyPCtW3AFRs14e', '2EcsgXlxz99UMDSPg5T8RF', '5uISqR4lyfgJ0snckYmQpJ', '442j8VxaB60dWf9cBFuX5w', '1NrDot6zcivIjCVMFoe7uV', '5EXD5rXJ4IVb8g4xSwT0fc', '1FavY8gfv2Hr5YDCfT1K7J', '3LBM25IgxI9y549SiYxtSi', '6tCV8RZVP7zW59Ybxj6COL', '6CxdeM5S42kp7GyMlLs1Ea', '5xKJI9aPQhuTdTq8BrJ8fL', '2UIraNrjFYMnu1HI15QR4S', '1yPKJ5d5mDn63uneEBHzTG', '5iwUwADk4uQUvgMF6PlTRl', '6vU3Wqp5PbZbGex8xY1dAW', '4CxFN5zON70B3VOPBYbd6P', '6siDDghVE7fxel5o7fE4OF', '6MRUQNjaUud1TiFBRV8HNq', '2bI6KAUqXeIXGAEEvup8ri', '4VginDwYTP2eaHJzO0QMjG', '7fYRg3CEbk6rNCuzNzMT06', '6e40mgJiCid5HRAGrbpGA6', '4VnDmjYCZkyeqeb0NIKqdA', '4MV4wa3Dke1GMBtk06GMR0', '4vskOzqaYFNGGkHLTG7xAf', '1ghlpxVfPbFH2jenrv9vVw', '58HvfVOeJY7lUuCqF0m3ly', '10kc4WFIpH8PEaa7cflKAx', '4O89rUWrGgWYKaHJUOp314', '42gZM6AQ9BDMaTyTmMDVlN', '1Jj6MF0xDOMA3Ut2Z368Bx', '42nkVBjWYVhiijbof5zySm', '6Rqn2GFlmvmV4w9Ala0I1e', '4IO8X9W69dIQe0EC5ALXhq', '0vp1sk3FzuDBeLMLcRhQdL', '6LiuMpZjyjjuXFP5Ljo9bv', '6EF9SuEEFvCrVyV98enq5v', '6o0gJtOgimGamRBTS80H5g', '3Ucr6hQQuY8cZ0UqXV8uO2', '3M1r9ilL53PLcrLdIuyZ4J', '1MJErNPIQUoEMu4YUUmecm', '3TZ1wHauKG6dMcn7LcQq6G', '2b8fOow8UzyDFAE27YhOZM', '0BOEuUKoHdy8in20fG5smd', '7b6sWLSnbZhSIeqNGrJ4py', '5mF7p5mwgaPZyIykUhO3PN', '0D5CXSUx8GOCHSY8KWgi9h', '2z7dSOS87BhVTTGOopZhC5', '7lAK3oHbfEnvUQWosrMMpR', '3NYm3ZimuJNb0Z0px5OEwO', '2epbL7s3RFV81K5UhTgZje', '1Rvl8qsKJurfFTyWLBI9ib', '3Jq0vjC96tJlUVAdKfMajk', '6H7fWtwEUHVfTyZD7zeG4w', '0OuOPYd05eORfLw94apb8j', '3XVBdLihbNbxUwZosxcGuJ', '3uP0rhZSVxKPokt6UbnzU0', '09RamrocZneYcLYLRIxYha', '3zoYkqS4y2BsGVShPL2nTE', '3jjBPF4NDMCU51psU8JPpR', '1iZoBnjg3p9ugz5xZGCK5d', '73ZWAySu4UX5LkpCM6zjYh', '7tQg9RleubnqiVWV48q6VL', '0dwayLkKCg1AYP8XFm9YIq', '3GiORO0zRwRT3g9CCklzkQ', '0KmbZSG6sTyZoflJbg9Uwu', '5b5cPscqVEMChvDqscVw26', '6ZY3fZTvo8W3lD2g73EeSA', '5q9eIN6RXrs4e5PsRTXMpp', '7FqF7Abk73lQaVUsCwmKJ0', '5CaUUACiQFEf4zR5WoeIrp', '1sXUWdKx03aP9Gmzft58rt', '15jMztFtJ1mFFJ11SZvHHZ', '2sNevT0WU7NXnkm1jnGENF', '7igeByaBM0MgGsgXtNxDJ7', '5esKpsrB3TbGHwFaAjIGMx', '2JPLbjOn0wPCngEot2STUS', '3KtqBwqDbjxjXmJQ2gmtzW', '2tKqhcDNVVKXJqllKzrecM', '1vQ3iTZHBqH14APe5uKKrp', '0W363qrIc4GwuwOqa0WAEO', '4qYHnP5AmKzXbJhciPV8si', '2bw4WgXyXP90hIex7ur58y', '11RJg9AillccZgJYZ47L5f', '4EAV2cKiqKP5UPZmY6dejk', '7unXp2I8TbXUeTgJ1u5sMH', '0e8nrvls4Qqv5Rfa2UhqmO', '0Rm2G83ELwkuEgpHlJcBPn', '5L7EcEdJAZ3TEpWEfsOMLD', '6DCRVXmUCeUckyGsEmqzMS', '7jDe24vXWUNX8Jl2hZHrIS', '5l08slmvFRUseHpq85neke', '7q7jyVU0f0hnod8tsaUmxg', '0FoEQ5MUMwOrnQ4pWyrfrA', '1bjeWoagtHmUKputLVyDxQ', '2hnMS47jN0etwvFPzYk11f', '7wBJfHzpfI3032CSD7CE2m', '4EWBhKf1fOFnyMtUzACXEc', '5wTVNpi5WDByxBgKgUE6MU', '0VxocBntP1XTZRsR9ZURPS', '6gU9OKjOE7ghfEd55oRO57', '5Y2n6pW4Vqr4Mzkd9V4Uk8', '0PowxVSTY2uh1CPc8EPKyX', '2HtpC9dJ6jOLa4OMN0nnfj', '1moFkZDqcjQNeXtyoanLHv', '15vePScuEPjJeOWsnNqGgo', '09CnYHiZ5jGT1wr1TXJ9Zt', '1DFD5Fotzgn6yYXkYsKiGs', '7AFASza1mXqntmGtbxXprO', '5DuSzOxHDi1qZycpzIWyhO', '5gOeFcjzpwy1u7S0RS1UJ7', '2P4qoMmSqElFcI7GYaPLwf', '27356GVuMPFWiJSZCragoM', '45w70aQhNwke1yrQZO0ffm', '5CZ40GBx1sQ9agT82CLQCT', '46kspZSY3aKmwQe7O77fCC', '6O31EAq8Zr6LCj5FNVA7EM', '2FXxVkiiOonsSequbywMe3', '7hpJ9tATWb2vztlq99hERP', '4EGt2Y8GqjVzjXi39UOQfg', '3bH4HzoZZFq8UpZmI2AMgV', '73SpzrcaHk0RQPFP73vqVR', '4mqvE5F95nKSUrUvUH3YB7', '7l6AuWpDlecpVxI0Yq4zmI', '5VDxR43atcXQrGT6snaASn', '18UsAG7SfOQ5sxJEdjAMH0', '3skfigZmEOr709N4kwv6Ur', '2CzUlaKN1mvb0szagSR3ux', '5DrCWAaQ8zklweBa9abFIu', '44ashym52bERKclJsKt3Db', '0JGQASbzeUjibbQp2Eu0Yv', '4Zjdzxx0dsavsr7Ehr8fGE', '2RM4jf1Xa9zPgMGRDiht8O', '51LwcFSvL8oYp1jFUql25f', '5dUFfk2cwD8GiJPS03mYN0', '67xBtV07CC73eFw7z5oCvU', '4VZqbATiMbmwgSRnhfD9Tq', '5hA2ZHjvt1tgp55OzaqYKL', '3al2hpm92xE0pBalqWQHdD', '4TYhQPffPcde8OQFnTo62a', '7pBrfkzLLLQxjvnEiXgsZ6', '6QIOzVmSfjMLWuur4e3BAv', '1a0Mg4XPdt4EKsUz5beRZY', '4KPTu8qSxATFXL3e5sJipW', '1uL78kFWxhz3umTMWJu8n5', '6NMqeF0Ssmi7d3dSUqnOFf', '4xhsWYTOGcal8zt0J161CU', '08bNPGLD8AhKpnnERrAc6G', '2gKewcQZEV1fqoWH81RUDk', '62tDpymKVSXEu0W3d4AMr9', '5pLjOLnVVOVK6uvHmhBz8f', '0T7aTl1t15HKHfwep4nANV', '5w9upngVRHNjdZcRC7Xxr2', '4RVxBQZRhTtIxGBqCdONlG', '6og0RD1Xq1Ya7BOt0TxHz6', '3GdogCZTpPHBODiiEJbqQm', '04uR2cdkgiaLIzebPcs25m', '2sZfKuApMUJp6pTanBuMPH', '5lhIY0YgH7JhszpQNUC1dm', '3nOz1U41SZZ0N3fuUWr9nb', '27ZZdyTSQWI7Cug2d2PkqV', '2BNkTvg1kHAAfGvqh56x5a', '4ejCsNXh66YasBUiwfBhDg', '52OnaawE8e2Ng6hHOTctHC', '4uX8Wh4wxpLne11BhoHs5x', '1bzHZRL513pHVC9oEwQ0aL', '4lTiuD1DwBKo4L7wqMkD7C', '0x7PmByJWVXdeipevd6KZS', '3UYsJbgJ6EelhHwL00zmwr', '7vRriwrloYVaoAe3a9wJHe', '6ws54n2IzyrIxxyzlG2bVJ', '6JbxkCyeOto3xXjcFalZ3e', '2eAZfqOm4EnOF9VvN50Tyc', '5Z2MiIZ5I3jJvvmeWMLbOQ', '58z2lQaugyYqDausYuYvev', '2xYlyywNgefLCRDG8hlxZq', '0OgGn1ofaj55l2PcihQQGV', '4TnjEaWOeW0eKTKIEvJyCa', '1b3oogM5orKL8ZHrVGybRm', '3GZD6HmiNUhxXYf8Gch723', '0nbXyq5TXYPCO7pr3N8S4I', '1GcXzijYzyfMq6wryZjYW5', '5jx8tCxiO0uIbo2uNia23K', '5yZikrIYMNhW4OGIO2xpLr', '1qwWYnZmgC6TtGMvO35hWg', '4tNXntkAzQ5A2dfYRYGIIQ', '7sFYVcKSb24qg0dAkqLEFj', '0ri0Han4IRJhzvERHOZTMr', '2rl9Ukvagkh5rZVqZLE0qO', '2xGjteMU3E1tkEPVFBO08U', '3Dkvp3L4w0uJFYfIPa8E9H', '6o7cIyzsfSmcMEuQZQINGH', '6krNSTegkvGMmdIUOUEQH1', '2O2xeI5k7i1aGJTkQOyNpG', '3ZbJMlEL4Kcme0ONRO7Slx', '2Z8yfpFX0ZMavHkcIeHiO1', '6e2PtJYcltVk76nLwxBzRn', '7tgjDlQsMR8RvkdlNCJA58', '37HhnXqIRFSSJXWsysl6B7', '6wQlQrTY5mVS8EGaFZVwVF', '0cMjaVjMi6VPn1mkWPGKka', '4qXjXZPGtVNhQq1z9QDRFn', '4dSoGVrDcbQafRw2FJwbmW', '2MULdl5TdUJCAxJfd8fHjF', '6zWU7YALeEDMcPGhKKZJhV', '60O0CjviBowszlKb9R4Xjm', '2XSzHLq8gOJHFflQr6QCpM', '6TodWdTSDfzwgYynTZSvJn', '5rbuv6zso7QSaKt265H3M3', '4nlvKIIetOWGIMyhjQXgOZ', '2c09gumRCmu3qmbcqdQbUN', '1SdItcSOTD14tvIo8UzA6k', '52X0IZM9sWvoRbboDaQ0F7', '5z2XleKRbvbiytGucM5v2D', '0AGAl2fZLAoGxGd5dO77Cp', '54i6YAQkZImwWjmzPrQeqd', '2gCBss8cL58i2GyswrhBna', '4S8d14HvHb70ImctNgVzQQ', '0Qz7UqqGrUTB70aOuQ3IlH', '698ItKASDavgwZ3WjaWjtz', '1k1Bqnv2R0uJXQN4u6LKYt', '4SL2iWHt3azgITI04G5NpY', '5HBDBBr5OV90lubqW8ctJF', '0VZe8C7xgAIQC0E0qEVIEh', '0u2P5u6lvoDfwTYjAADbn4', '6xGruZOHLs39ZbVccQTuPZ', '1ZLrDPgR7mvuTco3rQK8Pk', '2ndm1VnWUzQfz5boYElZq8', '2d8SmlYVTgQsjcQWWPiRCW', '5quBme70LuheSh4N7NnZ7Q', '04GQPGMmAm06AFtVgrhWxE', '7pdF27mSDuPWhppnHAmWHa', '0AUvWawuP0ibk4SQ3sIZjk', '15qKrPi4Kg0z7g9HlwWyeb', '5Z8GeW725FR9KRujZpmOgF', '6LVAOGbEUxPU6BboZ06YQg', '4jwP0pxx7su04FYc6J12EQ', '5T6bJp3XgwT0IaCfKMxmAu', '7to68V64Cu6zk0UDo5tyw3', '74tLlkN3rgVzRqQJgPfink', '10xV5l9nhLvFpR8mqzs0bL', '3ISiZ0GzocM9ssIwqRn1AW', '5q3LwAHTqo9d3rET2EA9Nq', '1MVqeIAwhD4T44AKVkIfic', '20dHipP84rp47r9EEmN1iB', '2e2yKavdT6WQzzMHwNtPFa', '5153LWKMJiMNIRCChGN4Ja', '4WZ3liyYz5ZzDcL4ibAuOi', '6lbFEBQz8jYuwsDY1LYEuD', '3DqOJ2BoddzZpNdty3okJH', '59NraMJsLaMCVtwXTSia8i', '1jYQsPvg6A3UTEaxDYffDv', '4Jh8aypoHtCqv5GPzZxPsz', '1g2D7SpGbRPPXKLCly1mPc', '5zuex7tbGFz0gSHlrMvQdu', '3Y1EvIgEVw51XtgNEgpz5c', '3QS9ZCtoSCJhmaJ7QNXSAS', '2ygvZOXrIeVL4xZmAWJT2C', '15xWRPHQMeqgdkGzInx3PY', '2gA74HvN6NKFrhgzpd5oNE', '52ySvuxscDGsXUVsci1Kpa', '0oHivrvqAyEBDgjFF9JPXa', '7d6XJZjnm7iWcKwYL9z5kC', '6Hh410vnA0ICJQXD2Ob1H3', '1mNNuEw8HB8AO69hbC36ow', '5jUrZqH4jF7S8874hq14dA', '2psRActEWsTlYYd7EDoyVR', '7wryZGTI6OSEH8ePQiKP0a', '5b9Iolaee6xTaMWb8c5rLB', '54VhMO14MfyB9I9IUtjR6p', '5EYi2rH4LYs6M21ZLOyQTx', '0TuTx2Gwtfrt769k4sJRgh', '72kGuWpRiuA149Bn5lDkIO', '1h3ODYcDJly0H53W2Ai42Q', '6cZH4rX1KTt1aJ3Ql6Ynja', '6dOtVTDdiauQNBQEDOtlAB', '7AE1oyRpPGoSwDs8b9XBO0', '5A4WcRuy0FFEAC5pAK43oa', '4xUnvfs5lN7hcgWwyXZA11', '0t89zjm5vxQCuW4jkOfT93', '5J6rTmMjF9DVIAF8G3M9n4', '0QPRDC97rIQB3Jh3hrVJoH', '7bdYxWPCs46dQ0XLwySOyv', '5ug8KuTWGtMTW7c2TvB8dd', '2gug6MRv4xQFYi9LA3PJCS', '2VjtYe7gpfUi2OkGxR2O2z', '0YYsclEyD93z8s1VrzBmAj', '4pBuhoBxgwBpkkOhfT6p6N', '0Ensfv1iBDcsOF6xNok14N', '1HfMVBKM75vxSfsQ5VefZ5', '3tcoEYOZUHKB3RKNByIN13', '7FEwp8BavoEVE3AnxJDchc', '5TTXEcfsYLh6fTarLaevTi', '6mCqxnyOhr4tHMbRbQL4Yn', '1GIYmwtBbPSHrqcSaukZck', '2aEwALP7UBCstDIkXb1S4W', '1Zej3ztnuVElDfYGYBBhJP', '5LZNaPmgnxH2YHwmU9G0GL', '0NWWDumjD2TCrR6iV6ZFgR', '5zA8vzDGqPl2AzZkEYQGKh', '5o5WaO9pzPhXSGIrTIYVce', '0HMCP4nAPkUan3NQr6hSuT', '6U0FIYXCQ3TGrk4tFpLrEA', '7b4iOHMngSAFhgN120hbWB', '6t1F0FTlVHAw6kEe164SsL', '27r2uANqwK7XbsiAZnzf9e', '0k4d5YPDr1r7FX77VdqWez', '1njRzdfGNUY2RZU0lVO787', '1WI8MH3HPGjzpU0ywLahwt', '4kflIGfjdZJW4ot2ioixTB', '5aYR2yKYdcWxX7gAO2CYps', '0FMMLKHb74VB0H5u2fP6xo', '20my9d2AdobuKH9CkaQybY', '0pVG9Vj40uY2Z7D4afDEPT', '4rIEkt9wgcmoIJtiRcvtNX', '593W4qZOwwdqF6YnimJjL6', '0JcgIOrlZ0CNUOPxyudnrK', '4xEnPbulgQ4J4vu78VEwVr', '5KawlOMHjWeUjQtnuRs22c', '6Dwtha2FtZFoMEBh5GR2sq', '2MnLkFqY9Rpg9s3Zv6ZJdK', '6M8R1IOnnbtKBogIs6uqRF', '5w40ZYhbBMAlHYNDaVJIUu', '6BuV8kvfkjzeKnuc0uku1c', '0Z57YWES04xGh3AImDz6Qr', '3AEgic4yp82NxMWUjHtxnO', '2LWJ0zNei0z2WjHHwSNUkx', '1Nj2oBISdFDSF8eDuXcALz', '6ScHuFHv4QemKuuy6T6oUz', '7uo2L5FAja3pWIBa3HJVeC', '13lZDbwonGhOflQLQIfdtZ', '7qMMw7ngQEtW4Cam5GASW3', '2rTnVB1bvwxHtaIl4uVu7f', '4heve4ydl1u6V3AD4moZq9', '7E2C5rBLpCKwQlhJPVFBRS', '48wSJ6NhMFYYB6LjdnPNjM', '5hXEcqQhEjfZdbIZLO8mf2', '6QqF0MqjQVotftZIuQUbvf', '6WiGRFQfx2qw49MA7OeDYK', '5uuH4G5XscvxYhRvZ5a7sT', '7hX6BNKMLU4O5S32srAtCC', '1p67QqNBGvikWt0CZmkpDu', '0to2wztJrgQuAmjDXDK9B1', '6ap9lSRJ0iLriGLqoJ44cq', '0v8J17a6cO0wWp7z731GTd', '2hnxrRNzF74mdDzpQZQukQ', '7xpraKSakDJ6WWgjQEtvgT', '7a9UUo3zfID7Ik2fTQjRLi', '1woVRb6gryP7hsMvBkiIzj', '0UyljEbX9dqI1K0sqdv6B6', '5fIZ683j2xPeLAXfHeWKEG', '1qQuHA4nUZJUnZMriT5fXZ', '5lK18Pt33xNudq4qYDxIm8', '6usohdchdzW9oML7VC4Uhk', '6LtHYDgYHRCHoKK3snfr2w', '3s3VVLE1kB7Xk2AoJKlGmr', '1RMJOxR6GRPsBHL8qeC2ux', '2yqDbROZQLI1xQxgDVCSxQ', '3FijoNKGof7pCn7oddecOQ', '78KntfAskv8cMLQSa0a5PR', '754kgU5rWscRTfvlsuEwFp', '3RVpd1YvoSXj8Xi5izMs07', '73vIOb4Q7YN6HeJTbscRx5', '7FESgYLcOufHqKlwrvJN60', '0lsRatBUs9HNIZAmoGABzk', '6QrQIAcvX1OZ0UrOjj2mrJ', '5UEnHoDYpsxlfzWLZIc7LD', '59RSrxkSKSixEWBAIvE5Wa', '5gOyjqIifZ9NqVcaIIlqv7', '1HwpWwa6bnqqRhK8agG4RS', '3nEHrvNNtgLv9rneTAYVr4', '4L2K7JKseFCBoHMZEAszW0', '2aKxfUQg9dhvgm7Yt9Lc7Q', '6cSsWi1c3ewIEmbqdUWsUM', '1vicNVzWoAnteQMlTzI2VF', '2gQK13gXYZRq2MgvPJyHx8', '1PnAx788sAvcI3ZxTlEyX8', '5x3FNIubrGQftoIZYXNDFV', '2DrGEaqoruCSn0FffWCf5O', '72VliVsh3slpViyWTgRtgs', '2h945VWM1QyeqzbZ1dIN2i', '2rPE9A1vEgShuZxxzR2tZH', '1u3nu8fNWFua6mQjw4ReEt', '1KdjbgMfPmQQANYVS2IfTJ', '5TvE3pk05pyFIGdSY9j4DJ', '49QEJdbU9mf4VUXReOpZ9u', '4XSm0Z4HAuxsuSksXcaWki', '0PUWmPna5P0hKtSwXWin9o', '1yIi7qRdybE4yY1V0YdOKG', '6EIMUjQ7Q8Zr2VtIUik4He', '6cmNQVzoolK92P3i7iCCkc', '75JFxkI2RXiU7L9VXzMkle', '6FRLCMO5TUHTexlWo8ym1W', '5NijSs5dAwaIybq1GaRTIe', '6Gg1gjgKi2AK4e0qzsR7sd', '52r4FYDc8x1DlWt6x2vuiT', '4ESPuOrSsRcBISzcMlzmY5', '5tMY5DJvFr9f8UGTta6KEj', '0VpSpAYEc2DlNSmnxGyg6F', '6Qf31WK53n3on7q3pOXq7f', '7culXP38P58h83PXwLQqyg', '25F6MWrnFBCXVnpN4n76EK', '413ir53trC0Nfh4Mhdmgws', '6LsAAHotRLMOHfCsSfYCsz', '2sfqqXVodMi9WFn5zokQO8', '629DixmZGHc7ILtEntuiWE', '6g6ideAIzJ26LLxtpoDHVy', '0SyxZC4wlqAwf20cHE6Xon', '7nSataGo54Le0IfcFQCFLN', '0ygAYQQy7bfDN6gH640bbl', '7zBPzAjKAqQpcv8F8GCq5s', '5JRMqkR82k2fdDEAim9SCN', '4wmZtoif8SGm7PDqgKrEXr', '3o2kwzJXZvK9EgE9FOX4HA', '40uMIn2zJLAQhNXghRjBed', '1EHUQesfVKwbthtNcpBi9g', '0psS4i5YooJrXfDnGvWRLi', '0nJW01T7XtvILxQgC5J7Wh', '42CBH9NTywfX8xn7F8U7w3', '472vIK1ldetTxRxG3ovaiY', '4onEVnBCmCJhP0H0ctqPLG', '7AvuIMRKdo5RvS6YIzXjsj', '3PsHulD1zewglcTPcEPnlk', '3EaJDYHA0KnX88JvDhL9oa', '3ZxfehzRtB3oJcBuxWXFZQ', '7b8YOVV5quZcSKEijDgyWB', '6n6dqOk5vLiqYaa9Fw5ylH', '1a2iF9XymafjRk56q7oCxo', '2Tq2R8sRftNEqdgJK5HadO', '5CM4UuQ9Gnd6K2YyKGPMoK', '7nZmah2llfvLDiUjm0kiyz', '29kixq8kxaIuxN0TAZomaU', '27sKtH0PZpASkN8H3ZJOQf', '2nC3QhMI9reBIOWutbU3Tj', '4ASOMWcJUrwEpjJy4GEijz', '3nnG7AM9QopHVPEuLX3Khk', '6WmIyn2fx1PKQ0XDpYj4VR', '5zWlxgY1N9MowiZ2eF6NNp', '709F3MwiVvLD0LQXeKs5Cz', '3imYkN34og7muZbkSZWLUW', '3rxVPmnImXWdy0XImxmN6F', '36VX8QfAJAlGItZPedIRWT', '6bsg90K6hmiDiGF839rOPE', '5tmu5pAFHkUSl8Fo8ncyA4', '2lKRa8BRR5bZkSoQBE3yh9', '2wSQyp6VzUopSFBinRo1iD', '3Kwj07sN1wdzlRNMU8rNX0', '6dpLxbF7lfCAnC9QRTjNLK', '072PI4U52gO1NasX4Lpv7Z', '0Oqc0kKFsQ6MhFOLBNZIGX', '3oUn55qKRZ1JFzfQNbJjS1', '6w1DBbA8akxHPiBQ6nAyJq', '7iAgZvaO0yxtq0v6c0cKrF', '0RnxpSzxzwZgFQ0NahQr9K', '2rd4FH1cSaWGc0ZiUaMbX9', '3yZsBXwiQkqLjnWYip17Uu', '7C1trmcQQ5n5RNy4l6ziCv', '37CoOXIsgF3NzbK1zHZetk', '6UFEJuDXQMWhL5UH5f9fUR', '6XHVuErjQ4XNm6nDPVCxVX', '27u7t9d7ZQoyjsCROHuZJ3', '3aQ9MHkMeL7Yu7jpyF62xn', '26b3oVLrRUaaybJulow9kz', '1USJRpWDFhxwhCajPXBeel', '1AHf5FSofKcUw8tyKkccKF', '3eDVM4I0FMFS6QZDIgpOEW', '5kflnIKOUU6aLXkVXmJ6iK', '2GNxSn3YBrru8grMWsX9EX', '0B6BPNZ7gmg80qKIa7Rug1', '64cfNIF6xJsYcU44thqWcx', '73ouBH2o87Lq3V8Kfz4CMq', '3AsHh0spKglHG3dtDmsoRL', '1bJRd2ey6ER7neSxZwYdAG', '1z7LV5wkExwW8YJk0IrPUA', '2R4AlwtrrkMaRKojcTIzmL', '3Qj2f7BrpJNGj3dbxKpOlp', '5jBGI01km1Rt8gqBKVCU7R', '5gRCBF8BbbQA4M7wRFjqxg', '1DMEzmAoQIikcL52psptQL', '285hMzLhJwHVLe9QT9qilk', '4EUQXLipplO2v9mVaqQtjc', '7FQhRfLwklMayNW3MC27up', '4l2rsMfr20dj6nf6i6F3Y8', '7yNf9YjeO5JXUE3JEBgnYc', '7IwPrc0AZV9uMSPitvJMxx', '37vqpVS6sQFhLdNZhHo1zu', '5vtyFzfLkCSJvXEZFjQAa1', '5QXZXe7lEFnoEi1GV2pnrb', '5Db9VIdDsN5yu3Eu7CT0i4', '2qxmye6gAegTMjLKEBoR3d', '3HeZam86SuxGp1wZ3XMIjE', '1yVBxI8TaIL86Rrmah83fd', '3CBwK6H17WEX6qkVZsVVDo', '4wLZ4zPM9c4oe1VV8ejdWV', '3tbNT2X5tfMIVeUflYbZUZ', '2K9aKWIqTlv2tEsb4mptJj', '0b6wdul3A5sQNpIOv03OxP', '6gi6y1xwmVszDWkUqab1qw', '1nhsfhyx2J9c63vcwkzUpE', '0mel2N9Ws9r4yLQn5QE21Y', '7sPoDigIbCWDS6AZmOhSRR', '5mfGEs5n647v4WE3K5YmBy', '2jTidefcsTu6VQhpIImJrt', '6Up545NUflOiXo8cEraH49', '4fZ9WECee9p7FEWOUP03jD', '7zFXmv6vqI4qOt4yGf3jYZ', '2Iq6HhIquO7JKr0KfTNLzU', '6CNT5aThbP183ncXeGwTdC', '3witRpHWHqArlnt6GTlH2Y', '2e9nFeG5nUJrP1GZrizkVd', '1lyNFzcCl9kXCof6GV32fV', '5795rPYTG0IWVfSJoptauo', '4fPBB44eDH71YohayI4eKV', '4KULAymBBJcPRpk1yO4dOG', '0Oa9mHOnH14GZ4toWwkf4c', '2pyjbGTpJCPjMYwCbdymiF', '3USxtqRwSYz57Ewm6wWRMp', '65Bynqyt59f3fojjs1Uo41', '3vOmmLuvEUgGaVuRsCs2QF', '7q8jJ1XZEliBakZSUMFde5', '6XlSyYFTU1nodeWwwzVgTV', '1dEy9Pl81QopSxNsPxXQxv', '1Cv1YLb4q0RzL6pybtaMLo', '1uMHCAyGmHqyygoNRuo7MV', '5tBbxTvjJ2e1gc4vLnRzEF', '3AjSfp5FDvwtMU9XBsbS8j', '2sEq2rC3ynYsT49x7utWnd', '59wlTaYOL5tDUgXnbBQ3my', '75ls0gurX68lUmMjE7QcsE', '6Ea2oEzysv4UECGNxL1IEW', '1nDOeWBfRKA5YNQ8bKWzMM', '2TO5S8NzOc20lhR3s9Gwe3', '68SNAUUgO2XwxykrEboEZN', '3Yyj76BeYt3QIffwKpRuKL', '5clYhUpqYzy0Fdz3TdtZ3j', '2bl81llf715VEEbAx03yvB', '2Xo3rLHjXfdb4avN68aQyi', '3f9Mzvd3URfbbIJBX4pz9Z', '0cu0rhnlCnJ7JIeHRiLpj3', '3axeZVcu2Tnz6wUXf84bEO', '3FwzAQ2kVYHhaACqh79trJ', '07TnWCHrFkvF61GzJuLVt0', '11bD1JtSjlIgKgZG2134DZ', '1UjcfBPJt8mMvJ5QyfaWuq', '6Nt2GOTUSE008KhubVAEeH', '26OhjtaTamFocE08t83ml6', '3AJwUDP919kvQ9QcozQPxg', '5KFasflYKU9VnMTthjNXNv', '557S0RTbb6PMZfc2g3YqKb', '6tlan2FHMyIKBRR62zxusZ', '1635wWSdp29PO3GxYhy991', '2CPqh63wRVscbceKcPxwvv', '3spdoTYpuCpmq19tuD0bOe', '7CVND4bJzxcNdOCWX2StdC', '3fzL0RuACZtv5cQ6R78Sjq', '6Ehy8wRUYjAZcMMRCxMZVM', '2V1nJCtknnPvSFUJ0a7BUk', '7KaJap4aDdiIXR4a7ug7ih', '6w7pyStLqgxZn8WYf0cHrF', '00ko9WaS4jOX1kEk3gvHjf', '7v96VvFLS0wSYT8kewNLRy', '5Hh09KHzQ9NRjRd6HIes5R', '5YbeJyTQkdSAWe1Ie4sLAl', '7B3z0ySL9Rr0XvZEAjWZzM', '25ZH4Gdkv29iuh8E1PlMuQ', '0M3HkE321xpCbCYqVKzr1q', '6txvQu0zUbiqG24A8XMLnK', '1hPkiovjTqiJAJen4uyNRg', '06u5LrUpbosQlQ1QJFhPpG', '1D07CwYBPqu8NbQTdu9C1g', '3hPHUpKVB4xo9efj2y29W9', '2bydO0jZES9rBvSnPvYN5L', '1w5GiowT8eXagycUBqcz2g', '7KQ8sdFIWCCDXIcQDEeuzC', '7gkWXbAxIYuvtOpcN3p9GJ', '2dz1PWeukbAfsXgJadiaBu', '0aMHIW1lqrulVCx0LLlr6a', '6TqXcAFInzjp0bODyvrWEq', '0TK2YIli7K1leLovkQiNik', '5yFSF6qQA1rcLsQRnBsZgb', '113xf7t4qNM7038YJvauik', '2UikqkwBv7aIvlixeVXHWt', '2gQq0xEkkNTBk1jMdl5tpC', '6AGOKlMZWLCaEJGnaROtF9', '3J4VKkUpLvomXJbn9ZAypO', '0lrIwNdTiHaOlw8gqwXk6L', '5icOoE6VgqFKohjWWNp0Ac', '4djIFfof5TpbSGRZUpsTXq', '0v1x6rN6JHRapa03JElljE', '53XM8O6sQ4YzCq2jYgXuC6', '331l3xABO0HMr1Kkyh2LZq', '0wOtc2nY3NOohp4xSwOyTN', '1AxAPXcUcH3nXXeCeG0kGV', '2NZ2hBqes4aKSmt5Gsxnub', '1qbXrxctv75pm1lWCn6Zw3', '3gVks4tc3TzqQYdDCPj7f2', '3ZCTVFBt2Brf31RLEnCkWJ', '4k6Uh1HXdhtusDW5y8Gbvy', '5LC7nItIEFp4nzdFdEGbf9', '52jCFwQBAf04Bi8xrE8DJu', '0V9Lj9QsXAbOd9vKcxoQl4', '55S2PQgSMYAhgoTCcGCDfw', '0wsflw6A3Qrbrl3YbWK8tx', '6D7ub5xZYc7oLq6JDFIm8c', '0mqTcM8kuu2IYPotMt7AzS', '7pYPpFhFyOwCjf4y7vdJqM', '1t5nwfsb90IliczIhOMnpJ', '0tBbt8CrmxbjRP0pueQkyU', '5qrzhg9Fmu8Amg2uMhHfe5', '2PcRcEPe8HkDhYsA6OV6d4', '0yLsJKNJHmSnmSGl3ZodYn', '5u2QALJvgURVkVOJBFVH0a', '5Xu7nrKiVHslrdlNHRsSsP', '0daWH6qNvD4kj0ybK7QvGg', '3WMj8moIAXJhHsyLaqIIHI', '3TJTvFCoVZaWWTRuaIPkMl', '4CljUDO1I5hpKjwSNK6RWY', '5ZzaQW3InamKZ0KdJVQ1GO', '0Nfh4u0J4bajcyp5pzaWCx', '0eOittnGnC26OYAndRitcn', '2ZxTjs4EdJl4Y9YByIiNoo', '4sAn9xKA6VlpXHdpNtsyHl', '3ZFTkvIE7kyPt6Nu3PEa7V', '3QzAOrNlsabgbMwlZt7TAY', '1oQZk2bKBLgP1cbuFKvjkq', '7K1H5Peem34cxKy40kNFw5', '1bkvGbgK4HU8B7Ue4k7O7I', '3zIuHdD8dkh1vPxQu334T7', '1aU1wpYBSpP0M6IiihY5Ue', '7KSEZdQB5XD0s1nrck5bHk', '2TOzTqQXNmR2zDJXihjZ2e', '0hNduWmlWmEmuwEFcYvRu1', '7vGuf3Y35N4wmASOKLUVVU', '1ZLroqJA8qoS5QEeCo0fA7', '26D28QBtBmqhhIwvyPVPT6', '24ntSW3QVJzR79lHAAOTaY', '6tNgRQ0K2NYZ0Rb9l9DzL8', '278D2oQRhZ0UHZZdsPIUDn', '2zjGJ0dChMR0KxBZS15aqo', '4rCuwgRRKaIiHlHDc8Bga6', '3wiBHa4ZRg1q8nNLR85vVK', '56yFJewuZr1kKfYu2O35nx', '75c2zaSdDBSX0A8Jyvm4fO', '51w0BMC24JALh8uzwRzjMB', '1ToprX3cpBiXoAe5eNSk74', '6KqM3xmPIDonsTjCSGrrr5', '3B4q6KbHbGV51HO3GznBFF', '2NmsngXHeC1GQ9wWrzhOMf', '7vrJn5hDSXRmdXoR30KgF1', '0qHPxjC83zQYcxe39xSShx', '4Hkr3DpHTaUUkgFwPLS1NX', '1NbGcdgwRHZ5rbPIT9hdR3', '4NzMOnvSJVNKF7nw5NkXIP', '49fSj7bWWBfsi8thBoHN3S', '1ABslUckRrFkoef21Y1EJ9', '4OafepJy2teCjYJbvFE60J', '04oG24PjVs59q72Id8wXFK', '02kDW379Yfd5PzW5A6vuGt', '48lxT5qJF0yYyf2z4wB4xW', '74ODGXs4byLTRdnKGM4s6E', '3obgSF06ki98lYNLNq5vCB', '6pul7BJkKcVHIewzPLW2rc', '3RfTeIrWS8LNrfHYwechtt', '0QIjsbm2fh1cJ45XO9eGqq', '5LrN7yUQAzvthd4QujgPFr', '4aai1PoVGPcspMhmzOzpZN', '2aQpISWUBToaF84DDiTeRV', '3ioJ2eGWcONEvna37MpsiE', '7iDa6hUg2VgEL1o1HjmfBn', '3WSOUb3U7tqURbBSgZTrZX', '5JboK5zbbhXIN7iN9NHS8t', '0iI2cOHpX6xmwKD15Q5ynd', '7DwcBgdzqhFJltEaV1XF81', '6ES1G1anjmjDdQsPzlFaXz', '43PGPuHIlVOc04jrZVh9L6', '4gqMQftUs22F8pOGVn5Acr', '5ZvHcR4OSwvEV5IhigbTOT', '4szwPQ7ajXpyqykjtv6RLE', '4pvb0WLRcMtbPGmtejJJ6y', '4kV4N9D1iKVxx1KLvtTpjS', '5ZwZLXqqiQs33LHSSPxOf4', '7Ed6BkggCS2KaKY5YlINaF', '6UqRGwjwYL0stXbaodTxwo', '7CqU61haaiMNAz4hvbDfWV', '47EiUVwUp4C9fGccaPuUCS', '2KclJjnLjul7NhyJrAhpUu', '6RbH4isVKIOg1OY1HvRqFc', '70rFIfYN7lU6iTgUIVP42w', '0MuaRi77N4gPEfVkuooxqS', '7KeM63RotkWiGnHKkboz4t', '3kkGT3plagh00ZKN7xSsCb', '0JZ1ABjN8q7TNwMP39NjvU', '2J6OF7CkpdQGSfm1wdclqn', '2ARqIya5NAuvFVHSN3bL0m', '4IqcDJPzDL8Hq8KwAX4jUE', '7t7QJFQLHJWCiHBswHnbzZ', '630sXRhIcfwr2e4RdNtjKN', '3qhlB30KknSejmIvZZLjOD', '3V0nnQhqvbE3JmiDdnzQFQ', '4lnAN2S1fcI0SjxEbksZVr', '6Oe5tmI1bfguCp6dKHbSj6', '74qKLdiiTnXNqh2Co21RlJ', '6VY0e7CeU2vb3hgU9X5eDR', '4SBVWkRIMJ6WBCYPvr5Bwr', '7LzouaWGFCy4tkXDOOnEyM', '0K7rM2hQY6D8oTE7z7PaQw', '5HphhcOuLFWBj9IghbrKJB', '1D5ifTPFnQWDnSxSAfc1hc', '1g3ErLqysBJ5EIGdYYMWFZ', '3MwKRb5GB9phdL9ktdvBsv', '5nA67Y0XX9JipZwYxX7Gl7', '6iCH68EVZeUm0qlIBp5GOO', '4CJbchKHZEboLnqQqPszoN', '3fpVWegR6YOS1Yk5HSMYIq', '4eL3XeuGaEoVT8ttDh3hwY', '6cjqrltcgMe98n6tcEF8Uu', '3Ofmpyhv5UAQ70mENzB277', '5YSHygGN9D0mID1NsVd5my', '1RJl5cZ8kFpoVFOS2x6scI', '2hPGC3ZuGsJUF1ixwzNMU6', '0mV5JWhyUFANd9qpwLkM8d', '5K3NDUPkLe46b5DRMt2RNJ', '2mmZEYQ0GuT4DlOL5vIasb', '7L605WhF5EGf34ggj87yK6', '73FDJgnjt6ZcxoiavN6XrS', '1tNJrcVe6gwLEiZCtprs1u', '2vdBo4ALPYbHRUPKgtE5iC', '2VFf8YhTnmhWF108o9UEr7', '0PHqHvmg4TIaANfbsvDMTR', '6YKtXMb7DISTUfYjSSPsEq', '2Nq4SFbvYYZa8AF7lD7CWU', '3atYho4CmCXX4VCqri7uKn', '1BHQ0iJJ3bGKrSU0D7W90D', '1QgTBfRN5m81a5K01qens6', '0YMe6PHRbeDcN7KJdCG0bW', '42LY6qYxu3L6nJ7Dt72gNy', '5hJb8AP76Z82b8ThCDJeOq', '7CHi4DtfK4heMlQaudCuHK', '3i9UVldZOE0aD0JnyfAZZ0', '4WMMaqVZIlUnDvICcXWgeZ', '4hPpVbbakQNv8YTHYaOJP4', '5LInOGDHqrgetnMlnvaDNq', '1nal3Tf1OCV53KigMZXsZ7', '3mmjD9G2HUUzDbFl3NRDLM', '6PERP62TejQjgHu81OHxgM', '2IjyFRCRn8x1bEquOM3vxg', '5a6pdCHlWS2ekOOQ70QnAr', '4XhKlldAw3goCcEZHF8Ath', '6rqUOLt9dpfMANLMKTzoWj', '3IIK2PF857uUCC8rLUEkwv', '4sjiIpEv617LDXaidKioOI', '4eamJr2k9YDH8j58RSTmSc', '6Quu3PRWFZNE297wRNgsmn', '4G58eym5EGj8ZG1qt8DXIx', '1F35Dmog9pekyCVnH1eQpl', '2HCPn9zy2dN1UbHhEk5VaH', '2vNyWYQtbrgOKcSG64SZMJ', '2hGchv7KYaINz9Z1qzufNm', '17s9ohMleXceK8Qobgl8Zd', '7CkbRn6S0itJqcqn88AtSV', '15hLHhNQBKMEOHymP7QPkH', '18uwL0vNUanqZH0ro2QcOP', '4sLtmtKMmA5iCIa90tWhSe', '7dt6x5M1jzdTEt8oCbisTK', '3EYOJ48Et32uATr9ZmLnAo', '65T1aY3I9qfNUDVAnaM9bq', '62Yo3FDddWY8ydu6PW2wyz', '1jkIErXa3YNUX5QIyO6GGR', '5v2ePUTZiv1mPDCD1nSbfF', '20on25jryn53hWghthWWW3', '7vGGAJBkHKxKtOnGjQduDV', '6UFivO2zqqPFPoQYsEMuCc', '3IU6xbfNZosvTdRrGs8b2u', '0GzuHFG4Ql6DoyxFRnIk3F', '1almCHdsfikRPfVB9VrEdT', '48jV8AW50589btXi0Hs5f4', '1TEL6MlSSVLSdhOSddidlJ', '4Jp5pt7xrG2DLkUtUtqhzl', '2T5NBwKRySiCR78vVk08vr', '3j8FPquKEOygdUMLLs1Pxr', '39LmTF9RgyakzSYX8txrow', '0dkPo2Tvo0PhGJaUAvk4pC', '6SxhMVIqpdEOf9jVzgfQJZ', '4JHg4nNYUJQ5HULcCmI18R', '3uMXL8dZPO0NwnsLQ63cC1', '2e6KxbPy2qQ6HXCDDTsbzB', '1wVuPmvt6AWvTL5W2GJnzZ', '4uNDs2TBsv2KX9b4LIxfdt', '5O8x1YlmLQopQHErxtDfi9', '0tgVpDi06FyKpA1z0VMD4v', '0yM3VmM8gHEVGViKvAbQkc', '35RJhm1pEovTBwnNR0zWad', '2ZTYlnhhV1UAReg7wIGolx', '7DHCX8kKEN50gDh2NRbTJM', '1R6VwZ8TuHRzxZUxe88n4I', '4q8PHoRsPUB52LFylX8Ulz', '6gxycjJNMgmAyfzUXBN80P', '6GNifiuBPrKFpwNBYnooFm', '3TXKwYk2H7hZQFB0j8z4yq', '7iMDaY1LnASwCk2uUpMtii', '1JretlXUtNLNoJrkgtCnWb', '2tnVG71enUj33Ic2nFN6kZ', '3IAfUEeaXRX9s9UdKOJrFI', '3FAJ6O0NOHQV8Mc5Ri6ENp', '3krZxyBsWEHfEfJegYaWTd', '0rKWJnmo6Q0ovoPOLoLm0t', '3Ol2xnObFdKV9pmRD2t9x8', '2Yer0p7uB2lVBUAtANuuQp', '0q75NwOoFiARAVp4EXU4Bs', '7thTA3hqO2MgOlzo0rPInX', '2S2od3hT7ceytw7d1pTRuE', '4AxMrysTzBOsFg94g3H7Mh', '7N118VYdB5NbtnDhsmmndA', '1IHWl5LamUGEuP4ozKQSXZ', '3lFNDaob5QhwE9oo7J0uNT', '5274I4mUMnYczyeXkGDWZN', '5PNAjnkjDEuRMvkYxO3yb0', '1sFstGV1Z3Aw5TDFCiT7vK', '3W2ZcrRsInZbjWylOi6KhZ', '06JmNnH3iXKENNRKifqu0v', '1aRvUHgMe9ichgcHAAs12f', '2OvV4NjEBRE9v8Oo7QeUCq', '16ox7ZM0ozbzBOTjFecYuY', '7fzHQizxTqy8wTXwlrgPQQ', '630Ug0XtmhhFvAKo0PNuEI', '1Xc2umzOkPctqyXAeep8j7', '2ZDpSQfBdgkooeXw6oj3Uz', '0lG6QM1jjbbX5UUn3DPmrZ', '6i4SkbWVHe0pEP9PrreQ7A', '4T3fNx3CgwDRRYgmFCbD4J', '1QOxaQ0QruusmKZk5G3sot', '27tDoZsybt3KvJWTDoW9id', '5KCbr5ndeby4y4ggthdiAb', '3Yt0liwMgB3I0xv3FQBDzI', '158fT4ny1hTwBUamEeCeVH', '0kp728Knw5PYvU3QzMZ0yJ', '1sOr5OXjbukTzBDgmvd6Fa', '5sdQOyqq2IDhvmx2lHOpwd', '5QOBT97OmYCZo1W5u7tRrB', '696DnlkuDOXcMAnKlTgXXK', '2r1lPslV2VBhU6WJYolxJn', '7kqCbVG93MnBnkRGiKWTPs', '3G2omDJ5ZGYSiJV3UOOPw0', '1fUTkSn2LxAN7nc1gbau7X', '1akuYztpg4VfZT8Lg4N1w9', '4kP69y3GKHi9tXckfgp4bK'}\n"
     ]
    },
    {
     "name": "stderr",
     "output_type": "stream",
     "text": [
      "  0%|          | 0/18 [00:00<?, ?it/s]"
     ]
    },
    {
     "name": "stdout",
     "output_type": "stream",
     "text": [
      "Batch  1  to  50\n"
     ]
    },
    {
     "name": "stderr",
     "output_type": "stream",
     "text": [
      "  6%|▌         | 1/18 [00:11<03:15, 11.49s/it]"
     ]
    },
    {
     "name": "stdout",
     "output_type": "stream",
     "text": [
      "Genre Alternative R&B not found in playlist genres\n",
      "Batch  51  to  100\n"
     ]
    },
    {
     "name": "stderr",
     "output_type": "stream",
     "text": [
      " 11%|█         | 2/18 [00:24<03:15, 12.20s/it]"
     ]
    },
    {
     "name": "stdout",
     "output_type": "stream",
     "text": [
      "Track with id 0blPZYIrl4c not found in saved tracks\n",
      "Batch  101  to  150\n"
     ]
    },
    {
     "name": "stderr",
     "output_type": "stream",
     "text": [
      " 17%|█▋        | 3/18 [00:31<02:30, 10.05s/it]"
     ]
    },
    {
     "name": "stdout",
     "output_type": "stream",
     "text": [
      "Genre Relxaed Jazz not found in playlist genres\n",
      "Track with id d5yiImOvhyoK3QXUHVWcUUl not found in saved tracks\n",
      "Track with id 3ImyKJ34og7muZbkSZWLUW not found in saved tracks\n",
      "Track with id 3KJCnRgpRCafGpbxlG6Q not found in saved tracks\n",
      "Track with id 32pQP3XD7rIYracK not found in saved tracks\n",
      "Track with id 7pCcxxrnJt55MwbpaTQDX not found in saved tracks\n",
      "Batch  151  to  200\n"
     ]
    },
    {
     "name": "stderr",
     "output_type": "stream",
     "text": [
      " 22%|██▏       | 4/18 [00:48<02:57, 12.68s/it]"
     ]
    },
    {
     "name": "stdout",
     "output_type": "stream",
     "text": [
      "Genre Smooth Soul not found in playlist genres\n",
      "Batch  201  to  250\n"
     ]
    },
    {
     "name": "stderr",
     "output_type": "stream",
     "text": [
      " 28%|██▊       | 5/18 [01:09<03:22, 15.58s/it]"
     ]
    },
    {
     "name": "stdout",
     "output_type": "stream",
     "text": [
      "Genre Electra not found in playlist genres\n",
      "Genre Modern Pop not found in playlist genres\n",
      "Batch  251  to  300\n"
     ]
    },
    {
     "name": "stderr",
     "output_type": "stream",
     "text": [
      " 33%|███▎      | 6/18 [01:24<03:05, 15.45s/it]"
     ]
    },
    {
     "name": "stdout",
     "output_type": "stream",
     "text": [
      "Track with id 6DOaNzpljZIBFc39D9zLbh not found in saved tracks\n",
      "Track with id 06df5F10EN17vraisG1gQv not found in saved tracks\n",
      "Track with id 6TiZIwlsKSnfOoCcnGFVDK not found in saved tracks\n",
      "Track with id 4omRAd3dJuImyO3vvzNwbQ not found in saved tracks\n",
      "Track with id 2aAmKN8EJizCKCJvw4bBhi not found in saved tracks\n",
      "Track with id 5TcF5F10EN17vraisG1gQv not found in saved tracks\n",
      "Track with id 6I8tHoNBFTuoJAlh4hfVVE not found in saved tracks\n",
      "Batch  301  to  350\n"
     ]
    },
    {
     "name": "stderr",
     "output_type": "stream",
     "text": [
      " 39%|███▉      | 7/18 [01:37<02:43, 14.86s/it]"
     ]
    },
    {
     "name": "stdout",
     "output_type": "stream",
     "text": [
      "Track with id 29H75Kh9Y4nURBS2L2aDH1 not found in saved tracks\n",
      "Track with id 29H75Kh9Y4nURBS2L2aDH1 not found in saved tracks\n",
      "Track with id 45SzzpFNQ3jpcHeINP4HyG not found in saved tracks\n",
      "Track with id 32MnK6RboqxlBwdHpwej9X not found in saved tracks\n",
      "Track with id 5lm7gPCje8Tf3YednknxFJ not found in saved tracks\n",
      "Track with id 35BZGalfOOndjcbSuIrFjFn not found in saved tracks\n",
      "Batch  351  to  400\n"
     ]
    },
    {
     "name": "stderr",
     "output_type": "stream",
     "text": [
      " 44%|████▍     | 8/18 [02:02<02:59, 17.99s/it]"
     ]
    },
    {
     "name": "stdout",
     "output_type": "stream",
     "text": [
      "Track with id 78LE0PEeeMDYbeCXeS7FR5 not found in saved tracks\n",
      "Track with id 5px4XOe53I5m2U2RQSzwsu not found in saved tracks\n",
      "Track with id 5Fre4lYKIz1byM8jdNmNKM not found in saved tracks\n",
      "Track with id 7kVuy3J2evqA6h8SWlXsFW not found in saved tracks\n",
      "Track with id 5JAc0PLJg7iQn5Fj4d5Z3V not found in saved tracks\n",
      "Batch  401  to  450\n"
     ]
    },
    {
     "name": "stderr",
     "output_type": "stream",
     "text": [
      " 50%|█████     | 9/18 [02:33<03:18, 22.06s/it]"
     ]
    },
    {
     "name": "stdout",
     "output_type": "stream",
     "text": [
      "Genre bold rock not found in playlist genres\n",
      "Genre upbeat pop not found in playlist genres\n",
      "Genre danceable pop not found in playlist genres\n",
      "Genre indie rock not found in playlist genres\n",
      "Batch  451  to  500\n"
     ]
    },
    {
     "name": "stderr",
     "output_type": "stream",
     "text": [
      " 56%|█████▌    | 10/18 [03:02<03:12, 24.08s/it]"
     ]
    },
    {
     "name": "stdout",
     "output_type": "stream",
     "text": [
      "Genre neo mellow not found in playlist genres\n",
      "Genre broadway, show tunes, vocal jazz not found in playlist genres\n",
      "Genre bedroom soul not found in playlist genres\n",
      "Genre boy band, pop, post-teen pop, talent show not found in playlist genres\n",
      "Genre pop, uk pop not found in playlist genres\n",
      "Genre indie poptimism, pop not found in playlist genres\n",
      "Genre post-teen pop not found in playlist genres\n",
      "Genre british soul, pop, pop soul, uk pop not found in playlist genres\n",
      "Genre r&b, talent show, uk pop not found in playlist genres\n",
      "Genre adult standards, canadian pop, jazz pop, lounge not found in playlist genres\n",
      "Genre alt z, pop not found in playlist genres\n",
      "Genre pop, singer-songwriter pop, uk pop not found in playlist genres\n",
      "Genre irish pop, modern rock, neo mellow not found in playlist genres\n",
      "Genre viral pop not found in playlist genres\n",
      "Genre neo mellow, piano rock, pop rock, viral pop not found in playlist genres\n",
      "Genre pop rock, post-grunge not found in playlist genres\n",
      "Genre dance pop, pop not found in playlist genres\n",
      "Genre neo soul, pop, r&b not found in playlist genres\n",
      "Genre album rock, classic rock, mellow gold, rock, soft rock, yacht rock not found in playlist genres\n",
      "Genre folk-pop, neo mellow not found in playlist genres\n",
      "Genre dance pop, new wave pop, permanent wave, soft rock not found in playlist genres\n",
      "Genre la pop, opm not found in playlist genres\n",
      "Genre irish rock, modern rock, neo mellow, permanent wave, pop rock not found in playlist genres\n",
      "Genre ccm, christian alternative rock, christian music not found in playlist genres\n",
      "Batch  501  to  550\n"
     ]
    },
    {
     "name": "stderr",
     "output_type": "stream",
     "text": [
      " 61%|██████    | 11/18 [03:18<02:31, 21.66s/it]"
     ]
    },
    {
     "name": "stdout",
     "output_type": "stream",
     "text": [
      "Track with id 1sfqqXVodMi9WFn5zokQO8 not found in saved tracks\n",
      "Batch  551  to  600\n"
     ]
    },
    {
     "name": "stderr",
     "output_type": "stream",
     "text": [
      " 67%|██████▋   | 12/18 [03:31<01:55, 19.19s/it]"
     ]
    },
    {
     "name": "stdout",
     "output_type": "stream",
     "text": [
      "Batch  601  to  650\n"
     ]
    },
    {
     "name": "stderr",
     "output_type": "stream",
     "text": [
      " 72%|███████▏  | 13/18 [03:48<01:32, 18.49s/it]"
     ]
    },
    {
     "name": "stdout",
     "output_type": "stream",
     "text": [
      "Batch  651  to  700\n"
     ]
    },
    {
     "name": "stderr",
     "output_type": "stream",
     "text": [
      " 78%|███████▊  | 14/18 [03:59<01:04, 16.02s/it]"
     ]
    },
    {
     "name": "stdout",
     "output_type": "stream",
     "text": [
      "Track with id 6ThmUihH9dF8EV08ku5AXN not found in saved tracks\n",
      "Track with id 1wsHr8VsrferBYDm0bDyABy not found in saved tracks\n",
      "Track with id Can You Hear Me not found in saved tracks\n",
      "Track with id Amazing not found in saved tracks\n",
      "Track with id Lady - Hear Me Tonight not found in saved tracks\n",
      "Track with id Goodie Bag not found in saved tracks\n",
      "Track with id 4IZhotU3nKgBE8sBq6aMY56 not found in saved tracks\n",
      "Track with id Wait a Minute! not found in saved tracks\n",
      "Track with id Normal not found in saved tracks\n",
      "Batch  701  to  750\n"
     ]
    },
    {
     "name": "stderr",
     "output_type": "stream",
     "text": [
      " 83%|████████▎ | 15/18 [04:11<00:45, 15.05s/it]"
     ]
    },
    {
     "name": "stdout",
     "output_type": "stream",
     "text": [
      "Genre reflective classical not found in playlist genres\n",
      "Genre intense classical not found in playlist genres\n",
      "Genre relaxed jazz not found in playlist genres\n",
      "Genre smooth jazz not found in playlist genres\n",
      "Genre lively jazz not found in playlist genres\n",
      "Genre chill house not found in playlist genres\n",
      "Genre pulsing house not found in playlist genres\n",
      "Genre groovy house not found in playlist genres\n",
      "Genre vibrant edm not found in playlist genres\n",
      "Genre futuristic edm not found in playlist genres\n",
      "Genre intense edm not found in playlist genres\n",
      "Genre indie rock not found in playlist genres\n",
      "Genre quirky indie not found in playlist genres\n",
      "Genre upbeat pop not found in playlist genres\n",
      "Genre danceable pop not found in playlist genres\n",
      "Genre bold rock not found in playlist genres\n",
      "Genre upbeat hip hop not found in playlist genres\n",
      "Genre energetic hip hop not found in playlist genres\n",
      "Genre reflective pop not found in playlist genres\n",
      "Genre reflective r&b not found in playlist genres\n",
      "Genre reflective edm not found in playlist genres\n",
      "Genre quirky edm not found in playlist genres\n",
      "Batch  751  to  800\n"
     ]
    },
    {
     "name": "stderr",
     "output_type": "stream",
     "text": [
      " 89%|████████▉ | 16/18 [04:26<00:29, 14.97s/it]"
     ]
    },
    {
     "name": "stdout",
     "output_type": "stream",
     "text": [
      "Batch  801  to  850\n"
     ]
    },
    {
     "name": "stderr",
     "output_type": "stream",
     "text": [
      " 94%|█████████▍| 17/18 [04:42<00:15, 15.18s/it]"
     ]
    },
    {
     "name": "stdout",
     "output_type": "stream",
     "text": [
      "Track with id 42ashym52bERKclJsKt3Db not found in saved tracks\n",
      "Batch  851  to  900\n"
     ]
    },
    {
     "name": "stderr",
     "output_type": "stream",
     "text": [
      "100%|██████████| 18/18 [05:01<00:00, 16.77s/it]\n"
     ]
    },
    {
     "name": "stdout",
     "output_type": "stream",
     "text": [
      "Track with id 3anR0Yc7FIplP2YdTnI1D2 not found in saved tracks\n"
     ]
    },
    {
     "name": "stderr",
     "output_type": "stream",
     "text": [
      "  0%|          | 0/15 [00:00<?, ?it/s]"
     ]
    },
    {
     "name": "stdout",
     "output_type": "stream",
     "text": [
      "Batch  1  to  50\n"
     ]
    },
    {
     "name": "stderr",
     "output_type": "stream",
     "text": [
      "  7%|▋         | 1/15 [00:09<02:19,  9.93s/it]"
     ]
    },
    {
     "name": "stdout",
     "output_type": "stream",
     "text": [
      "Batch  51  to  100\n"
     ]
    },
    {
     "name": "stderr",
     "output_type": "stream",
     "text": [
      " 13%|█▎        | 2/15 [00:19<02:04,  9.55s/it]"
     ]
    },
    {
     "name": "stdout",
     "output_type": "stream",
     "text": [
      "Genre groovy house not found in playlist genres\n",
      "Genre indie rock not found in playlist genres\n",
      "Genre vibrant edm not found in playlist genres\n",
      "Genre quirky indie not found in playlist genres\n",
      "Genre reflective classical not found in playlist genres\n",
      "Genre chill house not found in playlist genres\n",
      "Genre smooth jazz not found in playlist genres\n",
      "Genre bold rock not found in playlist genres\n",
      "Genre pulsing house not found in playlist genres\n",
      "Batch  101  to  150\n"
     ]
    },
    {
     "name": "stderr",
     "output_type": "stream",
     "text": [
      " 20%|██        | 3/15 [00:45<03:24, 17.00s/it]"
     ]
    },
    {
     "name": "stdout",
     "output_type": "stream",
     "text": [
      "Batch  151  to  200\n"
     ]
    },
    {
     "name": "stderr",
     "output_type": "stream",
     "text": [
      " 27%|██▋       | 4/15 [00:59<02:56, 16.00s/it]"
     ]
    },
    {
     "name": "stdout",
     "output_type": "stream",
     "text": [
      "Batch  201  to  250\n"
     ]
    },
    {
     "name": "stderr",
     "output_type": "stream",
     "text": [
      " 33%|███▎      | 5/15 [01:33<03:43, 22.33s/it]"
     ]
    },
    {
     "name": "stdout",
     "output_type": "stream",
     "text": [
      "Batch  251  to  300\n"
     ]
    },
    {
     "name": "stderr",
     "output_type": "stream",
     "text": [
      " 40%|████      | 6/15 [01:46<02:52, 19.15s/it]"
     ]
    },
    {
     "name": "stdout",
     "output_type": "stream",
     "text": [
      "Track with id 50UA7UqqGrUTB70aOuQ3IlH not found in saved tracks\n",
      "Track with id 7TpuuWWsvE7cCaMuEU not found in saved tracks\n",
      "Track with id ActsdatefeatDrakXAyE not found in saved tracks\n",
      "Genre BravoRock not found in playlist genres\n",
      "Batch  301  to  350\n"
     ]
    },
    {
     "name": "stderr",
     "output_type": "stream",
     "text": [
      " 47%|████▋     | 7/15 [01:58<02:16, 17.11s/it]"
     ]
    },
    {
     "name": "stdout",
     "output_type": "stream",
     "text": [
      "Genre Deep House not found in playlist genres\n",
      "Genre Electro House not found in playlist genres\n",
      "Genre Bass House not found in playlist genres\n",
      "Batch  351  to  400\n"
     ]
    },
    {
     "name": "stderr",
     "output_type": "stream",
     "text": [
      " 53%|█████▎    | 8/15 [02:11<01:50, 15.79s/it]"
     ]
    },
    {
     "name": "stdout",
     "output_type": "stream",
     "text": [
      "Batch  401  to  450\n"
     ]
    },
    {
     "name": "stderr",
     "output_type": "stream",
     "text": [
      " 60%|██████    | 9/15 [03:15<03:04, 30.68s/it]"
     ]
    },
    {
     "name": "stdout",
     "output_type": "stream",
     "text": [
      "Genre pop not found in playlist genres\n",
      "Genre neo mellow not found in playlist genres\n",
      "Genre piano rock not found in playlist genres\n",
      "Genre pop rock not found in playlist genres\n",
      "Genre british invasion not found in playlist genres\n",
      "Genre classic rock not found in playlist genres\n",
      "Genre merseybeat not found in playlist genres\n",
      "Genre psychedelic rock not found in playlist genres\n",
      "Genre rock not found in playlist genres\n",
      "Genre singer-songwriter pop not found in playlist genres\n",
      "Genre british soul not found in playlist genres\n",
      "Genre neo soul not found in playlist genres\n",
      "Genre pop soul not found in playlist genres\n",
      "Genre soul not found in playlist genres\n",
      "Genre modern country pop not found in playlist genres\n",
      "Genre classic oklahoma country not found in playlist genres\n",
      "Genre contemporary country not found in playlist genres\n",
      "Genre glam rock not found in playlist genres\n",
      "Genre mellow gold not found in playlist genres\n",
      "Genre cosmic american not found in playlist genres\n",
      "Genre jam band not found in playlist genres\n",
      "Genre new romantic not found in playlist genres\n",
      "Genre new wave not found in playlist genres\n",
      "Genre new wave pop not found in playlist genres\n",
      "Genre permanent wave not found in playlist genres\n",
      "Genre sophisti-pop not found in playlist genres\n",
      "Genre synthpop not found in playlist genres\n",
      "Genre country not found in playlist genres\n",
      "Genre country road not found in playlist genres\n",
      "Genre modern country rock not found in playlist genres\n",
      "Genre la pop not found in playlist genres\n",
      "Genre opm not found in playlist genres\n",
      "Genre viral pop not found in playlist genres\n",
      "Genre talent show not found in playlist genres\n",
      "Genre uk pop not found in playlist genres\n",
      "Genre acoustic pop not found in playlist genres\n",
      "Genre lilith not found in playlist genres\n",
      "Genre modern alternative rock not found in playlist genres\n",
      "Genre modern rock not found in playlist genres\n",
      "Genre pop punk not found in playlist genres\n",
      "Genre neon pop punk not found in playlist genres\n",
      "Genre alt z not found in playlist genres\n",
      "Genre post-teen pop not found in playlist genres\n",
      "Genre teen pop not found in playlist genres\n",
      "Genre boy band not found in playlist genres\n",
      "Genre dance pop not found in playlist genres\n",
      "Genre idol not found in playlist genres\n",
      "Genre r&b not found in playlist genres\n",
      "Genre urban contemporary not found in playlist genres\n",
      "Genre album rock not found in playlist genres\n",
      "Genre singer-songwriter not found in playlist genres\n",
      "Genre folk not found in playlist genres\n",
      "Genre folk rock not found in playlist genres\n",
      "Genre soft rock not found in playlist genres\n",
      "Genre indie anthem-folk not found in playlist genres\n",
      "Genre afrofuturism not found in playlist genres\n",
      "Batch  451  to  500\n"
     ]
    },
    {
     "name": "stderr",
     "output_type": "stream",
     "text": [
      " 67%|██████▋   | 10/15 [03:30<02:09, 25.95s/it]"
     ]
    },
    {
     "name": "stdout",
     "output_type": "stream",
     "text": [
      "Track with id 1tEQ9kYYbSoTg9CFR3Ib00 not found in saved tracks\n",
      "Batch  501  to  550\n"
     ]
    },
    {
     "name": "stderr",
     "output_type": "stream",
     "text": [
      " 73%|███████▎  | 11/15 [03:49<01:34, 23.61s/it]"
     ]
    },
    {
     "name": "stdout",
     "output_type": "stream",
     "text": [
      "Track with id 5QOyuknhoE7AHwU902ctjg not found in saved tracks\n",
      "Track with id 4EyOIXAB4ovfH55v6hhKxJ not found in saved tracks\n",
      "Track with id 77Vu8qFkYnkKz7EtUu7XKc not found in saved tracks\n",
      "Track with id 6Gy7BbpSHFmw8gEsWomJjb not found in saved tracks\n",
      "Batch  551  to  600\n"
     ]
    },
    {
     "name": "stderr",
     "output_type": "stream",
     "text": [
      " 80%|████████  | 12/15 [04:04<01:03, 21.15s/it]"
     ]
    },
    {
     "name": "stdout",
     "output_type": "stream",
     "text": [
      "Batch  601  to  650\n"
     ]
    },
    {
     "name": "stderr",
     "output_type": "stream",
     "text": [
      " 87%|████████▋ | 13/15 [04:17<00:37, 18.75s/it]"
     ]
    },
    {
     "name": "stdout",
     "output_type": "stream",
     "text": [
      "Track with id 724aMLeLYFfikjDJCr5G9v not found in saved tracks\n",
      "Batch  651  to  700\n"
     ]
    },
    {
     "name": "stderr",
     "output_type": "stream",
     "text": [
      " 93%|█████████▎| 14/15 [04:31<00:17, 17.16s/it]"
     ]
    },
    {
     "name": "stdout",
     "output_type": "stream",
     "text": [
      "Track with id 2SAqBLGA273SUiwJ3xOUVI not found in saved tracks\n",
      "Batch  701  to  750\n"
     ]
    },
    {
     "name": "stderr",
     "output_type": "stream",
     "text": [
      "100%|██████████| 15/15 [04:57<00:00, 19.86s/it]\n"
     ]
    },
    {
     "name": "stdout",
     "output_type": "stream",
     "text": [
      "Track with id 9CnYHiZ5jGT1wr1TXJ9Zt not found in saved tracks\n",
      "Track with id 0PouHVwwbEORtqIaOJTwAQ not found in saved tracks\n",
      "Track with id 5bLSmuhMI5gmQD4OeyKunl not found in saved tracks\n",
      "Track with id 0PouHVwwbEORtqIaOJTwAQ not found in saved tracks\n",
      "Track with id 0PouHVwwbEORtqIaOJTwAQ not found in saved tracks\n",
      "Track with id 8LMwwC3gRWEvoU1WVtmaQA not found in saved tracks\n",
      "Track with id 7bdYxWPCs47dQ0XLwySOyv not found in saved tracks\n",
      "Track with id 0PouHVwwbEORtqIaOJTwAQ not found in saved tracks\n",
      "Track with id 5bLSmuhMI5gmQD4OeyKunl not found in saved tracks\n"
     ]
    },
    {
     "name": "stderr",
     "output_type": "stream",
     "text": [
      "  0%|          | 0/13 [00:00<?, ?it/s]"
     ]
    },
    {
     "name": "stdout",
     "output_type": "stream",
     "text": [
      "Batch  1  to  50\n"
     ]
    },
    {
     "name": "stderr",
     "output_type": "stream",
     "text": [
      "  8%|▊         | 1/13 [00:17<03:30, 17.53s/it]"
     ]
    },
    {
     "name": "stdout",
     "output_type": "stream",
     "text": [
      "Track with id 45ESReOqZ43FV1Ronh19BR not found in saved tracks\n",
      "Track with id 7235Fg1t5Nj5dGp7WsdQ8e not found in saved tracks\n",
      "Track with id 48Oqzxd7nbijgkIRyms9nl not found in saved tracks\n",
      "Track with id 45ESReOqZ43FV1Ronh19BR not found in saved tracks\n",
      "Track with id 48Oqzxd7nbijgkIRyms9nl not found in saved tracks\n",
      "Track with id 7235Fg1t5Nj5dGp7WsdQ8e not found in saved tracks\n",
      "Batch  51  to  100\n"
     ]
    },
    {
     "name": "stderr",
     "output_type": "stream",
     "text": [
      " 15%|█▌        | 2/13 [00:31<02:50, 15.50s/it]"
     ]
    },
    {
     "name": "stdout",
     "output_type": "stream",
     "text": [
      "Track with id 1aoWvGMW6W40WelevwsOUx not found in saved tracks\n",
      "Track with id 4T7aTl1t15HKHfwep4nANV not found in saved tracks\n",
      "Track with id 42QHbkMe6W0AZvbV83SP8p not found in saved tracks\n",
      "Batch  101  to  150\n"
     ]
    },
    {
     "name": "stderr",
     "output_type": "stream",
     "text": [
      " 23%|██▎       | 3/13 [00:54<03:10, 19.00s/it]"
     ]
    },
    {
     "name": "stdout",
     "output_type": "stream",
     "text": [
      "Genre Orchestral Soundtrack not found in playlist genres\n",
      "Genre Pop Nacional not found in playlist genres\n",
      "Genre Early Modern Classical not found in playlist genres\n",
      "Genre Soundtrack not found in playlist genres\n",
      "Genre French Opera not found in playlist genres\n",
      "Genre German Baroque not found in playlist genres\n",
      "Genre Italian Opera not found in playlist genres\n",
      "Genre Late Romantic Era not found in playlist genres\n",
      "Genre Modern Classical not found in playlist genres\n",
      "Genre Nordic Soundtrack not found in playlist genres\n",
      "Genre Swing not found in playlist genres\n",
      "Genre Vintage Jazz not found in playlist genres\n",
      "Genre American Modern Classical not found in playlist genres\n",
      "Genre Dartmouth College Radio not found in playlist genres\n",
      "Genre Midwest Emo not found in playlist genres\n",
      "Genre Nashville Songwriter not found in playlist genres\n",
      "Genre Needledrop not found in playlist genres\n",
      "Genre Chamber Pop not found in playlist genres\n",
      "Genre Philly Indie not found in playlist genres\n",
      "Genre Seattle Indie not found in playlist genres\n",
      "Genre Stomp and Holler not found in playlist genres\n",
      "Genre Cosmic American not found in playlist genres\n",
      "Genre Jam Band not found in playlist genres\n",
      "Genre Psychedelic Rock not found in playlist genres\n",
      "Genre Acid Jazz not found in playlist genres\n",
      "Genre Choir not found in playlist genres\n",
      "Genre Historic Recordings not found in playlist genres\n",
      "Genre Symphonic Classical not found in playlist genres\n",
      "Genre Vocal Jazz not found in playlist genres\n",
      "Genre Bossa Nova not found in playlist genres\n",
      "Genre Free Jazz not found in playlist genres\n",
      "Genre Jazz Fusion not found in playlist genres\n",
      "Genre Jazz Piano not found in playlist genres\n",
      "Genre Jazz Violin not found in playlist genres\n",
      "Genre Latin Jazz not found in playlist genres\n",
      "Genre Ragtime not found in playlist genres\n",
      "Genre Upper Bossa Nova not found in playlist genres\n",
      "Genre Upper Jazz not found in playlist genres\n",
      "Genre Contemporary Post-Bop not found in playlist genres\n",
      "Genre Post-Bop not found in playlist genres\n",
      "Genre Romanticism not found in playlist genres\n",
      "Genre Samba not found in playlist genres\n",
      "Genre Vibrant Jazz not found in playlist genres\n",
      "Genre Bravo and Welsh Baroque not found in playlist genres\n",
      "Genre COMET not found in playlist genres\n",
      "Genre Cool Jazz not found in playlist genres\n",
      "Genre Deutsche Musik not found in playlist genres\n",
      "Genre Garage Rock not found in playlist genres\n",
      "Genre Grammar not found in playlist genres\n",
      "Genre Grunge not found in playlist genres\n",
      "Genre Mod not found in playlist genres\n",
      "Genre Post-Grunge not found in playlist genres\n",
      "Genre Brit Pop not found in playlist genres\n",
      "Genre Neo Romantic not found in playlist genres\n",
      "Genre Greatest of All Time not found in playlist genres\n",
      "Genre Garage Punk not found in playlist genres\n",
      "Genre Indie Jangle Pop not found in playlist genres\n",
      "Genre Neo Garage not found in playlist genres\n",
      "Genre Surfer not found in playlist genres\n",
      "Genre Waver not found in playlist genres\n",
      "Genre Early Hair Metal not found in playlist genres\n",
      "Genre French Romanticism not found in playlist genres\n",
      "Genre Classical Era not found in playlist genres\n",
      "Genre Galante Era not found in playlist genres\n",
      "Genre Baroque not found in playlist genres\n",
      "Genre Orchestral Performance not found in playlist genres\n",
      "Genre Choral and Romanticism not found in playlist genres\n",
      "Genre Electro House not found in playlist genres\n",
      "Genre Slap House not found in playlist genres\n",
      "Genre Bassline not found in playlist genres\n",
      "Genre Motown not found in playlist genres\n",
      "Genre Soul not found in playlist genres\n",
      "Genre British Soul not found in playlist genres\n",
      "Genre Blues not found in playlist genres\n",
      "Genre Neo Soul not found in playlist genres\n",
      "Genre Ambient IDM not found in playlist genres\n",
      "Genre Jazz not found in playlist genres\n",
      "Batch  151  to  200\n"
     ]
    },
    {
     "name": "stderr",
     "output_type": "stream",
     "text": [
      " 31%|███       | 4/13 [01:08<02:33, 17.05s/it]"
     ]
    },
    {
     "name": "stdout",
     "output_type": "stream",
     "text": [
      "Batch  201  to  250\n"
     ]
    },
    {
     "name": "stderr",
     "output_type": "stream",
     "text": [
      " 38%|███▊      | 5/13 [02:00<03:54, 29.36s/it]"
     ]
    },
    {
     "name": "stdout",
     "output_type": "stream",
     "text": [
      "Genre none not found in playlist genres\n",
      "Genre Modern Country Pop not found in playlist genres\n",
      "Genre Italo Dance not found in playlist genres\n",
      "Genre Reggae Fusion not found in playlist genres\n",
      "Genre Pop not found in playlist genres\n",
      "Genre Soul not found in playlist genres\n",
      "Genre British Invasion not found in playlist genres\n",
      "Genre African-American Classical not found in playlist genres\n",
      "Genre Jazz not found in playlist genres\n",
      "Genre Jazz Blues not found in playlist genres\n",
      "Genre Miles Davis not found in playlist genres\n",
      "Genre Latin Classical not found in playlist genres\n",
      "Genre Brazilian Classical Music not found in playlist genres\n",
      "Batch  251  to  300\n"
     ]
    },
    {
     "name": "stderr",
     "output_type": "stream",
     "text": [
      " 46%|████▌     | 6/13 [02:11<02:42, 23.27s/it]"
     ]
    },
    {
     "name": "stdout",
     "output_type": "stream",
     "text": [
      "Batch  301  to  350\n"
     ]
    },
    {
     "name": "stderr",
     "output_type": "stream",
     "text": [
      " 54%|█████▍    | 7/13 [02:23<01:57, 19.53s/it]"
     ]
    },
    {
     "name": "stdout",
     "output_type": "stream",
     "text": [
      "Batch  351  to  400\n"
     ]
    },
    {
     "name": "stderr",
     "output_type": "stream",
     "text": [
      " 62%|██████▏   | 8/13 [02:42<01:36, 19.36s/it]"
     ]
    },
    {
     "name": "stdout",
     "output_type": "stream",
     "text": [
      "Batch  401  to  450\n"
     ]
    },
    {
     "name": "stderr",
     "output_type": "stream",
     "text": [
      " 69%|██████▉   | 9/13 [03:39<02:04, 31.09s/it]"
     ]
    },
    {
     "name": "stdout",
     "output_type": "stream",
     "text": [
      "Genre classic oklahoma country not found in playlist genres\n",
      "Genre contemporary country not found in playlist genres\n",
      "Genre modern country pop not found in playlist genres\n",
      "Genre british soul not found in playlist genres\n",
      "Genre neo soul not found in playlist genres\n",
      "Genre pop soul not found in playlist genres\n",
      "Genre soul not found in playlist genres\n",
      "Genre modern rock not found in playlist genres\n",
      "Genre permanent wave not found in playlist genres\n",
      "Genre cosmic american not found in playlist genres\n",
      "Genre jam band not found in playlist genres\n",
      "Genre psychedelic rock not found in playlist genres\n",
      "Genre merseybeat not found in playlist genres\n",
      "Genre classic rock not found in playlist genres\n",
      "Genre british invasion not found in playlist genres\n",
      "Genre pop rock not found in playlist genres\n",
      "Genre neo mellow not found in playlist genres\n",
      "Genre piano rock not found in playlist genres\n",
      "Genre la pop not found in playlist genres\n",
      "Genre viral pop not found in playlist genres\n",
      "Genre post-teen pop not found in playlist genres\n",
      "Genre teen pop not found in playlist genres\n",
      "Genre pop not found in playlist genres\n",
      "Genre alt z not found in playlist genres\n",
      "Genre idol not found in playlist genres\n",
      "Genre uk pop not found in playlist genres\n",
      "Genre talent show not found in playlist genres\n",
      "Genre boy band not found in playlist genres\n",
      "Genre dance pop not found in playlist genres\n",
      "Genre urban contemporary not found in playlist genres\n",
      "Genre alternative rock not found in playlist genres\n",
      "Genre acoustic pop not found in playlist genres\n",
      "Genre lilith not found in playlist genres\n",
      "Genre country not found in playlist genres\n",
      "Genre country road not found in playlist genres\n",
      "Genre modern country rock not found in playlist genres\n",
      "Genre classic country pop not found in playlist genres\n",
      "Genre folk not found in playlist genres\n",
      "Genre folk rock not found in playlist genres\n",
      "Genre mellow gold not found in playlist genres\n",
      "Genre singer-songwriter not found in playlist genres\n",
      "Genre soft rock not found in playlist genres\n",
      "Genre new romantic not found in playlist genres\n",
      "Genre new wave not found in playlist genres\n",
      "Genre new wave pop not found in playlist genres\n",
      "Genre sophisti-pop not found in playlist genres\n",
      "Genre synthpop not found in playlist genres\n",
      "Genre indie anthem-folk not found in playlist genres\n",
      "Genre r&b not found in playlist genres\n",
      "Genre afrofuturism not found in playlist genres\n",
      "Batch  451  to  500\n"
     ]
    },
    {
     "name": "stderr",
     "output_type": "stream",
     "text": [
      " 77%|███████▋  | 10/13 [04:29<01:51, 37.07s/it]"
     ]
    },
    {
     "name": "stdout",
     "output_type": "stream",
     "text": [
      "Genre neo mellow not found in playlist genres\n",
      "Genre broadway not found in playlist genres\n",
      "Genre show tunes not found in playlist genres\n",
      "Genre vocal jazz not found in playlist genres\n",
      "Genre bedroom soul not found in playlist genres\n",
      "Genre boy band not found in playlist genres\n",
      "Genre pop not found in playlist genres\n",
      "Genre post-teen pop not found in playlist genres\n",
      "Genre talent show not found in playlist genres\n",
      "Genre uk pop not found in playlist genres\n",
      "Genre indie poptimism not found in playlist genres\n",
      "Genre british soul not found in playlist genres\n",
      "Genre pop soul not found in playlist genres\n",
      "Genre r&b not found in playlist genres\n",
      "Genre adult standards not found in playlist genres\n",
      "Genre canadian pop not found in playlist genres\n",
      "Genre jazz pop not found in playlist genres\n",
      "Genre lounge not found in playlist genres\n",
      "Genre alt z not found in playlist genres\n",
      "Genre singer-songwriter pop not found in playlist genres\n",
      "Genre viral pop not found in playlist genres\n",
      "Genre piano rock not found in playlist genres\n",
      "Genre pop rock not found in playlist genres\n",
      "Genre dance pop not found in playlist genres\n",
      "Genre album rock not found in playlist genres\n",
      "Genre classic rock not found in playlist genres\n",
      "Genre mellow gold not found in playlist genres\n",
      "Genre rock not found in playlist genres\n",
      "Genre soft rock not found in playlist genres\n",
      "Genre yacht rock not found in playlist genres\n",
      "Genre urban contemporary not found in playlist genres\n",
      "Genre art pop not found in playlist genres\n",
      "Genre electropop not found in playlist genres\n",
      "Genre indietronica not found in playlist genres\n",
      "Genre shimmer pop not found in playlist genres\n",
      "Genre folk-pop not found in playlist genres\n",
      "Genre la pop not found in playlist genres\n",
      "Genre opm not found in playlist genres\n",
      "Genre irish pop not found in playlist genres\n",
      "Genre irish rock not found in playlist genres\n",
      "Genre modern rock not found in playlist genres\n",
      "Genre permanent wave not found in playlist genres\n",
      "Genre neo soul not found in playlist genres\n",
      "Genre german pop rock not found in playlist genres\n",
      "Genre ccm not found in playlist genres\n",
      "Genre christian alternative rock not found in playlist genres\n",
      "Genre christian music not found in playlist genres\n",
      "Genre europop not found in playlist genres\n",
      "Batch  501  to  550\n"
     ]
    },
    {
     "name": "stderr",
     "output_type": "stream",
     "text": [
      " 85%|████████▍ | 11/13 [04:57<01:08, 34.23s/it]"
     ]
    },
    {
     "name": "stdout",
     "output_type": "stream",
     "text": [
      "Track with id 35jY3un03aIhVSc9eDmhtN not found in saved tracks\n",
      "Track with id 35DjIXByHp30SK6dfrHUMB not found in saved tracks\n",
      "Track with id 6lVusGXSviScKN6rgmc6no not found in saved tracks\n",
      "Track with id 36Up7I4HLRSORqEcwAyDnv not found in saved tracks\n",
      "Track with id 4NVdigsrwKlkxj0ZihdWX1 not found in saved tracks\n",
      "Track with id 780mHUN8VuWgJZX7XlV9XW not found in saved tracks\n",
      "Track with id 2lK9BNGgbKxlJ4Jp4FcXX3 not found in saved tracks\n",
      "Track with id 7FRdbE3hhOHwwRhYtyDIIv not found in saved tracks\n",
      "Track with id 4H4VWl3Xj3P3WIsRKUdz3d not found in saved tracks\n",
      "Track with id 0iNH4QYGv56wXDaAUQjMC6 not found in saved tracks\n",
      "Track with id 3jEGnQ4NFQsdUw9gIyHGeM not found in saved tracks\n",
      "Track with id 0f1uCAmcZxIuAuKJNZTISe not found in saved tracks\n",
      "Track with id 4psYQTEdUyiEM9k2MaSgs8 not found in saved tracks\n",
      "Track with id 1n1HyRxw1JlMJnqVvygdpU not found in saved tracks\n",
      "Track with id 2NoB6WjliDyv6BZm9qvOId not found in saved tracks\n",
      "Track with id 3vKbOtE9szD85MaZtPPv2r not found in saved tracks\n",
      "Genre Funky Jazz not found in playlist genres\n",
      "Track with id 7FWfxlGQuyOFvU6uH3Yhty not found in saved tracks\n",
      "Track with id 0FLvMtUEgy7KTqVlm-dgV3 not found in saved tracks\n",
      "Track with id 5iNRQmC3asOEl05xdQWoSF not found in saved tracks\n",
      "Track with id 2dH1zbFXnndEOaFeDfmZhur not found in saved tracks\n",
      "Track with id 6Xt56pYMhSQqiYggpsxSvK not found in saved tracks\n",
      "Track with id 3ipZTUPYEaCqur0mklABR7 not found in saved tracks\n",
      "Batch  551  to  600\n"
     ]
    },
    {
     "name": "stderr",
     "output_type": "stream",
     "text": [
      " 92%|█████████▏| 12/13 [05:06<00:26, 26.70s/it]"
     ]
    },
    {
     "name": "stdout",
     "output_type": "stream",
     "text": [
      "Batch  601  to  650\n"
     ]
    },
    {
     "name": "stderr",
     "output_type": "stream",
     "text": [
      "100%|██████████| 13/13 [05:23<00:00, 24.91s/it]\n"
     ]
    },
    {
     "name": "stdout",
     "output_type": "stream",
     "text": [
      "Track with id 338UAQBkcgc2Tqu85Gp1g1 not found in saved tracks\n",
      "Track with id 737cpgsj3DQ4eysVL9ZD4H not found in saved tracks\n",
      "Track with id 723s52HK4syumoytCvOX9V not found in saved tracks\n",
      "Track with id 3PXdQmDAj8zyNgGZGcY9zI not found in saved tracks\n",
      "Track with id 2mI9822DawHDg5oIDA5dmo not found in saved tracks\n",
      "Track with id 5qRG9DPS4slCFX1jHCKKV1 not found in saved tracks\n",
      "Track with id 2lwpxlpScZdwpg1bMtd42c not found in saved tracks\n",
      "Track with id 318nUi8V8pKFYXaXNOaNef not found in saved tracks\n",
      "Track with id 315njcjrdKAcN5tf264EHq not found in saved tracks\n",
      "Track with id 313tNqTzsgUyzlhzJ84nGK not found in saved tracks\n",
      "Track with id 43PGPuH1lxWw1kOw1YU0MdN not found in saved tracks\n",
      "Track with id 1l6hK83VyaVc9KrNIn07Pn not found in saved tracks\n",
      "Track with id 44800TBfbT6K70zRUZ09Ex not found in saved tracks\n",
      "Track with id 3XNLkeK0KgundayYQUnFO9 not found in saved tracks\n"
     ]
    },
    {
     "name": "stderr",
     "output_type": "stream",
     "text": [
      "  0%|          | 0/13 [00:00<?, ?it/s]"
     ]
    },
    {
     "name": "stdout",
     "output_type": "stream",
     "text": [
      "Batch  1  to  50\n"
     ]
    },
    {
     "name": "stderr",
     "output_type": "stream",
     "text": [
      "  8%|▊         | 1/13 [00:14<02:54, 14.53s/it]"
     ]
    },
    {
     "name": "stdout",
     "output_type": "stream",
     "text": [
      "Track with id 522rFYDc8x1DlWt6x2vuiT not found in saved tracks\n",
      "Track with id 732K8P58hrZR7QXXbRDs7K not found in saved tracks\n",
      "Track with id 2ambuIXunpMlWXxdD0kXZ2 not found in saved tracks\n",
      "Batch  51  to  100\n"
     ]
    },
    {
     "name": "stderr",
     "output_type": "stream",
     "text": [
      " 15%|█▌        | 2/13 [00:23<02:05, 11.38s/it]"
     ]
    },
    {
     "name": "stdout",
     "output_type": "stream",
     "text": [
      "Batch  101  to  150\n"
     ]
    },
    {
     "name": "stderr",
     "output_type": "stream",
     "text": [
      " 23%|██▎       | 3/13 [00:38<02:08, 12.86s/it]"
     ]
    },
    {
     "name": "stdout",
     "output_type": "stream",
     "text": [
      "Batch  151  to  200\n"
     ]
    },
    {
     "name": "stderr",
     "output_type": "stream",
     "text": [
      " 31%|███       | 4/13 [01:04<02:41, 18.00s/it]"
     ]
    },
    {
     "name": "stdout",
     "output_type": "stream",
     "text": [
      "Batch  201  to  250\n"
     ]
    },
    {
     "name": "stderr",
     "output_type": "stream",
     "text": [
      " 38%|███▊      | 5/13 [01:16<02:07, 15.90s/it]"
     ]
    },
    {
     "name": "stdout",
     "output_type": "stream",
     "text": [
      "Track with id obsessed not found in saved tracks\n",
      "Track with id Too Sweet not found in saved tracks\n",
      "Track with id 104lIjaS9OeuVqHCmDVgpO not found in saved tracks\n",
      "Batch  251  to  300\n"
     ]
    },
    {
     "name": "stderr",
     "output_type": "stream",
     "text": [
      " 46%|████▌     | 6/13 [01:33<01:53, 16.28s/it]"
     ]
    },
    {
     "name": "stdout",
     "output_type": "stream",
     "text": [
      "Track with id 10rVJ6v23RQozOIvr1YotJP not found in saved tracks\n",
      "Batch  301  to  350\n"
     ]
    },
    {
     "name": "stderr",
     "output_type": "stream",
     "text": [
      " 54%|█████▍    | 7/13 [01:46<01:31, 15.24s/it]"
     ]
    },
    {
     "name": "stdout",
     "output_type": "stream",
     "text": [
      "Batch  351  to  400\n"
     ]
    },
    {
     "name": "stderr",
     "output_type": "stream",
     "text": [
      " 62%|██████▏   | 8/13 [01:57<01:09, 14.00s/it]"
     ]
    },
    {
     "name": "stdout",
     "output_type": "stream",
     "text": [
      "Track with id Sun Is Shining not found in saved tracks\n",
      "Track with id 6ug6pDKlmvDmpV7d09wz5M not found in saved tracks\n",
      "Track with id 5xLShnPJMYHTqX1s5JjIMk not found in saved tracks\n",
      "Track with id 09MeTfj2USTabuEiwM4MoG not found in saved tracks\n",
      "Track with id 0mbIqH4jDAxUFebPfTbpm6 not found in saved tracks\n",
      "Track with id 0GHQd2smnorFVWrvtXeCN3 not found in saved tracks\n",
      "Track with id 1AoD2u8gxRsImqLOURA0U9 not found in saved tracks\n",
      "Track with id 5vONQ4Lu4RsKCXzFNO4OHm not found in saved tracks\n",
      "Track with id 5TAE3VOn6riaBzLJu1LaJJ not found in saved tracks\n",
      "Track with id 2aQYrbOYqmILGJzKMFOine not found in saved tracks\n",
      "Track with id 3jSM4hpr1Zqql285390ygy not found in saved tracks\n",
      "Track with id 4e93NOwRPL1ZPNkDEqoNHh not found in saved tracks\n",
      "Track with id 5EAmXyJQ3wFwWLNR5Bopwb not found in saved tracks\n",
      "Track with id 5RJoZT4Edw1alr0UzbvqBh not found in saved tracks\n",
      "Track with id 40MhcabUPlQ6v0SU9k57Zp not found in saved tracks\n",
      "Track with id 4lwXMarGSdNCTSBA4is2mn not found in saved tracks\n",
      "Track with id 3FCfGvciDZOqKn2GobK9BM not found in saved tracks\n",
      "Track with id 4yskQXjvyO1saDSLTpO064 not found in saved tracks\n",
      "Track with id 4YUxX17Uo7WAC12ZoGdvvQ not found in saved tracks\n",
      "Track with id 10wkGbv5O2hlaPQ8WjoV94 not found in saved tracks\n",
      "Track with id 5rV4BbMsODXHstwsI6RXNz not found in saved tracks\n",
      "Batch  401  to  450\n"
     ]
    },
    {
     "name": "stderr",
     "output_type": "stream",
     "text": [
      " 69%|██████▉   | 9/13 [02:04<00:47, 11.85s/it]"
     ]
    },
    {
     "name": "stdout",
     "output_type": "stream",
     "text": [
      "Track with id 5pAkdfsgHSXwHtbYdpHE7b not found in saved tracks\n",
      "Batch  451  to  500\n"
     ]
    },
    {
     "name": "stderr",
     "output_type": "stream",
     "text": [
      " 77%|███████▋  | 10/13 [02:43<01:00, 20.10s/it]"
     ]
    },
    {
     "name": "stdout",
     "output_type": "stream",
     "text": [
      "Genre neo mellow not found in playlist genres\n",
      "Genre broadway not found in playlist genres\n",
      "Genre show tunes not found in playlist genres\n",
      "Genre vocal jazz not found in playlist genres\n",
      "Genre bedroom soul not found in playlist genres\n",
      "Genre boy band not found in playlist genres\n",
      "Genre pop not found in playlist genres\n",
      "Genre post-teen pop not found in playlist genres\n",
      "Genre talent show not found in playlist genres\n",
      "Genre uk pop not found in playlist genres\n",
      "Genre indie poptimism not found in playlist genres\n",
      "Genre pop soul not found in playlist genres\n",
      "Genre r&b not found in playlist genres\n",
      "Genre adult standards not found in playlist genres\n",
      "Genre canadian pop not found in playlist genres\n",
      "Genre jazz pop not found in playlist genres\n",
      "Genre lounge not found in playlist genres\n",
      "Genre alt z not found in playlist genres\n",
      "Genre singer-songwriter pop not found in playlist genres\n",
      "Genre irish pop not found in playlist genres\n",
      "Genre modern rock not found in playlist genres\n",
      "Genre piano rock not found in playlist genres\n",
      "Genre viral pop not found in playlist genres\n",
      "Genre pop rock not found in playlist genres\n",
      "Genre post-grunge not found in playlist genres\n",
      "Genre dance pop not found in playlist genres\n",
      "Genre album rock not found in playlist genres\n",
      "Genre classic rock not found in playlist genres\n",
      "Genre mellow gold not found in playlist genres\n",
      "Genre rock not found in playlist genres\n",
      "Genre soft rock not found in playlist genres\n",
      "Genre yacht rock not found in playlist genres\n",
      "Genre urban contemporary not found in playlist genres\n",
      "Genre barbadian pop not found in playlist genres\n",
      "Genre art pop not found in playlist genres\n",
      "Genre electropop not found in playlist genres\n",
      "Genre indietronica not found in playlist genres\n",
      "Genre shimmer pop not found in playlist genres\n",
      "Genre folk-pop not found in playlist genres\n",
      "Genre new wave pop not found in playlist genres\n",
      "Genre permanent wave not found in playlist genres\n",
      "Genre la pop not found in playlist genres\n",
      "Genre opm not found in playlist genres\n",
      "Genre uk dance not found in playlist genres\n",
      "Genre europop not found in playlist genres\n",
      "Genre german pop rock not found in playlist genres\n",
      "Genre neo soul not found in playlist genres\n",
      "Genre christian alternative rock not found in playlist genres\n",
      "Genre ccm not found in playlist genres\n",
      "Genre christian music not found in playlist genres\n",
      "Batch  501  to  550\n"
     ]
    },
    {
     "name": "stderr",
     "output_type": "stream",
     "text": [
      " 85%|████████▍ | 11/13 [03:05<00:41, 20.73s/it]"
     ]
    },
    {
     "name": "stdout",
     "output_type": "stream",
     "text": [
      "Batch  551  to  600\n"
     ]
    },
    {
     "name": "stderr",
     "output_type": "stream",
     "text": [
      " 92%|█████████▏| 12/13 [03:22<00:19, 19.48s/it]"
     ]
    },
    {
     "name": "stdout",
     "output_type": "stream",
     "text": [
      "Track with id 763mKGA3GGWlDjvf4gJHEQ not found in saved tracks\n",
      "Track with id 2Zj04AwmFAEcv9qSM0clKL not found in saved tracks\n",
      "Track with id 2Zj04AwmFAEcv9qSM0clKL not found in saved tracks\n",
      "Batch  601  to  650\n"
     ]
    },
    {
     "name": "stderr",
     "output_type": "stream",
     "text": [
      "100%|██████████| 13/13 [03:35<00:00, 16.60s/it]\n",
      "  0%|          | 0/12 [00:00<?, ?it/s]"
     ]
    },
    {
     "name": "stdout",
     "output_type": "stream",
     "text": [
      "Batch  1  to  50\n"
     ]
    },
    {
     "name": "stderr",
     "output_type": "stream",
     "text": [
      "  8%|▊         | 1/12 [00:16<03:04, 16.76s/it]"
     ]
    },
    {
     "name": "stdout",
     "output_type": "stream",
     "text": [
      "Batch  51  to  100\n"
     ]
    },
    {
     "name": "stderr",
     "output_type": "stream",
     "text": [
      " 17%|█▋        | 2/12 [00:30<02:29, 14.92s/it]"
     ]
    },
    {
     "name": "stdout",
     "output_type": "stream",
     "text": [
      "Batch  101  to  150\n"
     ]
    },
    {
     "name": "stderr",
     "output_type": "stream",
     "text": [
      " 25%|██▌       | 3/12 [00:50<02:36, 17.35s/it]"
     ]
    },
    {
     "name": "stdout",
     "output_type": "stream",
     "text": [
      "Batch  151  to  200\n"
     ]
    },
    {
     "name": "stderr",
     "output_type": "stream",
     "text": [
      " 33%|███▎      | 4/12 [02:37<07:02, 52.78s/it]"
     ]
    },
    {
     "name": "stdout",
     "output_type": "stream",
     "text": [
      "Batch  201  to  250\n"
     ]
    },
    {
     "name": "stderr",
     "output_type": "stream",
     "text": [
      " 42%|████▏     | 5/12 [03:05<05:06, 43.85s/it]"
     ]
    },
    {
     "name": "stdout",
     "output_type": "stream",
     "text": [
      "Genre Reggae Fusion not found in playlist genres\n",
      "Batch  251  to  300\n"
     ]
    },
    {
     "name": "stderr",
     "output_type": "stream",
     "text": [
      " 50%|█████     | 6/12 [03:22<03:27, 34.60s/it]"
     ]
    },
    {
     "name": "stdout",
     "output_type": "stream",
     "text": [
      "Track with id 6RPcojLrhlIt7zAGwJUVV not found in saved tracks\n",
      "Genre Funky Hip Hop not found in playlist genres\n",
      "Batch  301  to  350\n"
     ]
    },
    {
     "name": "stderr",
     "output_type": "stream",
     "text": [
      " 58%|█████▊    | 7/12 [03:41<02:27, 29.59s/it]"
     ]
    },
    {
     "name": "stdout",
     "output_type": "stream",
     "text": [
      "Track with id Faded not found in saved tracks\n",
      "Batch  351  to  400\n"
     ]
    },
    {
     "name": "stderr",
     "output_type": "stream",
     "text": [
      " 67%|██████▋   | 8/12 [04:01<01:45, 26.41s/it]"
     ]
    },
    {
     "name": "stdout",
     "output_type": "stream",
     "text": [
      "Track with id 1401 not found in saved tracks\n",
      "Batch  401  to  450\n"
     ]
    },
    {
     "name": "stderr",
     "output_type": "stream",
     "text": [
      " 75%|███████▌  | 9/12 [04:09<01:02, 20.71s/it]"
     ]
    },
    {
     "name": "stdout",
     "output_type": "stream",
     "text": [
      "Batch  451  to  500\n"
     ]
    },
    {
     "name": "stderr",
     "output_type": "stream",
     "text": [
      " 83%|████████▎ | 10/12 [04:31<00:42, 21.21s/it]"
     ]
    },
    {
     "name": "stdout",
     "output_type": "stream",
     "text": [
      "Genre neo mellow not found in playlist genres\n",
      "Genre broadway, show tunes, vocal jazz not found in playlist genres\n",
      "Genre bedroom soul not found in playlist genres\n",
      "Genre boy band, pop, post-teen pop, talent show not found in playlist genres\n",
      "Genre pop, uk pop not found in playlist genres\n",
      "Genre r&b, talent show, uk pop not found in playlist genres\n",
      "Genre adult standards, canadian pop, jazz pop, lounge not found in playlist genres\n",
      "Genre alt z, pop not found in playlist genres\n",
      "Genre pop, singer-songwriter pop, uk pop not found in playlist genres\n",
      "Genre irish pop, modern rock, neo mellow not found in playlist genres\n",
      "Genre neo mellow, piano rock, pop rock, viral pop not found in playlist genres\n",
      "Genre dance pop, pop not found in playlist genres\n",
      "Genre neo mellow, pop rock, post-grunge not found in playlist genres\n",
      "Genre album rock, classic rock, mellow gold, rock, soft rock, yacht rock not found in playlist genres\n",
      "Genre barbadian pop, pop, urban contemporary not found in playlist genres\n",
      "Genre art pop, electropop, indie poptimism, indietronica, shimmer pop not found in playlist genres\n",
      "Genre new wave pop, permanent wave, soft rock not found in playlist genres\n",
      "Genre la pop, opm not found in playlist genres\n",
      "Genre europop, talent show not found in playlist genres\n",
      "Genre british soul, pop, pop soul, uk pop not found in playlist genres\n",
      "Genre viral pop not found in playlist genres\n",
      "Genre irpop, modern rock, neo mellow, permanent wave, pop rock not found in playlist genres\n",
      "Genre ccm, christian alternative rock, christian music not found in playlist genres\n",
      "Genre indie poptimism, pop not found in playlist genres\n",
      "Batch  501  to  550\n"
     ]
    },
    {
     "name": "stderr",
     "output_type": "stream",
     "text": [
      " 92%|█████████▏| 11/12 [04:51<00:20, 20.64s/it]"
     ]
    },
    {
     "name": "stdout",
     "output_type": "stream",
     "text": [
      "Track with id 6vDCdpOQq4SJtfVHdHBewb not found in saved tracks\n",
      "Batch  551  to  600\n"
     ]
    },
    {
     "name": "stderr",
     "output_type": "stream",
     "text": [
      "100%|██████████| 12/12 [05:02<00:00, 25.19s/it]\n"
     ]
    },
    {
     "name": "stdout",
     "output_type": "stream",
     "text": [
      "Track with id 1BxkZE73h9BN3qwuA15TA not found in saved tracks\n",
      "Track with id 8iuNIFJ1U0EQInC4l4tYyG not found in saved tracks\n",
      "Track with id 6NDr7Kyb8QPyD4eNIcGMZN not found in saved tracks\n",
      "Track with id 4QlF2ExmrRP0RM7ffv7y0Q not found in saved tracks\n"
     ]
    },
    {
     "name": "stderr",
     "output_type": "stream",
     "text": [
      "  0%|          | 0/12 [00:00<?, ?it/s]"
     ]
    },
    {
     "name": "stdout",
     "output_type": "stream",
     "text": [
      "Batch  1  to  50\n"
     ]
    },
    {
     "name": "stderr",
     "output_type": "stream",
     "text": [
      "  8%|▊         | 1/12 [00:10<01:54, 10.39s/it]"
     ]
    },
    {
     "name": "stdout",
     "output_type": "stream",
     "text": [
      "Genre Relatable Indie not found in playlist genres\n",
      "Genre Reflective Jazz not found in playlist genres\n",
      "Batch  51  to  100\n"
     ]
    },
    {
     "name": "stderr",
     "output_type": "stream",
     "text": [
      " 17%|█▋        | 2/12 [00:21<01:48, 10.80s/it]"
     ]
    },
    {
     "name": "stdout",
     "output_type": "stream",
     "text": [
      "Batch  101  to  150\n"
     ]
    },
    {
     "name": "stderr",
     "output_type": "stream",
     "text": [
      " 25%|██▌       | 3/12 [01:27<05:24, 36.10s/it]"
     ]
    },
    {
     "name": "stdout",
     "output_type": "stream",
     "text": [
      "Genre ambient idm not found in playlist genres\n",
      "Genre tech house not found in playlist genres\n",
      "Genre chamber pop not found in playlist genres\n",
      "Genre indie rock not found in playlist genres\n",
      "Genre modern folk rock not found in playlist genres\n",
      "Genre philly indie not found in playlist genres\n",
      "Genre pov: indie not found in playlist genres\n",
      "Genre seattle indie not found in playlist genres\n",
      "Genre stomp and holler not found in playlist genres\n",
      "Genre nordic soundtrack not found in playlist genres\n",
      "Genre orchestral soundtrack not found in playlist genres\n",
      "Genre soundtrack not found in playlist genres\n",
      "Genre classical not found in playlist genres\n",
      "Genre italian opera not found in playlist genres\n",
      "Genre italian romanticism not found in playlist genres\n",
      "Genre post-romantic era not found in playlist genres\n",
      "Genre american modern classical not found in playlist genres\n",
      "Genre late romantic era not found in playlist genres\n",
      "Genre norwegian classical not found in playlist genres\n",
      "Genre early modern classical not found in playlist genres\n",
      "Genre russian romanticism not found in playlist genres\n",
      "Genre polish classical not found in playlist genres\n",
      "Genre early romantic era not found in playlist genres\n",
      "Genre baroque not found in playlist genres\n",
      "Genre early music not found in playlist genres\n",
      "Genre german baroque not found in playlist genres\n",
      "Genre french opera not found in playlist genres\n",
      "Genre french romanticism not found in playlist genres\n",
      "Genre neoclassicism not found in playlist genres\n",
      "Genre russian modern classical not found in playlist genres\n",
      "Genre german opera not found in playlist genres\n",
      "Genre german romanticism not found in playlist genres\n",
      "Genre czech classical not found in playlist genres\n",
      "Genre classical era not found in playlist genres\n",
      "Genre galante era not found in playlist genres\n",
      "Genre orchestral performance not found in playlist genres\n",
      "Genre cosmic american not found in playlist genres\n",
      "Genre jam band not found in playlist genres\n",
      "Genre psychedelic rock not found in playlist genres\n",
      "Genre indie r&b not found in playlist genres\n",
      "Genre singer-songwriter pop not found in playlist genres\n",
      "Genre motown not found in playlist genres\n",
      "Genre soul not found in playlist genres\n",
      "Genre electro house not found in playlist genres\n",
      "Genre pop nacional not found in playlist genres\n",
      "Genre slap house not found in playlist genres\n",
      "Genre bassline not found in playlist genres\n",
      "Genre british soul not found in playlist genres\n",
      "Genre neo soul not found in playlist genres\n",
      "Genre bebop not found in playlist genres\n",
      "Genre contemporary post-bop not found in playlist genres\n",
      "Genre jazz not found in playlist genres\n",
      "Genre jazz piano not found in playlist genres\n",
      "Genre stride not found in playlist genres\n",
      "Genre vintage jazz not found in playlist genres\n",
      "Genre jazz trio not found in playlist genres\n",
      "Genre cool jazz not found in playlist genres\n",
      "Genre hard bop not found in playlist genres\n",
      "Genre jazz fusion not found in playlist genres\n",
      "Genre jazz trumpet not found in playlist genres\n",
      "Genre vocal jazz not found in playlist genres\n",
      "Genre free jazz not found in playlist genres\n",
      "Genre jazz saxophone not found in playlist genres\n",
      "Genre bossa nova not found in playlist genres\n",
      "Genre latin jazz not found in playlist genres\n",
      "Genre samba-jazz not found in playlist genres\n",
      "Batch  151  to  200\n"
     ]
    },
    {
     "name": "stderr",
     "output_type": "stream",
     "text": [
      " 33%|███▎      | 4/12 [02:18<05:34, 41.78s/it]"
     ]
    },
    {
     "name": "stdout",
     "output_type": "stream",
     "text": [
      "Genre deep new americana not found in playlist genres\n",
      "Genre cosmic american not found in playlist genres\n",
      "Genre jam band not found in playlist genres\n",
      "Genre psychedelic rock not found in playlist genres\n",
      "Genre french pop not found in playlist genres\n",
      "Genre edm not found in playlist genres\n",
      "Genre electro house not found in playlist genres\n",
      "Genre dutch edm not found in playlist genres\n",
      "Genre house not found in playlist genres\n",
      "Genre pop not found in playlist genres\n",
      "Genre pop dance not found in playlist genres\n",
      "Genre tropical house not found in playlist genres\n",
      "Genre british modern classical not found in playlist genres\n",
      "Genre classical not found in playlist genres\n",
      "Genre post-romantic era not found in playlist genres\n",
      "Genre early modern classical not found in playlist genres\n",
      "Genre italian opera not found in playlist genres\n",
      "Genre italian romanticism not found in playlist genres\n",
      "Genre classical era not found in playlist genres\n",
      "Genre late romantic era not found in playlist genres\n",
      "Genre alt z not found in playlist genres\n",
      "Genre boston folk not found in playlist genres\n",
      "Genre indie pop not found in playlist genres\n",
      "Genre singer-songwriter pop not found in playlist genres\n",
      "Genre chamber pop not found in playlist genres\n",
      "Genre indie rock not found in playlist genres\n",
      "Genre modern folk rock not found in playlist genres\n",
      "Genre philly indie not found in playlist genres\n",
      "Genre pov: indie not found in playlist genres\n",
      "Genre seattle indie not found in playlist genres\n",
      "Genre stomp and holler not found in playlist genres\n",
      "Genre jazz blues not found in playlist genres\n",
      "Genre soul not found in playlist genres\n",
      "Genre soul blues not found in playlist genres\n",
      "Genre torch song not found in playlist genres\n",
      "Genre vocal jazz not found in playlist genres\n",
      "Genre traditional soul not found in playlist genres\n",
      "Genre uk dance not found in playlist genres\n",
      "Genre atl hip hop not found in playlist genres\n",
      "Genre melodic rap not found in playlist genres\n",
      "Genre rap not found in playlist genres\n",
      "Genre trap not found in playlist genres\n",
      "Genre easy listening not found in playlist genres\n",
      "Genre lounge not found in playlist genres\n",
      "Genre alternative pop rock not found in playlist genres\n",
      "Genre bedroom r&b not found in playlist genres\n",
      "Genre modern rock not found in playlist genres\n",
      "Genre bebop not found in playlist genres\n",
      "Genre contemporary post-bop not found in playlist genres\n",
      "Genre jazz not found in playlist genres\n",
      "Genre jazz piano not found in playlist genres\n",
      "Genre stride not found in playlist genres\n",
      "Genre bossa nova not found in playlist genres\n",
      "Genre brazilian jazz not found in playlist genres\n",
      "Genre samba-jazz not found in playlist genres\n",
      "Genre contemporary vocal jazz not found in playlist genres\n",
      "Genre jazz pop not found in playlist genres\n",
      "Genre neo mellow not found in playlist genres\n",
      "Genre jazz catala not found in playlist genres\n",
      "Genre spanish jazz not found in playlist genres\n",
      "Genre african-american classical not found in playlist genres\n",
      "Genre harlem renaissance not found in playlist genres\n",
      "Genre swing not found in playlist genres\n",
      "Genre jazz drums not found in playlist genres\n",
      "Genre hard bop not found in playlist genres\n",
      "Genre jazz quartet not found in playlist genres\n",
      "Batch  201  to  250\n"
     ]
    },
    {
     "name": "stderr",
     "output_type": "stream",
     "text": [
      " 42%|████▏     | 5/12 [02:43<04:09, 35.70s/it]"
     ]
    },
    {
     "name": "stdout",
     "output_type": "stream",
     "text": [
      "Batch  251  to  300\n"
     ]
    },
    {
     "name": "stderr",
     "output_type": "stream",
     "text": [
      " 50%|█████     | 6/12 [02:59<02:53, 28.98s/it]"
     ]
    },
    {
     "name": "stdout",
     "output_type": "stream",
     "text": [
      "Track with id 7heve4ydl1u6V3AD4mqZq9 not found in saved tracks\n",
      "Track with id 5Qz7UqqGrUTB70aOuQ3IlH not found in saved tracks\n",
      "Track with id 4heve4ydl1u6V3AD4mqZq9 not found in saved tracks\n",
      "Batch  301  to  350\n"
     ]
    },
    {
     "name": "stderr",
     "output_type": "stream",
     "text": [
      " 58%|█████▊    | 7/12 [03:22<02:15, 27.10s/it]"
     ]
    },
    {
     "name": "stdout",
     "output_type": "stream",
     "text": [
      "Track with id 4WsjG1p7FubIMTShPZhzDM not found in saved tracks\n",
      "Track with id 0typguJFctxtaG8wEhU2QU not found in saved tracks\n",
      "Track with id 5AdpIpZV6LWsMfweNLe8EM not found in saved tracks\n",
      "Track with id 3SN4hNhAjkzbsukxbNgEow not found in saved tracks\n",
      "Track with id 2ChYP8gDsLWPNaosNIj 1J5 not found in saved tracks\n",
      "Track with id 4WsjG1p7FubIMTShPZhzDM not found in saved tracks\n",
      "Track with id 4ut5G4rgB1YZp8O0Ze8HTu not found in saved tracks\n",
      "Batch  351  to  400\n"
     ]
    },
    {
     "name": "stderr",
     "output_type": "stream",
     "text": [
      " 67%|██████▋   | 8/12 [03:40<01:37, 24.28s/it]"
     ]
    },
    {
     "name": "stdout",
     "output_type": "stream",
     "text": [
      "Track with id 56G7XDGcybJiGywSCXJiL5 not found in saved tracks\n",
      "Track with id 59SiY7XxOkLUQfqrMWHLydk not found in saved tracks\n",
      "Track with id 04KPTu8qSxATFXL3e5sJipW not found in saved tracks\n",
      "Track with id 6UymtxBG9hpKQEHo6EJs69 not found in saved tracks\n",
      "Track with id Mor6ZnI6WnzqR8y1KRnz47 not found in saved tracks\n",
      "Track with id 65T4rDFFtiXAJ3SCH2ncz7 not found in saved tracks\n",
      "Track with id 3azgITI04G5NpY not found in saved tracks\n",
      "Batch  401  to  450\n"
     ]
    },
    {
     "name": "stderr",
     "output_type": "stream",
     "text": [
      " 75%|███████▌  | 9/12 [04:13<01:21, 27.13s/it]"
     ]
    },
    {
     "name": "stdout",
     "output_type": "stream",
     "text": [
      "Genre pop not found in playlist genres\n",
      "Genre rock not found in playlist genres\n",
      "Genre country not found in playlist genres\n",
      "Genre neo mellow not found in playlist genres\n",
      "Genre piano rock not found in playlist genres\n",
      "Genre british soul not found in playlist genres\n",
      "Genre talent show not found in playlist genres\n",
      "Genre indie anthem-folk not found in playlist genres\n",
      "Genre lilith not found in playlist genres\n",
      "Genre r&b not found in playlist genres\n",
      "Genre modern rock not found in playlist genres\n",
      "Genre cosmic American not found in playlist genres\n",
      "Genre pop rock not found in playlist genres\n",
      "Genre neo soul not found in playlist genres\n",
      "Genre modern alternative rock not found in playlist genres\n",
      "Genre uk pop not found in playlist genres\n",
      "Genre classic rock not found in playlist genres\n",
      "Genre merseybeat not found in playlist genres\n",
      "Genre psychedelic rock not found in playlist genres\n",
      "Genre singer-songwriter not found in playlist genres\n",
      "Genre idol not found in playlist genres\n",
      "Genre album rock not found in playlist genres\n",
      "Genre dance pop not found in playlist genres\n",
      "Genre contemporary country not found in playlist genres\n",
      "Genre british invasion not found in playlist genres\n",
      "Genre new wave pop not found in playlist genres\n",
      "Genre permanent wave not found in playlist genres\n",
      "Genre classic Oklahoma country not found in playlist genres\n",
      "Genre modern country pop not found in playlist genres\n",
      "Genre soft rock not found in playlist genres\n",
      "Genre afrofuturism not found in playlist genres\n",
      "Genre new romantic not found in playlist genres\n",
      "Genre psych rock not found in playlist genres\n",
      "Genre viral pop not found in playlist genres\n",
      "Batch  451  to  500\n"
     ]
    },
    {
     "name": "stderr",
     "output_type": "stream",
     "text": [
      " 83%|████████▎ | 10/12 [04:55<01:03, 31.57s/it]"
     ]
    },
    {
     "name": "stdout",
     "output_type": "stream",
     "text": [
      "Genre neo mellow not found in playlist genres\n",
      "Genre broadway not found in playlist genres\n",
      "Genre show tunes not found in playlist genres\n",
      "Genre vocal jazz not found in playlist genres\n",
      "Genre bedroom soul not found in playlist genres\n",
      "Genre boy band not found in playlist genres\n",
      "Genre pop not found in playlist genres\n",
      "Genre post-teen pop not found in playlist genres\n",
      "Genre talent show not found in playlist genres\n",
      "Genre uk pop not found in playlist genres\n",
      "Genre indie poptimism not found in playlist genres\n",
      "Genre adult standards not found in playlist genres\n",
      "Genre canadian pop not found in playlist genres\n",
      "Genre jazz pop not found in playlist genres\n",
      "Genre lounge not found in playlist genres\n",
      "Genre alt z not found in playlist genres\n",
      "Genre singer-songwriter pop not found in playlist genres\n",
      "Genre irish pop not found in playlist genres\n",
      "Genre modern rock not found in playlist genres\n",
      "Genre piano rock not found in playlist genres\n",
      "Genre pop rock not found in playlist genres\n",
      "Genre viral pop not found in playlist genres\n",
      "Genre dance pop not found in playlist genres\n",
      "Genre album rock not found in playlist genres\n",
      "Genre classic rock not found in playlist genres\n",
      "Genre mellow gold not found in playlist genres\n",
      "Genre rock not found in playlist genres\n",
      "Genre soft rock not found in playlist genres\n",
      "Genre yacht rock not found in playlist genres\n",
      "Genre barbadian pop not found in playlist genres\n",
      "Genre urban contemporary not found in playlist genres\n",
      "Genre art pop not found in playlist genres\n",
      "Genre electropop not found in playlist genres\n",
      "Genre indietronica not found in playlist genres\n",
      "Genre shimmer pop not found in playlist genres\n",
      "Genre new wave pop not found in playlist genres\n",
      "Genre permanent wave not found in playlist genres\n",
      "Genre la pop not found in playlist genres\n",
      "Genre opm not found in playlist genres\n",
      "Genre uk dance not found in playlist genres\n",
      "Genre german pop rock not found in playlist genres\n",
      "Genre neo soul not found in playlist genres\n",
      "Genre r&b not found in playlist genres\n",
      "Genre christian alternative rock not found in playlist genres\n",
      "Genre christian music not found in playlist genres\n",
      "Genre ccm not found in playlist genres\n",
      "Genre irish rock not found in playlist genres\n",
      "Genre post-grunge not found in playlist genres\n",
      "Batch  501  to  550\n"
     ]
    },
    {
     "name": "stderr",
     "output_type": "stream",
     "text": [
      " 92%|█████████▏| 11/12 [05:16<00:28, 28.37s/it]"
     ]
    },
    {
     "name": "stdout",
     "output_type": "stream",
     "text": [
      "Genre pop not found in playlist genres\n",
      "Genre rock not found in playlist genres\n",
      "Genre dance pop not found in playlist genres\n",
      "Genre hip pop not found in playlist genres\n",
      "Genre classic rock not found in playlist genres\n",
      "Genre folk rock not found in playlist genres\n",
      "Genre pop soul not found in playlist genres\n",
      "Genre acoustic pop not found in playlist genres\n",
      "Genre pop rap not found in playlist genres\n",
      "Genre neo mellow not found in playlist genres\n",
      "Batch  551  to  600\n"
     ]
    },
    {
     "name": "stderr",
     "output_type": "stream",
     "text": [
      "100%|██████████| 12/12 [05:40<00:00, 28.34s/it]\n"
     ]
    },
    {
     "name": "stdout",
     "output_type": "stream",
     "text": [
      "Track with id 6Ilatim0B9n2PERDgSriDC not found in saved tracks\n",
      "Track with id 5NlgmGMH6KCdQsqrK4WlQr not found in saved tracks\n",
      "Track with id 4yP0hdKOZPNshxUOjY0cZj not found in saved tracks\n",
      "Track with id 5MZfL9QLkbjczUyUHeJNtE not found in saved tracks\n"
     ]
    },
    {
     "name": "stderr",
     "output_type": "stream",
     "text": [
      "  0%|          | 0/12 [00:00<?, ?it/s]"
     ]
    },
    {
     "name": "stdout",
     "output_type": "stream",
     "text": [
      "Batch  1  to  50\n"
     ]
    },
    {
     "name": "stderr",
     "output_type": "stream",
     "text": [
      "  8%|▊         | 1/12 [00:21<03:51, 21.03s/it]"
     ]
    },
    {
     "name": "stdout",
     "output_type": "stream",
     "text": [
      "Track with id training season not found in saved tracks\n",
      "Track with id 5iumUwADk4uQUvgMF6PlTRl not found in saved tracks\n",
      "Track with id senorita not found in saved tracks\n",
      "Track with id go back to not found in saved tracks\n",
      "Track with id purple hat not found in saved tracks\n",
      "Track with id 28YwClld4p7CAZmPfyJSoO not found in saved tracks\n",
      "Track with id Mr. Man (feat. Miya Folick) not found in saved tracks\n",
      "Track with id 5iumUwADk4uQUvgMF6PlTRl not found in saved tracks\n",
      "Track with id bam bam not found in saved tracks\n",
      "Track with id JAMES BAYS not found in saved tracks\n",
      "Track with id Streets (Silk City remix) not found in saved tracks\n",
      "Batch  51  to  100\n"
     ]
    },
    {
     "name": "stderr",
     "output_type": "stream",
     "text": [
      " 17%|█▋        | 2/12 [00:41<03:28, 20.82s/it]"
     ]
    },
    {
     "name": "stdout",
     "output_type": "stream",
     "text": [
      "Track with id 6MzZR8O98d8mwxV5AnBsVQ not found in saved tracks\n",
      "Track with id 6zKT9qUu0TVvCoGyLrtrQY not found in saved tracks\n",
      "Track with id 6MzZR8O98d8mwxV5AnBsVQ not found in saved tracks\n",
      "Batch  101  to  150\n"
     ]
    },
    {
     "name": "stderr",
     "output_type": "stream",
     "text": [
      " 25%|██▌       | 3/12 [01:35<05:21, 35.75s/it]"
     ]
    },
    {
     "name": "stdout",
     "output_type": "stream",
     "text": [
      "Genre ambient idm not found in playlist genres\n",
      "Genre tech house not found in playlist genres\n",
      "Genre chamber pop not found in playlist genres\n",
      "Genre indie rock not found in playlist genres\n",
      "Genre modern folk rock not found in playlist genres\n",
      "Genre philly indie not found in playlist genres\n",
      "Genre pov: indie not found in playlist genres\n",
      "Genre seattle indie not found in playlist genres\n",
      "Genre stomp and holler not found in playlist genres\n",
      "Genre nordic soundtrack not found in playlist genres\n",
      "Genre orchestral soundtrack not found in playlist genres\n",
      "Genre soundtrack not found in playlist genres\n",
      "Genre classical not found in playlist genres\n",
      "Genre italian opera not found in playlist genres\n",
      "Genre italian romanticism not found in playlist genres\n",
      "Genre post-romantic era not found in playlist genres\n",
      "Genre american modern classical not found in playlist genres\n",
      "Genre late romantic era not found in playlist genres\n",
      "Genre norwegian classical not found in playlist genres\n",
      "Genre avant-garde not found in playlist genres\n",
      "Genre early modern classical not found in playlist genres\n",
      "Genre russian romanticism not found in playlist genres\n",
      "Genre early romantic era not found in playlist genres\n",
      "Genre polish classical not found in playlist genres\n",
      "Genre baroque not found in playlist genres\n",
      "Genre early music not found in playlist genres\n",
      "Genre german baroque not found in playlist genres\n",
      "Genre french opera not found in playlist genres\n",
      "Genre french romanticism not found in playlist genres\n",
      "Genre neoclassicism not found in playlist genres\n",
      "Genre russian modern classical not found in playlist genres\n",
      "Genre classical era not found in playlist genres\n",
      "Genre galante era not found in playlist genres\n",
      "Genre german opera not found in playlist genres\n",
      "Genre german romanticism not found in playlist genres\n",
      "Genre czech classical not found in playlist genres\n",
      "Genre cosmic american not found in playlist genres\n",
      "Genre jam band not found in playlist genres\n",
      "Genre psychedelic rock not found in playlist genres\n",
      "Genre orchestral performance not found in playlist genres\n",
      "Genre indie r&b not found in playlist genres\n",
      "Genre singer-songwriter pop not found in playlist genres\n",
      "Genre motown not found in playlist genres\n",
      "Genre soul not found in playlist genres\n",
      "Genre electro house not found in playlist genres\n",
      "Genre pop nacional not found in playlist genres\n",
      "Genre slap house not found in playlist genres\n",
      "Genre bassline not found in playlist genres\n",
      "Genre british soul not found in playlist genres\n",
      "Genre neo soul not found in playlist genres\n",
      "Genre bebop not found in playlist genres\n",
      "Genre contemporary post-bop not found in playlist genres\n",
      "Genre jazz not found in playlist genres\n",
      "Genre jazz piano not found in playlist genres\n",
      "Genre stride not found in playlist genres\n",
      "Genre vintage jazz not found in playlist genres\n",
      "Genre jazz trio not found in playlist genres\n",
      "Genre cool jazz not found in playlist genres\n",
      "Genre hard bop not found in playlist genres\n",
      "Genre jazz fusion not found in playlist genres\n",
      "Genre jazz trumpet not found in playlist genres\n",
      "Genre vocal jazz not found in playlist genres\n",
      "Genre free jazz not found in playlist genres\n",
      "Genre jazz saxophone not found in playlist genres\n",
      "Genre bossa nova not found in playlist genres\n",
      "Genre latin jazz not found in playlist genres\n",
      "Genre samba-jazz not found in playlist genres\n",
      "Batch  151  to  200\n"
     ]
    },
    {
     "name": "stderr",
     "output_type": "stream",
     "text": [
      " 33%|███▎      | 4/12 [01:59<04:09, 31.13s/it]"
     ]
    },
    {
     "name": "stdout",
     "output_type": "stream",
     "text": [
      "Track with id 776OCy2QMl814sxiR1gl6v not found in saved tracks\n",
      "Batch  201  to  250\n"
     ]
    },
    {
     "name": "stderr",
     "output_type": "stream",
     "text": [
      " 42%|████▏     | 5/12 [02:19<03:10, 27.17s/it]"
     ]
    },
    {
     "name": "stdout",
     "output_type": "stream",
     "text": [
      "Batch  251  to  300\n"
     ]
    },
    {
     "name": "stderr",
     "output_type": "stream",
     "text": [
      " 50%|█████     | 6/12 [02:35<02:20, 23.44s/it]"
     ]
    },
    {
     "name": "stdout",
     "output_type": "stream",
     "text": [
      "Batch  301  to  350\n"
     ]
    },
    {
     "name": "stderr",
     "output_type": "stream",
     "text": [
      " 58%|█████▊    | 7/12 [02:51<01:44, 20.99s/it]"
     ]
    },
    {
     "name": "stdout",
     "output_type": "stream",
     "text": [
      "Genre danceable pop not found in playlist genres\n",
      "Genre vibrant edm not found in playlist genres\n",
      "Genre quirky indie not found in playlist genres\n",
      "Genre futuristic edm not found in playlist genres\n",
      "Genre pulsing house not found in playlist genres\n",
      "Batch  351  to  400\n"
     ]
    },
    {
     "name": "stderr",
     "output_type": "stream",
     "text": [
      " 67%|██████▋   | 8/12 [03:06<01:16, 19.06s/it]"
     ]
    },
    {
     "name": "stdout",
     "output_type": "stream",
     "text": [
      "Track with id 9SLfnFaZntOvk0myRtSw7W not found in saved tracks\n",
      "Track with id 7603DR2MfgmR0ZMBuaIltC not found in saved tracks\n",
      "Track with id Ray Of Solar - Alex Wann & Sasson Remix not found in saved tracks\n",
      "Track with id 2URGEjFbmFXQ9Rzrwd9lLa not found in saved tracks\n",
      "Track with id Satisfaction - Hardwell & Maddix Remix not found in saved tracks\n",
      "Track with id Million Voices - Radio Edit not found in saved tracks\n",
      "Track with id Cry & Save not found in saved tracks\n",
      "Track with id Come Together - Remastered 2009 not found in saved tracks\n",
      "Track with id Here Comes The Sun - Remastered 2009 not found in saved tracks\n",
      "Track with id 1any6RjNtvpSMkcqWbwlVL not found in saved tracks\n",
      "Track with id 11RRGSgE0IJcTjJiP7XxeZ not found in saved tracks\n",
      "Track with id 1VCIOv1Or3FZEu9QRp7yM0 not found in saved tracks\n",
      "Track with id Pursuit Of Happiness - Extended Steve Aoki Remix not found in saved tracks\n",
      "Track with id 23oezNzjLLyMuQ51IRYvkf not found in saved tracks\n",
      "Track with id 2URGEjFbmFXQ9Rzrwd9lLa not found in saved tracks\n",
      "Track with id Here Comes The Sun not found in saved tracks\n",
      "Track with id Saving Up not found in saved tracks\n",
      "Track with id Candy not found in saved tracks\n",
      "Track with id 5cjGkI6kl9U8EtQrxP6suR not found in saved tracks\n",
      "Batch  401  to  450\n"
     ]
    },
    {
     "name": "stderr",
     "output_type": "stream",
     "text": [
      " 75%|███████▌  | 9/12 [03:14<00:47, 15.69s/it]"
     ]
    },
    {
     "name": "stdout",
     "output_type": "stream",
     "text": [
      "Batch  451  to  500\n"
     ]
    },
    {
     "name": "stderr",
     "output_type": "stream",
     "text": [
      " 83%|████████▎ | 10/12 [03:59<00:49, 24.67s/it]"
     ]
    },
    {
     "name": "stdout",
     "output_type": "stream",
     "text": [
      "Genre neo mellow not found in playlist genres\n",
      "Genre broadway not found in playlist genres\n",
      "Genre show tunes not found in playlist genres\n",
      "Genre vocal jazz not found in playlist genres\n",
      "Genre bedroom soul not found in playlist genres\n",
      "Genre boy band not found in playlist genres\n",
      "Genre pop not found in playlist genres\n",
      "Genre post-teen pop not found in playlist genres\n",
      "Genre talent show not found in playlist genres\n",
      "Genre uk pop not found in playlist genres\n",
      "Genre indie poptimism not found in playlist genres\n",
      "Genre r&b not found in playlist genres\n",
      "Genre adult standards not found in playlist genres\n",
      "Genre canadian pop not found in playlist genres\n",
      "Genre jazz pop not found in playlist genres\n",
      "Genre lounge not found in playlist genres\n",
      "Genre alt z not found in playlist genres\n",
      "Genre singer-songwriter pop not found in playlist genres\n",
      "Genre irish pop not found in playlist genres\n",
      "Genre modern rock not found in playlist genres\n",
      "Genre piano rock not found in playlist genres\n",
      "Genre pop rock not found in playlist genres\n",
      "Genre viral pop not found in playlist genres\n",
      "Genre dance pop not found in playlist genres\n",
      "Genre album rock not found in playlist genres\n",
      "Genre classic rock not found in playlist genres\n",
      "Genre mellow gold not found in playlist genres\n",
      "Genre rock not found in playlist genres\n",
      "Genre soft rock not found in playlist genres\n",
      "Genre yacht rock not found in playlist genres\n",
      "Genre barbadian pop not found in playlist genres\n",
      "Genre urban contemporary not found in playlist genres\n",
      "Genre art pop not found in playlist genres\n",
      "Genre electropop not found in playlist genres\n",
      "Genre indietronica not found in playlist genres\n",
      "Genre shimmer pop not found in playlist genres\n",
      "Genre new wave pop not found in playlist genres\n",
      "Genre permanent wave not found in playlist genres\n",
      "Genre la pop not found in playlist genres\n",
      "Genre opm not found in playlist genres\n",
      "Genre uk dance not found in playlist genres\n",
      "Genre german pop rock not found in playlist genres\n",
      "Genre neo soul not found in playlist genres\n",
      "Genre ccm not found in playlist genres\n",
      "Genre christian alternative rock not found in playlist genres\n",
      "Genre christian music not found in playlist genres\n",
      "Batch  501  to  550\n"
     ]
    },
    {
     "name": "stderr",
     "output_type": "stream",
     "text": [
      " 92%|█████████▏| 11/12 [04:23<00:24, 24.52s/it]"
     ]
    },
    {
     "name": "stdout",
     "output_type": "stream",
     "text": [
      "Track with id 5qYPpFhFyOwCjf4y7vdJqM not found in saved tracks\n",
      "Batch  551  to  600\n"
     ]
    },
    {
     "name": "stderr",
     "output_type": "stream",
     "text": [
      "100%|██████████| 12/12 [04:38<00:00, 23.17s/it]\n"
     ]
    },
    {
     "name": "stdout",
     "output_type": "stream",
     "text": [
      "Track with id 4QlF2ExmrRP0RM7ffv7y0Q not found in saved tracks\n"
     ]
    },
    {
     "name": "stderr",
     "output_type": "stream",
     "text": [
      "  0%|          | 0/12 [00:00<?, ?it/s]"
     ]
    },
    {
     "name": "stdout",
     "output_type": "stream",
     "text": [
      "Batch  1  to  50\n"
     ]
    },
    {
     "name": "stderr",
     "output_type": "stream",
     "text": [
      "  8%|▊         | 1/12 [00:13<02:32, 13.85s/it]"
     ]
    },
    {
     "name": "stdout",
     "output_type": "stream",
     "text": [
      "Track with id 24N2ptlSH8VEbpdsWbHqJ8 not found in saved tracks\n",
      "Batch  51  to  100\n"
     ]
    },
    {
     "name": "stderr",
     "output_type": "stream",
     "text": [
      " 17%|█▋        | 2/12 [00:33<02:52, 17.21s/it]"
     ]
    },
    {
     "name": "stdout",
     "output_type": "stream",
     "text": [
      "Batch  101  to  150\n"
     ]
    },
    {
     "name": "stderr",
     "output_type": "stream",
     "text": [
      " 25%|██▌       | 3/12 [00:56<02:59, 20.00s/it]"
     ]
    },
    {
     "name": "stdout",
     "output_type": "stream",
     "text": [
      "Genre Gold Rock not found in playlist genres\n",
      "Track with id 35OpV63pK1aXGKTOnEVvAp not found in saved tracks\n",
      "Genre Bold Jazz not found in playlist genres\n",
      "Genre Upbeat POP not found in playlist genres\n",
      "Batch  151  to  200\n"
     ]
    },
    {
     "name": "stderr",
     "output_type": "stream",
     "text": [
      " 33%|███▎      | 4/12 [01:45<04:09, 31.19s/it]"
     ]
    },
    {
     "name": "stdout",
     "output_type": "stream",
     "text": [
      "Genre deep new americana not found in playlist genres\n",
      "Genre cosmic american not found in playlist genres\n",
      "Genre jam band not found in playlist genres\n",
      "Genre psychedelic rock not found in playlist genres\n",
      "Genre french pop not found in playlist genres\n",
      "Genre edm not found in playlist genres\n",
      "Genre electro house not found in playlist genres\n",
      "Genre dutch edm not found in playlist genres\n",
      "Genre house not found in playlist genres\n",
      "Genre pop not found in playlist genres\n",
      "Genre pop dance not found in playlist genres\n",
      "Genre tropical house not found in playlist genres\n",
      "Genre british modern classical not found in playlist genres\n",
      "Genre classical not found in playlist genres\n",
      "Genre post-romantic era not found in playlist genres\n",
      "Genre early modern classical not found in playlist genres\n",
      "Genre italian opera not found in playlist genres\n",
      "Genre italian romanticism not found in playlist genres\n",
      "Genre late romantic era not found in playlist genres\n",
      "Genre classical era not found in playlist genres\n",
      "Genre alt z not found in playlist genres\n",
      "Genre boston folk not found in playlist genres\n",
      "Genre indie pop not found in playlist genres\n",
      "Genre singer-songwriter pop not found in playlist genres\n",
      "Genre chamber pop not found in playlist genres\n",
      "Genre indie rock not found in playlist genres\n",
      "Genre modern folk rock not found in playlist genres\n",
      "Genre philly indie not found in playlist genres\n",
      "Genre pov: indie not found in playlist genres\n",
      "Genre seattle indie not found in playlist genres\n",
      "Genre stomp and holler not found in playlist genres\n",
      "Genre jazz blues not found in playlist genres\n",
      "Genre soul not found in playlist genres\n",
      "Genre soul blues not found in playlist genres\n",
      "Genre torch song not found in playlist genres\n",
      "Genre vocal jazz not found in playlist genres\n",
      "Genre traditional soul not found in playlist genres\n",
      "Genre uk dance not found in playlist genres\n",
      "Genre atl hip hop not found in playlist genres\n",
      "Genre melodic rap not found in playlist genres\n",
      "Genre rap not found in playlist genres\n",
      "Genre trap not found in playlist genres\n",
      "Genre adult standards not found in playlist genres\n",
      "Genre easy listening not found in playlist genres\n",
      "Genre lounge not found in playlist genres\n",
      "Genre alternative pop rock not found in playlist genres\n",
      "Genre bedroom r&b not found in playlist genres\n",
      "Genre modern rock not found in playlist genres\n",
      "Genre bebop not found in playlist genres\n",
      "Genre contemporary post-bop not found in playlist genres\n",
      "Genre jazz not found in playlist genres\n",
      "Genre jazz piano not found in playlist genres\n",
      "Genre stride not found in playlist genres\n",
      "Genre bossa nova not found in playlist genres\n",
      "Genre brazilian jazz not found in playlist genres\n",
      "Genre samba-jazz not found in playlist genres\n",
      "Genre contemporary vocal jazz not found in playlist genres\n",
      "Genre jazz pop not found in playlist genres\n",
      "Genre neo mellow not found in playlist genres\n",
      "Genre jazz catala not found in playlist genres\n",
      "Genre spanish jazz not found in playlist genres\n",
      "Genre african-american classical not found in playlist genres\n",
      "Genre harlem renaissance not found in playlist genres\n",
      "Genre swing not found in playlist genres\n",
      "Genre hard bop not found in playlist genres\n",
      "Genre jazz drums not found in playlist genres\n",
      "Genre jazz quartet not found in playlist genres\n",
      "Batch  201  to  250\n"
     ]
    },
    {
     "name": "stderr",
     "output_type": "stream",
     "text": [
      " 42%|████▏     | 5/12 [02:03<03:06, 26.59s/it]"
     ]
    },
    {
     "name": "stdout",
     "output_type": "stream",
     "text": [
      "Track with id 25jdMxDdSxV7FZmzjXXt0W not found in saved tracks\n",
      "Track with id 2TLiEDSAZq59NhiyuoO0HJ not found in saved tracks\n",
      "Track with id 2O9bvVZwnlc0w2VhEdF7S4 not found in saved tracks\n",
      "Batch  251  to  300\n"
     ]
    },
    {
     "name": "stderr",
     "output_type": "stream",
     "text": [
      " 50%|█████     | 6/12 [02:27<02:35, 25.85s/it]"
     ]
    },
    {
     "name": "stdout",
     "output_type": "stream",
     "text": [
      "Genre Alternative Pop not found in playlist genres\n",
      "Genre Psychedelic Rock not found in playlist genres\n",
      "Batch  301  to  350\n"
     ]
    },
    {
     "name": "stderr",
     "output_type": "stream",
     "text": [
      " 58%|█████▊    | 7/12 [02:51<02:05, 25.13s/it]"
     ]
    },
    {
     "name": "stdout",
     "output_type": "stream",
     "text": [
      "Track with id 5Ogt1g5fB45ZkHZjjB9Qy not found in saved tracks\n",
      "Track with id 64ySS9XGBbjghkdq5LnqT6 not found in saved tracks\n",
      "Track with id 1CkAazsF3Ha0Cfrx5yb1MP not found in saved tracks\n",
      "Track with id 5Ogt1g5fB45ZkHZjjB9Qy not found in saved tracks\n",
      "Track with id 62NS8jvjxLUY3FxANgI4S not found in saved tracks\n",
      "Track with id 62NS8jvjxLUY3FxANgI4S not found in saved tracks\n",
      "Genre Funky Pop not found in playlist genres\n",
      "Track with id Textures not found in saved tracks\n",
      "Batch  351  to  400\n"
     ]
    },
    {
     "name": "stderr",
     "output_type": "stream",
     "text": [
      " 67%|██████▋   | 8/12 [03:03<01:23, 20.87s/it]"
     ]
    },
    {
     "name": "stdout",
     "output_type": "stream",
     "text": [
      "Batch  401  to  450\n"
     ]
    },
    {
     "name": "stderr",
     "output_type": "stream",
     "text": [
      " 75%|███████▌  | 9/12 [03:15<00:54, 18.14s/it]"
     ]
    },
    {
     "name": "stdout",
     "output_type": "stream",
     "text": [
      "Genre Genre Not Provided not found in playlist genres\n",
      "Batch  451  to  500\n"
     ]
    },
    {
     "name": "stderr",
     "output_type": "stream",
     "text": [
      " 83%|████████▎ | 10/12 [03:53<00:48, 24.23s/it]"
     ]
    },
    {
     "name": "stdout",
     "output_type": "stream",
     "text": [
      "Genre neo mellow not found in playlist genres\n",
      "Genre broadway not found in playlist genres\n",
      "Genre show tunes not found in playlist genres\n",
      "Genre vocal jazz not found in playlist genres\n",
      "Genre bedroom soul not found in playlist genres\n",
      "Genre boy band not found in playlist genres\n",
      "Genre pop not found in playlist genres\n",
      "Genre post-teen pop not found in playlist genres\n",
      "Genre talent show not found in playlist genres\n",
      "Genre uk pop not found in playlist genres\n",
      "Genre indie poptimism not found in playlist genres\n",
      "Genre british soul not found in playlist genres\n",
      "Genre pop soul not found in playlist genres\n",
      "Genre adult standards not found in playlist genres\n",
      "Genre canadian pop not found in playlist genres\n",
      "Genre jazz pop not found in playlist genres\n",
      "Genre la pop not found in playlist genres\n",
      "Genre opm not found in playlist genres\n",
      "Genre singer-songwriter pop not found in playlist genres\n",
      "Genre viral pop not found in playlist genres\n",
      "Genre piano rock not found in playlist genres\n",
      "Genre pop rock not found in playlist genres\n",
      "Genre post-grunge not found in playlist genres\n",
      "Genre dance pop not found in playlist genres\n",
      "Genre art pop not found in playlist genres\n",
      "Genre electropop not found in playlist genres\n",
      "Genre indietronica not found in playlist genres\n",
      "Genre shimmer pop not found in playlist genres\n",
      "Genre r&b not found in playlist genres\n",
      "Genre german pop rock not found in playlist genres\n",
      "Genre neo soul not found in playlist genres\n",
      "Genre irish pop not found in playlist genres\n",
      "Genre irish rock not found in playlist genres\n",
      "Genre modern rock not found in playlist genres\n",
      "Genre permanent wave not found in playlist genres\n",
      "Genre ccm not found in playlist genres\n",
      "Genre christian alternative rock not found in playlist genres\n",
      "Genre christian music not found in playlist genres\n",
      "Genre album rock not found in playlist genres\n",
      "Genre classic rock not found in playlist genres\n",
      "Genre mellow gold not found in playlist genres\n",
      "Genre rock not found in playlist genres\n",
      "Genre soft rock not found in playlist genres\n",
      "Genre yacht rock not found in playlist genres\n",
      "Genre europop not found in playlist genres\n",
      "Batch  501  to  550\n"
     ]
    },
    {
     "name": "stderr",
     "output_type": "stream",
     "text": [
      " 92%|█████████▏| 11/12 [04:05<00:20, 20.69s/it]"
     ]
    },
    {
     "name": "stdout",
     "output_type": "stream",
     "text": [
      "Genre upbeat pop not found in playlist genres\n",
      "Batch  551  to  600\n"
     ]
    },
    {
     "name": "stderr",
     "output_type": "stream",
     "text": [
      "100%|██████████| 12/12 [04:14<00:00, 21.23s/it]\n"
     ]
    },
    {
     "name": "stdout",
     "output_type": "stream",
     "text": [
      "Track with id 706j3Zvle6aOnzC7C0HyvG not found in saved tracks\n",
      "Track with id 35cnDJ6fHweZ2h5ovMFIt8 not found in saved tracks\n",
      "Track with id 2Hq5mKM03cqTnIsPcDtuQF not found in saved tracks\n"
     ]
    },
    {
     "name": "stderr",
     "output_type": "stream",
     "text": [
      "  0%|          | 0/12 [00:00<?, ?it/s]"
     ]
    },
    {
     "name": "stdout",
     "output_type": "stream",
     "text": [
      "Batch  1  to  50\n"
     ]
    },
    {
     "name": "stderr",
     "output_type": "stream",
     "text": [
      "  8%|▊         | 1/12 [00:10<01:58, 10.76s/it]"
     ]
    },
    {
     "name": "stdout",
     "output_type": "stream",
     "text": [
      "Batch  51  to  100\n"
     ]
    },
    {
     "name": "stderr",
     "output_type": "stream",
     "text": [
      " 17%|█▋        | 2/12 [00:31<02:43, 16.34s/it]"
     ]
    },
    {
     "name": "stdout",
     "output_type": "stream",
     "text": [
      "Track with id 0oofq4Fgiu5j8mQhhXwb44 not found in saved tracks\n",
      "Track with id 3aQ9MHkMeL7YU7jpyF62xn not found in saved tracks\n",
      "Batch  101  to  150\n"
     ]
    },
    {
     "name": "stderr",
     "output_type": "stream",
     "text": [
      " 25%|██▌       | 3/12 [01:15<04:23, 29.23s/it]"
     ]
    },
    {
     "name": "stdout",
     "output_type": "stream",
     "text": [
      "Genre Ambient IDM not found in playlist genres\n",
      "Genre Cosmic American not found in playlist genres\n",
      "Genre Orchestral Soundtrack not found in playlist genres\n",
      "Genre Motown not found in playlist genres\n",
      "Genre Neo Soul not found in playlist genres\n",
      "Genre British Soul not found in playlist genres\n",
      "Genre Jazz Fusion not found in playlist genres\n",
      "Genre Jazz Trumpet not found in playlist genres\n",
      "Genre Jazz Saxophone not found in playlist genres\n",
      "Genre German Baroque not found in playlist genres\n",
      "Genre French Opera not found in playlist genres\n",
      "Genre Baroque not found in playlist genres\n",
      "Genre Late Romantic Era not found in playlist genres\n",
      "Genre Cool Jazz not found in playlist genres\n",
      "Batch  151  to  200\n"
     ]
    },
    {
     "name": "stderr",
     "output_type": "stream",
     "text": [
      " 33%|███▎      | 4/12 [01:29<03:05, 23.25s/it]"
     ]
    },
    {
     "name": "stdout",
     "output_type": "stream",
     "text": [
      "Batch  201  to  250\n"
     ]
    },
    {
     "name": "stderr",
     "output_type": "stream",
     "text": [
      " 42%|████▏     | 5/12 [01:41<02:15, 19.29s/it]"
     ]
    },
    {
     "name": "stdout",
     "output_type": "stream",
     "text": [
      "Track with id obsessed not found in saved tracks\n",
      "Batch  251  to  300\n"
     ]
    },
    {
     "name": "stderr",
     "output_type": "stream",
     "text": [
      " 50%|█████     | 6/12 [01:56<01:46, 17.82s/it]"
     ]
    },
    {
     "name": "stdout",
     "output_type": "stream",
     "text": [
      "Batch  301  to  350\n"
     ]
    },
    {
     "name": "stderr",
     "output_type": "stream",
     "text": [
      " 58%|█████▊    | 7/12 [02:24<01:45, 21.18s/it]"
     ]
    },
    {
     "name": "stdout",
     "output_type": "stream",
     "text": [
      "Batch  351  to  400\n"
     ]
    },
    {
     "name": "stderr",
     "output_type": "stream",
     "text": [
      " 67%|██████▋   | 8/12 [02:48<01:27, 21.91s/it]"
     ]
    },
    {
     "name": "stdout",
     "output_type": "stream",
     "text": [
      "Batch  401  to  450\n"
     ]
    },
    {
     "name": "stderr",
     "output_type": "stream",
     "text": [
      " 75%|███████▌  | 9/12 [03:01<00:56, 18.99s/it]"
     ]
    },
    {
     "name": "stdout",
     "output_type": "stream",
     "text": [
      "Genre reflective classical not found in playlist genres\n",
      "Genre intense classical not found in playlist genres\n",
      "Genre relaxed jazz not found in playlist genres\n",
      "Genre lively jazz not found in playlist genres\n",
      "Genre smooth jazz not found in playlist genres\n",
      "Genre vibrant EDM not found in playlist genres\n",
      "Genre futuristic EDM not found in playlist genres\n",
      "Genre intense EDM not found in playlist genres\n",
      "Genre upbeat hip hop not found in playlist genres\n",
      "Genre energetic hip hop not found in playlist genres\n",
      "Genre upbeat pop not found in playlist genres\n",
      "Genre danceable pop not found in playlist genres\n",
      "Genre chill house not found in playlist genres\n",
      "Genre pulsing house not found in playlist genres\n",
      "Genre groovy house not found in playlist genres\n",
      "Genre bold rock not found in playlist genres\n",
      "Genre quirky indie not found in playlist genres\n",
      "Genre indie rock not found in playlist genres\n",
      "Batch  451  to  500\n"
     ]
    },
    {
     "name": "stderr",
     "output_type": "stream",
     "text": [
      " 83%|████████▎ | 10/12 [03:38<00:49, 24.65s/it]"
     ]
    },
    {
     "name": "stdout",
     "output_type": "stream",
     "text": [
      "Genre neo mellow not found in playlist genres\n",
      "Genre broadway not found in playlist genres\n",
      "Genre show tunes not found in playlist genres\n",
      "Genre vocal jazz not found in playlist genres\n",
      "Genre bedroom soul not found in playlist genres\n",
      "Genre boy band not found in playlist genres\n",
      "Genre pop not found in playlist genres\n",
      "Genre post-teen pop not found in playlist genres\n",
      "Genre talent show not found in playlist genres\n",
      "Genre uk pop not found in playlist genres\n",
      "Genre british soul not found in playlist genres\n",
      "Genre pop soul not found in playlist genres\n",
      "Genre r&b not found in playlist genres\n",
      "Genre adult standards not found in playlist genres\n",
      "Genre canadian pop not found in playlist genres\n",
      "Genre jazz pop not found in playlist genres\n",
      "Genre lounge not found in playlist genres\n",
      "Genre alt z not found in playlist genres\n",
      "Genre singer-songwriter pop not found in playlist genres\n",
      "Genre viral pop not found in playlist genres\n",
      "Genre piano rock not found in playlist genres\n",
      "Genre pop rock not found in playlist genres\n",
      "Genre post-grunge not found in playlist genres\n",
      "Genre dance pop not found in playlist genres\n",
      "Genre album rock not found in playlist genres\n",
      "Genre classic rock not found in playlist genres\n",
      "Genre mellow gold not found in playlist genres\n",
      "Genre rock not found in playlist genres\n",
      "Genre soft rock not found in playlist genres\n",
      "Genre yacht rock not found in playlist genres\n",
      "Genre art pop not found in playlist genres\n",
      "Genre electropop not found in playlist genres\n",
      "Genre indie poptimism not found in playlist genres\n",
      "Genre indietronica not found in playlist genres\n",
      "Genre shimmer pop not found in playlist genres\n",
      "Genre folk-pop not found in playlist genres\n",
      "Genre new wave pop not found in playlist genres\n",
      "Genre permanent wave not found in playlist genres\n",
      "Genre la pop not found in playlist genres\n",
      "Genre modern rock not found in playlist genres\n",
      "Genre irish rock not found in playlist genres\n",
      "Genre irish pop not found in playlist genres\n",
      "Genre ccm not found in playlist genres\n",
      "Genre christian alternative rock not found in playlist genres\n",
      "Genre christian music not found in playlist genres\n",
      "Genre uk dance not found in playlist genres\n",
      "Genre german pop rock not found in playlist genres\n",
      "Genre neo soul not found in playlist genres\n",
      "Genre barbadian pop not found in playlist genres\n",
      "Genre urban contemporary not found in playlist genres\n",
      "Batch  501  to  550\n"
     ]
    },
    {
     "name": "stderr",
     "output_type": "stream",
     "text": [
      " 92%|█████████▏| 11/12 [03:58<00:23, 23.12s/it]"
     ]
    },
    {
     "name": "stdout",
     "output_type": "stream",
     "text": [
      "Track with id 6Fel5ANkDarOU6n4i1TZLo not found in saved tracks\n",
      "Track with id 6Fel5ANkDarOU6n4i1TZLo not found in saved tracks\n",
      "Batch  551  to  600\n"
     ]
    },
    {
     "name": "stderr",
     "output_type": "stream",
     "text": [
      "100%|██████████| 12/12 [04:16<00:00, 21.34s/it]\n"
     ]
    },
    {
     "name": "stdout",
     "output_type": "stream",
     "text": [
      "Track with id 1CyRloqqjpeKEAd3cO6J6z not found in saved tracks\n",
      "Track with id 6MrKP2jyIQmM0rw6fQryjr not found in saved tracks\n"
     ]
    },
    {
     "name": "stderr",
     "output_type": "stream",
     "text": [
      "  0%|          | 0/12 [00:00<?, ?it/s]"
     ]
    },
    {
     "name": "stdout",
     "output_type": "stream",
     "text": [
      "Batch  1  to  50\n"
     ]
    },
    {
     "name": "stderr",
     "output_type": "stream",
     "text": [
      "  8%|▊         | 1/12 [00:11<02:06, 11.50s/it]"
     ]
    },
    {
     "name": "stdout",
     "output_type": "stream",
     "text": [
      "Batch  51  to  100\n"
     ]
    },
    {
     "name": "stderr",
     "output_type": "stream",
     "text": [
      " 17%|█▋        | 2/12 [00:29<02:35, 15.54s/it]"
     ]
    },
    {
     "name": "stdout",
     "output_type": "stream",
     "text": [
      "Batch  101  to  150\n"
     ]
    },
    {
     "name": "stderr",
     "output_type": "stream",
     "text": [
      " 25%|██▌       | 3/12 [00:52<02:47, 18.66s/it]"
     ]
    },
    {
     "name": "stdout",
     "output_type": "stream",
     "text": [
      "Batch  151  to  200\n"
     ]
    },
    {
     "name": "stderr",
     "output_type": "stream",
     "text": [
      " 33%|███▎      | 4/12 [01:08<02:22, 17.79s/it]"
     ]
    },
    {
     "name": "stdout",
     "output_type": "stream",
     "text": [
      "Batch  201  to  250\n"
     ]
    },
    {
     "name": "stderr",
     "output_type": "stream",
     "text": [
      " 42%|████▏     | 5/12 [01:22<01:53, 16.24s/it]"
     ]
    },
    {
     "name": "stdout",
     "output_type": "stream",
     "text": [
      "Batch  251  to  300\n"
     ]
    },
    {
     "name": "stderr",
     "output_type": "stream",
     "text": [
      " 50%|█████     | 6/12 [01:43<01:48, 18.00s/it]"
     ]
    },
    {
     "name": "stdout",
     "output_type": "stream",
     "text": [
      "Batch  301  to  350\n"
     ]
    },
    {
     "name": "stderr",
     "output_type": "stream",
     "text": [
      " 58%|█████▊    | 7/12 [01:56<01:22, 16.48s/it]"
     ]
    },
    {
     "name": "stdout",
     "output_type": "stream",
     "text": [
      "Track with id 5iR9mqfAUnXkSkXHF1yvM0 not found in saved tracks\n",
      "Batch  351  to  400\n"
     ]
    },
    {
     "name": "stderr",
     "output_type": "stream",
     "text": [
      " 67%|██████▋   | 8/12 [02:12<01:05, 16.30s/it]"
     ]
    },
    {
     "name": "stdout",
     "output_type": "stream",
     "text": [
      "Track with id 5UNEHl4sTyGHvuFCJ7ViCO not found in saved tracks\n",
      "Batch  401  to  450\n"
     ]
    },
    {
     "name": "stderr",
     "output_type": "stream",
     "text": [
      " 75%|███████▌  | 9/12 [03:09<01:26, 28.94s/it]"
     ]
    },
    {
     "name": "stdout",
     "output_type": "stream",
     "text": [
      "Genre upbeat_pop not found in playlist genres\n",
      "Genre reflective_classical not found in playlist genres\n",
      "Genre energetic_hip_hop not found in playlist genres\n",
      "Genre groovy_house not found in playlist genres\n",
      "Genre danceable_pop not found in playlist genres\n",
      "Genre chill_house not found in playlist genres\n",
      "Genre futuristic_edm not found in playlist genres\n",
      "Genre quirky_indie not found in playlist genres\n",
      "Genre upbeat_hip_hop not found in playlist genres\n",
      "Genre smooth_jazz not found in playlist genres\n",
      "Genre pulsing_house not found in playlist genres\n",
      "Genre lively_jazz not found in playlist genres\n",
      "Genre intense_classical not found in playlist genres\n",
      "Genre vibrant_edm not found in playlist genres\n",
      "Genre intense_edm not found in playlist genres\n",
      "Genre bold_rock not found in playlist genres\n",
      "Genre indie_rock not found in playlist genres\n",
      "Genre reflective_jazz not found in playlist genres\n",
      "Genre classical_rock not found in playlist genres\n",
      "Batch  451  to  500\n"
     ]
    },
    {
     "name": "stderr",
     "output_type": "stream",
     "text": [
      " 83%|████████▎ | 10/12 [03:50<01:05, 32.52s/it]"
     ]
    },
    {
     "name": "stdout",
     "output_type": "stream",
     "text": [
      "Genre neo mellow not found in playlist genres\n",
      "Genre broadway not found in playlist genres\n",
      "Genre show tunes not found in playlist genres\n",
      "Genre vocal jazz not found in playlist genres\n",
      "Genre bedroom soul not found in playlist genres\n",
      "Genre boy band not found in playlist genres\n",
      "Genre pop not found in playlist genres\n",
      "Genre post-teen pop not found in playlist genres\n",
      "Genre uk pop not found in playlist genres\n",
      "Genre indie poptimism not found in playlist genres\n",
      "Genre british soul not found in playlist genres\n",
      "Genre pop soul not found in playlist genres\n",
      "Genre r&b not found in playlist genres\n",
      "Genre talent show not found in playlist genres\n",
      "Genre adult standards not found in playlist genres\n",
      "Genre canadian pop not found in playlist genres\n",
      "Genre jazz pop not found in playlist genres\n",
      "Genre lounge not found in playlist genres\n",
      "Genre alt z not found in playlist genres\n",
      "Genre folk-pop not found in playlist genres\n",
      "Genre piano rock not found in playlist genres\n",
      "Genre pop rock not found in playlist genres\n",
      "Genre viral pop not found in playlist genres\n",
      "Genre dance pop not found in playlist genres\n",
      "Genre rock not found in playlist genres\n",
      "Genre album rock not found in playlist genres\n",
      "Genre classic rock not found in playlist genres\n",
      "Genre mellow gold not found in playlist genres\n",
      "Genre soft rock not found in playlist genres\n",
      "Genre yacht rock not found in playlist genres\n",
      "Genre urban contemporary not found in playlist genres\n",
      "Genre art pop not found in playlist genres\n",
      "Genre electropop not found in playlist genres\n",
      "Genre indietronica not found in playlist genres\n",
      "Genre shimmer pop not found in playlist genres\n",
      "Genre new wave pop not found in playlist genres\n",
      "Genre permanent wave not found in playlist genres\n",
      "Genre la pop not found in playlist genres\n",
      "Genre opm not found in playlist genres\n",
      "Genre german pop rock not found in playlist genres\n",
      "Genre neo soul not found in playlist genres\n",
      "Genre irish pop not found in playlist genres\n",
      "Genre irish rock not found in playlist genres\n",
      "Genre modern rock not found in playlist genres\n",
      "Genre ccm not found in playlist genres\n",
      "Genre christian alternative rock not found in playlist genres\n",
      "Genre christian music not found in playlist genres\n",
      "Batch  501  to  550\n"
     ]
    },
    {
     "name": "stderr",
     "output_type": "stream",
     "text": [
      " 92%|█████████▏| 11/12 [04:14<00:30, 30.03s/it]"
     ]
    },
    {
     "name": "stdout",
     "output_type": "stream",
     "text": [
      "Batch  551  to  600\n"
     ]
    },
    {
     "name": "stderr",
     "output_type": "stream",
     "text": [
      "100%|██████████| 12/12 [04:29<00:00, 22.43s/it]\n",
      "  0%|          | 0/12 [00:00<?, ?it/s]"
     ]
    },
    {
     "name": "stdout",
     "output_type": "stream",
     "text": [
      "Batch  1  to  50\n"
     ]
    },
    {
     "name": "stderr",
     "output_type": "stream",
     "text": [
      "  8%|▊         | 1/12 [00:31<05:45, 31.39s/it]"
     ]
    },
    {
     "name": "stdout",
     "output_type": "stream",
     "text": [
      "Track with id 4NyM3vJuQA6kCaRj4BoANu not found in saved tracks\n",
      "Track with id 5aHRUZpY4I8oZZIxG7FHNZ not found in saved tracks\n",
      "Track with id 6WovRMIbWWsvu32SyS32af not found in saved tracks\n",
      "Track with id 7MkNdy70qVl2DF6xd02TqG not found in saved tracks\n",
      "Track with id 30dippyZM5D8pVop3xQ2aA not found in saved tracks\n",
      "Track with id 3faTuWPQeMo24zvuTDre3c not found in saved tracks\n",
      "Track with id 3AYC2httPlUMJdSk4991Bc not found in saved tracks\n",
      "Track with id 5MKDiYzqNYaVw5gYJavqZP not found in saved tracks\n",
      "Track with id 1NvsmNloNaDFDJyUpdqPiS not found in saved tracks\n",
      "Track with id 5ryUnMuftKM0YdEtNJFQ0b not found in saved tracks\n",
      "Track with id 5fH5sEWr8e0TxOigX3W6O0 not found in saved tracks\n",
      "Track with id 2HrWe13mHnKADYlGQOHhFl not found in saved tracks\n",
      "Track with id 4weEwHuJO3IHk4kE8H5uN4 not found in saved tracks\n",
      "Track with id 5MKDiYzqNYaVw5gYJavqZP not found in saved tracks\n",
      "Track with id 4NYm3vJuQA6kCaRj4BoANu not found in saved tracks\n",
      "Track with id 6iGftHQDkMfbaqMbPjOLGY not found in saved tracks\n",
      "Track with id 60qcSkOchsWulW5GLZKDRO not found in saved tracks\n",
      "Track with id 6WovRMIbWWsvu32SyS32af not found in saved tracks\n",
      "Track with id 3cQaTHbiU2nBy3Ar9RnDHN not found in saved tracks\n",
      "Batch  51  to  100\n"
     ]
    },
    {
     "name": "stderr",
     "output_type": "stream",
     "text": [
      " 17%|█▋        | 2/12 [00:39<02:55, 17.54s/it]"
     ]
    },
    {
     "name": "stdout",
     "output_type": "stream",
     "text": [
      "Batch  101  to  150\n"
     ]
    },
    {
     "name": "stderr",
     "output_type": "stream",
     "text": [
      " 25%|██▌       | 3/12 [01:00<02:51, 19.08s/it]"
     ]
    },
    {
     "name": "stdout",
     "output_type": "stream",
     "text": [
      "Batch  151  to  200\n"
     ]
    },
    {
     "name": "stderr",
     "output_type": "stream",
     "text": [
      " 33%|███▎      | 4/12 [01:17<02:26, 18.33s/it]"
     ]
    },
    {
     "name": "stdout",
     "output_type": "stream",
     "text": [
      "Track with id 2Y3ZaRfdgLPr5CeqtZssyS not found in saved tracks\n",
      "Track with id 0w8z59VJf71k5WYNcOUAuv not found in saved tracks\n",
      "Batch  201  to  250\n"
     ]
    },
    {
     "name": "stderr",
     "output_type": "stream",
     "text": [
      " 42%|████▏     | 5/12 [01:30<01:56, 16.61s/it]"
     ]
    },
    {
     "name": "stdout",
     "output_type": "stream",
     "text": [
      "Batch  251  to  300\n"
     ]
    },
    {
     "name": "stderr",
     "output_type": "stream",
     "text": [
      " 50%|█████     | 6/12 [01:42<01:29, 14.97s/it]"
     ]
    },
    {
     "name": "stdout",
     "output_type": "stream",
     "text": [
      "Batch  301  to  350\n"
     ]
    },
    {
     "name": "stderr",
     "output_type": "stream",
     "text": [
      " 58%|█████▊    | 7/12 [02:05<01:27, 17.58s/it]"
     ]
    },
    {
     "name": "stdout",
     "output_type": "stream",
     "text": [
      "Batch  351  to  400\n"
     ]
    },
    {
     "name": "stderr",
     "output_type": "stream",
     "text": [
      " 67%|██████▋   | 8/12 [02:34<01:24, 21.20s/it]"
     ]
    },
    {
     "name": "stdout",
     "output_type": "stream",
     "text": [
      "Track with id 468LcWzyszL9c5JHWDI7UP not found in saved tracks\n",
      "Track with id 06HptsMNTdpfUe0nDytqW8 not found in saved tracks\n",
      "Track with id 7K8W5JKpht3h1ae1VqZZit not found in saved tracks\n",
      "Track with id 5tWZfIMuMRJdHifVjJS6i3 not found in saved tracks\n",
      "Track with id 6049yt0D0p1VXEm2GdfwNG not found in saved tracks\n",
      "Track with id 0KLX8ulEBgCC7plRAK6zDH not found in saved tracks\n",
      "Track with id 3rdI3Ipb6PcSuCl1dsOEqY not found in saved tracks\n",
      "Track with id 5WL7bwlnJ95waSLyAe458P not found in saved tracks\n",
      "Track with id 0FsoulYYoN9b0JLpljTiuI not found in saved tracks\n",
      "Track with id 6Dd9FZ3ofoCGyy3YFyCydt not found in saved tracks\n",
      "Track with id 68nlfFeEN2JKkLRGBkyNF6 not found in saved tracks\n",
      "Track with id 5DgKpB6xWorBIFYev4cLPW not found in saved tracks\n",
      "Track with id 5F8Dg99wA6wGDsWZowP497 not found in saved tracks\n",
      "Track with id 06HptsMNTdpfUe0nDytqW8 not found in saved tracks\n",
      "Track with id 5SxApTkiZmFfNf2jNy96vR not found in saved tracks\n",
      "Track with id 6oNYcTtnzYHJ88jOkKqzq5 not found in saved tracks\n",
      "Track with id 564gx7aBuMWnHkr5siM8OJ not found in saved tracks\n",
      "Track with id 735Bgexze4gFJfvP44goSh not found in saved tracks\n",
      "Track with id 5CRguB7aclG12NnPCpERHk not found in saved tracks\n",
      "Track with id 2PCRnHSrjbGPGFxUQN9XNs not found in saved tracks\n",
      "Track with id 4Mo5vP5IRcyGKCXQI077lv not found in saved tracks\n",
      "Track with id 4fykPnM3nyXJ2A7OQsOcdN not found in saved tracks\n",
      "Track with id 2NNB74GUE79jvhTLF9HMDv not found in saved tracks\n",
      "Track with id 2i2RINHMEk92F0FQ2XURYU not found in saved tracks\n",
      "Track with id 7snXVj5sezMfbOYXRgefGu not found in saved tracks\n",
      "Track with id 7602S5tVfphKpYU0Cw5OTm not found in saved tracks\n",
      "Track with id 6rhNri425pCmw9Lhx3yNH9 not found in saved tracks\n",
      "Track with id 0C8r-0MT3pgLkRlUna-Xt2 not found in saved tracks\n",
      "Track with id 6lvcedSkHUZqwNgn1NDesB not found in saved tracks\n",
      "Track with id 0uoaihgvby8doOzpNhyPvv not found in saved tracks\n",
      "Track with id 2kerLahfZ5nMEtKOR2JiPj not found in saved tracks\n",
      "Batch  401  to  450\n"
     ]
    },
    {
     "name": "stderr",
     "output_type": "stream",
     "text": [
      " 75%|███████▌  | 9/12 [02:49<00:57, 19.12s/it]"
     ]
    },
    {
     "name": "stdout",
     "output_type": "stream",
     "text": [
      "Genre danceable pop not found in playlist genres\n",
      "Genre bold rock not found in playlist genres\n",
      "Genre quirky indie not found in playlist genres\n",
      "Genre indie rock not found in playlist genres\n",
      "Batch  451  to  500\n"
     ]
    },
    {
     "name": "stderr",
     "output_type": "stream",
     "text": [
      " 83%|████████▎ | 10/12 [03:23<00:47, 23.87s/it]"
     ]
    },
    {
     "name": "stdout",
     "output_type": "stream",
     "text": [
      "Genre neo mellow not found in playlist genres\n",
      "Genre broadway not found in playlist genres\n",
      "Genre show tunes not found in playlist genres\n",
      "Genre vocal jazz not found in playlist genres\n",
      "Genre bedroom soul not found in playlist genres\n",
      "Genre boy band not found in playlist genres\n",
      "Genre pop not found in playlist genres\n",
      "Genre post-teen pop not found in playlist genres\n",
      "Genre talent show not found in playlist genres\n",
      "Genre uk pop not found in playlist genres\n",
      "Genre british soul not found in playlist genres\n",
      "Genre pop soul not found in playlist genres\n",
      "Genre r&b not found in playlist genres\n",
      "Genre adult standards not found in playlist genres\n",
      "Genre canadian pop not found in playlist genres\n",
      "Genre jazz pop not found in playlist genres\n",
      "Genre lounge not found in playlist genres\n",
      "Genre alt z not found in playlist genres\n",
      "Genre singer-songwriter pop not found in playlist genres\n",
      "Genre irish pop not found in playlist genres\n",
      "Genre modern rock not found in playlist genres\n",
      "Genre piano rock not found in playlist genres\n",
      "Genre viral pop not found in playlist genres\n",
      "Genre dance pop not found in playlist genres\n",
      "Genre album rock not found in playlist genres\n",
      "Genre classic rock not found in playlist genres\n",
      "Genre mellow gold not found in playlist genres\n",
      "Genre rock not found in playlist genres\n",
      "Genre soft rock not found in playlist genres\n",
      "Genre yacht rock not found in playlist genres\n",
      "Genre barbadian pop not found in playlist genres\n",
      "Genre urban contemporary not found in playlist genres\n",
      "Genre art pop not found in playlist genres\n",
      "Genre electropop not found in playlist genres\n",
      "Genre indie poptimism not found in playlist genres\n",
      "Genre indietronica not found in playlist genres\n",
      "Genre shimmer pop not found in playlist genres\n",
      "Genre new wave pop not found in playlist genres\n",
      "Genre permanent wave not found in playlist genres\n",
      "Genre la pop not found in playlist genres\n",
      "Genre opm not found in playlist genres\n",
      "Genre uk dance not found in playlist genres\n",
      "Genre german pop rock not found in playlist genres\n",
      "Genre neo soul not found in playlist genres\n",
      "Genre irish rock not found in playlist genres\n",
      "Genre pop rock not found in playlist genres\n",
      "Genre post-grunge not found in playlist genres\n",
      "Genre ccm not found in playlist genres\n",
      "Genre christian alternative rock not found in playlist genres\n",
      "Genre christian music not found in playlist genres\n",
      "Batch  501  to  550\n"
     ]
    },
    {
     "name": "stderr",
     "output_type": "stream",
     "text": [
      " 92%|█████████▏| 11/12 [03:37<00:20, 20.69s/it]"
     ]
    },
    {
     "name": "stdout",
     "output_type": "stream",
     "text": [
      "Batch  551  to  600\n"
     ]
    },
    {
     "name": "stderr",
     "output_type": "stream",
     "text": [
      "100%|██████████| 12/12 [03:55<00:00, 19.61s/it]\n",
      "  0%|          | 0/12 [00:00<?, ?it/s]"
     ]
    },
    {
     "name": "stdout",
     "output_type": "stream",
     "text": [
      "Batch  1  to  50\n"
     ]
    },
    {
     "name": "stderr",
     "output_type": "stream",
     "text": [
      "  8%|▊         | 1/12 [00:06<01:11,  6.53s/it]"
     ]
    },
    {
     "name": "stdout",
     "output_type": "stream",
     "text": [
      "Track with id 5uqqlzld38AsekOOP0krca not found in saved tracks\n",
      "Track with id 68JBMpomssT5a9EH3w8QLe not found in saved tracks\n",
      "Track with id Purple Hat not found in saved tracks\n",
      "Track with id Willing To Let You Go (feat. Anella Herim & Abby Anderson) not found in saved tracks\n",
      "Track with id Poison Cookie ft. AUDREY NUNA not found in saved tracks\n",
      "Track with id FOLN4U not found in saved tracks\n",
      "Track with id 22M9oHUcotUSJuabYthULN not found in saved tracks\n",
      "Track with id 0SAMcaFVBbYQadwze7oiDU not found in saved tracks\n",
      "Batch  51  to  100\n"
     ]
    },
    {
     "name": "stderr",
     "output_type": "stream",
     "text": [
      " 17%|█▋        | 2/12 [00:16<01:27,  8.79s/it]"
     ]
    },
    {
     "name": "stdout",
     "output_type": "stream",
     "text": [
      "Batch  101  to  150\n"
     ]
    },
    {
     "name": "stderr",
     "output_type": "stream",
     "text": [
      " 25%|██▌       | 3/12 [00:30<01:37, 10.86s/it]"
     ]
    },
    {
     "name": "stdout",
     "output_type": "stream",
     "text": [
      "Batch  151  to  200\n"
     ]
    },
    {
     "name": "stderr",
     "output_type": "stream",
     "text": [
      " 33%|███▎      | 4/12 [00:46<01:43, 12.90s/it]"
     ]
    },
    {
     "name": "stdout",
     "output_type": "stream",
     "text": [
      "Batch  201  to  250\n"
     ]
    },
    {
     "name": "stderr",
     "output_type": "stream",
     "text": [
      " 42%|████▏     | 5/12 [01:18<02:17, 19.71s/it]"
     ]
    },
    {
     "name": "stdout",
     "output_type": "stream",
     "text": [
      "Genre Pop not found in playlist genres\n",
      "Track with id 1+1=11 - Edit not found in saved tracks\n",
      "Genre Italo Dance not found in playlist genres\n",
      "Genre Reggae Fusion not found in playlist genres\n",
      "Batch  251  to  300\n"
     ]
    },
    {
     "name": "stderr",
     "output_type": "stream",
     "text": [
      " 50%|█████     | 6/12 [01:27<01:36, 16.11s/it]"
     ]
    },
    {
     "name": "stdout",
     "output_type": "stream",
     "text": [
      "Track with id 10SjxQDFXCWpSlLV00H9Kt not found in saved tracks\n",
      "Track with id 5AEtSfw4MSJCUNqhhC4zrW not found in saved tracks\n",
      "Track with id Hell N Back, Track_Id: 0rVJ6v23RQozOIvr1YotJP not found in saved tracks\n",
      "Track with id 3Apvsk0suoivI1H8CmBglv not found in saved tracks\n",
      "Track with id  not found in saved tracks\n",
      "Batch  301  to  350\n"
     ]
    },
    {
     "name": "stderr",
     "output_type": "stream",
     "text": [
      " 58%|█████▊    | 7/12 [01:41<01:17, 15.43s/it]"
     ]
    },
    {
     "name": "stdout",
     "output_type": "stream",
     "text": [
      "Track with id Piece Of Your Heart not found in saved tracks\n",
      "Track with id 4Ut5G4rgB1ClpMTMfjoIuy not found in saved tracks\n",
      "Batch  351  to  400\n"
     ]
    },
    {
     "name": "stderr",
     "output_type": "stream",
     "text": [
      " 67%|██████▋   | 8/12 [01:53<00:57, 14.45s/it]"
     ]
    },
    {
     "name": "stdout",
     "output_type": "stream",
     "text": [
      "Track with id 00kc4WFIpH8PEaa7cflKAx not found in saved tracks\n",
      "Track with id 07rAJ1Q1NNJSaUKEW3X9P6 not found in saved tracks\n",
      "Track with id 4uISqR4lyfgJ0snckYmQpJ not found in saved tracks\n",
      "Track with id 8uISqR4lyfgJ0snckYmQpJ not found in saved tracks\n",
      "Track with id 007Y2idwCU2Rk60Prv4wpr not found in saved tracks\n",
      "Track with id 073vIOb4Q7YN6HeJTbscRx5 not found in saved tracks\n",
      "Track with id 77eYAnkdTu8BMcIx29z26L not found in saved tracks\n",
      "Track with id 79sNevT0WU7NXnkm1jnGENF not found in saved tracks\n",
      "Track with id 61JZ1ABjN8q7TNwMP39NjvU not found in saved tracks\n",
      "Track with id 62siYMEsGrzzzlWLXK5zJfS not found in saved tracks\n",
      "Track with id 63arD8N1yRHfbNe6kI3vyZF not found in saved tracks\n",
      "Batch  401  to  450\n"
     ]
    },
    {
     "name": "stderr",
     "output_type": "stream",
     "text": [
      " 75%|███████▌  | 9/12 [02:48<01:21, 27.14s/it]"
     ]
    },
    {
     "name": "stdout",
     "output_type": "stream",
     "text": [
      "Genre pop not found in playlist genres\n",
      "Genre neo mellow not found in playlist genres\n",
      "Genre piano rock not found in playlist genres\n",
      "Genre pop rock not found in playlist genres\n",
      "Genre classic rock not found in playlist genres\n",
      "Genre rock not found in playlist genres\n",
      "Genre british invasion not found in playlist genres\n",
      "Genre merseybeat not found in playlist genres\n",
      "Genre psychedelic rock not found in playlist genres\n",
      "Genre glam rock not found in playlist genres\n",
      "Genre mellow gold not found in playlist genres\n",
      "Genre folk not found in playlist genres\n",
      "Genre folk rock not found in playlist genres\n",
      "Genre soft rock not found in playlist genres\n",
      "Genre singer-songwriter not found in playlist genres\n",
      "Genre new romantic not found in playlist genres\n",
      "Genre new wave not found in playlist genres\n",
      "Genre new wave pop not found in playlist genres\n",
      "Genre permanent wave not found in playlist genres\n",
      "Genre sophisti-pop not found in playlist genres\n",
      "Genre synthpop not found in playlist genres\n",
      "Genre neo soul not found in playlist genres\n",
      "Genre british soul not found in playlist genres\n",
      "Genre pop soul not found in playlist genres\n",
      "Genre soul not found in playlist genres\n",
      "Genre talent show not found in playlist genres\n",
      "Genre r&b not found in playlist genres\n",
      "Genre uk pop not found in playlist genres\n",
      "Genre post-teen pop not found in playlist genres\n",
      "Genre teen pop not found in playlist genres\n",
      "Genre pop punk not found in playlist genres\n",
      "Genre afrofuturism not found in playlist genres\n",
      "Genre idol not found in playlist genres\n",
      "Genre boy band not found in playlist genres\n",
      "Genre dance pop not found in playlist genres\n",
      "Genre acoustic pop not found in playlist genres\n",
      "Genre contemporary country not found in playlist genres\n",
      "Genre cosmic american not found in playlist genres\n",
      "Genre jam band not found in playlist genres\n",
      "Genre modern country pop not found in playlist genres\n",
      "Genre classic oklahoma country not found in playlist genres\n",
      "Genre indie anthem-folk not found in playlist genres\n",
      "Genre viral pop not found in playlist genres\n",
      "Genre la pop not found in playlist genres\n",
      "Genre opm not found in playlist genres\n",
      "Genre lilith not found in playlist genres\n",
      "Genre alt z not found in playlist genres\n",
      "Genre modern alternative rock not found in playlist genres\n",
      "Genre modern rock not found in playlist genres\n",
      "Batch  451  to  500\n"
     ]
    },
    {
     "name": "stderr",
     "output_type": "stream",
     "text": [
      " 83%|████████▎ | 10/12 [02:58<00:43, 21.90s/it]"
     ]
    },
    {
     "name": "stdout",
     "output_type": "stream",
     "text": [
      "Genre Vocal Jazz not found in playlist genres\n",
      "Batch  501  to  550\n"
     ]
    },
    {
     "name": "stderr",
     "output_type": "stream",
     "text": [
      " 92%|█████████▏| 11/12 [03:14<00:20, 20.00s/it]"
     ]
    },
    {
     "name": "stdout",
     "output_type": "stream",
     "text": [
      "Batch  551  to  600\n"
     ]
    },
    {
     "name": "stderr",
     "output_type": "stream",
     "text": [
      "100%|██████████| 12/12 [03:29<00:00, 17.48s/it]\n"
     ]
    },
    {
     "name": "stdout",
     "output_type": "stream",
     "text": [
      "Track with id 1BXkZE73h9BN3qwuA15TA3 not found in saved tracks\n"
     ]
    },
    {
     "name": "stderr",
     "output_type": "stream",
     "text": [
      "  0%|          | 0/12 [00:00<?, ?it/s]"
     ]
    },
    {
     "name": "stdout",
     "output_type": "stream",
     "text": [
      "Batch  1  to  50\n"
     ]
    },
    {
     "name": "stderr",
     "output_type": "stream",
     "text": [
      "  8%|▊         | 1/12 [00:11<02:11, 11.94s/it]"
     ]
    },
    {
     "name": "stdout",
     "output_type": "stream",
     "text": [
      "Track with id 68O0zVUeMJ2C852Ov6d2Mh not found in saved tracks\n",
      "Batch  51  to  100\n"
     ]
    },
    {
     "name": "stderr",
     "output_type": "stream",
     "text": [
      " 17%|█▋        | 2/12 [00:25<02:11, 13.16s/it]"
     ]
    },
    {
     "name": "stdout",
     "output_type": "stream",
     "text": [
      "Track with id 6mrQR4O7FYMnu1HI15QR4S not found in saved tracks\n",
      "Track with id 5LHulyxiRgnU7CGXdGif4q not found in saved tracks\n",
      "Track with id 3djTRmjxk3QG1hR0CT1Z5M not found in saved tracks\n",
      "Track with id 0LJxn49z7p7IyFLP5xiEfo not found in saved tracks\n",
      "Track with id 7vYXPvkDOjkznXVKxtQdqb not found in saved tracks\n",
      "Batch  101  to  150\n"
     ]
    },
    {
     "name": "stderr",
     "output_type": "stream",
     "text": [
      " 25%|██▌       | 3/12 [00:49<02:40, 17.85s/it]"
     ]
    },
    {
     "name": "stdout",
     "output_type": "stream",
     "text": [
      "Batch  151  to  200\n"
     ]
    },
    {
     "name": "stderr",
     "output_type": "stream",
     "text": [
      " 33%|███▎      | 4/12 [01:26<03:24, 25.50s/it]"
     ]
    },
    {
     "name": "stdout",
     "output_type": "stream",
     "text": [
      "Genre deep new americana not found in playlist genres\n",
      "Genre cosmic american, jam band, psychedelic rock not found in playlist genres\n",
      "Genre atl hip hop, melodic rap, rap, trap not found in playlist genres\n",
      "Genre alt z, boston folk, indie pop, singer-songwriter pop not found in playlist genres\n",
      "Genre chamber pop, indie rock, modern folk rock, philly indie, pov: indie, seattle indie, stomp and holler not found in playlist genres\n",
      "Genre jazz blues, soul, soul blues, torch song, vocal jazz not found in playlist genres\n",
      "Genre traditional soul not found in playlist genres\n",
      "Genre uk dance not found in playlist genres\n",
      "Genre adult standards, easy listening, lounge not found in playlist genres\n",
      "Genre alternative pop rock, pov: indie not found in playlist genres\n",
      "Genre bebop, contemporary post-bop, jazz, jazz piano, stride, vocal jazz not found in playlist genres\n",
      "Genre contemporary vocal jazz, jazz pop, neo mellow, vocal jazz not found in playlist genres\n",
      "Genre jazz catala, spanish jazz not found in playlist genres\n",
      "Genre hard bop, jazz, jazz drums not found in playlist genres\n",
      "Genre bebop, jazz, jazz quartet not found in playlist genres\n",
      "Genre early modern classical not found in playlist genres\n",
      "Genre pop, pop dance, tropical house not found in playlist genres\n",
      "Genre british modern classical, classical, post-romantic era not found in playlist genres\n",
      "Genre classical, italian opera, italian romanticism, post-romantic era not found in playlist genres\n",
      "Genre classical, italian opera, italian romanticism, late romantic era not found in playlist genres\n",
      "Genre classical, classical era not found in playlist genres\n",
      "Genre african-american classical, harlem renaissance, jazz, jazz piano, swing, vocal jazz not found in playlist genres\n",
      "Batch  201  to  250\n"
     ]
    },
    {
     "name": "stderr",
     "output_type": "stream",
     "text": [
      " 42%|████▏     | 5/12 [01:47<02:47, 23.94s/it]"
     ]
    },
    {
     "name": "stdout",
     "output_type": "stream",
     "text": [
      "Track with id 2jlmmgIwdkc197jv0rvavd not found in saved tracks\n",
      "Batch  251  to  300\n"
     ]
    },
    {
     "name": "stderr",
     "output_type": "stream",
     "text": [
      " 50%|█████     | 6/12 [02:08<02:17, 22.96s/it]"
     ]
    },
    {
     "name": "stdout",
     "output_type": "stream",
     "text": [
      "Track with id 2QOBT97OmYCZo1W5u7tRrB not found in saved tracks\n",
      "Track with id 77jUqqGrUTB70aOuQ3IlH not found in saved tracks\n",
      "Batch  301  to  350\n"
     ]
    },
    {
     "name": "stderr",
     "output_type": "stream",
     "text": [
      " 58%|█████▊    | 7/12 [02:22<01:39, 19.82s/it]"
     ]
    },
    {
     "name": "stdout",
     "output_type": "stream",
     "text": [
      "Track with id 0TMKoHvf8kKoo89jg2TeMR not found in saved tracks\n",
      "Track with id 0FvoqHEozFDpW4hQxc5Gjl not found in saved tracks\n",
      "Track with id 5SNqsic0mFeeJl3MKp10wI not found in saved tracks\n",
      "Track with id 0tRhrzjcIknmamberKZiZ not found in saved tracks\n",
      "Track with id 076zCvYbAVr9EjQsjdEWE4 not found in saved tracks\n",
      "Track with id 085EHEbyMV0tD94F8ZS6V5 not found in saved tracks\n",
      "Track with id 6eRys0IlPcW95LczVckXZe not found in saved tracks\n",
      "Track with id 42QhCyM9WoK6vEBS0sA35G not found in saved tracks\n",
      "Track with id 6txWqItX9eW0JXVbH2pyhf not found in saved tracks\n",
      "Track with id 39RDWmqgDuJKl1Sbn9SRxy not found in saved tracks\n",
      "Track with id 2NuCPa6oFqA2eyfuROZ5u8 not found in saved tracks\n",
      "Track with id 2m3jIlKxQigCXS4IyhJpAp not found in saved tracks\n",
      "Track with id 1x5RQM31M7Ojwwh5DNYBzv not found in saved tracks\n",
      "Track with id 1KdegQEvk3H5hv1tLUymUV not found in saved tracks\n",
      "Track with id 7lkG4WY685xrYAUXGGiPnt not found in saved tracks\n",
      "Track with id 5YtCi00K30h70V4IyYOHBc not found in saved tracks\n",
      "Track with id 4EKvZnZeNcyn9jT4c6kfHQ not found in saved tracks\n",
      "Batch  351  to  400\n"
     ]
    },
    {
     "name": "stderr",
     "output_type": "stream",
     "text": [
      " 67%|██████▋   | 8/12 [02:33<01:08, 17.22s/it]"
     ]
    },
    {
     "name": "stdout",
     "output_type": "stream",
     "text": [
      "Batch  401  to  450\n"
     ]
    },
    {
     "name": "stderr",
     "output_type": "stream",
     "text": [
      " 75%|███████▌  | 9/12 [02:49<00:50, 16.88s/it]"
     ]
    },
    {
     "name": "stdout",
     "output_type": "stream",
     "text": [
      "Batch  451  to  500\n"
     ]
    },
    {
     "name": "stderr",
     "output_type": "stream",
     "text": [
      " 83%|████████▎ | 10/12 [03:34<00:50, 25.45s/it]"
     ]
    },
    {
     "name": "stdout",
     "output_type": "stream",
     "text": [
      "Genre pop not found in playlist genres\n",
      "Genre neo mellow not found in playlist genres\n",
      "Genre broadway not found in playlist genres\n",
      "Genre show tunes not found in playlist genres\n",
      "Genre vocal jazz not found in playlist genres\n",
      "Genre boy band not found in playlist genres\n",
      "Genre post-teen pop not found in playlist genres\n",
      "Genre talent show not found in playlist genres\n",
      "Genre uk pop not found in playlist genres\n",
      "Genre bedroom soul not found in playlist genres\n",
      "Genre british soul not found in playlist genres\n",
      "Genre pop soul not found in playlist genres\n",
      "Genre indie poptimism not found in playlist genres\n",
      "Genre piano rock not found in playlist genres\n",
      "Genre pop rock not found in playlist genres\n",
      "Genre viral pop not found in playlist genres\n",
      "Genre dance pop not found in playlist genres\n",
      "Genre album rock not found in playlist genres\n",
      "Genre classic rock not found in playlist genres\n",
      "Genre mellow gold not found in playlist genres\n",
      "Genre rock not found in playlist genres\n",
      "Genre soft rock not found in playlist genres\n",
      "Genre yacht rock not found in playlist genres\n",
      "Genre folk-pop not found in playlist genres\n",
      "Genre irish pop not found in playlist genres\n",
      "Genre modern rock not found in playlist genres\n",
      "Genre irish rock not found in playlist genres\n",
      "Genre permanent wave not found in playlist genres\n",
      "Genre ccm not found in playlist genres\n",
      "Genre christian alternative rock not found in playlist genres\n",
      "Genre christian music not found in playlist genres\n",
      "Genre opm not found in playlist genres\n",
      "Genre la pop not found in playlist genres\n",
      "Genre electropop not found in playlist genres\n",
      "Genre indietronica not found in playlist genres\n",
      "Genre shimmer pop not found in playlist genres\n",
      "Genre neo soul not found in playlist genres\n",
      "Genre r&b not found in playlist genres\n",
      "Genre german pop rock not found in playlist genres\n",
      "Genre canadian pop not found in playlist genres\n",
      "Genre jazz pop not found in playlist genres\n",
      "Genre lounge not found in playlist genres\n",
      "Genre alt z not found in playlist genres\n",
      "Genre singer-songwriter pop not found in playlist genres\n",
      "Genre post-grunge not found in playlist genres\n",
      "Genre barbadian pop not found in playlist genres\n",
      "Genre urban contemporary not found in playlist genres\n",
      "Batch  501  to  550\n"
     ]
    },
    {
     "name": "stderr",
     "output_type": "stream",
     "text": [
      " 92%|█████████▏| 11/12 [03:58<00:25, 25.07s/it]"
     ]
    },
    {
     "name": "stdout",
     "output_type": "stream",
     "text": [
      "Genre danceable_pop not found in playlist genres\n",
      "Genre upbeat_pop not found in playlist genres\n",
      "Genre vibrant_edm not found in playlist genres\n",
      "Genre bold_rock not found in playlist genres\n",
      "Genre quirky_indie not found in playlist genres\n",
      "Genre indie_rock not found in playlist genres\n",
      "Genre reflective_classical not found in playlist genres\n",
      "Genre smooth_jazz not found in playlist genres\n",
      "Genre groovy_house not found in playlist genres\n",
      "Genre intense_classical not found in playlist genres\n",
      "Genre chill_house not found in playlist genres\n",
      "Genre futuristic_edm not found in playlist genres\n",
      "Genre upbeat_hip_hop not found in playlist genres\n",
      "Genre intense_edm not found in playlist genres\n",
      "Genre lively_jazz not found in playlist genres\n",
      "Genre reflective_jazz not found in playlist genres\n",
      "Genre pulsing_house not found in playlist genres\n",
      "Batch  551  to  600\n"
     ]
    },
    {
     "name": "stderr",
     "output_type": "stream",
     "text": [
      "100%|██████████| 12/12 [04:14<00:00, 21.17s/it]\n"
     ]
    },
    {
     "name": "stdout",
     "output_type": "stream",
     "text": [
      "Track with id 6Bx6sP0Gh1jD57drszNueC not found in saved tracks\n",
      "Genre Pop not found in playlist genres\n"
     ]
    },
    {
     "name": "stderr",
     "output_type": "stream",
     "text": [
      "  0%|          | 0/11 [00:00<?, ?it/s]"
     ]
    },
    {
     "name": "stdout",
     "output_type": "stream",
     "text": [
      "Batch  1  to  50\n"
     ]
    },
    {
     "name": "stderr",
     "output_type": "stream",
     "text": [
      "  9%|▉         | 1/11 [00:17<02:52, 17.26s/it]"
     ]
    },
    {
     "name": "stdout",
     "output_type": "stream",
     "text": [
      "Genre Alt R&B not found in playlist genres\n",
      "Genre Easy Listening not found in playlist genres\n",
      "Track with id DagUuHd6ykAJZwTTPkibsB not found in saved tracks\n",
      "Genre Bustling Dance Pop not found in playlist genres\n",
      "Batch  51  to  100\n"
     ]
    },
    {
     "name": "stderr",
     "output_type": "stream",
     "text": [
      " 18%|█▊        | 2/11 [00:30<02:11, 14.63s/it]"
     ]
    },
    {
     "name": "stdout",
     "output_type": "stream",
     "text": [
      "Track with id 0oBgMiEBSF6EIsUst1YVJl not found in saved tracks\n",
      "Batch  101  to  150\n"
     ]
    },
    {
     "name": "stderr",
     "output_type": "stream",
     "text": [
      " 27%|██▋       | 3/11 [00:53<02:30, 18.75s/it]"
     ]
    },
    {
     "name": "stdout",
     "output_type": "stream",
     "text": [
      "Batch  151  to  200\n"
     ]
    },
    {
     "name": "stderr",
     "output_type": "stream",
     "text": [
      " 36%|███▋      | 4/11 [01:06<01:55, 16.46s/it]"
     ]
    },
    {
     "name": "stdout",
     "output_type": "stream",
     "text": [
      "Batch  201  to  250\n"
     ]
    },
    {
     "name": "stderr",
     "output_type": "stream",
     "text": [
      " 45%|████▌     | 5/11 [01:22<01:37, 16.30s/it]"
     ]
    },
    {
     "name": "stdout",
     "output_type": "stream",
     "text": [
      "Track with id obsessed not found in saved tracks\n",
      "Track with id Goodums not found in saved tracks\n",
      "Track with id 6pugHXbVh4sGwb1C7TAG2 not found in saved tracks\n",
      "Genre Italo dance not found in playlist genres\n",
      "Batch  251  to  300\n"
     ]
    },
    {
     "name": "stderr",
     "output_type": "stream",
     "text": [
      " 55%|█████▍    | 6/11 [01:44<01:31, 18.29s/it]"
     ]
    },
    {
     "name": "stdout",
     "output_type": "stream",
     "text": [
      "Track with id 05wIUNQWzGzStt1lKsf3WX not found in saved tracks\n",
      "Track with id 27Qs0K7RpEXpDJCWsfRyN not found in saved tracks\n",
      "Track with id 2yGILhzkXElu6I7rruRwF2 not found in saved tracks\n",
      "Genre Modern Rock not found in playlist genres\n",
      "Genre Stutter House not found in playlist genres\n",
      "Genre Bedroom Pop not found in playlist genres\n",
      "Genre Bedroom Soul not found in playlist genres\n",
      "Genre New Americana not found in playlist genres\n",
      "Genre Progressive Electro House not found in playlist genres\n",
      "Genre Alternative Pop Rock not found in playlist genres\n",
      "Genre Nashville Indie not found in playlist genres\n",
      "Genre Slang Indie not found in playlist genres\n",
      "Batch  301  to  350\n"
     ]
    },
    {
     "name": "stderr",
     "output_type": "stream",
     "text": [
      " 64%|██████▎   | 7/11 [01:59<01:08, 17.15s/it]"
     ]
    },
    {
     "name": "stdout",
     "output_type": "stream",
     "text": [
      "Track with id 062GvVCTCLBxMGjcUgFkixa not found in saved tracks\n",
      "Track with id 7ZXimIqTYOs76Utly8VFABu not found in saved tracks\n",
      "Track with id 4utmG4rB4VuCN5mTJjzP0A not found in saved tracks\n",
      "Track with id 7SIowHroPiutVG3XKVNqP0 not found in saved tracks\n",
      "Track with id 7lnVbJ50BZySWhasB9hxJw not found in saved tracks\n",
      "Batch  351  to  400\n"
     ]
    },
    {
     "name": "stderr",
     "output_type": "stream",
     "text": [
      " 73%|███████▎  | 8/11 [02:17<00:52, 17.37s/it]"
     ]
    },
    {
     "name": "stdout",
     "output_type": "stream",
     "text": [
      "Track with id 69kY7MxlvDMk4oHjMFm6JZ not found in saved tracks\n",
      "Track with id 2f3sKawOC3eUFiLPGRWMSr not found in saved tracks\n",
      "Track with id 2yqO2J82k8Av5XLSVM8f7y not found in saved tracks\n",
      "Track with id 1aTjDW7k9rrvUVoYNUM8Ma not found in saved tracks\n",
      "Batch  401  to  450\n"
     ]
    },
    {
     "name": "stderr",
     "output_type": "stream",
     "text": [
      " 82%|████████▏ | 9/11 [02:40<00:38, 19.23s/it]"
     ]
    },
    {
     "name": "stdout",
     "output_type": "stream",
     "text": [
      "Track with id 3MmjD9G2HUUzDbFl3NRDLM not found in saved tracks\n",
      "Track with id 5F9HQVpXXYoP9JHZUYA5pH not found in saved tracks\n",
      "Track with id 8CmH7jQwAtOIGwoQpG8M9T not found in saved tracks\n",
      "Track with id 5F9HQVpXXYoP9JHZUYA5pH not found in saved tracks\n",
      "Batch  451  to  500\n"
     ]
    },
    {
     "name": "stderr",
     "output_type": "stream",
     "text": [
      " 91%|█████████ | 10/11 [03:25<00:27, 27.21s/it]"
     ]
    },
    {
     "name": "stdout",
     "output_type": "stream",
     "text": [
      "Genre neo mellow not found in playlist genres\n",
      "Genre broadway not found in playlist genres\n",
      "Genre show tunes not found in playlist genres\n",
      "Genre vocal jazz not found in playlist genres\n",
      "Genre bedroom soul not found in playlist genres\n",
      "Genre boy band not found in playlist genres\n",
      "Genre pop not found in playlist genres\n",
      "Genre post-teen pop not found in playlist genres\n",
      "Genre talent show not found in playlist genres\n",
      "Genre uk pop not found in playlist genres\n",
      "Genre indie poptimism not found in playlist genres\n",
      "Genre british soul not found in playlist genres\n",
      "Genre pop soul not found in playlist genres\n",
      "Genre r&b not found in playlist genres\n",
      "Genre adult standards not found in playlist genres\n",
      "Genre canadian pop not found in playlist genres\n",
      "Genre jazz pop not found in playlist genres\n",
      "Genre lounge not found in playlist genres\n",
      "Genre alt z not found in playlist genres\n",
      "Genre singer-songwriter pop not found in playlist genres\n",
      "Genre viral pop not found in playlist genres\n",
      "Genre piano rock not found in playlist genres\n",
      "Genre pop rock not found in playlist genres\n",
      "Genre electropop not found in playlist genres\n",
      "Genre indietronica not found in playlist genres\n",
      "Genre shimmer pop not found in playlist genres\n",
      "Genre folk-pop not found in playlist genres\n",
      "Genre new wave pop not found in playlist genres\n",
      "Genre permanent wave not found in playlist genres\n",
      "Genre soft rock not found in playlist genres\n",
      "Genre la pop not found in playlist genres\n",
      "Genre opm not found in playlist genres\n",
      "Genre uk dance not found in playlist genres\n",
      "Genre dance pop not found in playlist genres\n",
      "Genre german pop rock not found in playlist genres\n",
      "Genre neo soul not found in playlist genres\n",
      "Genre ccm not found in playlist genres\n",
      "Genre christian alternative rock not found in playlist genres\n",
      "Genre christian music not found in playlist genres\n",
      "Genre irish pop not found in playlist genres\n",
      "Genre modern rock not found in playlist genres\n",
      "Genre irish rock not found in playlist genres\n",
      "Genre album rock not found in playlist genres\n",
      "Genre classic rock not found in playlist genres\n",
      "Genre mellow gold not found in playlist genres\n",
      "Genre rock not found in playlist genres\n",
      "Genre yacht rock not found in playlist genres\n",
      "Batch  501  to  550\n"
     ]
    },
    {
     "name": "stderr",
     "output_type": "stream",
     "text": [
      "100%|██████████| 11/11 [03:43<00:00, 20.29s/it]\n"
     ]
    },
    {
     "name": "stdout",
     "output_type": "stream",
     "text": [
      "Track with id 2GnWcEzyxDozQcmxMoNJtYx not found in saved tracks\n",
      "Track with id 2GnWcEzyxDozQcmxMoNJtYx not found in saved tracks\n"
     ]
    },
    {
     "name": "stderr",
     "output_type": "stream",
     "text": [
      "  0%|          | 0/11 [00:00<?, ?it/s]"
     ]
    },
    {
     "name": "stdout",
     "output_type": "stream",
     "text": [
      "Batch  1  to  50\n"
     ]
    },
    {
     "name": "stderr",
     "output_type": "stream",
     "text": [
      "  9%|▉         | 1/11 [00:18<03:09, 18.92s/it]"
     ]
    },
    {
     "name": "stdout",
     "output_type": "stream",
     "text": [
      "Track with id 9RamrocZneYcLYLRIxYha not found in saved tracks\n",
      "Track with id 68KqM3xmPIDonsTjCSGrrr5 not found in saved tracks\n",
      "Batch  51  to  100\n"
     ]
    },
    {
     "name": "stderr",
     "output_type": "stream",
     "text": [
      " 18%|█▊        | 2/11 [00:34<02:30, 16.72s/it]"
     ]
    },
    {
     "name": "stdout",
     "output_type": "stream",
     "text": [
      "Track with id 6O0gJtOgimGamRBTS80H5g not found in saved tracks\n",
      "Track with id 1aGx1iZHlioSmGRVHspqUM not found in saved tracks\n",
      "Track with id 0T9OX3gUsiVi21FAHuOoQm not found in saved tracks\n",
      "Track with id 6c34dWcgIFaj7oqR12YbnE not found in saved tracks\n",
      "Track with id 5UnsGUDyDBAqplSAi7zHGR not found in saved tracks\n",
      "Track with id 1QATMMps2eHSYR4ROkJr9T not found in saved tracks\n",
      "Batch  101  to  150\n"
     ]
    },
    {
     "name": "stderr",
     "output_type": "stream",
     "text": [
      " 27%|██▋       | 3/11 [00:52<02:20, 17.52s/it]"
     ]
    },
    {
     "name": "stdout",
     "output_type": "stream",
     "text": [
      "Genre Psychedelic Rock not found in playlist genres\n",
      "Genre Soundtrack not found in playlist genres\n",
      "Genre NeoSoul not found in playlist genres\n",
      "Genre Soul not found in playlist genres\n",
      "Batch  151  to  200\n"
     ]
    },
    {
     "name": "stderr",
     "output_type": "stream",
     "text": [
      " 36%|███▋      | 4/11 [01:06<01:52, 16.09s/it]"
     ]
    },
    {
     "name": "stdout",
     "output_type": "stream",
     "text": [
      "Genre upbeat pop not found in playlist genres\n",
      "Genre energetic hip hop not found in playlist genres\n",
      "Genre relaxed jazz not found in playlist genres\n",
      "Genre reflective classical not found in playlist genres\n",
      "Genre vibrant edm not found in playlist genres\n",
      "Genre groovy house not found in playlist genres\n",
      "Genre bold rock not found in playlist genres\n",
      "Genre smooth jazz not found in playlist genres\n",
      "Genre danceable pop not found in playlist genres\n",
      "Genre futuristic edm not found in playlist genres\n",
      "Genre chill house not found in playlist genres\n",
      "Genre indie rock not found in playlist genres\n",
      "Genre quirky indie not found in playlist genres\n",
      "Genre upbeat hip hop not found in playlist genres\n",
      "Genre intense classical not found in playlist genres\n",
      "Genre lively jazz not found in playlist genres\n",
      "Genre intense edm not found in playlist genres\n",
      "Genre pulsing house not found in playlist genres\n",
      "Batch  201  to  250\n"
     ]
    },
    {
     "name": "stderr",
     "output_type": "stream",
     "text": [
      " 45%|████▌     | 5/11 [01:20<01:31, 15.30s/it]"
     ]
    },
    {
     "name": "stdout",
     "output_type": "stream",
     "text": [
      "Batch  251  to  300\n"
     ]
    },
    {
     "name": "stderr",
     "output_type": "stream",
     "text": [
      " 55%|█████▍    | 6/11 [01:33<01:13, 14.67s/it]"
     ]
    },
    {
     "name": "stdout",
     "output_type": "stream",
     "text": [
      "Batch  301  to  350\n"
     ]
    },
    {
     "name": "stderr",
     "output_type": "stream",
     "text": [
      " 64%|██████▎   | 7/11 [01:47<00:57, 14.38s/it]"
     ]
    },
    {
     "name": "stdout",
     "output_type": "stream",
     "text": [
      "Batch  351  to  400\n"
     ]
    },
    {
     "name": "stderr",
     "output_type": "stream",
     "text": [
      " 73%|███████▎  | 8/11 [02:10<00:51, 17.10s/it]"
     ]
    },
    {
     "name": "stdout",
     "output_type": "stream",
     "text": [
      "Batch  401  to  450\n"
     ]
    },
    {
     "name": "stderr",
     "output_type": "stream",
     "text": [
      " 82%|████████▏ | 9/11 [02:24<00:32, 16.11s/it]"
     ]
    },
    {
     "name": "stdout",
     "output_type": "stream",
     "text": [
      "Track with id 5SBeML7FYyWEFMEVthjvi4l not found in saved tracks\n",
      "Track with id 62ke5zFUJN6RuktXZgVH3F8 not found in saved tracks\n",
      "Track with id 3D2dc78Ko2gb6JhKNCUAKc not found in saved tracks\n",
      "Track with id 5XpZZqlnM2dPFjUe5Q3HT6 not found in saved tracks\n",
      "Track with id 5SBeML7FYyWEFMEVthjvi4l not found in saved tracks\n",
      "Batch  451  to  500\n"
     ]
    },
    {
     "name": "stderr",
     "output_type": "stream",
     "text": [
      " 91%|█████████ | 10/11 [02:57<00:21, 21.38s/it]"
     ]
    },
    {
     "name": "stdout",
     "output_type": "stream",
     "text": [
      "Genre neo mellow not found in playlist genres\n",
      "Genre broadway not found in playlist genres\n",
      "Genre show tunes not found in playlist genres\n",
      "Genre vocal jazz not found in playlist genres\n",
      "Genre bedroom soul not found in playlist genres\n",
      "Genre boy band not found in playlist genres\n",
      "Genre pop not found in playlist genres\n",
      "Genre post-teen pop not found in playlist genres\n",
      "Genre talent show not found in playlist genres\n",
      "Genre uk pop not found in playlist genres\n",
      "Genre r&b not found in playlist genres\n",
      "Genre adult standards not found in playlist genres\n",
      "Genre canadian pop not found in playlist genres\n",
      "Genre jazz pop not found in playlist genres\n",
      "Genre lounge not found in playlist genres\n",
      "Genre alt z not found in playlist genres\n",
      "Genre singer-songwriter pop not found in playlist genres\n",
      "Genre irish pop not found in playlist genres\n",
      "Genre modern rock not found in playlist genres\n",
      "Genre piano rock not found in playlist genres\n",
      "Genre pop rock not found in playlist genres\n",
      "Genre viral pop not found in playlist genres\n",
      "Genre post-grunge not found in playlist genres\n",
      "Genre dance pop not found in playlist genres\n",
      "Genre album rock not found in playlist genres\n",
      "Genre classic rock not found in playlist genres\n",
      "Genre mellow gold not found in playlist genres\n",
      "Genre rock not found in playlist genres\n",
      "Genre soft rock not found in playlist genres\n",
      "Genre yacht rock not found in playlist genres\n",
      "Genre urban contemporary not found in playlist genres\n",
      "Genre art pop not found in playlist genres\n",
      "Genre electropop not found in playlist genres\n",
      "Genre indie poptimism not found in playlist genres\n",
      "Genre indietronica not found in playlist genres\n",
      "Genre shimmer pop not found in playlist genres\n",
      "Genre new wave pop not found in playlist genres\n",
      "Genre permanent wave not found in playlist genres\n",
      "Genre la pop not found in playlist genres\n",
      "Genre opm not found in playlist genres\n",
      "Genre german pop rock not found in playlist genres\n",
      "Genre neo soul not found in playlist genres\n",
      "Genre ccm not found in playlist genres\n",
      "Genre christian alternative rock not found in playlist genres\n",
      "Genre christian music not found in playlist genres\n",
      "Genre irish rock not found in playlist genres\n",
      "Batch  501  to  550\n"
     ]
    },
    {
     "name": "stderr",
     "output_type": "stream",
     "text": [
      "100%|██████████| 11/11 [03:16<00:00, 17.84s/it]\n",
      "  0%|          | 0/11 [00:00<?, ?it/s]"
     ]
    },
    {
     "name": "stdout",
     "output_type": "stream",
     "text": [
      "Batch  1  to  50\n"
     ]
    },
    {
     "name": "stderr",
     "output_type": "stream",
     "text": [
      "  9%|▉         | 1/11 [00:19<03:17, 19.76s/it]"
     ]
    },
    {
     "name": "stdout",
     "output_type": "stream",
     "text": [
      "Track with id 562pBFcFL2Pwb9HPO9tU8J not found in saved tracks\n",
      "Genre Funky Hip Hop not found in playlist genres\n",
      "Track with id 69WuQzelM7glrHmgqNEAOT not found in saved tracks\n",
      "Track with id Fill Your Heart With Haste not found in saved tracks\n",
      "Batch  51  to  100\n"
     ]
    },
    {
     "name": "stderr",
     "output_type": "stream",
     "text": [
      " 18%|█▊        | 2/11 [00:40<03:01, 20.21s/it]"
     ]
    },
    {
     "name": "stdout",
     "output_type": "stream",
     "text": [
      "Track with id 5ffZfoObyaPHxdbmMly4Gb not found in saved tracks\n",
      "Track with id 0r3CQFF2DaDLK6Wi38jM5S not found in saved tracks\n",
      "Track with id 0aandX89yaOtNfcIDJ5e51 not found in saved tracks\n",
      "Batch  101  to  150\n"
     ]
    },
    {
     "name": "stderr",
     "output_type": "stream",
     "text": [
      " 27%|██▋       | 3/11 [00:58<02:35, 19.44s/it]"
     ]
    },
    {
     "name": "stdout",
     "output_type": "stream",
     "text": [
      "Genre Ambient IDM not found in playlist genres\n",
      "Genre Tech House not found in playlist genres\n",
      "Genre Neo Soul not found in playlist genres\n",
      "Genre Singer-Songwriter Pop not found in playlist genres\n",
      "Genre Indie R&B not found in playlist genres\n",
      "Genre Motown Soul not found in playlist genres\n",
      "Genre Classical not found in playlist genres\n",
      "Genre Nordic Soundtrack not found in playlist genres\n",
      "Genre Orchestral Soundtrack not found in playlist genres\n",
      "Batch  151  to  200\n"
     ]
    },
    {
     "name": "stderr",
     "output_type": "stream",
     "text": [
      " 36%|███▋      | 4/11 [01:18<02:17, 19.59s/it]"
     ]
    },
    {
     "name": "stdout",
     "output_type": "stream",
     "text": [
      "Batch  201  to  250\n"
     ]
    },
    {
     "name": "stderr",
     "output_type": "stream",
     "text": [
      " 45%|████▌     | 5/11 [01:34<01:49, 18.30s/it]"
     ]
    },
    {
     "name": "stdout",
     "output_type": "stream",
     "text": [
      "Track with id obsessed not found in saved tracks\n",
      "Genre Genre Missing not found in playlist genres\n",
      "Batch  251  to  300\n"
     ]
    },
    {
     "name": "stderr",
     "output_type": "stream",
     "text": [
      " 55%|█████▍    | 6/11 [01:51<01:28, 17.68s/it]"
     ]
    },
    {
     "name": "stdout",
     "output_type": "stream",
     "text": [
      "Genre Upbeat Hip-Hop not found in playlist genres\n",
      "Genre Upbeat Jazz not found in playlist genres\n",
      "Genre Indietronica not found in playlist genres\n",
      "Genre Reflective Indie not found in playlist genres\n",
      "Genre Lively Jazzy Pop not found in playlist genres\n",
      "Genre Groovy Dance Pop not found in playlist genres\n",
      "Genre Pulsing EDM not found in playlist genres\n",
      "Batch  301  to  350\n"
     ]
    },
    {
     "name": "stderr",
     "output_type": "stream",
     "text": [
      " 64%|██████▎   | 7/11 [02:02<01:03, 15.78s/it]"
     ]
    },
    {
     "name": "stdout",
     "output_type": "stream",
     "text": [
      "Batch  351  to  400\n"
     ]
    },
    {
     "name": "stderr",
     "output_type": "stream",
     "text": [
      " 73%|███████▎  | 8/11 [02:21<00:49, 16.50s/it]"
     ]
    },
    {
     "name": "stdout",
     "output_type": "stream",
     "text": [
      "Track with id 60lwyzp7GppQxv0Eu6wRkUo not found in saved tracks\n",
      "Batch  401  to  450\n"
     ]
    },
    {
     "name": "stderr",
     "output_type": "stream",
     "text": [
      " 82%|████████▏ | 9/11 [02:43<00:36, 18.23s/it]"
     ]
    },
    {
     "name": "stdout",
     "output_type": "stream",
     "text": [
      "Track with id kmXFAOPC95sfVra If9RY0 not found in saved tracks\n",
      "Track with id 9ZKFoPYCtRMMBuLOyMvNb not found in saved tracks\n",
      "Track with id 8efohvJF3GsATbFF8MrD not found in saved tracks\n",
      "Track with id btZyFAAK928tQjBeFI0ek not found in saved tracks\n",
      "Track with id hxMM D3GiyanEmC7DDFYZ not found in saved tracks\n",
      "Track with id fjUdsFXQ4yAsjXZQxkHCk not found in saved tracks\n",
      "Track with id 6k5vfjsZAiNHNVplzXLD not found in saved tracks\n",
      "Track with id 9jFsMJFR0EB4HHxozNYJ not found in saved tracks\n",
      "Track with id 5EFlGcM03JJ8vwEsKAlog not found in saved tracks\n",
      "Track with id kmYMN1JX28ee35rR5FB not found in saved tracks\n",
      "Track with id 9jFsMJFR0EB4HHxozNY not found in saved tracks\n",
      "Track with id 0Odb6yGFKyzL5b9JcQD not found in saved tracks\n",
      "Track with id 62ke 5zFUJN6RvtXZgVH0F8 not found in saved tracks\n",
      "Track with id 0ogAYQQy7bfDN6gH64 0bbl not found in saved tracks\n",
      "Track with id 5U2QALJvgURVkVOJBFVH0a not found in saved tracks\n",
      "Track with id 0kq RpK7mMKoyruPj13TQXGx not found in saved tracks\n",
      "Track with id 5u2QAAIJvgURVkVOJBFVH0 not found in saved tracks\n",
      "Track with id 5FvZC9GiM4e8vu991Xfh not found in saved tracks\n",
      "Track with id 0Rm2G83ELwkuEgpHlJcBpn not found in saved tracks\n",
      "Track with id 0kkFOJZZGdXZWItfadhKbXe not found in saved tracks\n",
      "Track with id nYo44e4J4RsU8P7CU9UsZ7i not found in saved tracks\n",
      "Track with id 3mmjD9G2HUUz DbF13NRDLM not found in saved tracks\n",
      "Track with id 7mvkgWbfG8kRg8KXUosPuorwqUjttrs6q7 not found in saved tracks\n",
      "Track with id 6UlmSl5H4QUSRBEDBHQ7qjE not found in saved tracks\n",
      "Track with id MdtPJcTb4UJlz5yL5AmkaBh not found in saved tracks\n",
      "Track with id 75JFxKI8RX7U7KXZsMlele not found in saved tracks\n",
      "Track with id None not found in saved tracks\n",
      "Track with id 0o2CSg809aZ3HJ94Thfqp9e not found in saved tracks\n",
      "Track with id 3mmjD9G2HUUzDbfVOAPLM not found in saved tracks\n",
      "Track with id nYo44ejSfjcNNHOSTBCwMl not found in saved tracks\n",
      "Track with id EcJrjvlQbzBhJ3SGEXNktg not found in saved tracks\n",
      "Track with id 3SdingSsFCzDAyvcJbgAw not found in saved tracks\n",
      "Track with id 0RgobPNZ0iXUNGAtlFkmka not found in saved tracks\n",
      "Track with id IlRamzvDHBJ7IjgJoQTI1b not found in saved tracks\n",
      "Track with id jpyGoAxgAZwUVWLF8ZT not found in saved tracks\n",
      "Track with id IjpRA4agX0FL2EpYYAN6g not found in saved tracks\n",
      "Track with id kYPuOAqIs1ZWJL4E5mSN not found in saved tracks\n",
      "Track with id 0ZlXoQrMx8uwbIOT07msdVB not found in saved tracks\n",
      "Track with id FxYYM8SFu89DVF8OTmkaF not found in saved tracks\n",
      "Track with id 0yaFtIs2SXFulCv8UIT not found in saved tracks\n",
      "Track with id 71eiLthpxDR81ZSEKCy not found in saved tracks\n",
      "Track with id J4DDRpkPZVCgBALzQxzzs not found in saved tracks\n",
      "Track with id 71ehtdPxdxeULQDDIRghX not found in saved tracks\n",
      "Track with id 7kzseFnRcUMzFGsWBRT3w not found in saved tracks\n",
      "Batch  451  to  500\n"
     ]
    },
    {
     "name": "stderr",
     "output_type": "stream",
     "text": [
      " 91%|█████████ | 10/11 [02:58<00:17, 17.24s/it]"
     ]
    },
    {
     "name": "stdout",
     "output_type": "stream",
     "text": [
      "Genre danceable pop not found in playlist genres\n",
      "Genre bold rock not found in playlist genres\n",
      "Genre reflective classical not found in playlist genres\n",
      "Genre vibrant edm not found in playlist genres\n",
      "Genre chill house not found in playlist genres\n",
      "Genre quirky indie not found in playlist genres\n",
      "Genre upbeat pop not found in playlist genres\n",
      "Genre pulsing house not found in playlist genres\n",
      "Genre upbeat hip hop not found in playlist genres\n",
      "Genre intense edm not found in playlist genres\n",
      "Genre relaxed jazz not found in playlist genres\n",
      "Genre smooth jazz not found in playlist genres\n",
      "Genre intense classical not found in playlist genres\n",
      "Genre indie rock not found in playlist genres\n",
      "Genre groovy house not found in playlist genres\n",
      "Genre lively jazz not found in playlist genres\n",
      "Genre futuristic edm not found in playlist genres\n",
      "Batch  501  to  550\n"
     ]
    },
    {
     "name": "stderr",
     "output_type": "stream",
     "text": [
      "100%|██████████| 11/11 [03:14<00:00, 17.64s/it]\n",
      "  0%|          | 0/11 [00:00<?, ?it/s]"
     ]
    },
    {
     "name": "stdout",
     "output_type": "stream",
     "text": [
      "Batch  1  to  50\n"
     ]
    },
    {
     "name": "stderr",
     "output_type": "stream",
     "text": [
      "  9%|▉         | 1/11 [00:14<02:26, 14.69s/it]"
     ]
    },
    {
     "name": "stdout",
     "output_type": "stream",
     "text": [
      "Batch  51  to  100\n"
     ]
    },
    {
     "name": "stderr",
     "output_type": "stream",
     "text": [
      " 18%|█▊        | 2/11 [00:22<01:36, 10.75s/it]"
     ]
    },
    {
     "name": "stdout",
     "output_type": "stream",
     "text": [
      "Batch  101  to  150\n"
     ]
    },
    {
     "name": "stderr",
     "output_type": "stream",
     "text": [
      " 27%|██▋       | 3/11 [00:46<02:12, 16.58s/it]"
     ]
    },
    {
     "name": "stdout",
     "output_type": "stream",
     "text": [
      "Batch  151  to  200\n"
     ]
    },
    {
     "name": "stderr",
     "output_type": "stream",
     "text": [
      " 36%|███▋      | 4/11 [00:56<01:40, 14.29s/it]"
     ]
    },
    {
     "name": "stdout",
     "output_type": "stream",
     "text": [
      "Batch  201  to  250\n"
     ]
    },
    {
     "name": "stderr",
     "output_type": "stream",
     "text": [
      " 45%|████▌     | 5/11 [01:18<01:42, 17.01s/it]"
     ]
    },
    {
     "name": "stdout",
     "output_type": "stream",
     "text": [
      "Genre Genre: Relaxed Jazz not found in playlist genres\n",
      "Genre Genre: Danceable Pop not found in playlist genres\n",
      "Genre Genre: Upbeat Hip Hop not found in playlist genres\n",
      "Genre Genre: Quirky Indie not found in playlist genres\n",
      "Genre Genre: Vibrant EDM not found in playlist genres\n",
      "Genre Genre: Bold Rock not found in playlist genres\n",
      "Genre Genre: Indie Rock not found in playlist genres\n",
      "Genre Genre: Groovy House not found in playlist genres\n",
      "Genre Genre: Futuristic EDM not found in playlist genres\n",
      "Genre Genre: Reflective Classical not found in playlist genres\n",
      "Genre Genre: Pulsing House not found in playlist genres\n",
      "Batch  251  to  300\n"
     ]
    },
    {
     "name": "stderr",
     "output_type": "stream",
     "text": [
      " 55%|█████▍    | 6/11 [01:32<01:19, 15.92s/it]"
     ]
    },
    {
     "name": "stdout",
     "output_type": "stream",
     "text": [
      "Genre Alternative Pop not found in playlist genres\n",
      "Genre Ann Arbor Indie not found in playlist genres\n",
      "Batch  301  to  350\n"
     ]
    },
    {
     "name": "stderr",
     "output_type": "stream",
     "text": [
      " 64%|██████▎   | 7/11 [01:34<00:45, 11.47s/it]"
     ]
    },
    {
     "name": "stdout",
     "output_type": "stream",
     "text": [
      "Batch  351  to  400\n"
     ]
    },
    {
     "name": "stderr",
     "output_type": "stream",
     "text": [
      " 73%|███████▎  | 8/11 [01:58<00:45, 15.17s/it]"
     ]
    },
    {
     "name": "stdout",
     "output_type": "stream",
     "text": [
      "Track with id S0wxRM1JA8MWTyzhsHdWB4 not found in saved tracks\n",
      "Genre Hip Hop not found in playlist genres\n",
      "Batch  401  to  450\n"
     ]
    },
    {
     "name": "stderr",
     "output_type": "stream",
     "text": [
      " 82%|████████▏ | 9/11 [02:47<00:51, 25.95s/it]"
     ]
    },
    {
     "name": "stdout",
     "output_type": "stream",
     "text": [
      "Genre neo mellow not found in playlist genres\n",
      "Genre piano rock not found in playlist genres\n",
      "Genre pop rock not found in playlist genres\n",
      "Genre british invasion not found in playlist genres\n",
      "Genre classic rock not found in playlist genres\n",
      "Genre merseybeat not found in playlist genres\n",
      "Genre psychedelic rock not found in playlist genres\n",
      "Genre rock not found in playlist genres\n",
      "Genre singer-songwriter pop not found in playlist genres\n",
      "Genre pop not found in playlist genres\n",
      "Genre uk pop not found in playlist genres\n",
      "Genre british soul not found in playlist genres\n",
      "Genre neo soul not found in playlist genres\n",
      "Genre pop soul not found in playlist genres\n",
      "Genre soul not found in playlist genres\n",
      "Genre modern country pop not found in playlist genres\n",
      "Genre classic oklahoma country not found in playlist genres\n",
      "Genre contemporary country not found in playlist genres\n",
      "Genre glam rock not found in playlist genres\n",
      "Genre mellow gold not found in playlist genres\n",
      "Genre cosmic american not found in playlist genres\n",
      "Genre jam band not found in playlist genres\n",
      "Genre new romantic not found in playlist genres\n",
      "Genre new wave not found in playlist genres\n",
      "Genre new wave pop not found in playlist genres\n",
      "Genre permanent wave not found in playlist genres\n",
      "Genre sophisti-pop not found in playlist genres\n",
      "Genre synthpop not found in playlist genres\n",
      "Genre country not found in playlist genres\n",
      "Genre country road not found in playlist genres\n",
      "Genre modern country rock not found in playlist genres\n",
      "Genre alternative rock not found in playlist genres\n",
      "Genre dance rock not found in playlist genres\n",
      "Genre la pop not found in playlist genres\n",
      "Genre opm not found in playlist genres\n",
      "Genre viral pop not found in playlist genres\n",
      "Genre classic country pop not found in playlist genres\n",
      "Genre folk not found in playlist genres\n",
      "Genre folk rock not found in playlist genres\n",
      "Genre singer-songwriter not found in playlist genres\n",
      "Genre soft rock not found in playlist genres\n",
      "Genre album rock not found in playlist genres\n",
      "Genre lilith not found in playlist genres\n",
      "Genre modern alternative rock not found in playlist genres\n",
      "Genre modern rock not found in playlist genres\n",
      "Genre alt z not found in playlist genres\n",
      "Genre dance pop not found in playlist genres\n",
      "Genre boy band not found in playlist genres\n",
      "Genre idol not found in playlist genres\n",
      "Genre post-teen pop not found in playlist genres\n",
      "Genre teen pop not found in playlist genres\n",
      "Genre talent show not found in playlist genres\n",
      "Genre indie anthem-folk not found in playlist genres\n",
      "Genre barbadian pop not found in playlist genres\n",
      "Genre urban contemporary not found in playlist genres\n",
      "Genre r&b not found in playlist genres\n",
      "Batch  451  to  500\n"
     ]
    },
    {
     "name": "stderr",
     "output_type": "stream",
     "text": [
      " 91%|█████████ | 10/11 [03:23<00:29, 29.03s/it]"
     ]
    },
    {
     "name": "stdout",
     "output_type": "stream",
     "text": [
      "Genre neomellow not found in playlist genres\n",
      "Genre broadway not found in playlist genres\n",
      "Genre showtunes not found in playlist genres\n",
      "Genre vocaljazz not found in playlist genres\n",
      "Genre bedroomsoul not found in playlist genres\n",
      "Genre boyband not found in playlist genres\n",
      "Genre pop not found in playlist genres\n",
      "Genre dancepop not found in playlist genres\n",
      "Genre ukpop not found in playlist genres\n",
      "Genre indie poptimism not found in playlist genres\n",
      "Genre pbsdsoul not found in playlist genres\n",
      "Genre talent show not found in playlist genres\n",
      "Genre canadian pop not found in playlist genres\n",
      "Genre jazz pop not found in playlist genres\n",
      "Genre alt z not found in playlist genres\n",
      "Genre post-teen pop not found in playlist genres\n",
      "Genre british soul not found in playlist genres\n",
      "Genre folk-pop not found in playlist genres\n",
      "Genre irish pop not found in playlist genres\n",
      "Genre modern rock not found in playlist genres\n",
      "Genre piano rock not found in playlist genres\n",
      "Genre virgal pop not found in playlist genres\n",
      "Genre opm not found in playlist genres\n",
      "Genre singer-songwriter pop not found in playlist genres\n",
      "Genre r&b not found in playlist genres\n",
      "Genre album rock not found in playlist genres\n",
      "Genre classic rock not found in playlist genres\n",
      "Genre mellow gold not found in playlist genres\n",
      "Genre post-grunge not found in playlist genres\n",
      "Genre art pop not found in playlist genres\n",
      "Genre electropop not found in playlist genres\n",
      "Genre indietronica not found in playlist genres\n",
      "Genre shimmer pop not found in playlist genres\n",
      "Genre urban contemporary not found in playlist genres\n",
      "Genre european pop not found in playlist genres\n",
      "Genre neo soul not found in playlist genres\n",
      "Genre irish rock not found in playlist genres\n",
      "Genre new wave pop not found in playlist genres\n",
      "Genre permanent wave not found in playlist genres\n",
      "Genre soft rock not found in playlist genres\n",
      "Genre ccm not found in playlist genres\n",
      "Genre christian alternative rock not found in playlist genres\n",
      "Genre christian music not found in playlist genres\n",
      "Genre barbarian pop not found in playlist genres\n",
      "Batch  501  to  550\n"
     ]
    },
    {
     "name": "stderr",
     "output_type": "stream",
     "text": [
      "100%|██████████| 11/11 [03:43<00:00, 20.34s/it]\n"
     ]
    },
    {
     "name": "stdout",
     "output_type": "stream",
     "text": [
      "Track with id 2qsGTPbdACN2FzpBOEUO5r not found in saved tracks\n",
      "Track with id 5k6Bplg7dmIHIzbu08KB3F not found in saved tracks\n",
      "Track with id 5Ne8eT3xJZT7J0FTgcc6Ia not found in saved tracks\n",
      "Track with id 3J7KFRnPzpeF3n5jQ5BKVL not found in saved tracks\n",
      "Track with id 6d56KHjhSd12iPTQoiAmyB not found in saved tracks\n",
      "Track with id 5S9YrRkBjj2ArYIT96cJ9J not found in saved tracks\n",
      "Track with id 0t9MwvlE5RHBkdvhPmVGIc not found in saved tracks\n",
      "Track with id 2dfX3yrfElptRXO06vOxpK not found in saved tracks\n",
      "Track with id bzLOvijchbJ247einsKyAj not found in saved tracks\n",
      "Track with id 5W0NpPQplu4mH2YgQ2SCij not found in saved tracks\n",
      "Track with id 4T5sqERzNiJ1e7YDtYZWT7 not found in saved tracks\n",
      "Track with id 6s5G5T4uBtmTGzlREsMuVy not found in saved tracks\n"
     ]
    },
    {
     "name": "stderr",
     "output_type": "stream",
     "text": [
      "  0%|          | 0/11 [00:00<?, ?it/s]"
     ]
    },
    {
     "name": "stdout",
     "output_type": "stream",
     "text": [
      "Batch  1  to  50\n"
     ]
    },
    {
     "name": "stderr",
     "output_type": "stream",
     "text": [
      "  9%|▉         | 1/11 [00:12<02:07, 12.72s/it]"
     ]
    },
    {
     "name": "stdout",
     "output_type": "stream",
     "text": [
      "Track with id 69OOfCvizpdlIRAFY not found in saved tracks\n",
      "Batch  51  to  100\n"
     ]
    },
    {
     "name": "stderr",
     "output_type": "stream",
     "text": [
      " 18%|█▊        | 2/11 [00:24<01:48, 12.01s/it]"
     ]
    },
    {
     "name": "stdout",
     "output_type": "stream",
     "text": [
      "Batch  101  to  150\n"
     ]
    },
    {
     "name": "stderr",
     "output_type": "stream",
     "text": [
      " 18%|█▊        | 2/11 [00:27<02:04, 13.79s/it]\n"
     ]
    },
    {
     "ename": "RateLimitError",
     "evalue": "Error code: 429 - {'error': {'message': 'Your account is not active, please check your billing details on our website.', 'type': 'billing_not_active', 'param': None, 'code': 'billing_not_active'}}",
     "output_type": "error",
     "traceback": [
      "\u001b[0;31m---------------------------------------------------------------------------\u001b[0m",
      "\u001b[0;31mRateLimitError\u001b[0m                            Traceback (most recent call last)",
      "Cell \u001b[0;32mIn[108], line 7\u001b[0m\n\u001b[1;32m      5\u001b[0m \u001b[38;5;28;01mfor\u001b[39;00m i \u001b[38;5;129;01min\u001b[39;00m tqdm(\u001b[38;5;28mrange\u001b[39m(\u001b[38;5;241m0\u001b[39m, \u001b[38;5;28mlen\u001b[39m(missing_tracks), \u001b[38;5;241m50\u001b[39m)):\n\u001b[1;32m      6\u001b[0m     \u001b[38;5;28mprint\u001b[39m(\u001b[38;5;124m'\u001b[39m\u001b[38;5;124mBatch \u001b[39m\u001b[38;5;124m'\u001b[39m, i\u001b[38;5;241m+\u001b[39m\u001b[38;5;241m1\u001b[39m, \u001b[38;5;124m'\u001b[39m\u001b[38;5;124m to \u001b[39m\u001b[38;5;124m'\u001b[39m, i\u001b[38;5;241m+\u001b[39m\u001b[38;5;241m50\u001b[39m)\n\u001b[0;32m----> 7\u001b[0m     json_output \u001b[38;5;241m=\u001b[39m \u001b[43msort_tracks\u001b[49m\u001b[43m(\u001b[49m\u001b[43mtracks\u001b[49m\u001b[43m[\u001b[49m\u001b[43mi\u001b[49m\u001b[43m:\u001b[49m\u001b[43mi\u001b[49m\u001b[38;5;241;43m+\u001b[39;49m\u001b[38;5;241;43m50\u001b[39;49m\u001b[43m]\u001b[49m\u001b[43m)\u001b[49m\n\u001b[1;32m      8\u001b[0m     parsed_json_output \u001b[38;5;241m=\u001b[39m json\u001b[38;5;241m.\u001b[39mloads(json_output)\n\u001b[1;32m      9\u001b[0m     \u001b[38;5;28;01mfor\u001b[39;00m genre, track_ids \u001b[38;5;129;01min\u001b[39;00m parsed_json_output\u001b[38;5;241m.\u001b[39mitems():\n",
      "Cell \u001b[0;32mIn[96], line 48\u001b[0m, in \u001b[0;36msort_tracks\u001b[0;34m(tracks)\u001b[0m\n\u001b[1;32m     42\u001b[0m \u001b[38;5;66;03m# Call GPT-4\u001b[39;00m\n\u001b[1;32m     43\u001b[0m client \u001b[38;5;241m=\u001b[39m OpenAI(\n\u001b[1;32m     44\u001b[0m     \u001b[38;5;66;03m# This is the default and can be omitted\u001b[39;00m\n\u001b[1;32m     45\u001b[0m     api_key\u001b[38;5;241m=\u001b[39mos\u001b[38;5;241m.\u001b[39menviron\u001b[38;5;241m.\u001b[39mget(\u001b[38;5;124m\"\u001b[39m\u001b[38;5;124mOPENAI_API_KEY\u001b[39m\u001b[38;5;124m\"\u001b[39m),\n\u001b[1;32m     46\u001b[0m )\n\u001b[0;32m---> 48\u001b[0m chat_completion \u001b[38;5;241m=\u001b[39m \u001b[43mclient\u001b[49m\u001b[38;5;241;43m.\u001b[39;49m\u001b[43mchat\u001b[49m\u001b[38;5;241;43m.\u001b[39;49m\u001b[43mcompletions\u001b[49m\u001b[38;5;241;43m.\u001b[39;49m\u001b[43mcreate\u001b[49m\u001b[43m(\u001b[49m\n\u001b[1;32m     49\u001b[0m \u001b[43m    \u001b[49m\u001b[43mmodel\u001b[49m\u001b[38;5;241;43m=\u001b[39;49m\u001b[38;5;124;43m\"\u001b[39;49m\u001b[38;5;124;43mgpt-4o\u001b[39;49m\u001b[38;5;124;43m\"\u001b[39;49m\u001b[43m,\u001b[49m\n\u001b[1;32m     50\u001b[0m \u001b[43m    \u001b[49m\u001b[43mresponse_format\u001b[49m\u001b[38;5;241;43m=\u001b[39;49m\u001b[43m \u001b[49m\u001b[43m{\u001b[49m\u001b[43m \u001b[49m\u001b[38;5;124;43m\"\u001b[39;49m\u001b[38;5;124;43mtype\u001b[39;49m\u001b[38;5;124;43m\"\u001b[39;49m\u001b[43m:\u001b[49m\u001b[43m \u001b[49m\u001b[38;5;124;43m\"\u001b[39;49m\u001b[38;5;124;43mjson_object\u001b[39;49m\u001b[38;5;124;43m\"\u001b[39;49m\u001b[43m \u001b[49m\u001b[43m}\u001b[49m\u001b[43m,\u001b[49m\n\u001b[1;32m     51\u001b[0m \u001b[43m    \u001b[49m\u001b[43mmessages\u001b[49m\u001b[38;5;241;43m=\u001b[39;49m\u001b[43m[\u001b[49m\n\u001b[1;32m     52\u001b[0m \u001b[43m        \u001b[49m\u001b[43m{\u001b[49m\n\u001b[1;32m     53\u001b[0m \u001b[43m            \u001b[49m\u001b[38;5;124;43m\"\u001b[39;49m\u001b[38;5;124;43mrole\u001b[39;49m\u001b[38;5;124;43m\"\u001b[39;49m\u001b[43m:\u001b[49m\u001b[43m \u001b[49m\u001b[38;5;124;43m\"\u001b[39;49m\u001b[38;5;124;43msystem\u001b[39;49m\u001b[38;5;124;43m\"\u001b[39;49m\u001b[43m,\u001b[49m\n\u001b[1;32m     54\u001b[0m \u001b[43m            \u001b[49m\u001b[38;5;124;43m\"\u001b[39;49m\u001b[38;5;124;43mcontent\u001b[39;49m\u001b[38;5;124;43m\"\u001b[39;49m\u001b[43m:\u001b[49m\u001b[43m \u001b[49m\u001b[38;5;124;43m\"\u001b[39;49m\u001b[38;5;124;43mYou are a simple sorting robot for songs on spotify. I will provide you with a list of songs with their artists and genres, as well as a list of categories by genre to sort the songs into. Your job is simply to look at each song and the associated artist genre and sort the songs into the correct categories. You are to respond only with a valid JSON object with the following schema: \u001b[39;49m\u001b[38;5;124;43m{\u001b[39;49m\u001b[38;5;130;43;01m\\\"\u001b[39;49;00m\u001b[38;5;124;43mgenre1\u001b[39;49m\u001b[38;5;130;43;01m\\\"\u001b[39;49;00m\u001b[38;5;124;43m: [\u001b[39;49m\u001b[38;5;130;43;01m\\\"\u001b[39;49;00m\u001b[38;5;124;43mtrack_id1\u001b[39;49m\u001b[38;5;130;43;01m\\\"\u001b[39;49;00m\u001b[38;5;124;43m, \u001b[39;49m\u001b[38;5;130;43;01m\\\"\u001b[39;49;00m\u001b[38;5;124;43mtrack_id2\u001b[39;49m\u001b[38;5;130;43;01m\\\"\u001b[39;49;00m\u001b[38;5;124;43m], \u001b[39;49m\u001b[38;5;130;43;01m\\\"\u001b[39;49;00m\u001b[38;5;124;43mgenre2\u001b[39;49m\u001b[38;5;130;43;01m\\\"\u001b[39;49;00m\u001b[38;5;124;43m: [\u001b[39;49m\u001b[38;5;130;43;01m\\\"\u001b[39;49;00m\u001b[38;5;124;43mtrack_id3\u001b[39;49m\u001b[38;5;130;43;01m\\\"\u001b[39;49;00m\u001b[38;5;124;43m, \u001b[39;49m\u001b[38;5;130;43;01m\\\"\u001b[39;49;00m\u001b[38;5;124;43mtrack_id4\u001b[39;49m\u001b[38;5;130;43;01m\\\"\u001b[39;49;00m\u001b[38;5;124;43m]}. An example response would be \u001b[39;49m\u001b[38;5;124;43m{\u001b[39;49m\u001b[38;5;130;43;01m\\\"\u001b[39;49;00m\u001b[38;5;124;43mpop\u001b[39;49m\u001b[38;5;130;43;01m\\\"\u001b[39;49;00m\u001b[38;5;124;43m: [<track_id1>, track_id2>], \u001b[39;49m\u001b[38;5;130;43;01m\\\"\u001b[39;49;00m\u001b[38;5;124;43mrock\u001b[39;49m\u001b[38;5;130;43;01m\\\"\u001b[39;49;00m\u001b[38;5;124;43m: [<track_id3>, <track_id4>]}. \u001b[39;49m\u001b[38;5;130;43;01m\\n\u001b[39;49;00m\u001b[38;5;124;43m Do not return any exmaple or dummy data-- you should return the exact same number of songs that I provide you, and your sole task is to copy the track ids IDENTICALLY into the correct genre categoreies.\u001b[39;49m\u001b[38;5;124;43m\"\u001b[39;49m\n\u001b[1;32m     55\u001b[0m \u001b[43m        \u001b[49m\u001b[43m}\u001b[49m\u001b[43m,\u001b[49m\n\u001b[1;32m     56\u001b[0m \u001b[43m        \u001b[49m\u001b[43m{\u001b[49m\n\u001b[1;32m     57\u001b[0m \u001b[43m            \u001b[49m\u001b[38;5;124;43m\"\u001b[39;49m\u001b[38;5;124;43mrole\u001b[39;49m\u001b[38;5;124;43m\"\u001b[39;49m\u001b[43m:\u001b[49m\u001b[43m \u001b[49m\u001b[38;5;124;43m\"\u001b[39;49m\u001b[38;5;124;43muser\u001b[39;49m\u001b[38;5;124;43m\"\u001b[39;49m\u001b[43m,\u001b[49m\n\u001b[1;32m     58\u001b[0m \u001b[43m            \u001b[49m\u001b[38;5;124;43m\"\u001b[39;49m\u001b[38;5;124;43mcontent\u001b[39;49m\u001b[38;5;124;43m\"\u001b[39;49m\u001b[43m:\u001b[49m\u001b[43m \u001b[49m\u001b[43mprompt\u001b[49m\u001b[43m,\u001b[49m\n\u001b[1;32m     59\u001b[0m \u001b[43m        \u001b[49m\u001b[43m}\u001b[49m\n\u001b[1;32m     60\u001b[0m \u001b[43m    \u001b[49m\u001b[43m]\u001b[49m\u001b[43m,\u001b[49m\n\u001b[1;32m     61\u001b[0m \u001b[43m\u001b[49m\u001b[43m)\u001b[49m\n\u001b[1;32m     63\u001b[0m chat_completion \u001b[38;5;241m=\u001b[39m chat_completion\u001b[38;5;241m.\u001b[39mchoices[\u001b[38;5;241m0\u001b[39m]\u001b[38;5;241m.\u001b[39mmessage\u001b[38;5;241m.\u001b[39mcontent\n\u001b[1;32m     65\u001b[0m \u001b[38;5;28;01mreturn\u001b[39;00m chat_completion\n",
      "File \u001b[0;32m/Library/Frameworks/Python.framework/Versions/3.11/lib/python3.11/site-packages/openai/_utils/_utils.py:277\u001b[0m, in \u001b[0;36mrequired_args.<locals>.inner.<locals>.wrapper\u001b[0;34m(*args, **kwargs)\u001b[0m\n\u001b[1;32m    275\u001b[0m             msg \u001b[38;5;241m=\u001b[39m \u001b[38;5;124mf\u001b[39m\u001b[38;5;124m\"\u001b[39m\u001b[38;5;124mMissing required argument: \u001b[39m\u001b[38;5;132;01m{\u001b[39;00mquote(missing[\u001b[38;5;241m0\u001b[39m])\u001b[38;5;132;01m}\u001b[39;00m\u001b[38;5;124m\"\u001b[39m\n\u001b[1;32m    276\u001b[0m     \u001b[38;5;28;01mraise\u001b[39;00m \u001b[38;5;167;01mTypeError\u001b[39;00m(msg)\n\u001b[0;32m--> 277\u001b[0m \u001b[38;5;28;01mreturn\u001b[39;00m \u001b[43mfunc\u001b[49m\u001b[43m(\u001b[49m\u001b[38;5;241;43m*\u001b[39;49m\u001b[43margs\u001b[49m\u001b[43m,\u001b[49m\u001b[43m \u001b[49m\u001b[38;5;241;43m*\u001b[39;49m\u001b[38;5;241;43m*\u001b[39;49m\u001b[43mkwargs\u001b[49m\u001b[43m)\u001b[49m\n",
      "File \u001b[0;32m/Library/Frameworks/Python.framework/Versions/3.11/lib/python3.11/site-packages/openai/resources/chat/completions.py:646\u001b[0m, in \u001b[0;36mCompletions.create\u001b[0;34m(self, messages, model, frequency_penalty, function_call, functions, logit_bias, logprobs, max_tokens, n, parallel_tool_calls, presence_penalty, response_format, seed, service_tier, stop, stream, stream_options, temperature, tool_choice, tools, top_logprobs, top_p, user, extra_headers, extra_query, extra_body, timeout)\u001b[0m\n\u001b[1;32m    612\u001b[0m \u001b[38;5;129m@required_args\u001b[39m([\u001b[38;5;124m\"\u001b[39m\u001b[38;5;124mmessages\u001b[39m\u001b[38;5;124m\"\u001b[39m, \u001b[38;5;124m\"\u001b[39m\u001b[38;5;124mmodel\u001b[39m\u001b[38;5;124m\"\u001b[39m], [\u001b[38;5;124m\"\u001b[39m\u001b[38;5;124mmessages\u001b[39m\u001b[38;5;124m\"\u001b[39m, \u001b[38;5;124m\"\u001b[39m\u001b[38;5;124mmodel\u001b[39m\u001b[38;5;124m\"\u001b[39m, \u001b[38;5;124m\"\u001b[39m\u001b[38;5;124mstream\u001b[39m\u001b[38;5;124m\"\u001b[39m])\n\u001b[1;32m    613\u001b[0m \u001b[38;5;28;01mdef\u001b[39;00m \u001b[38;5;21mcreate\u001b[39m(\n\u001b[1;32m    614\u001b[0m     \u001b[38;5;28mself\u001b[39m,\n\u001b[0;32m   (...)\u001b[0m\n\u001b[1;32m    644\u001b[0m     timeout: \u001b[38;5;28mfloat\u001b[39m \u001b[38;5;241m|\u001b[39m httpx\u001b[38;5;241m.\u001b[39mTimeout \u001b[38;5;241m|\u001b[39m \u001b[38;5;28;01mNone\u001b[39;00m \u001b[38;5;241m|\u001b[39m NotGiven \u001b[38;5;241m=\u001b[39m NOT_GIVEN,\n\u001b[1;32m    645\u001b[0m ) \u001b[38;5;241m-\u001b[39m\u001b[38;5;241m>\u001b[39m ChatCompletion \u001b[38;5;241m|\u001b[39m Stream[ChatCompletionChunk]:\n\u001b[0;32m--> 646\u001b[0m     \u001b[38;5;28;01mreturn\u001b[39;00m \u001b[38;5;28;43mself\u001b[39;49m\u001b[38;5;241;43m.\u001b[39;49m\u001b[43m_post\u001b[49m\u001b[43m(\u001b[49m\n\u001b[1;32m    647\u001b[0m \u001b[43m        \u001b[49m\u001b[38;5;124;43m\"\u001b[39;49m\u001b[38;5;124;43m/chat/completions\u001b[39;49m\u001b[38;5;124;43m\"\u001b[39;49m\u001b[43m,\u001b[49m\n\u001b[1;32m    648\u001b[0m \u001b[43m        \u001b[49m\u001b[43mbody\u001b[49m\u001b[38;5;241;43m=\u001b[39;49m\u001b[43mmaybe_transform\u001b[49m\u001b[43m(\u001b[49m\n\u001b[1;32m    649\u001b[0m \u001b[43m            \u001b[49m\u001b[43m{\u001b[49m\n\u001b[1;32m    650\u001b[0m \u001b[43m                \u001b[49m\u001b[38;5;124;43m\"\u001b[39;49m\u001b[38;5;124;43mmessages\u001b[39;49m\u001b[38;5;124;43m\"\u001b[39;49m\u001b[43m:\u001b[49m\u001b[43m \u001b[49m\u001b[43mmessages\u001b[49m\u001b[43m,\u001b[49m\n\u001b[1;32m    651\u001b[0m \u001b[43m                \u001b[49m\u001b[38;5;124;43m\"\u001b[39;49m\u001b[38;5;124;43mmodel\u001b[39;49m\u001b[38;5;124;43m\"\u001b[39;49m\u001b[43m:\u001b[49m\u001b[43m \u001b[49m\u001b[43mmodel\u001b[49m\u001b[43m,\u001b[49m\n\u001b[1;32m    652\u001b[0m \u001b[43m                \u001b[49m\u001b[38;5;124;43m\"\u001b[39;49m\u001b[38;5;124;43mfrequency_penalty\u001b[39;49m\u001b[38;5;124;43m\"\u001b[39;49m\u001b[43m:\u001b[49m\u001b[43m \u001b[49m\u001b[43mfrequency_penalty\u001b[49m\u001b[43m,\u001b[49m\n\u001b[1;32m    653\u001b[0m \u001b[43m                \u001b[49m\u001b[38;5;124;43m\"\u001b[39;49m\u001b[38;5;124;43mfunction_call\u001b[39;49m\u001b[38;5;124;43m\"\u001b[39;49m\u001b[43m:\u001b[49m\u001b[43m \u001b[49m\u001b[43mfunction_call\u001b[49m\u001b[43m,\u001b[49m\n\u001b[1;32m    654\u001b[0m \u001b[43m                \u001b[49m\u001b[38;5;124;43m\"\u001b[39;49m\u001b[38;5;124;43mfunctions\u001b[39;49m\u001b[38;5;124;43m\"\u001b[39;49m\u001b[43m:\u001b[49m\u001b[43m \u001b[49m\u001b[43mfunctions\u001b[49m\u001b[43m,\u001b[49m\n\u001b[1;32m    655\u001b[0m \u001b[43m                \u001b[49m\u001b[38;5;124;43m\"\u001b[39;49m\u001b[38;5;124;43mlogit_bias\u001b[39;49m\u001b[38;5;124;43m\"\u001b[39;49m\u001b[43m:\u001b[49m\u001b[43m \u001b[49m\u001b[43mlogit_bias\u001b[49m\u001b[43m,\u001b[49m\n\u001b[1;32m    656\u001b[0m \u001b[43m                \u001b[49m\u001b[38;5;124;43m\"\u001b[39;49m\u001b[38;5;124;43mlogprobs\u001b[39;49m\u001b[38;5;124;43m\"\u001b[39;49m\u001b[43m:\u001b[49m\u001b[43m \u001b[49m\u001b[43mlogprobs\u001b[49m\u001b[43m,\u001b[49m\n\u001b[1;32m    657\u001b[0m \u001b[43m                \u001b[49m\u001b[38;5;124;43m\"\u001b[39;49m\u001b[38;5;124;43mmax_tokens\u001b[39;49m\u001b[38;5;124;43m\"\u001b[39;49m\u001b[43m:\u001b[49m\u001b[43m \u001b[49m\u001b[43mmax_tokens\u001b[49m\u001b[43m,\u001b[49m\n\u001b[1;32m    658\u001b[0m \u001b[43m                \u001b[49m\u001b[38;5;124;43m\"\u001b[39;49m\u001b[38;5;124;43mn\u001b[39;49m\u001b[38;5;124;43m\"\u001b[39;49m\u001b[43m:\u001b[49m\u001b[43m \u001b[49m\u001b[43mn\u001b[49m\u001b[43m,\u001b[49m\n\u001b[1;32m    659\u001b[0m \u001b[43m                \u001b[49m\u001b[38;5;124;43m\"\u001b[39;49m\u001b[38;5;124;43mparallel_tool_calls\u001b[39;49m\u001b[38;5;124;43m\"\u001b[39;49m\u001b[43m:\u001b[49m\u001b[43m \u001b[49m\u001b[43mparallel_tool_calls\u001b[49m\u001b[43m,\u001b[49m\n\u001b[1;32m    660\u001b[0m \u001b[43m                \u001b[49m\u001b[38;5;124;43m\"\u001b[39;49m\u001b[38;5;124;43mpresence_penalty\u001b[39;49m\u001b[38;5;124;43m\"\u001b[39;49m\u001b[43m:\u001b[49m\u001b[43m \u001b[49m\u001b[43mpresence_penalty\u001b[49m\u001b[43m,\u001b[49m\n\u001b[1;32m    661\u001b[0m \u001b[43m                \u001b[49m\u001b[38;5;124;43m\"\u001b[39;49m\u001b[38;5;124;43mresponse_format\u001b[39;49m\u001b[38;5;124;43m\"\u001b[39;49m\u001b[43m:\u001b[49m\u001b[43m \u001b[49m\u001b[43mresponse_format\u001b[49m\u001b[43m,\u001b[49m\n\u001b[1;32m    662\u001b[0m \u001b[43m                \u001b[49m\u001b[38;5;124;43m\"\u001b[39;49m\u001b[38;5;124;43mseed\u001b[39;49m\u001b[38;5;124;43m\"\u001b[39;49m\u001b[43m:\u001b[49m\u001b[43m \u001b[49m\u001b[43mseed\u001b[49m\u001b[43m,\u001b[49m\n\u001b[1;32m    663\u001b[0m \u001b[43m                \u001b[49m\u001b[38;5;124;43m\"\u001b[39;49m\u001b[38;5;124;43mservice_tier\u001b[39;49m\u001b[38;5;124;43m\"\u001b[39;49m\u001b[43m:\u001b[49m\u001b[43m \u001b[49m\u001b[43mservice_tier\u001b[49m\u001b[43m,\u001b[49m\n\u001b[1;32m    664\u001b[0m \u001b[43m                \u001b[49m\u001b[38;5;124;43m\"\u001b[39;49m\u001b[38;5;124;43mstop\u001b[39;49m\u001b[38;5;124;43m\"\u001b[39;49m\u001b[43m:\u001b[49m\u001b[43m \u001b[49m\u001b[43mstop\u001b[49m\u001b[43m,\u001b[49m\n\u001b[1;32m    665\u001b[0m \u001b[43m                \u001b[49m\u001b[38;5;124;43m\"\u001b[39;49m\u001b[38;5;124;43mstream\u001b[39;49m\u001b[38;5;124;43m\"\u001b[39;49m\u001b[43m:\u001b[49m\u001b[43m \u001b[49m\u001b[43mstream\u001b[49m\u001b[43m,\u001b[49m\n\u001b[1;32m    666\u001b[0m \u001b[43m                \u001b[49m\u001b[38;5;124;43m\"\u001b[39;49m\u001b[38;5;124;43mstream_options\u001b[39;49m\u001b[38;5;124;43m\"\u001b[39;49m\u001b[43m:\u001b[49m\u001b[43m \u001b[49m\u001b[43mstream_options\u001b[49m\u001b[43m,\u001b[49m\n\u001b[1;32m    667\u001b[0m \u001b[43m                \u001b[49m\u001b[38;5;124;43m\"\u001b[39;49m\u001b[38;5;124;43mtemperature\u001b[39;49m\u001b[38;5;124;43m\"\u001b[39;49m\u001b[43m:\u001b[49m\u001b[43m \u001b[49m\u001b[43mtemperature\u001b[49m\u001b[43m,\u001b[49m\n\u001b[1;32m    668\u001b[0m \u001b[43m                \u001b[49m\u001b[38;5;124;43m\"\u001b[39;49m\u001b[38;5;124;43mtool_choice\u001b[39;49m\u001b[38;5;124;43m\"\u001b[39;49m\u001b[43m:\u001b[49m\u001b[43m \u001b[49m\u001b[43mtool_choice\u001b[49m\u001b[43m,\u001b[49m\n\u001b[1;32m    669\u001b[0m \u001b[43m                \u001b[49m\u001b[38;5;124;43m\"\u001b[39;49m\u001b[38;5;124;43mtools\u001b[39;49m\u001b[38;5;124;43m\"\u001b[39;49m\u001b[43m:\u001b[49m\u001b[43m \u001b[49m\u001b[43mtools\u001b[49m\u001b[43m,\u001b[49m\n\u001b[1;32m    670\u001b[0m \u001b[43m                \u001b[49m\u001b[38;5;124;43m\"\u001b[39;49m\u001b[38;5;124;43mtop_logprobs\u001b[39;49m\u001b[38;5;124;43m\"\u001b[39;49m\u001b[43m:\u001b[49m\u001b[43m \u001b[49m\u001b[43mtop_logprobs\u001b[49m\u001b[43m,\u001b[49m\n\u001b[1;32m    671\u001b[0m \u001b[43m                \u001b[49m\u001b[38;5;124;43m\"\u001b[39;49m\u001b[38;5;124;43mtop_p\u001b[39;49m\u001b[38;5;124;43m\"\u001b[39;49m\u001b[43m:\u001b[49m\u001b[43m \u001b[49m\u001b[43mtop_p\u001b[49m\u001b[43m,\u001b[49m\n\u001b[1;32m    672\u001b[0m \u001b[43m                \u001b[49m\u001b[38;5;124;43m\"\u001b[39;49m\u001b[38;5;124;43muser\u001b[39;49m\u001b[38;5;124;43m\"\u001b[39;49m\u001b[43m:\u001b[49m\u001b[43m \u001b[49m\u001b[43muser\u001b[49m\u001b[43m,\u001b[49m\n\u001b[1;32m    673\u001b[0m \u001b[43m            \u001b[49m\u001b[43m}\u001b[49m\u001b[43m,\u001b[49m\n\u001b[1;32m    674\u001b[0m \u001b[43m            \u001b[49m\u001b[43mcompletion_create_params\u001b[49m\u001b[38;5;241;43m.\u001b[39;49m\u001b[43mCompletionCreateParams\u001b[49m\u001b[43m,\u001b[49m\n\u001b[1;32m    675\u001b[0m \u001b[43m        \u001b[49m\u001b[43m)\u001b[49m\u001b[43m,\u001b[49m\n\u001b[1;32m    676\u001b[0m \u001b[43m        \u001b[49m\u001b[43moptions\u001b[49m\u001b[38;5;241;43m=\u001b[39;49m\u001b[43mmake_request_options\u001b[49m\u001b[43m(\u001b[49m\n\u001b[1;32m    677\u001b[0m \u001b[43m            \u001b[49m\u001b[43mextra_headers\u001b[49m\u001b[38;5;241;43m=\u001b[39;49m\u001b[43mextra_headers\u001b[49m\u001b[43m,\u001b[49m\u001b[43m \u001b[49m\u001b[43mextra_query\u001b[49m\u001b[38;5;241;43m=\u001b[39;49m\u001b[43mextra_query\u001b[49m\u001b[43m,\u001b[49m\u001b[43m \u001b[49m\u001b[43mextra_body\u001b[49m\u001b[38;5;241;43m=\u001b[39;49m\u001b[43mextra_body\u001b[49m\u001b[43m,\u001b[49m\u001b[43m \u001b[49m\u001b[43mtimeout\u001b[49m\u001b[38;5;241;43m=\u001b[39;49m\u001b[43mtimeout\u001b[49m\n\u001b[1;32m    678\u001b[0m \u001b[43m        \u001b[49m\u001b[43m)\u001b[49m\u001b[43m,\u001b[49m\n\u001b[1;32m    679\u001b[0m \u001b[43m        \u001b[49m\u001b[43mcast_to\u001b[49m\u001b[38;5;241;43m=\u001b[39;49m\u001b[43mChatCompletion\u001b[49m\u001b[43m,\u001b[49m\n\u001b[1;32m    680\u001b[0m \u001b[43m        \u001b[49m\u001b[43mstream\u001b[49m\u001b[38;5;241;43m=\u001b[39;49m\u001b[43mstream\u001b[49m\u001b[43m \u001b[49m\u001b[38;5;129;43;01mor\u001b[39;49;00m\u001b[43m \u001b[49m\u001b[38;5;28;43;01mFalse\u001b[39;49;00m\u001b[43m,\u001b[49m\n\u001b[1;32m    681\u001b[0m \u001b[43m        \u001b[49m\u001b[43mstream_cls\u001b[49m\u001b[38;5;241;43m=\u001b[39;49m\u001b[43mStream\u001b[49m\u001b[43m[\u001b[49m\u001b[43mChatCompletionChunk\u001b[49m\u001b[43m]\u001b[49m\u001b[43m,\u001b[49m\n\u001b[1;32m    682\u001b[0m \u001b[43m    \u001b[49m\u001b[43m)\u001b[49m\n",
      "File \u001b[0;32m/Library/Frameworks/Python.framework/Versions/3.11/lib/python3.11/site-packages/openai/_base_client.py:1266\u001b[0m, in \u001b[0;36mSyncAPIClient.post\u001b[0;34m(self, path, cast_to, body, options, files, stream, stream_cls)\u001b[0m\n\u001b[1;32m   1252\u001b[0m \u001b[38;5;28;01mdef\u001b[39;00m \u001b[38;5;21mpost\u001b[39m(\n\u001b[1;32m   1253\u001b[0m     \u001b[38;5;28mself\u001b[39m,\n\u001b[1;32m   1254\u001b[0m     path: \u001b[38;5;28mstr\u001b[39m,\n\u001b[0;32m   (...)\u001b[0m\n\u001b[1;32m   1261\u001b[0m     stream_cls: \u001b[38;5;28mtype\u001b[39m[_StreamT] \u001b[38;5;241m|\u001b[39m \u001b[38;5;28;01mNone\u001b[39;00m \u001b[38;5;241m=\u001b[39m \u001b[38;5;28;01mNone\u001b[39;00m,\n\u001b[1;32m   1262\u001b[0m ) \u001b[38;5;241m-\u001b[39m\u001b[38;5;241m>\u001b[39m ResponseT \u001b[38;5;241m|\u001b[39m _StreamT:\n\u001b[1;32m   1263\u001b[0m     opts \u001b[38;5;241m=\u001b[39m FinalRequestOptions\u001b[38;5;241m.\u001b[39mconstruct(\n\u001b[1;32m   1264\u001b[0m         method\u001b[38;5;241m=\u001b[39m\u001b[38;5;124m\"\u001b[39m\u001b[38;5;124mpost\u001b[39m\u001b[38;5;124m\"\u001b[39m, url\u001b[38;5;241m=\u001b[39mpath, json_data\u001b[38;5;241m=\u001b[39mbody, files\u001b[38;5;241m=\u001b[39mto_httpx_files(files), \u001b[38;5;241m*\u001b[39m\u001b[38;5;241m*\u001b[39moptions\n\u001b[1;32m   1265\u001b[0m     )\n\u001b[0;32m-> 1266\u001b[0m     \u001b[38;5;28;01mreturn\u001b[39;00m cast(ResponseT, \u001b[38;5;28;43mself\u001b[39;49m\u001b[38;5;241;43m.\u001b[39;49m\u001b[43mrequest\u001b[49m\u001b[43m(\u001b[49m\u001b[43mcast_to\u001b[49m\u001b[43m,\u001b[49m\u001b[43m \u001b[49m\u001b[43mopts\u001b[49m\u001b[43m,\u001b[49m\u001b[43m \u001b[49m\u001b[43mstream\u001b[49m\u001b[38;5;241;43m=\u001b[39;49m\u001b[43mstream\u001b[49m\u001b[43m,\u001b[49m\u001b[43m \u001b[49m\u001b[43mstream_cls\u001b[49m\u001b[38;5;241;43m=\u001b[39;49m\u001b[43mstream_cls\u001b[49m\u001b[43m)\u001b[49m)\n",
      "File \u001b[0;32m/Library/Frameworks/Python.framework/Versions/3.11/lib/python3.11/site-packages/openai/_base_client.py:942\u001b[0m, in \u001b[0;36mSyncAPIClient.request\u001b[0;34m(self, cast_to, options, remaining_retries, stream, stream_cls)\u001b[0m\n\u001b[1;32m    933\u001b[0m \u001b[38;5;28;01mdef\u001b[39;00m \u001b[38;5;21mrequest\u001b[39m(\n\u001b[1;32m    934\u001b[0m     \u001b[38;5;28mself\u001b[39m,\n\u001b[1;32m    935\u001b[0m     cast_to: Type[ResponseT],\n\u001b[0;32m   (...)\u001b[0m\n\u001b[1;32m    940\u001b[0m     stream_cls: \u001b[38;5;28mtype\u001b[39m[_StreamT] \u001b[38;5;241m|\u001b[39m \u001b[38;5;28;01mNone\u001b[39;00m \u001b[38;5;241m=\u001b[39m \u001b[38;5;28;01mNone\u001b[39;00m,\n\u001b[1;32m    941\u001b[0m ) \u001b[38;5;241m-\u001b[39m\u001b[38;5;241m>\u001b[39m ResponseT \u001b[38;5;241m|\u001b[39m _StreamT:\n\u001b[0;32m--> 942\u001b[0m     \u001b[38;5;28;01mreturn\u001b[39;00m \u001b[38;5;28;43mself\u001b[39;49m\u001b[38;5;241;43m.\u001b[39;49m\u001b[43m_request\u001b[49m\u001b[43m(\u001b[49m\n\u001b[1;32m    943\u001b[0m \u001b[43m        \u001b[49m\u001b[43mcast_to\u001b[49m\u001b[38;5;241;43m=\u001b[39;49m\u001b[43mcast_to\u001b[49m\u001b[43m,\u001b[49m\n\u001b[1;32m    944\u001b[0m \u001b[43m        \u001b[49m\u001b[43moptions\u001b[49m\u001b[38;5;241;43m=\u001b[39;49m\u001b[43moptions\u001b[49m\u001b[43m,\u001b[49m\n\u001b[1;32m    945\u001b[0m \u001b[43m        \u001b[49m\u001b[43mstream\u001b[49m\u001b[38;5;241;43m=\u001b[39;49m\u001b[43mstream\u001b[49m\u001b[43m,\u001b[49m\n\u001b[1;32m    946\u001b[0m \u001b[43m        \u001b[49m\u001b[43mstream_cls\u001b[49m\u001b[38;5;241;43m=\u001b[39;49m\u001b[43mstream_cls\u001b[49m\u001b[43m,\u001b[49m\n\u001b[1;32m    947\u001b[0m \u001b[43m        \u001b[49m\u001b[43mremaining_retries\u001b[49m\u001b[38;5;241;43m=\u001b[39;49m\u001b[43mremaining_retries\u001b[49m\u001b[43m,\u001b[49m\n\u001b[1;32m    948\u001b[0m \u001b[43m    \u001b[49m\u001b[43m)\u001b[49m\n",
      "File \u001b[0;32m/Library/Frameworks/Python.framework/Versions/3.11/lib/python3.11/site-packages/openai/_base_client.py:1031\u001b[0m, in \u001b[0;36mSyncAPIClient._request\u001b[0;34m(self, cast_to, options, remaining_retries, stream, stream_cls)\u001b[0m\n\u001b[1;32m   1029\u001b[0m \u001b[38;5;28;01mif\u001b[39;00m retries \u001b[38;5;241m>\u001b[39m \u001b[38;5;241m0\u001b[39m \u001b[38;5;129;01mand\u001b[39;00m \u001b[38;5;28mself\u001b[39m\u001b[38;5;241m.\u001b[39m_should_retry(err\u001b[38;5;241m.\u001b[39mresponse):\n\u001b[1;32m   1030\u001b[0m     err\u001b[38;5;241m.\u001b[39mresponse\u001b[38;5;241m.\u001b[39mclose()\n\u001b[0;32m-> 1031\u001b[0m     \u001b[38;5;28;01mreturn\u001b[39;00m \u001b[38;5;28;43mself\u001b[39;49m\u001b[38;5;241;43m.\u001b[39;49m\u001b[43m_retry_request\u001b[49m\u001b[43m(\u001b[49m\n\u001b[1;32m   1032\u001b[0m \u001b[43m        \u001b[49m\u001b[43minput_options\u001b[49m\u001b[43m,\u001b[49m\n\u001b[1;32m   1033\u001b[0m \u001b[43m        \u001b[49m\u001b[43mcast_to\u001b[49m\u001b[43m,\u001b[49m\n\u001b[1;32m   1034\u001b[0m \u001b[43m        \u001b[49m\u001b[43mretries\u001b[49m\u001b[43m,\u001b[49m\n\u001b[1;32m   1035\u001b[0m \u001b[43m        \u001b[49m\u001b[43merr\u001b[49m\u001b[38;5;241;43m.\u001b[39;49m\u001b[43mresponse\u001b[49m\u001b[38;5;241;43m.\u001b[39;49m\u001b[43mheaders\u001b[49m\u001b[43m,\u001b[49m\n\u001b[1;32m   1036\u001b[0m \u001b[43m        \u001b[49m\u001b[43mstream\u001b[49m\u001b[38;5;241;43m=\u001b[39;49m\u001b[43mstream\u001b[49m\u001b[43m,\u001b[49m\n\u001b[1;32m   1037\u001b[0m \u001b[43m        \u001b[49m\u001b[43mstream_cls\u001b[49m\u001b[38;5;241;43m=\u001b[39;49m\u001b[43mstream_cls\u001b[49m\u001b[43m,\u001b[49m\n\u001b[1;32m   1038\u001b[0m \u001b[43m    \u001b[49m\u001b[43m)\u001b[49m\n\u001b[1;32m   1040\u001b[0m \u001b[38;5;66;03m# If the response is streamed then we need to explicitly read the response\u001b[39;00m\n\u001b[1;32m   1041\u001b[0m \u001b[38;5;66;03m# to completion before attempting to access the response text.\u001b[39;00m\n\u001b[1;32m   1042\u001b[0m \u001b[38;5;28;01mif\u001b[39;00m \u001b[38;5;129;01mnot\u001b[39;00m err\u001b[38;5;241m.\u001b[39mresponse\u001b[38;5;241m.\u001b[39mis_closed:\n",
      "File \u001b[0;32m/Library/Frameworks/Python.framework/Versions/3.11/lib/python3.11/site-packages/openai/_base_client.py:1079\u001b[0m, in \u001b[0;36mSyncAPIClient._retry_request\u001b[0;34m(self, options, cast_to, remaining_retries, response_headers, stream, stream_cls)\u001b[0m\n\u001b[1;32m   1075\u001b[0m \u001b[38;5;66;03m# In a synchronous context we are blocking the entire thread. Up to the library user to run the client in a\u001b[39;00m\n\u001b[1;32m   1076\u001b[0m \u001b[38;5;66;03m# different thread if necessary.\u001b[39;00m\n\u001b[1;32m   1077\u001b[0m time\u001b[38;5;241m.\u001b[39msleep(timeout)\n\u001b[0;32m-> 1079\u001b[0m \u001b[38;5;28;01mreturn\u001b[39;00m \u001b[38;5;28;43mself\u001b[39;49m\u001b[38;5;241;43m.\u001b[39;49m\u001b[43m_request\u001b[49m\u001b[43m(\u001b[49m\n\u001b[1;32m   1080\u001b[0m \u001b[43m    \u001b[49m\u001b[43moptions\u001b[49m\u001b[38;5;241;43m=\u001b[39;49m\u001b[43moptions\u001b[49m\u001b[43m,\u001b[49m\n\u001b[1;32m   1081\u001b[0m \u001b[43m    \u001b[49m\u001b[43mcast_to\u001b[49m\u001b[38;5;241;43m=\u001b[39;49m\u001b[43mcast_to\u001b[49m\u001b[43m,\u001b[49m\n\u001b[1;32m   1082\u001b[0m \u001b[43m    \u001b[49m\u001b[43mremaining_retries\u001b[49m\u001b[38;5;241;43m=\u001b[39;49m\u001b[43mremaining\u001b[49m\u001b[43m,\u001b[49m\n\u001b[1;32m   1083\u001b[0m \u001b[43m    \u001b[49m\u001b[43mstream\u001b[49m\u001b[38;5;241;43m=\u001b[39;49m\u001b[43mstream\u001b[49m\u001b[43m,\u001b[49m\n\u001b[1;32m   1084\u001b[0m \u001b[43m    \u001b[49m\u001b[43mstream_cls\u001b[49m\u001b[38;5;241;43m=\u001b[39;49m\u001b[43mstream_cls\u001b[49m\u001b[43m,\u001b[49m\n\u001b[1;32m   1085\u001b[0m \u001b[43m\u001b[49m\u001b[43m)\u001b[49m\n",
      "File \u001b[0;32m/Library/Frameworks/Python.framework/Versions/3.11/lib/python3.11/site-packages/openai/_base_client.py:1031\u001b[0m, in \u001b[0;36mSyncAPIClient._request\u001b[0;34m(self, cast_to, options, remaining_retries, stream, stream_cls)\u001b[0m\n\u001b[1;32m   1029\u001b[0m \u001b[38;5;28;01mif\u001b[39;00m retries \u001b[38;5;241m>\u001b[39m \u001b[38;5;241m0\u001b[39m \u001b[38;5;129;01mand\u001b[39;00m \u001b[38;5;28mself\u001b[39m\u001b[38;5;241m.\u001b[39m_should_retry(err\u001b[38;5;241m.\u001b[39mresponse):\n\u001b[1;32m   1030\u001b[0m     err\u001b[38;5;241m.\u001b[39mresponse\u001b[38;5;241m.\u001b[39mclose()\n\u001b[0;32m-> 1031\u001b[0m     \u001b[38;5;28;01mreturn\u001b[39;00m \u001b[38;5;28;43mself\u001b[39;49m\u001b[38;5;241;43m.\u001b[39;49m\u001b[43m_retry_request\u001b[49m\u001b[43m(\u001b[49m\n\u001b[1;32m   1032\u001b[0m \u001b[43m        \u001b[49m\u001b[43minput_options\u001b[49m\u001b[43m,\u001b[49m\n\u001b[1;32m   1033\u001b[0m \u001b[43m        \u001b[49m\u001b[43mcast_to\u001b[49m\u001b[43m,\u001b[49m\n\u001b[1;32m   1034\u001b[0m \u001b[43m        \u001b[49m\u001b[43mretries\u001b[49m\u001b[43m,\u001b[49m\n\u001b[1;32m   1035\u001b[0m \u001b[43m        \u001b[49m\u001b[43merr\u001b[49m\u001b[38;5;241;43m.\u001b[39;49m\u001b[43mresponse\u001b[49m\u001b[38;5;241;43m.\u001b[39;49m\u001b[43mheaders\u001b[49m\u001b[43m,\u001b[49m\n\u001b[1;32m   1036\u001b[0m \u001b[43m        \u001b[49m\u001b[43mstream\u001b[49m\u001b[38;5;241;43m=\u001b[39;49m\u001b[43mstream\u001b[49m\u001b[43m,\u001b[49m\n\u001b[1;32m   1037\u001b[0m \u001b[43m        \u001b[49m\u001b[43mstream_cls\u001b[49m\u001b[38;5;241;43m=\u001b[39;49m\u001b[43mstream_cls\u001b[49m\u001b[43m,\u001b[49m\n\u001b[1;32m   1038\u001b[0m \u001b[43m    \u001b[49m\u001b[43m)\u001b[49m\n\u001b[1;32m   1040\u001b[0m \u001b[38;5;66;03m# If the response is streamed then we need to explicitly read the response\u001b[39;00m\n\u001b[1;32m   1041\u001b[0m \u001b[38;5;66;03m# to completion before attempting to access the response text.\u001b[39;00m\n\u001b[1;32m   1042\u001b[0m \u001b[38;5;28;01mif\u001b[39;00m \u001b[38;5;129;01mnot\u001b[39;00m err\u001b[38;5;241m.\u001b[39mresponse\u001b[38;5;241m.\u001b[39mis_closed:\n",
      "File \u001b[0;32m/Library/Frameworks/Python.framework/Versions/3.11/lib/python3.11/site-packages/openai/_base_client.py:1079\u001b[0m, in \u001b[0;36mSyncAPIClient._retry_request\u001b[0;34m(self, options, cast_to, remaining_retries, response_headers, stream, stream_cls)\u001b[0m\n\u001b[1;32m   1075\u001b[0m \u001b[38;5;66;03m# In a synchronous context we are blocking the entire thread. Up to the library user to run the client in a\u001b[39;00m\n\u001b[1;32m   1076\u001b[0m \u001b[38;5;66;03m# different thread if necessary.\u001b[39;00m\n\u001b[1;32m   1077\u001b[0m time\u001b[38;5;241m.\u001b[39msleep(timeout)\n\u001b[0;32m-> 1079\u001b[0m \u001b[38;5;28;01mreturn\u001b[39;00m \u001b[38;5;28;43mself\u001b[39;49m\u001b[38;5;241;43m.\u001b[39;49m\u001b[43m_request\u001b[49m\u001b[43m(\u001b[49m\n\u001b[1;32m   1080\u001b[0m \u001b[43m    \u001b[49m\u001b[43moptions\u001b[49m\u001b[38;5;241;43m=\u001b[39;49m\u001b[43moptions\u001b[49m\u001b[43m,\u001b[49m\n\u001b[1;32m   1081\u001b[0m \u001b[43m    \u001b[49m\u001b[43mcast_to\u001b[49m\u001b[38;5;241;43m=\u001b[39;49m\u001b[43mcast_to\u001b[49m\u001b[43m,\u001b[49m\n\u001b[1;32m   1082\u001b[0m \u001b[43m    \u001b[49m\u001b[43mremaining_retries\u001b[49m\u001b[38;5;241;43m=\u001b[39;49m\u001b[43mremaining\u001b[49m\u001b[43m,\u001b[49m\n\u001b[1;32m   1083\u001b[0m \u001b[43m    \u001b[49m\u001b[43mstream\u001b[49m\u001b[38;5;241;43m=\u001b[39;49m\u001b[43mstream\u001b[49m\u001b[43m,\u001b[49m\n\u001b[1;32m   1084\u001b[0m \u001b[43m    \u001b[49m\u001b[43mstream_cls\u001b[49m\u001b[38;5;241;43m=\u001b[39;49m\u001b[43mstream_cls\u001b[49m\u001b[43m,\u001b[49m\n\u001b[1;32m   1085\u001b[0m \u001b[43m\u001b[49m\u001b[43m)\u001b[49m\n",
      "File \u001b[0;32m/Library/Frameworks/Python.framework/Versions/3.11/lib/python3.11/site-packages/openai/_base_client.py:1046\u001b[0m, in \u001b[0;36mSyncAPIClient._request\u001b[0;34m(self, cast_to, options, remaining_retries, stream, stream_cls)\u001b[0m\n\u001b[1;32m   1043\u001b[0m         err\u001b[38;5;241m.\u001b[39mresponse\u001b[38;5;241m.\u001b[39mread()\n\u001b[1;32m   1045\u001b[0m     log\u001b[38;5;241m.\u001b[39mdebug(\u001b[38;5;124m\"\u001b[39m\u001b[38;5;124mRe-raising status error\u001b[39m\u001b[38;5;124m\"\u001b[39m)\n\u001b[0;32m-> 1046\u001b[0m     \u001b[38;5;28;01mraise\u001b[39;00m \u001b[38;5;28mself\u001b[39m\u001b[38;5;241m.\u001b[39m_make_status_error_from_response(err\u001b[38;5;241m.\u001b[39mresponse) \u001b[38;5;28;01mfrom\u001b[39;00m \u001b[38;5;28;01mNone\u001b[39;00m\n\u001b[1;32m   1048\u001b[0m \u001b[38;5;28;01mreturn\u001b[39;00m \u001b[38;5;28mself\u001b[39m\u001b[38;5;241m.\u001b[39m_process_response(\n\u001b[1;32m   1049\u001b[0m     cast_to\u001b[38;5;241m=\u001b[39mcast_to,\n\u001b[1;32m   1050\u001b[0m     options\u001b[38;5;241m=\u001b[39moptions,\n\u001b[0;32m   (...)\u001b[0m\n\u001b[1;32m   1053\u001b[0m     stream_cls\u001b[38;5;241m=\u001b[39mstream_cls,\n\u001b[1;32m   1054\u001b[0m )\n",
      "\u001b[0;31mRateLimitError\u001b[0m: Error code: 429 - {'error': {'message': 'Your account is not active, please check your billing details on our website.', 'type': 'billing_not_active', 'param': None, 'code': 'billing_not_active'}}"
     ]
    }
   ],
   "source": [
    "print(f\"Missing track ids: {missing_track_ids}\")\n",
    "missing_tracks = [track_id_dict[track_id] for track_id in missing_track_ids]\n",
    "\n",
    "while len(missing_tracks) > 0:\n",
    "    for i in tqdm(range(0, len(missing_tracks), 50)):\n",
    "        print('Batch ', i+1, ' to ', i+50)\n",
    "        json_output = sort_tracks(tracks[i:i+50])\n",
    "        parsed_json_output = json.loads(json_output)\n",
    "        for genre, track_ids in parsed_json_output.items():\n",
    "            if genre in genre_playlists:\n",
    "                for track_id in track_ids:\n",
    "                    if track_id in track_id_dict:\n",
    "                        track = track_id_dict[track_id]\n",
    "                        genre_playlists[genre].append(track)\n",
    "                        found_track_ids.append(track_id)\n",
    "                    else:\n",
    "                        print(f\"Track with id {\n",
    "                              track_id} not found in saved tracks\")\n",
    "            else:\n",
    "                print(f\"Genre {genre} not found in playlist genres\")\n",
    "\n",
    "    missing_track_ids = set(all_track_ids) - set(found_track_ids)\n",
    "    missing_tracks = [track_id_dict[track_id]\n",
    "                      for track_id in missing_track_ids]"
   ]
  },
  {
   "cell_type": "code",
   "execution_count": 112,
   "metadata": {},
   "outputs": [
    {
     "name": "stdout",
     "output_type": "stream",
     "text": [
      "Missing track titles: ['Come Around Me', 'BEATS FOR THE UNDERGROUND', 'RASTA PASTA (ft. Masego)', 'Nothing', 'Todo De Ti', 'good 4 u', 'Lucinda', 'I don’t even speak spanish lol - feat. Rio Santana, Judah, Andrez Babii', '聽媽媽的話', 'happier', 'Bad Habit', 'Tyler Durden', 'If You Were the Rain', 'Who Do You Call?', 'Boomin (feat. Missy Elliott & Future)', 'let me love you', 'Sweater Weather', 'Hey DJ - DJ Heartbreak Trance Mix', 'Tell Me What You Want', 'Circles', 'Keep On', 'Coffee', 'MIDDLE OF THE NIGHT', 'Cream', 'Indian Summer', 'Feeling Good', 'Immortal', 'HANDSOMER (Remix) (Feat. Ktlyn)', 'We Groovin (with Jazzy)', 'Freed from Desire', 'Neon Guts (feat. Pharrell Williams)', 'Aria', 'Amber', 'Memories', 'Yuck', 'YOSEMITE', 'Lemon Tree', \"f**k it, i'm the man\", 'Street by Street', 'Brand New Day', 'Reggaetón Lento (Remix)', 'gucci slides (feat. Smino)', 'CHRONICALLY CAUTIOUS', 'Heebiejeebies - Bonus', 'PlantedInMyMind.Memo', 'Chained to the Rhythm', 'atlas', 'Unravel Me', 'Starting Over', 'positions', 'Yonaguni', 'Young & Foolish', 'Capricorn', 'Nobody Compares To You', \"Ain't No Love In The Heart Of The City - Single Version\", 'What Love Is', 'Everyday', 'Cut My Hair', 'THATS WHAT I WANT', 'Love & War', \"Summer's Gone\", 'High Hopes', 'NaNa', 'Saturn', 'STARGAZING', 'Pluto Projector', 'Supermodel', 'La Vie En Rose', 'The Weekend', 'Ray Of Solar', 'Project Dreams', 'What Am I to Do?', 'Casa Lopez', 'changes', 'I Love You 3000', 'Come Thru', 'My Mind Is a Maze', 'make up', 'Do Right', 'traitor', \"we can't be friends (wait for your love)\", 'Maniac', 'Sunday', 'No Time To Die', 'You Will See', 'Drift', 'Be My Mistake', 'Fuck The World (Summer in London)', 'Strange Land', 'Tombstone', 'Big Bank feat. 2 Chainz, Big Sean, Nicki Minaj', 'can’t tell', 'Do You Remember', 'Betrayed', 'the boy is mine', 'Hard to Forget', 'Hollywood Witches', 'okay', 'Sauce It Up', 'Lovin On Me', 'FRIENDS', 'Jamming - FISHER Rework', 'Do What I Want', \"We Won't\", 'Party', 'Chips & Dip', 'I AM WOMAN', 'BILLIE EILISH.', 'Getting Over You', 'Not Enough (feat. THEY.)', 'Hopeless Romantic (feat. Swae Lee)', 'Play Fight (with Tinashe)', 'JAPAN', 'Take A Chance With Me', 'The Way Life Goes (feat. Oh Wonder)', 'Mind Games (feat. Jackson Wang)', 'Escapism.', 'Hungover', 'Drew Barrymore', 'Falling', 'I Want You (feat. Matthew John Kurz)', 'Lost', 'The Box', 'May I', 'In The Arms Of A Stranger - Grey Remix', 'Mi Cama', 'At My Worst', 'This Is Me', 'ILYSB - STRIPPED', 'What Dreams Are Made Of', 'Undercover', \"All That I'm Craving\", 'You Can Cry', 'Monster (Shawn Mendes & Justin Bieber)', 'Ride', 'Smile (with The Weeknd)', 'Play It Again', 'Navajo', 'Yellow', 'Midsummer Madness', 'High School in Jakarta', 'THUG LIFE', 'Summer Vibe', 'came through', 'Flight 99', 'Ratatouille Main Theme', 'pink skies', \"Ain't No Sunshine\", 'if we never met', 'lovely (with Khalid)', 'Glimpse of Us', 'wanna know', 'No Guidance Remix', 'Hope Is a Heartache', 'Daisy', 'The Jackie (with J. Cole & Lil Tjay)', 'Show Me', 'Concussion', 'I Wish I Missed My Ex', 'Numb', 'All of Me (feat. Logic, ROZES)', 'The Weekend', 'leavemealone', 'Hands', 'Grand', 'What If I Go? (feat. Bonzai)', 'RIZZ', 'Chain Smoker', 'act ii: date @ 8 (feat. Drake) - remix', 'my future', 'Falling Like The Stars', 'THICK (feat. Megan Thee Stallion) - Remix', 'Head In The Clouds', 'Noticed', 'For You (Fifty Shades Freed) (& Rita Ora)', 'Chills - Party Pupils Remix', 'Those Eyes', 'You (Remix feat. Rick Ross)', 'Loving Is Easy (feat. Benny Sings)', 'The Wave', 'Electric U', 'Split', 'No More Parties - Remix', 'Swimming Pool', 'SNAP', '你，好不好？ - TVBS連續劇【遺憾拼圖】片尾曲', 'Look What You Made Me Do', 'Wraith Pinned to the Mist and Other Games', 'Lose You To Love Me', 'For Real', 'No Guidance (feat. Drake)', 'lowkey', 'Heat (feat. Gunna)', 'SLOPES', 'Smoke (feat. Lucky Daye)', 'SUGAR', 'A Kiss', 'Something I Need', 'Breathe', 'Ease My Mind - Feat. Tre Hardson, Fat Lip & Omni', 'Doves In The Wind (feat. Kendrick Lamar)', 'Mi Gente', 'CRZY', 'Botella Tras Botella', 'Fantasy', 'Chemical', 'Real Love Baby', 'Uno', 'Voices (feat. Oliver Tree)', 'Start Again (feat. Logic)', 'I Wonder', 'could you love me while i hate myself', \"We're Going to Be Friends\", 'Slide', 'You’re Mines Still (feat. Drake)', \"We Don't Have To Take Our Clothes Off\", 'Clutch (feat. Kiana Ledé)', 'Blind - Acoustic', 'Egyptian Luvr', 'Ghost of Chicago', 'Start Something', 'CITY OF ANGELS', 'One More Love Song', \"There's No Way (feat. Julia Michaels)\", 'i feel bad', 'Hold Me - AmPm Remix', 'SLOW DANCING IN THE DARK', 'Shallow', 'Lose Control', 'Overnight', 'Best Part (feat. H.E.R.)', 'Dancing On My Own - Tiësto Remix', 'silence STArEs me down (feat. Cuco)', 'Feel It Still', 'Trampoline', 'god of the sunsets', 'Beautiful Soul', 'Gravity (Flyboy Remix feat. French Horn Rebellion & Flyboy)', 'Unsteady', 'Second Emotion (feat. Travis Scott)', 'Lemon Tree', 'Got Caught in Amsterdam', 'thank u, next', 'Say Something', 'Traingazing', 'Pull The Strings (feat. Selah Sue) - Tunaki Remix', 'Out Loud', 'Girls Like You (feat. Cardi B) - Cardi B Version', 'Bandit (with YoungBoy Never Broke Again)', 'Midnight City', 'Los Santos', '23', 'Home To Another One', \"If I Can't Have You\", 'Bulletproof', 'Uber Everywhere', 'Peach', '4 Thangs (feat. Big Sean & Hit-Boy)', 'Beautiful Soul', 'Motley Crew', 'WITHOUT YOU (with Miley Cyrus)', 'Lo Vas A Olvidar (with ROSALÍA)', 'Starlight (Piano Version)', 'Glad You Exist', 'Message in a bottle', 'To Love Someone', 'Dark Red', \"It's Your Thing\", 'DDU-DU DDU-DU', 'Stella Brown', 'My My My!', 'Friends (with BloodPop®)', \"California Dreamin' (feat. High Jinx)\", 'Moral of the Story', 'Love It If We Made It', 'Bloom', 'Honest', 'Honesty', 'CIVIL WAR - Bonus', 'Paradise - Extended', 'Distraction', 'Home', 'Real Thing', \"Doin' Time\", '20191009 I Like Her', \"I'm a Flirt Remix (feat. T.I. & T-Pain)\", 'Kick The Dust Up', 'Lover Boy', 'Doses & Mimosas (Vintage Culture & Zerky Remix) - Radio Edit', 'Some Say - Felix Jaehn Remix', 'Mona Lisa (Spider-Man: Across the Spider-Verse)', 'Enemies (feat. DaBaby)', 'Tick Tock (feat. 24kGoldn)', 'People', 'You Owe Me', 'do u even miss me at all?', 'Personal', '24 / 7 / 365', 'NEW DANCE', 'LiGhT rAiLs *ੈ✩‧₊˚', 'For the First Time', 'California (feat. Warren Hue)', '무제(無題) (Untitled, 2014)', 'Sour Candy', 'TEST DRIVE', 'bag or die', 'Shameful Game', 'No More (feat. French Montana)', 'Your Shirt', 'Insecurities', 'Let Me Down Slowly', 'The Ballet Girl', 'Balcony', 'OUT WEST (feat. Young Thug)', 'Wildcard (feat. Feli Ferraro) [Sex Whales Remix]', 'Too Good At Goodbyes - Edit', 'Rapapapa (feat. RZA)', 'I Love You 3000 II', 'Wasabi', 'You Say', 'I Believe In Love Again', 'Get You (feat. Kali Uchis)', 'My Type', 'Habit', 'These Nights', 'I Remember Everything (feat. Kacey Musgraves)', 'Good Life (with G-Eazy & Kehlani)', 'Dazed & Confused', 'Heat Waves', 'Stay With Me (feat. Jeremy Zucker)', 'Stay With You', 'Sangria Wine', 'Sunday Best', 'edamame', 'I Hate U', 'A Moment Apart', 'Eat Your Man (with Nelly Furtado)', 'head first', 'Moving On', 'i wanna be your right hand', 'Escape', 'Phone Numbers', 'BEST ON EARTH (feat. BIA) - Bonus', 'Ball If I Want To', \"The Way You'd Love Her Demo\", \"Didn't Know About You\", 'Psycho, Pt. 2', 'HYPNOSIS', 'Coke & Henny Pt. 2', 'Bel Mercy', 'Pretty Thoughts', 'Moving On', '44 More', 'true story', 'Falling In Love', 'Hot Shower', '24 (feat. Lil Baby)', 'Sofia', 'Guillotine Dreams', 'Miracle Maker', 'Bet You Wanna (feat. Cardi B)', 'Drew Barrymore', 'Good as You', 'Lemonhaze', \"All I've Ever Wanted\", 'useless', 'God is a woman', 'Otra Vez', 'Cocoa Butter Kisses', 'Talk (feat. Disclosure)', 'Señorita', 'All Falls Down (feat. Juliander)', 'You Should Probably Leave', 'Babygirl', 'Put Your Records On', 'Here With Me', 'On A Mountain - Flume Remix', 'Talk Too Much', 'Dynamite', 'Love In My Pocket', 'Walking (feat. Swae Lee & Major Lazer)', 'Moonlight', 'everything i wanted', 'Bad Habit', 'cOoL WATeR foR thE nIGHT', 'Youngblood', 'I Miss U', 'Anybody', 'In Your Eyes', 'Wolves', 'One Wish', 'Acid Rain', 'Reality', 'Something in the Orange', 'BET', 'Water - Remix', 'Sugar Sweet', 'Used To Be Young', 'Slow Motion', 'Schools Out', \"Ballin' (with Roddy Ricch)\", 'If I Were a Boy', '光年之外 (電影 《Passengers》 中國區主題曲)', 'Blue Train', 'Renegade (feat. Taylor Swift)', 'Fantasy', 'enough for you', 'Silence', 'Breezeblocks', 'Invitation', 'Texas Sun', 'Honey', 'Baguettes in the Face (feat. NAV, Playboi Carti & A Boogie Wit da Hoodie)', 'We Might Even Be Falling In Love (Interlude)', 'Eleven', 'illicit affairs', 'BICHOTA', 'Super Far - Spotify Studios NYC', 'Dance To This (feat. Ariana Grande)', 'bury a friend', 'Pedro', 'Weakness', 'breathin', 'Claudia', 'Super Far', 'Wasted (feat. Lil Uzi Vert)', 'Sunroof', 'Wake Up in the Sky', 'Here With Me', 'Surround Me', 'Meant to Be (feat. Florida Georgia Line)', 'Change Ya Life', 'Breakfast in Bed', 'Cooped Up (with Roddy Ricch)', 'Calypso', 'RAPSTAR', 'Reminding Me', 'Roll Play', 'exile (feat. Bon Iver)', \"break up with your girlfriend, i'm bored\", \"L'Eggo MY EGO\", 'MIC Drop (feat. Desiigner) [Steve Aoki Remix]', 'Better Than Ever (feat. Rod Wave)', 'Flaws', 'DÁKITI', 'No Cap', 'LOYAL (feat. Drake and Bad Bunny) - Remix', 'Later', 'Just Like the Movies', 'Clouded', 'hospital beach', 'Rewrite The Stars', 'End of Beginning', 'July (feat. Leon Bridges)', 'Fetish (feat. Gucci Mane)', 'Paranoia', 'Other Side', 'SPIKY BOiz', 'Liar', 'Midnight River (feat. 6LACK)', 'All Day Long', 'I Did Drugs For You', 'Paranoid', 'Lookin 4 (Feat. Joyce Wrice, Devin Morrison)', 'Astronaut In The Ocean', 'Take Me Where Your Heart Is', 'There For You - Madison Mars Remix', 'You And Me', 'Slow Down (with H.E.R.)', '3 Nights', 'ghostin', 'Habits [Stay High]', 'Do You Go Up - Madnap Remix', 'Sniper', '444+222', 'The Dress', 'Ride', 'I hope that you think of me', 'Lover (Remix) [feat. Shawn Mendes]', 'Better Than', 'One Thing Right', 'Everything Eventually Ends', 'None Of Your Concern', 'good 4 u', 'July', 'We Get It', \"223's (feat. 9lokknine)\", 'Diamonds (feat. French Montana)', 'Space for Two', 'striptease', 'going down!', 'Locks, Frocks & 2 Floating Sparrows', 'comethru', 'Better Now', 'Nail Tech', 'Lost', 'Losin Control', 'Saturday Nights', 'Bags', 'Lancaster Nights', 'needy', 'BLIND (feat. Young Thug)', 'go (feat. Sam Smith)', 'Candlelight', 'imagine', 'Stones', 'Let It Bleed (feat. Cristina Gatti)', 'Too Much to Ask', 'Talking to the Moon', 'UnFazed (feat. The Weeknd)', 'GREECE (feat. Drake)', 'To Die For', 'Yellow (feat. Bekon)', 'The Way Life Goes (feat. Nicki Minaj & Oh Wonder) - Remix', 'On Chill (feat. Jeremih)', 'High (feat. Elton John)', 'Lake Como', 'Envolver', 'Heartbreak Anniversary', 'Come Through (feat. Chris Brown)', 'TOO MUCH', 'Look Back at It', 'Magic In The Hamptons (feat. Lil Yachty)', 'Love Galore (feat. Travis Scott)', 'Again (feat. XXXTENTACION)', 'Tití Me Preguntó', 'Fine China', '5ve City', 'Favorite Song', 'Jump (with Trippie Redd)', \"Shouldn't Couldn't Wouldn't\", 'Remember Me', '100 Degrees', 'Lost Control', 'Flowers', 'Better', 'Heartbreak Anniversary', 'Wonder', 'Buying Time', 'Indigo', 'Super Shy', 'ROXANNE', 'Loverboy', 'I Still Wait For You', 'Holiday', 'Beg']\n"
     ]
    }
   ],
   "source": [
    "# Print titles of missing track ids\n",
    "missing_track_titles = [track['track']['name'] for track in missing_tracks]\n",
    "print(f\"Missing track titles: {missing_track_titles}\")"
   ]
  },
  {
   "cell_type": "code",
   "execution_count": 115,
   "metadata": {},
   "outputs": [],
   "source": [
    "# Convert genre_playlists to json\n",
    "genre_playlists_json_ids = {genre: [track['track']['id'] for track in tracks]\n",
    "                        for genre, tracks in genre_playlists.items()}\n",
    "genre_playlists_json_names = {genre: [track['track']['name'] for track in tracks]\n",
    "                        for genre, tracks in genre_playlists.items()}\n",
    "genre_playlists_json = {genre: [track for track in tracks]\n",
    "                        for genre, tracks in genre_playlists.items()}\n",
    "\n",
    "# Save genre playlists to a file\n",
    "with open('genre_playlists_ids.json', 'w') as f:\n",
    "    json.dump(genre_playlists_json_ids, f)\n",
    "\n",
    "with open('genre_playlists_names.json', 'w') as f:\n",
    "    json.dump(genre_playlists_json_names, f)\n",
    "\n",
    "with open('genre_playlists.json', 'w') as f:\n",
    "    json.dump(genre_playlists_json, f)"
   ]
  },
  {
   "cell_type": "code",
   "execution_count": null,
   "metadata": {},
   "outputs": [],
   "source": []
  }
 ],
 "metadata": {
  "kernelspec": {
   "display_name": "Python 3",
   "language": "python",
   "name": "python3"
  },
  "language_info": {
   "codemirror_mode": {
    "name": "ipython",
    "version": 3
   },
   "file_extension": ".py",
   "mimetype": "text/x-python",
   "name": "python",
   "nbconvert_exporter": "python",
   "pygments_lexer": "ipython3",
   "version": "3.11.3"
  }
 },
 "nbformat": 4,
 "nbformat_minor": 2
}
