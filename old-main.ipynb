{
 "cells": [
  {
   "cell_type": "markdown",
   "metadata": {},
   "source": [
    "# Genre Sorter\n",
    "\n",
    "## Set Up\n",
    "1. Create `.env` file\n",
    "\n",
    "``` bash\n",
    "  SPOTIFY_CLIENT_ID=\n",
    "  SPOTIFY_CLIENT_SECRET=\n",
    "  SPOTIFY_USERNAME=\n",
    "  SPOTIFY_PASSWORD=\n",
    "```\n",
    "\n",
    "2. Run all cells\n"
   ]
  },
  {
   "cell_type": "code",
   "execution_count": 9,
   "metadata": {},
   "outputs": [
    {
     "name": "stdout",
     "output_type": "stream",
     "text": [
      "367.23s - pydevd: Sending message related to process being replaced timed-out after 5 seconds\n",
      "Requirement already satisfied: python-dotenv in /Library/Frameworks/Python.framework/Versions/3.11/lib/python3.11/site-packages (1.0.0)\n",
      "\n",
      "\u001b[1m[\u001b[0m\u001b[34;49mnotice\u001b[0m\u001b[1;39;49m]\u001b[0m\u001b[39;49m A new release of pip available: \u001b[0m\u001b[31;49m22.3.1\u001b[0m\u001b[39;49m -> \u001b[0m\u001b[32;49m24.1.1\u001b[0m\n",
      "\u001b[1m[\u001b[0m\u001b[34;49mnotice\u001b[0m\u001b[1;39;49m]\u001b[0m\u001b[39;49m To update, run: \u001b[0m\u001b[32;49mpip3.11 install --upgrade pip\u001b[0m\n",
      "Note: you may need to restart the kernel to use updated packages.\n",
      "The dotenv extension is already loaded. To reload it, use:\n",
      "  %reload_ext dotenv\n"
     ]
    }
   ],
   "source": [
    "%pip install python-dotenv\n",
    "\n",
    "%load_ext dotenv\n",
    "%dotenv"
   ]
  },
  {
   "cell_type": "code",
   "execution_count": 10,
   "metadata": {},
   "outputs": [],
   "source": [
    "%reload_ext dotenv"
   ]
  },
  {
   "cell_type": "code",
   "execution_count": 33,
   "metadata": {},
   "outputs": [],
   "source": [
    "import requests\n",
    "import os\n",
    "\n",
    "\n",
    "def get_spotify_token():\n",
    "    \"\"\"\n",
    "    Retrieves an access token from the Spotify API using client credentials.\n",
    "\n",
    "    Returns:\n",
    "        str: The access token.\n",
    "\n",
    "    Raises:\n",
    "        KeyError: If the environment variables 'SPOTIFY_CLIENT_ID' or 'SPOTIFY_CLIENT_SECRET' are not set.\n",
    "        requests.exceptions.RequestException: If there is an error making the request to the Spotify API.\n",
    "    \"\"\"\n",
    "\n",
    "    url = \"https://accounts.spotify.com/api/token\"\n",
    "    headers = {\n",
    "        \"Content-Type\": \"application/x-www-form-urlencoded\"\n",
    "    }\n",
    "    data = {\n",
    "        \"grant_type\": \"client_credentials\",\n",
    "        \"client_id\": os.environ['SPOTIFY_CLIENT_ID'],\n",
    "        \"client_secret\": os.environ['SPOTIFY_CLIENT_SECRET']\n",
    "    }\n",
    "\n",
    "    response = requests.post(url, headers=headers, data=data)\n",
    "    return response.json()['access_token']\n",
    "\n",
    "\n",
    "def get_user_songs(user_token):\n",
    "\n",
    "    url = \"https://api.spotify.com/v1/me/tracks\"\n",
    "    headers = {\n",
    "        \"Authorization\": \"Bearer \" + user_token\n",
    "    }\n",
    "\n",
    "    response = requests.get(url, headers=headers)\n",
    "\n",
    "    return response.json()\n",
    "\n",
    "\n",
    "def get_user_playlists(user_token):\n",
    "\n",
    "    url = \"https://api.spotify.com/v1/me/playlists\"\n",
    "    headers = {\n",
    "        \"Authorization\": \"Bearer \" + user_token\n",
    "    }\n",
    "\n",
    "    response = requests.get(url, headers=headers)\n",
    "\n",
    "    return response.json()"
   ]
  },
  {
   "cell_type": "code",
   "execution_count": 34,
   "metadata": {},
   "outputs": [],
   "source": [
    "access_token = get_spotify_token()\n",
    "songs = get_user_songs(access_token)\n",
    "playlists = get_user_playlists(access_token)"
   ]
  },
  {
   "cell_type": "markdown",
   "metadata": {},
   "source": [
    "### Spotipy"
   ]
  },
  {
   "cell_type": "code",
   "execution_count": null,
   "metadata": {},
   "outputs": [],
   "source": []
  }
 ],
 "metadata": {
  "kernelspec": {
   "display_name": "Python 3",
   "language": "python",
   "name": "python3"
  },
  "language_info": {
   "codemirror_mode": {
    "name": "ipython",
    "version": 3
   },
   "file_extension": ".py",
   "mimetype": "text/x-python",
   "name": "python",
   "nbconvert_exporter": "python",
   "pygments_lexer": "ipython3",
   "version": "3.11.3"
  }
 },
 "nbformat": 4,
 "nbformat_minor": 2
}
